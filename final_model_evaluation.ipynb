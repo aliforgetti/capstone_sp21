{
  "nbformat": 4,
  "nbformat_minor": 0,
  "metadata": {
    "colab": {
      "name": "final_model_evaluation.ipynb",
      "provenance": [],
      "machine_shape": "hm"
    },
    "kernelspec": {
      "name": "python3",
      "display_name": "Python 3"
    },
    "language_info": {
      "name": "python"
    },
    "accelerator": "GPU",
    "widgets": {
      "application/vnd.jupyter.widget-state+json": {
        "98e8904f58d14d9dafb633eda00f63f1": {
          "model_module": "@jupyter-widgets/controls",
          "model_name": "HBoxModel",
          "state": {
            "_view_name": "HBoxView",
            "_dom_classes": [],
            "_model_name": "HBoxModel",
            "_view_module": "@jupyter-widgets/controls",
            "_model_module_version": "1.5.0",
            "_view_count": null,
            "_view_module_version": "1.5.0",
            "box_style": "",
            "layout": "IPY_MODEL_ab0f6c5e4fba444dbeb4d5b4ba34686b",
            "_model_module": "@jupyter-widgets/controls",
            "children": [
              "IPY_MODEL_cdd703955c124917baf60cf0f263d210",
              "IPY_MODEL_872e03840ac744f195772ffa0466d5a1"
            ]
          }
        },
        "ab0f6c5e4fba444dbeb4d5b4ba34686b": {
          "model_module": "@jupyter-widgets/base",
          "model_name": "LayoutModel",
          "state": {
            "_view_name": "LayoutView",
            "grid_template_rows": null,
            "right": null,
            "justify_content": null,
            "_view_module": "@jupyter-widgets/base",
            "overflow": null,
            "_model_module_version": "1.2.0",
            "_view_count": null,
            "flex_flow": null,
            "width": null,
            "min_width": null,
            "border": null,
            "align_items": null,
            "bottom": null,
            "_model_module": "@jupyter-widgets/base",
            "top": null,
            "grid_column": null,
            "overflow_y": null,
            "overflow_x": null,
            "grid_auto_flow": null,
            "grid_area": null,
            "grid_template_columns": null,
            "flex": null,
            "_model_name": "LayoutModel",
            "justify_items": null,
            "grid_row": null,
            "max_height": null,
            "align_content": null,
            "visibility": null,
            "align_self": null,
            "height": null,
            "min_height": null,
            "padding": null,
            "grid_auto_rows": null,
            "grid_gap": null,
            "max_width": null,
            "order": null,
            "_view_module_version": "1.2.0",
            "grid_template_areas": null,
            "object_position": null,
            "object_fit": null,
            "grid_auto_columns": null,
            "margin": null,
            "display": null,
            "left": null
          }
        },
        "cdd703955c124917baf60cf0f263d210": {
          "model_module": "@jupyter-widgets/controls",
          "model_name": "FloatProgressModel",
          "state": {
            "_view_name": "ProgressView",
            "style": "IPY_MODEL_670d1418c5cb4f8c992f66363bef0acc",
            "_dom_classes": [],
            "description": "",
            "_model_name": "FloatProgressModel",
            "bar_style": "info",
            "max": 1,
            "_view_module": "@jupyter-widgets/controls",
            "_model_module_version": "1.5.0",
            "value": 0,
            "_view_count": null,
            "_view_module_version": "1.5.0",
            "orientation": "horizontal",
            "min": 0,
            "description_tooltip": null,
            "_model_module": "@jupyter-widgets/controls",
            "layout": "IPY_MODEL_0bb184c57c5d448e866f1dd584618723"
          }
        },
        "872e03840ac744f195772ffa0466d5a1": {
          "model_module": "@jupyter-widgets/controls",
          "model_name": "HTMLModel",
          "state": {
            "_view_name": "HTMLView",
            "style": "IPY_MODEL_c13829c07f5c4a209b8bf1feb519a3d8",
            "_dom_classes": [],
            "description": "",
            "_model_name": "HTMLModel",
            "placeholder": "​",
            "_view_module": "@jupyter-widgets/controls",
            "_model_module_version": "1.5.0",
            "value": " 0/? [00:00&lt;?, ?it/s]",
            "_view_count": null,
            "_view_module_version": "1.5.0",
            "description_tooltip": null,
            "_model_module": "@jupyter-widgets/controls",
            "layout": "IPY_MODEL_942c7e0dfdc749ca8d98a36e6dab46cf"
          }
        },
        "670d1418c5cb4f8c992f66363bef0acc": {
          "model_module": "@jupyter-widgets/controls",
          "model_name": "ProgressStyleModel",
          "state": {
            "_view_name": "StyleView",
            "_model_name": "ProgressStyleModel",
            "description_width": "initial",
            "_view_module": "@jupyter-widgets/base",
            "_model_module_version": "1.5.0",
            "_view_count": null,
            "_view_module_version": "1.2.0",
            "bar_color": null,
            "_model_module": "@jupyter-widgets/controls"
          }
        },
        "0bb184c57c5d448e866f1dd584618723": {
          "model_module": "@jupyter-widgets/base",
          "model_name": "LayoutModel",
          "state": {
            "_view_name": "LayoutView",
            "grid_template_rows": null,
            "right": null,
            "justify_content": null,
            "_view_module": "@jupyter-widgets/base",
            "overflow": null,
            "_model_module_version": "1.2.0",
            "_view_count": null,
            "flex_flow": null,
            "width": null,
            "min_width": null,
            "border": null,
            "align_items": null,
            "bottom": null,
            "_model_module": "@jupyter-widgets/base",
            "top": null,
            "grid_column": null,
            "overflow_y": null,
            "overflow_x": null,
            "grid_auto_flow": null,
            "grid_area": null,
            "grid_template_columns": null,
            "flex": null,
            "_model_name": "LayoutModel",
            "justify_items": null,
            "grid_row": null,
            "max_height": null,
            "align_content": null,
            "visibility": null,
            "align_self": null,
            "height": null,
            "min_height": null,
            "padding": null,
            "grid_auto_rows": null,
            "grid_gap": null,
            "max_width": null,
            "order": null,
            "_view_module_version": "1.2.0",
            "grid_template_areas": null,
            "object_position": null,
            "object_fit": null,
            "grid_auto_columns": null,
            "margin": null,
            "display": null,
            "left": null
          }
        },
        "c13829c07f5c4a209b8bf1feb519a3d8": {
          "model_module": "@jupyter-widgets/controls",
          "model_name": "DescriptionStyleModel",
          "state": {
            "_view_name": "StyleView",
            "_model_name": "DescriptionStyleModel",
            "description_width": "",
            "_view_module": "@jupyter-widgets/base",
            "_model_module_version": "1.5.0",
            "_view_count": null,
            "_view_module_version": "1.2.0",
            "_model_module": "@jupyter-widgets/controls"
          }
        },
        "942c7e0dfdc749ca8d98a36e6dab46cf": {
          "model_module": "@jupyter-widgets/base",
          "model_name": "LayoutModel",
          "state": {
            "_view_name": "LayoutView",
            "grid_template_rows": null,
            "right": null,
            "justify_content": null,
            "_view_module": "@jupyter-widgets/base",
            "overflow": null,
            "_model_module_version": "1.2.0",
            "_view_count": null,
            "flex_flow": null,
            "width": null,
            "min_width": null,
            "border": null,
            "align_items": null,
            "bottom": null,
            "_model_module": "@jupyter-widgets/base",
            "top": null,
            "grid_column": null,
            "overflow_y": null,
            "overflow_x": null,
            "grid_auto_flow": null,
            "grid_area": null,
            "grid_template_columns": null,
            "flex": null,
            "_model_name": "LayoutModel",
            "justify_items": null,
            "grid_row": null,
            "max_height": null,
            "align_content": null,
            "visibility": null,
            "align_self": null,
            "height": null,
            "min_height": null,
            "padding": null,
            "grid_auto_rows": null,
            "grid_gap": null,
            "max_width": null,
            "order": null,
            "_view_module_version": "1.2.0",
            "grid_template_areas": null,
            "object_position": null,
            "object_fit": null,
            "grid_auto_columns": null,
            "margin": null,
            "display": null,
            "left": null
          }
        },
        "184fb9032d2145af9d226a8e7b4e7a14": {
          "model_module": "@jupyter-widgets/controls",
          "model_name": "HBoxModel",
          "state": {
            "_view_name": "HBoxView",
            "_dom_classes": [],
            "_model_name": "HBoxModel",
            "_view_module": "@jupyter-widgets/controls",
            "_model_module_version": "1.5.0",
            "_view_count": null,
            "_view_module_version": "1.5.0",
            "box_style": "",
            "layout": "IPY_MODEL_83848eb6919d47b093f0d0f21ca8a044",
            "_model_module": "@jupyter-widgets/controls",
            "children": [
              "IPY_MODEL_cfb8a8e0530a4e05af1454fcd75c1fb0",
              "IPY_MODEL_c98254f382de41fc9d97cbcd80122218"
            ]
          }
        },
        "83848eb6919d47b093f0d0f21ca8a044": {
          "model_module": "@jupyter-widgets/base",
          "model_name": "LayoutModel",
          "state": {
            "_view_name": "LayoutView",
            "grid_template_rows": null,
            "right": null,
            "justify_content": null,
            "_view_module": "@jupyter-widgets/base",
            "overflow": null,
            "_model_module_version": "1.2.0",
            "_view_count": null,
            "flex_flow": null,
            "width": null,
            "min_width": null,
            "border": null,
            "align_items": null,
            "bottom": null,
            "_model_module": "@jupyter-widgets/base",
            "top": null,
            "grid_column": null,
            "overflow_y": null,
            "overflow_x": null,
            "grid_auto_flow": null,
            "grid_area": null,
            "grid_template_columns": null,
            "flex": null,
            "_model_name": "LayoutModel",
            "justify_items": null,
            "grid_row": null,
            "max_height": null,
            "align_content": null,
            "visibility": null,
            "align_self": null,
            "height": null,
            "min_height": null,
            "padding": null,
            "grid_auto_rows": null,
            "grid_gap": null,
            "max_width": null,
            "order": null,
            "_view_module_version": "1.2.0",
            "grid_template_areas": null,
            "object_position": null,
            "object_fit": null,
            "grid_auto_columns": null,
            "margin": null,
            "display": null,
            "left": null
          }
        },
        "cfb8a8e0530a4e05af1454fcd75c1fb0": {
          "model_module": "@jupyter-widgets/controls",
          "model_name": "FloatProgressModel",
          "state": {
            "_view_name": "ProgressView",
            "style": "IPY_MODEL_fc28dbce2507402b881cc472182e048e",
            "_dom_classes": [],
            "description": "100%",
            "_model_name": "FloatProgressModel",
            "bar_style": "",
            "max": 68,
            "_view_module": "@jupyter-widgets/controls",
            "_model_module_version": "1.5.0",
            "value": 68,
            "_view_count": null,
            "_view_module_version": "1.5.0",
            "orientation": "horizontal",
            "min": 0,
            "description_tooltip": null,
            "_model_module": "@jupyter-widgets/controls",
            "layout": "IPY_MODEL_30c69f29e53a4fd0a71745851c8007c9"
          }
        },
        "c98254f382de41fc9d97cbcd80122218": {
          "model_module": "@jupyter-widgets/controls",
          "model_name": "HTMLModel",
          "state": {
            "_view_name": "HTMLView",
            "style": "IPY_MODEL_9704fd48b8f04f989c2a1337b5907433",
            "_dom_classes": [],
            "description": "",
            "_model_name": "HTMLModel",
            "placeholder": "​",
            "_view_module": "@jupyter-widgets/controls",
            "_model_module_version": "1.5.0",
            "value": " 68/68 [00:18&lt;00:00,  3.86it/s]",
            "_view_count": null,
            "_view_module_version": "1.5.0",
            "description_tooltip": null,
            "_model_module": "@jupyter-widgets/controls",
            "layout": "IPY_MODEL_f0f96d21f4d945d3ad41aa01b421771d"
          }
        },
        "fc28dbce2507402b881cc472182e048e": {
          "model_module": "@jupyter-widgets/controls",
          "model_name": "ProgressStyleModel",
          "state": {
            "_view_name": "StyleView",
            "_model_name": "ProgressStyleModel",
            "description_width": "initial",
            "_view_module": "@jupyter-widgets/base",
            "_model_module_version": "1.5.0",
            "_view_count": null,
            "_view_module_version": "1.2.0",
            "bar_color": null,
            "_model_module": "@jupyter-widgets/controls"
          }
        },
        "30c69f29e53a4fd0a71745851c8007c9": {
          "model_module": "@jupyter-widgets/base",
          "model_name": "LayoutModel",
          "state": {
            "_view_name": "LayoutView",
            "grid_template_rows": null,
            "right": null,
            "justify_content": null,
            "_view_module": "@jupyter-widgets/base",
            "overflow": null,
            "_model_module_version": "1.2.0",
            "_view_count": null,
            "flex_flow": null,
            "width": null,
            "min_width": null,
            "border": null,
            "align_items": null,
            "bottom": null,
            "_model_module": "@jupyter-widgets/base",
            "top": null,
            "grid_column": null,
            "overflow_y": null,
            "overflow_x": null,
            "grid_auto_flow": null,
            "grid_area": null,
            "grid_template_columns": null,
            "flex": null,
            "_model_name": "LayoutModel",
            "justify_items": null,
            "grid_row": null,
            "max_height": null,
            "align_content": null,
            "visibility": null,
            "align_self": null,
            "height": null,
            "min_height": null,
            "padding": null,
            "grid_auto_rows": null,
            "grid_gap": null,
            "max_width": null,
            "order": null,
            "_view_module_version": "1.2.0",
            "grid_template_areas": null,
            "object_position": null,
            "object_fit": null,
            "grid_auto_columns": null,
            "margin": null,
            "display": null,
            "left": null
          }
        },
        "9704fd48b8f04f989c2a1337b5907433": {
          "model_module": "@jupyter-widgets/controls",
          "model_name": "DescriptionStyleModel",
          "state": {
            "_view_name": "StyleView",
            "_model_name": "DescriptionStyleModel",
            "description_width": "",
            "_view_module": "@jupyter-widgets/base",
            "_model_module_version": "1.5.0",
            "_view_count": null,
            "_view_module_version": "1.2.0",
            "_model_module": "@jupyter-widgets/controls"
          }
        },
        "f0f96d21f4d945d3ad41aa01b421771d": {
          "model_module": "@jupyter-widgets/base",
          "model_name": "LayoutModel",
          "state": {
            "_view_name": "LayoutView",
            "grid_template_rows": null,
            "right": null,
            "justify_content": null,
            "_view_module": "@jupyter-widgets/base",
            "overflow": null,
            "_model_module_version": "1.2.0",
            "_view_count": null,
            "flex_flow": null,
            "width": null,
            "min_width": null,
            "border": null,
            "align_items": null,
            "bottom": null,
            "_model_module": "@jupyter-widgets/base",
            "top": null,
            "grid_column": null,
            "overflow_y": null,
            "overflow_x": null,
            "grid_auto_flow": null,
            "grid_area": null,
            "grid_template_columns": null,
            "flex": null,
            "_model_name": "LayoutModel",
            "justify_items": null,
            "grid_row": null,
            "max_height": null,
            "align_content": null,
            "visibility": null,
            "align_self": null,
            "height": null,
            "min_height": null,
            "padding": null,
            "grid_auto_rows": null,
            "grid_gap": null,
            "max_width": null,
            "order": null,
            "_view_module_version": "1.2.0",
            "grid_template_areas": null,
            "object_position": null,
            "object_fit": null,
            "grid_auto_columns": null,
            "margin": null,
            "display": null,
            "left": null
          }
        },
        "4da4ed657d934af082cc4bebd62d47c6": {
          "model_module": "@jupyter-widgets/controls",
          "model_name": "HBoxModel",
          "state": {
            "_view_name": "HBoxView",
            "_dom_classes": [],
            "_model_name": "HBoxModel",
            "_view_module": "@jupyter-widgets/controls",
            "_model_module_version": "1.5.0",
            "_view_count": null,
            "_view_module_version": "1.5.0",
            "box_style": "",
            "layout": "IPY_MODEL_aec69310ceee44a891d64e49b45b06d2",
            "_model_module": "@jupyter-widgets/controls",
            "children": [
              "IPY_MODEL_455979015fbf40e78b62f94034489627",
              "IPY_MODEL_fbf56f98fc7a4946b3f01a7dbe4ff6ae"
            ]
          }
        },
        "aec69310ceee44a891d64e49b45b06d2": {
          "model_module": "@jupyter-widgets/base",
          "model_name": "LayoutModel",
          "state": {
            "_view_name": "LayoutView",
            "grid_template_rows": null,
            "right": null,
            "justify_content": null,
            "_view_module": "@jupyter-widgets/base",
            "overflow": null,
            "_model_module_version": "1.2.0",
            "_view_count": null,
            "flex_flow": null,
            "width": null,
            "min_width": null,
            "border": null,
            "align_items": null,
            "bottom": null,
            "_model_module": "@jupyter-widgets/base",
            "top": null,
            "grid_column": null,
            "overflow_y": null,
            "overflow_x": null,
            "grid_auto_flow": null,
            "grid_area": null,
            "grid_template_columns": null,
            "flex": null,
            "_model_name": "LayoutModel",
            "justify_items": null,
            "grid_row": null,
            "max_height": null,
            "align_content": null,
            "visibility": null,
            "align_self": null,
            "height": null,
            "min_height": null,
            "padding": null,
            "grid_auto_rows": null,
            "grid_gap": null,
            "max_width": null,
            "order": null,
            "_view_module_version": "1.2.0",
            "grid_template_areas": null,
            "object_position": null,
            "object_fit": null,
            "grid_auto_columns": null,
            "margin": null,
            "display": null,
            "left": null
          }
        },
        "455979015fbf40e78b62f94034489627": {
          "model_module": "@jupyter-widgets/controls",
          "model_name": "FloatProgressModel",
          "state": {
            "_view_name": "ProgressView",
            "style": "IPY_MODEL_09b50377beba4ce2a3cd86fd162a09b2",
            "_dom_classes": [],
            "description": "100%",
            "_model_name": "FloatProgressModel",
            "bar_style": "",
            "max": 68,
            "_view_module": "@jupyter-widgets/controls",
            "_model_module_version": "1.5.0",
            "value": 68,
            "_view_count": null,
            "_view_module_version": "1.5.0",
            "orientation": "horizontal",
            "min": 0,
            "description_tooltip": null,
            "_model_module": "@jupyter-widgets/controls",
            "layout": "IPY_MODEL_5ceeac97f69647bca0a64ae28ce9123d"
          }
        },
        "fbf56f98fc7a4946b3f01a7dbe4ff6ae": {
          "model_module": "@jupyter-widgets/controls",
          "model_name": "HTMLModel",
          "state": {
            "_view_name": "HTMLView",
            "style": "IPY_MODEL_24e9d6c8d6544c5a8ef5682b0cb62a37",
            "_dom_classes": [],
            "description": "",
            "_model_name": "HTMLModel",
            "placeholder": "​",
            "_view_module": "@jupyter-widgets/controls",
            "_model_module_version": "1.5.0",
            "value": " 68/68 [00:18&lt;00:00,  3.87it/s]",
            "_view_count": null,
            "_view_module_version": "1.5.0",
            "description_tooltip": null,
            "_model_module": "@jupyter-widgets/controls",
            "layout": "IPY_MODEL_1d24835d4866483887e2a536154a0e7e"
          }
        },
        "09b50377beba4ce2a3cd86fd162a09b2": {
          "model_module": "@jupyter-widgets/controls",
          "model_name": "ProgressStyleModel",
          "state": {
            "_view_name": "StyleView",
            "_model_name": "ProgressStyleModel",
            "description_width": "initial",
            "_view_module": "@jupyter-widgets/base",
            "_model_module_version": "1.5.0",
            "_view_count": null,
            "_view_module_version": "1.2.0",
            "bar_color": null,
            "_model_module": "@jupyter-widgets/controls"
          }
        },
        "5ceeac97f69647bca0a64ae28ce9123d": {
          "model_module": "@jupyter-widgets/base",
          "model_name": "LayoutModel",
          "state": {
            "_view_name": "LayoutView",
            "grid_template_rows": null,
            "right": null,
            "justify_content": null,
            "_view_module": "@jupyter-widgets/base",
            "overflow": null,
            "_model_module_version": "1.2.0",
            "_view_count": null,
            "flex_flow": null,
            "width": null,
            "min_width": null,
            "border": null,
            "align_items": null,
            "bottom": null,
            "_model_module": "@jupyter-widgets/base",
            "top": null,
            "grid_column": null,
            "overflow_y": null,
            "overflow_x": null,
            "grid_auto_flow": null,
            "grid_area": null,
            "grid_template_columns": null,
            "flex": null,
            "_model_name": "LayoutModel",
            "justify_items": null,
            "grid_row": null,
            "max_height": null,
            "align_content": null,
            "visibility": null,
            "align_self": null,
            "height": null,
            "min_height": null,
            "padding": null,
            "grid_auto_rows": null,
            "grid_gap": null,
            "max_width": null,
            "order": null,
            "_view_module_version": "1.2.0",
            "grid_template_areas": null,
            "object_position": null,
            "object_fit": null,
            "grid_auto_columns": null,
            "margin": null,
            "display": null,
            "left": null
          }
        },
        "24e9d6c8d6544c5a8ef5682b0cb62a37": {
          "model_module": "@jupyter-widgets/controls",
          "model_name": "DescriptionStyleModel",
          "state": {
            "_view_name": "StyleView",
            "_model_name": "DescriptionStyleModel",
            "description_width": "",
            "_view_module": "@jupyter-widgets/base",
            "_model_module_version": "1.5.0",
            "_view_count": null,
            "_view_module_version": "1.2.0",
            "_model_module": "@jupyter-widgets/controls"
          }
        },
        "1d24835d4866483887e2a536154a0e7e": {
          "model_module": "@jupyter-widgets/base",
          "model_name": "LayoutModel",
          "state": {
            "_view_name": "LayoutView",
            "grid_template_rows": null,
            "right": null,
            "justify_content": null,
            "_view_module": "@jupyter-widgets/base",
            "overflow": null,
            "_model_module_version": "1.2.0",
            "_view_count": null,
            "flex_flow": null,
            "width": null,
            "min_width": null,
            "border": null,
            "align_items": null,
            "bottom": null,
            "_model_module": "@jupyter-widgets/base",
            "top": null,
            "grid_column": null,
            "overflow_y": null,
            "overflow_x": null,
            "grid_auto_flow": null,
            "grid_area": null,
            "grid_template_columns": null,
            "flex": null,
            "_model_name": "LayoutModel",
            "justify_items": null,
            "grid_row": null,
            "max_height": null,
            "align_content": null,
            "visibility": null,
            "align_self": null,
            "height": null,
            "min_height": null,
            "padding": null,
            "grid_auto_rows": null,
            "grid_gap": null,
            "max_width": null,
            "order": null,
            "_view_module_version": "1.2.0",
            "grid_template_areas": null,
            "object_position": null,
            "object_fit": null,
            "grid_auto_columns": null,
            "margin": null,
            "display": null,
            "left": null
          }
        },
        "2a426cb754664adda017a1e94a01ddbd": {
          "model_module": "@jupyter-widgets/controls",
          "model_name": "HBoxModel",
          "state": {
            "_view_name": "HBoxView",
            "_dom_classes": [],
            "_model_name": "HBoxModel",
            "_view_module": "@jupyter-widgets/controls",
            "_model_module_version": "1.5.0",
            "_view_count": null,
            "_view_module_version": "1.5.0",
            "box_style": "",
            "layout": "IPY_MODEL_86e3e4d56dd842c0bdad6733b3d7526e",
            "_model_module": "@jupyter-widgets/controls",
            "children": [
              "IPY_MODEL_891c3df113de45c59dc1c731d917aeae",
              "IPY_MODEL_7589255a3b6a442595bb06029400d58b"
            ]
          }
        },
        "86e3e4d56dd842c0bdad6733b3d7526e": {
          "model_module": "@jupyter-widgets/base",
          "model_name": "LayoutModel",
          "state": {
            "_view_name": "LayoutView",
            "grid_template_rows": null,
            "right": null,
            "justify_content": null,
            "_view_module": "@jupyter-widgets/base",
            "overflow": null,
            "_model_module_version": "1.2.0",
            "_view_count": null,
            "flex_flow": null,
            "width": null,
            "min_width": null,
            "border": null,
            "align_items": null,
            "bottom": null,
            "_model_module": "@jupyter-widgets/base",
            "top": null,
            "grid_column": null,
            "overflow_y": null,
            "overflow_x": null,
            "grid_auto_flow": null,
            "grid_area": null,
            "grid_template_columns": null,
            "flex": null,
            "_model_name": "LayoutModel",
            "justify_items": null,
            "grid_row": null,
            "max_height": null,
            "align_content": null,
            "visibility": null,
            "align_self": null,
            "height": null,
            "min_height": null,
            "padding": null,
            "grid_auto_rows": null,
            "grid_gap": null,
            "max_width": null,
            "order": null,
            "_view_module_version": "1.2.0",
            "grid_template_areas": null,
            "object_position": null,
            "object_fit": null,
            "grid_auto_columns": null,
            "margin": null,
            "display": null,
            "left": null
          }
        },
        "891c3df113de45c59dc1c731d917aeae": {
          "model_module": "@jupyter-widgets/controls",
          "model_name": "FloatProgressModel",
          "state": {
            "_view_name": "ProgressView",
            "style": "IPY_MODEL_fa0f585e2a484aee8a0c488a4c14a973",
            "_dom_classes": [],
            "description": "100%",
            "_model_name": "FloatProgressModel",
            "bar_style": "",
            "max": 68,
            "_view_module": "@jupyter-widgets/controls",
            "_model_module_version": "1.5.0",
            "value": 68,
            "_view_count": null,
            "_view_module_version": "1.5.0",
            "orientation": "horizontal",
            "min": 0,
            "description_tooltip": null,
            "_model_module": "@jupyter-widgets/controls",
            "layout": "IPY_MODEL_49ab0b4a2c994c6aa61b34e5b061d7f9"
          }
        },
        "7589255a3b6a442595bb06029400d58b": {
          "model_module": "@jupyter-widgets/controls",
          "model_name": "HTMLModel",
          "state": {
            "_view_name": "HTMLView",
            "style": "IPY_MODEL_05250528e17a4ff4b8b485315f12a39c",
            "_dom_classes": [],
            "description": "",
            "_model_name": "HTMLModel",
            "placeholder": "​",
            "_view_module": "@jupyter-widgets/controls",
            "_model_module_version": "1.5.0",
            "value": " 68/68 [00:18&lt;00:00,  3.78it/s]",
            "_view_count": null,
            "_view_module_version": "1.5.0",
            "description_tooltip": null,
            "_model_module": "@jupyter-widgets/controls",
            "layout": "IPY_MODEL_3a95271a496f4a7f8df217f281938acc"
          }
        },
        "fa0f585e2a484aee8a0c488a4c14a973": {
          "model_module": "@jupyter-widgets/controls",
          "model_name": "ProgressStyleModel",
          "state": {
            "_view_name": "StyleView",
            "_model_name": "ProgressStyleModel",
            "description_width": "initial",
            "_view_module": "@jupyter-widgets/base",
            "_model_module_version": "1.5.0",
            "_view_count": null,
            "_view_module_version": "1.2.0",
            "bar_color": null,
            "_model_module": "@jupyter-widgets/controls"
          }
        },
        "49ab0b4a2c994c6aa61b34e5b061d7f9": {
          "model_module": "@jupyter-widgets/base",
          "model_name": "LayoutModel",
          "state": {
            "_view_name": "LayoutView",
            "grid_template_rows": null,
            "right": null,
            "justify_content": null,
            "_view_module": "@jupyter-widgets/base",
            "overflow": null,
            "_model_module_version": "1.2.0",
            "_view_count": null,
            "flex_flow": null,
            "width": null,
            "min_width": null,
            "border": null,
            "align_items": null,
            "bottom": null,
            "_model_module": "@jupyter-widgets/base",
            "top": null,
            "grid_column": null,
            "overflow_y": null,
            "overflow_x": null,
            "grid_auto_flow": null,
            "grid_area": null,
            "grid_template_columns": null,
            "flex": null,
            "_model_name": "LayoutModel",
            "justify_items": null,
            "grid_row": null,
            "max_height": null,
            "align_content": null,
            "visibility": null,
            "align_self": null,
            "height": null,
            "min_height": null,
            "padding": null,
            "grid_auto_rows": null,
            "grid_gap": null,
            "max_width": null,
            "order": null,
            "_view_module_version": "1.2.0",
            "grid_template_areas": null,
            "object_position": null,
            "object_fit": null,
            "grid_auto_columns": null,
            "margin": null,
            "display": null,
            "left": null
          }
        },
        "05250528e17a4ff4b8b485315f12a39c": {
          "model_module": "@jupyter-widgets/controls",
          "model_name": "DescriptionStyleModel",
          "state": {
            "_view_name": "StyleView",
            "_model_name": "DescriptionStyleModel",
            "description_width": "",
            "_view_module": "@jupyter-widgets/base",
            "_model_module_version": "1.5.0",
            "_view_count": null,
            "_view_module_version": "1.2.0",
            "_model_module": "@jupyter-widgets/controls"
          }
        },
        "3a95271a496f4a7f8df217f281938acc": {
          "model_module": "@jupyter-widgets/base",
          "model_name": "LayoutModel",
          "state": {
            "_view_name": "LayoutView",
            "grid_template_rows": null,
            "right": null,
            "justify_content": null,
            "_view_module": "@jupyter-widgets/base",
            "overflow": null,
            "_model_module_version": "1.2.0",
            "_view_count": null,
            "flex_flow": null,
            "width": null,
            "min_width": null,
            "border": null,
            "align_items": null,
            "bottom": null,
            "_model_module": "@jupyter-widgets/base",
            "top": null,
            "grid_column": null,
            "overflow_y": null,
            "overflow_x": null,
            "grid_auto_flow": null,
            "grid_area": null,
            "grid_template_columns": null,
            "flex": null,
            "_model_name": "LayoutModel",
            "justify_items": null,
            "grid_row": null,
            "max_height": null,
            "align_content": null,
            "visibility": null,
            "align_self": null,
            "height": null,
            "min_height": null,
            "padding": null,
            "grid_auto_rows": null,
            "grid_gap": null,
            "max_width": null,
            "order": null,
            "_view_module_version": "1.2.0",
            "grid_template_areas": null,
            "object_position": null,
            "object_fit": null,
            "grid_auto_columns": null,
            "margin": null,
            "display": null,
            "left": null
          }
        },
        "167f8d7438884b3bb44d07c17e7609e5": {
          "model_module": "@jupyter-widgets/controls",
          "model_name": "HBoxModel",
          "state": {
            "_view_name": "HBoxView",
            "_dom_classes": [],
            "_model_name": "HBoxModel",
            "_view_module": "@jupyter-widgets/controls",
            "_model_module_version": "1.5.0",
            "_view_count": null,
            "_view_module_version": "1.5.0",
            "box_style": "",
            "layout": "IPY_MODEL_bc4fa7999aed4d50863e4ded44f1671d",
            "_model_module": "@jupyter-widgets/controls",
            "children": [
              "IPY_MODEL_41482b06a3604a70bf0eee9896282376",
              "IPY_MODEL_3585c38dff7044b78bed14b553efee21"
            ]
          }
        },
        "bc4fa7999aed4d50863e4ded44f1671d": {
          "model_module": "@jupyter-widgets/base",
          "model_name": "LayoutModel",
          "state": {
            "_view_name": "LayoutView",
            "grid_template_rows": null,
            "right": null,
            "justify_content": null,
            "_view_module": "@jupyter-widgets/base",
            "overflow": null,
            "_model_module_version": "1.2.0",
            "_view_count": null,
            "flex_flow": null,
            "width": null,
            "min_width": null,
            "border": null,
            "align_items": null,
            "bottom": null,
            "_model_module": "@jupyter-widgets/base",
            "top": null,
            "grid_column": null,
            "overflow_y": null,
            "overflow_x": null,
            "grid_auto_flow": null,
            "grid_area": null,
            "grid_template_columns": null,
            "flex": null,
            "_model_name": "LayoutModel",
            "justify_items": null,
            "grid_row": null,
            "max_height": null,
            "align_content": null,
            "visibility": null,
            "align_self": null,
            "height": null,
            "min_height": null,
            "padding": null,
            "grid_auto_rows": null,
            "grid_gap": null,
            "max_width": null,
            "order": null,
            "_view_module_version": "1.2.0",
            "grid_template_areas": null,
            "object_position": null,
            "object_fit": null,
            "grid_auto_columns": null,
            "margin": null,
            "display": null,
            "left": null
          }
        },
        "41482b06a3604a70bf0eee9896282376": {
          "model_module": "@jupyter-widgets/controls",
          "model_name": "FloatProgressModel",
          "state": {
            "_view_name": "ProgressView",
            "style": "IPY_MODEL_887f76f2d2a04919a638772852faade2",
            "_dom_classes": [],
            "description": "100%",
            "_model_name": "FloatProgressModel",
            "bar_style": "",
            "max": 68,
            "_view_module": "@jupyter-widgets/controls",
            "_model_module_version": "1.5.0",
            "value": 68,
            "_view_count": null,
            "_view_module_version": "1.5.0",
            "orientation": "horizontal",
            "min": 0,
            "description_tooltip": null,
            "_model_module": "@jupyter-widgets/controls",
            "layout": "IPY_MODEL_c43a457215004227b3df536342410e80"
          }
        },
        "3585c38dff7044b78bed14b553efee21": {
          "model_module": "@jupyter-widgets/controls",
          "model_name": "HTMLModel",
          "state": {
            "_view_name": "HTMLView",
            "style": "IPY_MODEL_a2f6f00ae33641458217fcb560daafd1",
            "_dom_classes": [],
            "description": "",
            "_model_name": "HTMLModel",
            "placeholder": "​",
            "_view_module": "@jupyter-widgets/controls",
            "_model_module_version": "1.5.0",
            "value": " 68/68 [00:18&lt;00:00,  3.82it/s]",
            "_view_count": null,
            "_view_module_version": "1.5.0",
            "description_tooltip": null,
            "_model_module": "@jupyter-widgets/controls",
            "layout": "IPY_MODEL_fe32faf6a308480da6d089049aa82f11"
          }
        },
        "887f76f2d2a04919a638772852faade2": {
          "model_module": "@jupyter-widgets/controls",
          "model_name": "ProgressStyleModel",
          "state": {
            "_view_name": "StyleView",
            "_model_name": "ProgressStyleModel",
            "description_width": "initial",
            "_view_module": "@jupyter-widgets/base",
            "_model_module_version": "1.5.0",
            "_view_count": null,
            "_view_module_version": "1.2.0",
            "bar_color": null,
            "_model_module": "@jupyter-widgets/controls"
          }
        },
        "c43a457215004227b3df536342410e80": {
          "model_module": "@jupyter-widgets/base",
          "model_name": "LayoutModel",
          "state": {
            "_view_name": "LayoutView",
            "grid_template_rows": null,
            "right": null,
            "justify_content": null,
            "_view_module": "@jupyter-widgets/base",
            "overflow": null,
            "_model_module_version": "1.2.0",
            "_view_count": null,
            "flex_flow": null,
            "width": null,
            "min_width": null,
            "border": null,
            "align_items": null,
            "bottom": null,
            "_model_module": "@jupyter-widgets/base",
            "top": null,
            "grid_column": null,
            "overflow_y": null,
            "overflow_x": null,
            "grid_auto_flow": null,
            "grid_area": null,
            "grid_template_columns": null,
            "flex": null,
            "_model_name": "LayoutModel",
            "justify_items": null,
            "grid_row": null,
            "max_height": null,
            "align_content": null,
            "visibility": null,
            "align_self": null,
            "height": null,
            "min_height": null,
            "padding": null,
            "grid_auto_rows": null,
            "grid_gap": null,
            "max_width": null,
            "order": null,
            "_view_module_version": "1.2.0",
            "grid_template_areas": null,
            "object_position": null,
            "object_fit": null,
            "grid_auto_columns": null,
            "margin": null,
            "display": null,
            "left": null
          }
        },
        "a2f6f00ae33641458217fcb560daafd1": {
          "model_module": "@jupyter-widgets/controls",
          "model_name": "DescriptionStyleModel",
          "state": {
            "_view_name": "StyleView",
            "_model_name": "DescriptionStyleModel",
            "description_width": "",
            "_view_module": "@jupyter-widgets/base",
            "_model_module_version": "1.5.0",
            "_view_count": null,
            "_view_module_version": "1.2.0",
            "_model_module": "@jupyter-widgets/controls"
          }
        },
        "fe32faf6a308480da6d089049aa82f11": {
          "model_module": "@jupyter-widgets/base",
          "model_name": "LayoutModel",
          "state": {
            "_view_name": "LayoutView",
            "grid_template_rows": null,
            "right": null,
            "justify_content": null,
            "_view_module": "@jupyter-widgets/base",
            "overflow": null,
            "_model_module_version": "1.2.0",
            "_view_count": null,
            "flex_flow": null,
            "width": null,
            "min_width": null,
            "border": null,
            "align_items": null,
            "bottom": null,
            "_model_module": "@jupyter-widgets/base",
            "top": null,
            "grid_column": null,
            "overflow_y": null,
            "overflow_x": null,
            "grid_auto_flow": null,
            "grid_area": null,
            "grid_template_columns": null,
            "flex": null,
            "_model_name": "LayoutModel",
            "justify_items": null,
            "grid_row": null,
            "max_height": null,
            "align_content": null,
            "visibility": null,
            "align_self": null,
            "height": null,
            "min_height": null,
            "padding": null,
            "grid_auto_rows": null,
            "grid_gap": null,
            "max_width": null,
            "order": null,
            "_view_module_version": "1.2.0",
            "grid_template_areas": null,
            "object_position": null,
            "object_fit": null,
            "grid_auto_columns": null,
            "margin": null,
            "display": null,
            "left": null
          }
        }
      }
    }
  },
  "cells": [
    {
      "cell_type": "markdown",
      "metadata": {
        "id": "9g1TMjhX7FbJ"
      },
      "source": [
        "## Model Evaluations\n",
        "Purpose of this notebook is to evaluate the final models developed on the test dataset."
      ]
    },
    {
      "cell_type": "code",
      "metadata": {
        "colab": {
          "base_uri": "https://localhost:8080/"
        },
        "id": "sT_4hAz5Jnjs",
        "outputId": "a086e7b7-73c2-4267-ede0-bfc138344341"
      },
      "source": [
        "from google.colab import drive\n",
        "drive.mount('/content/gdrive')\n",
        "%cd gdrive/MyDrive/Capstone/"
      ],
      "execution_count": 10,
      "outputs": [
        {
          "output_type": "stream",
          "text": [
            "Drive already mounted at /content/gdrive; to attempt to forcibly remount, call drive.mount(\"/content/gdrive\", force_remount=True).\n",
            "[Errno 2] No such file or directory: 'gdrive/MyDrive/Capstone/'\n",
            "/content/gdrive/MyDrive/Capstone\n"
          ],
          "name": "stdout"
        }
      ]
    },
    {
      "cell_type": "code",
      "metadata": {
        "colab": {
          "base_uri": "https://localhost:8080/"
        },
        "id": "jpQ9vz_jKSz4",
        "outputId": "6d843d87-ae08-4d79-b999-2efa2716ae5a"
      },
      "source": [
        "!pip install transformers"
      ],
      "execution_count": 2,
      "outputs": [
        {
          "output_type": "stream",
          "text": [
            "Collecting transformers\n",
            "\u001b[?25l  Downloading https://files.pythonhosted.org/packages/d8/b2/57495b5309f09fa501866e225c84532d1fd89536ea62406b2181933fb418/transformers-4.5.1-py3-none-any.whl (2.1MB)\n",
            "\u001b[K     |████████████████████████████████| 2.1MB 13.2MB/s \n",
            "\u001b[?25hRequirement already satisfied: regex!=2019.12.17 in /usr/local/lib/python3.7/dist-packages (from transformers) (2019.12.20)\n",
            "Collecting sacremoses\n",
            "\u001b[?25l  Downloading https://files.pythonhosted.org/packages/75/ee/67241dc87f266093c533a2d4d3d69438e57d7a90abb216fa076e7d475d4a/sacremoses-0.0.45-py3-none-any.whl (895kB)\n",
            "\u001b[K     |████████████████████████████████| 901kB 59.7MB/s \n",
            "\u001b[?25hRequirement already satisfied: filelock in /usr/local/lib/python3.7/dist-packages (from transformers) (3.0.12)\n",
            "Requirement already satisfied: packaging in /usr/local/lib/python3.7/dist-packages (from transformers) (20.9)\n",
            "Requirement already satisfied: requests in /usr/local/lib/python3.7/dist-packages (from transformers) (2.23.0)\n",
            "Requirement already satisfied: numpy>=1.17 in /usr/local/lib/python3.7/dist-packages (from transformers) (1.19.5)\n",
            "Requirement already satisfied: tqdm>=4.27 in /usr/local/lib/python3.7/dist-packages (from transformers) (4.41.1)\n",
            "Requirement already satisfied: importlib-metadata; python_version < \"3.8\" in /usr/local/lib/python3.7/dist-packages (from transformers) (3.10.1)\n",
            "Collecting tokenizers<0.11,>=0.10.1\n",
            "\u001b[?25l  Downloading https://files.pythonhosted.org/packages/ae/04/5b870f26a858552025a62f1649c20d29d2672c02ff3c3fb4c688ca46467a/tokenizers-0.10.2-cp37-cp37m-manylinux2010_x86_64.whl (3.3MB)\n",
            "\u001b[K     |████████████████████████████████| 3.3MB 49.0MB/s \n",
            "\u001b[?25hRequirement already satisfied: six in /usr/local/lib/python3.7/dist-packages (from sacremoses->transformers) (1.15.0)\n",
            "Requirement already satisfied: click in /usr/local/lib/python3.7/dist-packages (from sacremoses->transformers) (7.1.2)\n",
            "Requirement already satisfied: joblib in /usr/local/lib/python3.7/dist-packages (from sacremoses->transformers) (1.0.1)\n",
            "Requirement already satisfied: pyparsing>=2.0.2 in /usr/local/lib/python3.7/dist-packages (from packaging->transformers) (2.4.7)\n",
            "Requirement already satisfied: urllib3!=1.25.0,!=1.25.1,<1.26,>=1.21.1 in /usr/local/lib/python3.7/dist-packages (from requests->transformers) (1.24.3)\n",
            "Requirement already satisfied: idna<3,>=2.5 in /usr/local/lib/python3.7/dist-packages (from requests->transformers) (2.10)\n",
            "Requirement already satisfied: chardet<4,>=3.0.2 in /usr/local/lib/python3.7/dist-packages (from requests->transformers) (3.0.4)\n",
            "Requirement already satisfied: certifi>=2017.4.17 in /usr/local/lib/python3.7/dist-packages (from requests->transformers) (2020.12.5)\n",
            "Requirement already satisfied: typing-extensions>=3.6.4; python_version < \"3.8\" in /usr/local/lib/python3.7/dist-packages (from importlib-metadata; python_version < \"3.8\"->transformers) (3.7.4.3)\n",
            "Requirement already satisfied: zipp>=0.5 in /usr/local/lib/python3.7/dist-packages (from importlib-metadata; python_version < \"3.8\"->transformers) (3.4.1)\n",
            "Installing collected packages: sacremoses, tokenizers, transformers\n",
            "Successfully installed sacremoses-0.0.45 tokenizers-0.10.2 transformers-4.5.1\n"
          ],
          "name": "stdout"
        }
      ]
    },
    {
      "cell_type": "code",
      "metadata": {
        "colab": {
          "base_uri": "https://localhost:8080/",
          "height": 170,
          "referenced_widgets": [
            "98e8904f58d14d9dafb633eda00f63f1",
            "ab0f6c5e4fba444dbeb4d5b4ba34686b",
            "cdd703955c124917baf60cf0f263d210",
            "872e03840ac744f195772ffa0466d5a1",
            "670d1418c5cb4f8c992f66363bef0acc",
            "0bb184c57c5d448e866f1dd584618723",
            "c13829c07f5c4a209b8bf1feb519a3d8",
            "942c7e0dfdc749ca8d98a36e6dab46cf"
          ]
        },
        "id": "8s1yZ6JyKdN4",
        "outputId": "1e132ac7-7c27-448c-9366-a4d25a04d574"
      },
      "source": [
        "import os\n",
        "import pickle\n",
        "import numpy as np\n",
        "import pandas as pd\n",
        "import matplotlib.pyplot as plt\n",
        "\n",
        "import torch\n",
        "import torch.nn as nn\n",
        "import torch.nn.functional as F\n",
        "from torch.utils.data import Dataset\n",
        "\n",
        "from sklearn.metrics import classification_report, recall_score, f1_score, precision_score, precision_recall_curve, accuracy_score, confusion_matrix \n",
        "from sklearn.feature_extraction.text import CountVectorizer, TfidfVectorizer\n",
        "from sklearn.linear_model import LogisticRegression\n",
        "from sklearn.feature_extraction import stop_words\n",
        "from sklearn.model_selection import train_test_split\n",
        "from torch.utils.data import DataLoader\n",
        "from tqdm import tqdm\n",
        "\n",
        "import transformers\n",
        "from transformers import AdamW, get_cosine_schedule_with_warmup, get_cosine_with_hard_restarts_schedule_with_warmup\n",
        "\n",
        "from tqdm import tqdm, tqdm_notebook, tqdm_pandas\n",
        "\n",
        "tqdm.pandas()\n",
        "tqdm_notebook().pandas()"
      ],
      "execution_count": 81,
      "outputs": [
        {
          "output_type": "stream",
          "text": [
            "/usr/local/lib/python3.7/dist-packages/sklearn/utils/deprecation.py:144: FutureWarning: The sklearn.feature_extraction.stop_words module is  deprecated in version 0.22 and will be removed in version 0.24. The corresponding classes / functions should instead be imported from sklearn.feature_extraction.text. Anything that cannot be imported from sklearn.feature_extraction.text is now part of the private API.\n",
            "  warnings.warn(message, FutureWarning)\n",
            "/usr/local/lib/python3.7/dist-packages/tqdm/std.py:658: FutureWarning: The Panel class is removed from pandas. Accessing it from the top-level namespace will also be removed in the next version\n",
            "  from pandas import Panel\n",
            "/usr/local/lib/python3.7/dist-packages/ipykernel_launcher.py:26: TqdmDeprecationWarning: This function will be removed in tqdm==5.0.0\n",
            "Please use `tqdm.notebook.tqdm` instead of `tqdm.tqdm_notebook`\n"
          ],
          "name": "stderr"
        },
        {
          "output_type": "display_data",
          "data": {
            "application/vnd.jupyter.widget-view+json": {
              "model_id": "98e8904f58d14d9dafb633eda00f63f1",
              "version_minor": 0,
              "version_major": 2
            },
            "text/plain": [
              "HBox(children=(FloatProgress(value=1.0, bar_style='info', max=1.0), HTML(value='')))"
            ]
          },
          "metadata": {
            "tags": []
          }
        }
      ]
    },
    {
      "cell_type": "code",
      "metadata": {
        "id": "D0FExNoHKrJK"
      },
      "source": [
        "import itertools\n",
        "from sklearn.metrics import roc_auc_score\n",
        "\n",
        "def plot_confusion_matrix(cm, classes,\n",
        "                          normalize=False,\n",
        "                          title='Confusion matrix',\n",
        "                          cmap=plt.cm.Blues):\n",
        "    \"\"\"\n",
        "    This function prints and plots the confusion matrix.\n",
        "    Normalization can be applied by setting `normalize=True`.\n",
        "    \"\"\"\n",
        "    if normalize:\n",
        "        cm = cm.astype('float') / cm.sum(axis=1)[:, np.newaxis]\n",
        "\n",
        "    plt.imshow(cm, interpolation='nearest', cmap=cmap)\n",
        "    plt.title(title)\n",
        "    plt.colorbar()\n",
        "    tick_marks = np.arange(len(classes))\n",
        "    plt.xticks(tick_marks, classes, rotation=45)\n",
        "    plt.yticks(tick_marks, classes)\n",
        "\n",
        "    fmt = '.2f' if normalize else 'd'\n",
        "    thresh = cm.max() / 2.\n",
        "    for i, j in itertools.product(range(cm.shape[0]), range(cm.shape[1])):\n",
        "        plt.text(j, i, format(cm[i, j], fmt),\n",
        "                 horizontalalignment=\"center\",\n",
        "                 color=\"white\" if cm[i, j] > thresh else \"black\")\n",
        "\n",
        "    plt.tight_layout()\n",
        "    plt.ylabel('True label',fontsize=15)\n",
        "    plt.xlabel('Predicted label',fontsize=15)"
      ],
      "execution_count": 82,
      "outputs": []
    },
    {
      "cell_type": "code",
      "metadata": {
        "colab": {
          "base_uri": "https://localhost:8080/"
        },
        "id": "XDIhHAvkKfWS",
        "outputId": "92a48244-9e92-4252-f0d3-589ad6e52c6b"
      },
      "source": [
        "user_type_df = pd.read_csv('data/total_user_type.csv') # dataframe containing the user types and the \n",
        "tf_score_df = pd.read_pickle('data/tf_score_df.pkl') # dataframe containing the TF-IDF scores"
      ],
      "execution_count": 12,
      "outputs": [
        {
          "output_type": "stream",
          "text": [
            "\n"
          ],
          "name": "stdout"
        }
      ]
    },
    {
      "cell_type": "code",
      "metadata": {
        "id": "npkX0rCiLphJ"
      },
      "source": [
        "# with open('data/train_df_tlstm.pkl', 'rb') as f:\n",
        "#   train_df = pickle.load(f)\n",
        "\n",
        "# with open('data/test_df_tlstm.pkl', 'rb') as f:\n",
        "#   test_df = pickle.load(f)\n",
        "\n",
        "# with open('data/val_df_tlstm.pkl', 'rb') as f:\n",
        "#   val_df = pickle.load(f)\n",
        "\n",
        "# full_df = train_df.append(test_df).append(val_df)\n",
        "\n",
        "with open('data/full_df.pkl', 'rb') as f:\n",
        "    full_df = pickle.load(f)"
      ],
      "execution_count": 30,
      "outputs": []
    },
    {
      "cell_type": "code",
      "metadata": {
        "colab": {
          "base_uri": "https://localhost:8080/",
          "height": 279
        },
        "id": "rzSqeOpfFgkA",
        "outputId": "86b6c323-262d-4d22-da21-0c79d14e1394"
      },
      "source": [
        "full_df.head()"
      ],
      "execution_count": 79,
      "outputs": [
        {
          "output_type": "execute_result",
          "data": {
            "text/html": [
              "<div>\n",
              "<style scoped>\n",
              "    .dataframe tbody tr th:only-of-type {\n",
              "        vertical-align: middle;\n",
              "    }\n",
              "\n",
              "    .dataframe tbody tr th {\n",
              "        vertical-align: top;\n",
              "    }\n",
              "\n",
              "    .dataframe thead th {\n",
              "        text-align: right;\n",
              "    }\n",
              "</style>\n",
              "<table border=\"1\" class=\"dataframe\">\n",
              "  <thead>\n",
              "    <tr style=\"text-align: right;\">\n",
              "      <th></th>\n",
              "      <th>username</th>\n",
              "      <th>hist_dates</th>\n",
              "      <th>combined_text</th>\n",
              "      <th>enc</th>\n",
              "      <th>label</th>\n",
              "      <th>type</th>\n",
              "      <th>split</th>\n",
              "      <th>tf_score</th>\n",
              "      <th>total_score</th>\n",
              "    </tr>\n",
              "  </thead>\n",
              "  <tbody>\n",
              "    <tr>\n",
              "      <th>0</th>\n",
              "      <td>--Doc_Holliday</td>\n",
              "      <td>[2019-03-29 10:23:09, 2019-04-18 21:40:49, 201...</td>\n",
              "      <td>[Ill take a copy if youre still offering!, I t...</td>\n",
              "      <td>[[-0.046786565, -0.009795629, -0.12904653, -0....</td>\n",
              "      <td>0</td>\n",
              "      <td>lfhn</td>\n",
              "      <td>train</td>\n",
              "      <td>[0.0, 0.0, 0.0, 0.0, 0.0, 0.0, 0.0, 0.0, 0.0, ...</td>\n",
              "      <td>2.442035</td>\n",
              "    </tr>\n",
              "    <tr>\n",
              "      <th>1</th>\n",
              "      <td>--NoIdeaWhatImDoing</td>\n",
              "      <td>[2019-04-04 20:03:54, 2019-04-04 21:30:48, 201...</td>\n",
              "      <td>[Best brand of coffee to drink black? Hey all....</td>\n",
              "      <td>[[-0.2573667, 0.31006807, -0.19334464, 0.03483...</td>\n",
              "      <td>0</td>\n",
              "      <td>lfln</td>\n",
              "      <td>train</td>\n",
              "      <td>[0.0, 0.0, 0.0, 0.0, 0.0, 0.0, 0.0, 0.0, 0.0, ...</td>\n",
              "      <td>1.172534</td>\n",
              "    </tr>\n",
              "    <tr>\n",
              "      <th>2</th>\n",
              "      <td>-AnxiousWallflower-</td>\n",
              "      <td>[2019-12-17 13:04:08, 2019-12-28 18:38:51, 201...</td>\n",
              "      <td>[My cat does this with hair ties. It’s the cut...</td>\n",
              "      <td>[[0.27901784, 0.6647909, 3.8793212e-05, 0.2140...</td>\n",
              "      <td>1</td>\n",
              "      <td>lfln</td>\n",
              "      <td>train</td>\n",
              "      <td>[0.0, 0.0, 0.0, 0.0, 0.0, 0.0, 0.0, 0.0, 0.0, ...</td>\n",
              "      <td>2.884020</td>\n",
              "    </tr>\n",
              "    <tr>\n",
              "      <th>3</th>\n",
              "      <td>-Arjay-</td>\n",
              "      <td>[2021-01-22 06:29:33, 2021-01-22 14:51:33, 202...</td>\n",
              "      <td>[Aww, are the “Iron Snowflakes” gonna cry?, I’...</td>\n",
              "      <td>[[-0.13529211, 0.08693916, 0.04405329, -0.3325...</td>\n",
              "      <td>0</td>\n",
              "      <td>hfhn</td>\n",
              "      <td>test</td>\n",
              "      <td>[0.0, 0.0, 0.0, 0.0, 0.0, 0.0, 0.0, 0.0, 0.0, ...</td>\n",
              "      <td>5.043855</td>\n",
              "    </tr>\n",
              "    <tr>\n",
              "      <th>4</th>\n",
              "      <td>-BabaGanoosh-</td>\n",
              "      <td>[2019-02-26 05:22:55, 2019-03-06 05:21:38, 201...</td>\n",
              "      <td>[Turns out the guy has nazi background. 🤔🤔🤔, O...</td>\n",
              "      <td>[[-0.25904316, 0.12336181, -0.07328583, 0.3699...</td>\n",
              "      <td>1</td>\n",
              "      <td>hfhn</td>\n",
              "      <td>val</td>\n",
              "      <td>[0.0, 0.0, 0.0, 0.0, 0.0, 0.0, 0.0, 0.0, 0.0, ...</td>\n",
              "      <td>2.815341</td>\n",
              "    </tr>\n",
              "  </tbody>\n",
              "</table>\n",
              "</div>"
            ],
            "text/plain": [
              "              username  ... total_score\n",
              "0       --Doc_Holliday  ...    2.442035\n",
              "1  --NoIdeaWhatImDoing  ...    1.172534\n",
              "2  -AnxiousWallflower-  ...    2.884020\n",
              "3              -Arjay-  ...    5.043855\n",
              "4        -BabaGanoosh-  ...    2.815341\n",
              "\n",
              "[5 rows x 9 columns]"
            ]
          },
          "metadata": {
            "tags": []
          },
          "execution_count": 79
        }
      ]
    },
    {
      "cell_type": "code",
      "metadata": {
        "id": "cIhKr3xCL5FQ"
      },
      "source": [
        "full_df = full_df.merge(user_type_df, on = 'username').merge(tf_score_df, on ='username') # combine dataset with TF-IDF Scores and User types for test splits\n",
        "test_df = full_df[full_df['split']=='test'] # get the testing split"
      ],
      "execution_count": 32,
      "outputs": []
    },
    {
      "cell_type": "code",
      "metadata": {
        "id": "gSpPMu-vMm4R"
      },
      "source": [
        "def get_timestamp(x):\n",
        "    timestamp = []\n",
        "    for t in x:\n",
        "        timestamp.append(datetime.timestamp(t))\n",
        "\n",
        "    np.array(timestamp) - timestamp[-1]\n",
        "    return timestamp\n",
        "\n",
        "class SuicidalDataset(Dataset):\n",
        "    def __init__(self, label, temporal, timestamp, tf_idf_vector):\n",
        "\n",
        "        super().__init__()\n",
        "        self.label = label\n",
        "        self.temporal = temporal\n",
        "        self.timestamp = timestamp\n",
        "        self.tf_idf_vector = tf_idf_vector\n",
        "\n",
        "    def __len__(self):\n",
        "        return len(self.label)\n",
        "\n",
        "    def __getitem__(self, item):\n",
        "\n",
        "        labels = torch.tensor(self.label[item])\n",
        "\n",
        "        result = self.temporal[item]\n",
        "        temporal_features = torch.tensor(result)\n",
        "\n",
        "        tf_idf_vector = self.tf_idf_vector[item]\n",
        "\n",
        "        timestamp = torch.tensor(get_timestamp(self.timestamp[item]))\n",
        "\n",
        "        return [labels, temporal_features, timestamp, tf_idf_vector]\n",
        "\n",
        "def pad_ts_collate(batch):\n",
        "\n",
        "    target = [item[0] for item in batch]\n",
        "    data_post = [item[1] for item in batch]\n",
        "    timestamp_post = [item[2] for item in batch]\n",
        "    tf_idf_vector = [item[3] for item in batch]\n",
        "\n",
        "    lens_post = [len(x) for x in data_post]\n",
        "\n",
        "    data_post = nn.utils.rnn.pad_sequence(data_post, batch_first=True, padding_value=0)\n",
        "\n",
        "    timestamp_post = nn.utils.rnn.pad_sequence(timestamp_post, batch_first=True, padding_value=0)\n",
        "\n",
        "    target = torch.tensor(target)\n",
        "    lens_post = torch.tensor(lens_post)\n",
        "\n",
        "    tf_idf_vector = torch.tensor(tf_idf_vector).float()\n",
        "\n",
        "    return [target, data_post, timestamp_post, lens_post, tf_idf_vector]"
      ],
      "execution_count": 36,
      "outputs": []
    },
    {
      "cell_type": "code",
      "metadata": {
        "id": "qN6VwsPIM04k"
      },
      "source": [
        "# create test dataset for testing the models\n",
        "test_dataset = SuicidalDataset(test_df.label.values,\n",
        "                                test_df.enc.values,\n",
        "                                test_df.hist_dates.values,\n",
        "                                test_df.tf_score.values)\n",
        "BATCH_SIZE = 16\n",
        "test_dataloader = DataLoader(test_dataset, batch_size=BATCH_SIZE, collate_fn=pad_ts_collate)"
      ],
      "execution_count": 49,
      "outputs": []
    },
    {
      "cell_type": "code",
      "metadata": {
        "id": "NHC9ilykSIhd"
      },
      "source": [
        "# Model class defined\n",
        "\n",
        "class HistoricCurrent(nn.Module):\n",
        "    def __init__(self, embedding_dim, hidden_dim, subreddit_embedding = 512, dropout = 0.2):\n",
        "        super().__init__()\n",
        "        self.historic_model = TimeLSTM(embedding_dim, hidden_dim[0])\n",
        "        self.dropout = nn.Dropout(dropout) \n",
        "\n",
        "        self.fc_tfidf = nn.Linear(799, subreddit_embedding)\n",
        "\n",
        "        current_dim = hidden_dim[0] + subreddit_embedding #concatenated\n",
        "\n",
        "        self.layers = nn.ModuleList()\n",
        "        for hdim in hidden_dim[1:]:\n",
        "            self.layers.append(nn.Linear(current_dim, hdim))\n",
        "            current_dim = hdim\n",
        "\n",
        "        self.layers.append(nn.Linear(current_dim, 2))\n",
        "\n",
        "    @staticmethod\n",
        "    def combine_features(features_1, features_2):\n",
        "        return torch.cat((features_1, features_2), 1)\n",
        "\n",
        "    def forward(self, historic_features, timestamp, tf_idf_vector):\n",
        "        outputs = self.historic_model(historic_features, timestamp)\n",
        "        outputs = torch.mean(outputs, 1)\n",
        "\n",
        "        subreddit_features = F.relu(self.fc_tfidf(tf_idf_vector))\n",
        "\n",
        "        combined_features = self.combine_features(subreddit_features, outputs)\n",
        "        x = self.dropout(combined_features)\n",
        "\n",
        "        for layer in self.layers[:-1]:\n",
        "            x = F.relu(layer(x))\n",
        "\n",
        "        x = self.dropout(x)\n",
        "\n",
        "        return self.layers[-1](x) # final layer\n",
        "\n",
        "class TimeLSTM(nn.Module):\n",
        "    def __init__(self, input_size, hidden_size, bidirectional=True):\n",
        "        # assumes that batch_first is always true\n",
        "        super().__init__()\n",
        "        self.hidden_size = hidden_size\n",
        "        self.input_size = input_size\n",
        "        self.W_all = nn.Linear(hidden_size, hidden_size * 4)\n",
        "        self.U_all = nn.Linear(input_size, hidden_size * 4)\n",
        "        self.W_d = nn.Linear(hidden_size, hidden_size)\n",
        "        self.bidirectional = bidirectional\n",
        "\n",
        "    def forward(self, inputs, timestamps, reverse=False):\n",
        "        # inputs: [b, seq, embed]\n",
        "        # h: [b, hid]\n",
        "        # c: [b, hid]\n",
        "        b, seq, embed = inputs.size()\n",
        "        h = torch.zeros(b, self.hidden_size, requires_grad=False)\n",
        "        c = torch.zeros(b, self.hidden_size, requires_grad=False)\n",
        "\n",
        "        h = h.cuda()\n",
        "        c = c.cuda()\n",
        "        outputs = []\n",
        "        for s in range(seq):\n",
        "            c_s1 = torch.tanh(self.W_d(c))\n",
        "            c_s2 = c_s1 * timestamps[:, s:s + 1].expand_as(c_s1)\n",
        "            c_l = c - c_s1\n",
        "            c_adj = c_l + c_s2\n",
        "            outs = self.W_all(h) + self.U_all(inputs[:, s])\n",
        "            f, i, o, c_tmp = torch.chunk(outs, 4, 1)\n",
        "            f = torch.sigmoid(f)\n",
        "            i = torch.sigmoid(i)\n",
        "            o = torch.sigmoid(o)\n",
        "            c_tmp = torch.sigmoid(c_tmp)\n",
        "            c = f * c_adj + i * c_tmp\n",
        "            h = o * torch.tanh(c)\n",
        "            outputs.append(h)\n",
        "        if reverse:\n",
        "            outputs.reverse()\n",
        "        outputs = torch.stack(outputs, 1)\n",
        "        return outputs\n",
        "        "
      ],
      "execution_count": 38,
      "outputs": []
    },
    {
      "cell_type": "code",
      "metadata": {
        "id": "L1GRhFl5ToC0"
      },
      "source": [
        "def CB_loss(labels, logits, samples_per_cls, no_of_classes, loss_type, beta, gamma):\n",
        "    \"\"\"Compute the Class Balanced Loss between `logits` and the ground truth `labels`.\n",
        "    Class Balanced Loss: ((1-beta)/(1-beta^n))*Loss(labels, logits)\n",
        "    where Loss is one of the standard losses used for Neural Networks.\n",
        "    Args:\n",
        "      labels: A int tensor of size [batch].\n",
        "      logits: A float tensor of size [batch, no_of_classes].\n",
        "      samples_per_cls: A python list of size [no_of_classes].\n",
        "      no_of_classes: total number of classes. int\n",
        "      loss_type: string. One of \"sigmoid\", \"focal\", \"softmax\".\n",
        "      beta: float. Hyperparameter for Class balanced loss.\n",
        "      gamma: float. Hyperparameter for Focal loss.\n",
        "    Returns:\n",
        "      cb_loss: A float tensor representing class balanced loss\n",
        "    \"\"\"\n",
        "    effective_num = 1.0 - np.power(beta, samples_per_cls)\n",
        "    weights = (1.0 - beta) / np.array(effective_num)\n",
        "    weights = weights / np.sum(weights) * no_of_classes\n",
        "\n",
        "    labels_one_hot = F.one_hot(labels, no_of_classes).float()\n",
        "\n",
        "    weights = torch.tensor(weights, dtype=torch.float32).cuda()\n",
        "    weights = weights.unsqueeze(0)\n",
        "    weights = weights.repeat(labels_one_hot.shape[0], 1) * labels_one_hot\n",
        "    weights = weights.sum(1)\n",
        "    weights = weights.unsqueeze(1)\n",
        "    weights = weights.repeat(1, no_of_classes)\n",
        "\n",
        "    if loss_type == \"focal\":\n",
        "        cb_loss = focal_loss(labels_one_hot, logits, weights, gamma)\n",
        "    elif loss_type == \"sigmoid\":\n",
        "        cb_loss = F.binary_cross_entropy_with_logits(input=logits, target=labels_one_hot, weight=weights)\n",
        "    elif loss_type == \"softmax\":\n",
        "        pred = logits.softmax(dim=1)\n",
        "        cb_loss = F.binary_cross_entropy(input=pred, target=labels_one_hot, weight=weights)\n",
        "\n",
        "    return cb_loss\n",
        "\n",
        "def focal_loss(labels, logits, alpha, gamma):\n",
        "    \"\"\"Compute the focal loss between `logits` and the ground truth `labels`.\n",
        "    Focal loss = -alpha_t * (1-pt)^gamma * log(pt)\n",
        "    where pt is the probability of being classified to the true class.\n",
        "    pt = p (if true class), otherwise pt = 1 - p. p = sigmoid(logit).\n",
        "    Args:\n",
        "      labels: A float tensor of size [batch, num_classes].\n",
        "      logits: A float tensor of size [batch, num_classes].\n",
        "      alpha: A float tensor of size [batch_size]\n",
        "        specifying per-example weight for balanced cross entropy.\n",
        "      gamma: A float scalar modulating loss from hard and easy examples.\n",
        "    Returns:\n",
        "      focal_loss: A float32 scalar representing normalized total loss.\n",
        "    \"\"\"\n",
        "    BCLoss = F.binary_cross_entropy_with_logits(input=logits, target=labels, reduction=\"none\")\n",
        "\n",
        "    if gamma == 0.0:\n",
        "        modulator = 1.0\n",
        "    else:\n",
        "        modulator = torch.exp(-gamma * labels * logits - gamma * torch.log(1 + torch.exp(-1.0 * logits)))\n",
        "\n",
        "    loss = modulator * BCLoss\n",
        "\n",
        "    weighted_loss = alpha * loss\n",
        "    focal_loss = torch.sum(weighted_loss)\n",
        "\n",
        "    focal_loss /= torch.sum(labels)\n",
        "    return focal_loss\n",
        "\n",
        "def loss_fn(output, targets, samples_per_cls, loss_type = \"focal\"):\n",
        "    beta = 0.9999\n",
        "    gamma = 2.0\n",
        "    no_of_classes = 2\n",
        "\n",
        "    return CB_loss(targets, output, samples_per_cls, no_of_classes, loss_type, beta, gamma)"
      ],
      "execution_count": 40,
      "outputs": []
    },
    {
      "cell_type": "code",
      "metadata": {
        "id": "yTmB0WuRQ1yN"
      },
      "source": [
        "def eval_loop(model, dataloader, device, dataset_len):\n",
        "    model.eval()\n",
        "\n",
        "    running_loss = 0.0\n",
        "    running_corrects = 0\n",
        "\n",
        "    fin_targets = []\n",
        "    fin_outputs = []\n",
        "    fin_preds = []\n",
        "\n",
        "    for bi, inputs in enumerate(tqdm_notebook(dataloader, total=len(dataloader), leave=False)):\n",
        "\n",
        "        labels, data, timestamp, lens, tf_idf_vector = inputs\n",
        "\n",
        "        labels = labels.to(device)\n",
        "        data = data.to(device)\n",
        "        timestamp = timestamp.to(device)\n",
        "        tf_idf_vector = tf_idf_vector.to(device)\n",
        "\n",
        "        with torch.no_grad():\n",
        "            output = model(data, timestamp, tf_idf_vector)\n",
        "\n",
        "        fin_pred = output[:,1]\n",
        "\n",
        "        _ , preds = torch.max(output, 1)\n",
        "        \n",
        "        loss = loss_fn(output, labels, labels.unique(return_counts=True)[1].tolist())\n",
        "        running_loss += loss.item()\n",
        "        running_corrects += torch.sum(preds == labels.data)\n",
        "\n",
        "        fin_targets.append(labels.cpu().detach().numpy())\n",
        "        fin_outputs.append(preds.cpu().detach().numpy())\n",
        "        fin_preds.append(fin_pred.cpu().detach().numpy())\n",
        "\n",
        "    epoch_loss = running_loss / len(dataloader)\n",
        "    epoch_accuracy = running_corrects.double() / dataset_len\n",
        "\n",
        "    return epoch_loss, epoch_accuracy, np.hstack(fin_outputs), np.hstack(fin_targets), np.hstack(fin_preds)"
      ],
      "execution_count": 46,
      "outputs": []
    },
    {
      "cell_type": "code",
      "metadata": {
        "colab": {
          "base_uri": "https://localhost:8080/"
        },
        "id": "BYIilI2-RbJ_",
        "outputId": "9624ca07-9727-46f2-c396-c54cef4ff73a"
      },
      "source": [
        "device = 'cuda' if torch.cuda.is_available() else 'cpu'\n",
        "print(device)"
      ],
      "execution_count": 51,
      "outputs": [
        {
          "output_type": "stream",
          "text": [
            "cuda\n"
          ],
          "name": "stdout"
        }
      ]
    },
    {
      "cell_type": "markdown",
      "metadata": {
        "id": "cinxkDtGTGuB"
      },
      "source": [
        "## Model 1 : HFHN + HFLN"
      ]
    },
    {
      "cell_type": "code",
      "metadata": {
        "colab": {
          "base_uri": "https://localhost:8080/"
        },
        "id": "Udomo1czRyAX",
        "outputId": "d36d5e3f-606f-4000-c5f4-257ab74808df"
      },
      "source": [
        "EPOCHS = 10\n",
        "HIDDEN_DIM = [128,64]\n",
        "EMBEDDING_DIM = 768\n",
        "SUBREDDIT_EMBEDDING = 128\n",
        "DROPOUT = 0.7\n",
        "LEARNING_RATE = 0.001\n",
        "\n",
        "hfhn_hfln = HistoricCurrent(EMBEDDING_DIM, HIDDEN_DIM, SUBREDDIT_EMBEDDING, DROPOUT)\n",
        "hfhn_hfln.to(device)\n",
        "hfhn_hfln.load_state_dict(torch.load('saved_model/best_model_TLSTM_hfhn_hfln.pt'))"
      ],
      "execution_count": 41,
      "outputs": [
        {
          "output_type": "execute_result",
          "data": {
            "text/plain": [
              "<All keys matched successfully>"
            ]
          },
          "metadata": {
            "tags": []
          },
          "execution_count": 41
        }
      ]
    },
    {
      "cell_type": "markdown",
      "metadata": {
        "id": "wZWufOWfUBfZ"
      },
      "source": [
        "## Model 2: HFLN + LFLN"
      ]
    },
    {
      "cell_type": "code",
      "metadata": {
        "colab": {
          "base_uri": "https://localhost:8080/"
        },
        "id": "xqNLanvEUTXz",
        "outputId": "a3087efd-2114-4d63-d86e-764d8a3e896e"
      },
      "source": [
        "EPOCHS = 15\n",
        "HIDDEN_DIM = [32,16]\n",
        "EMBEDDING_DIM = 768\n",
        "SUBREDDIT_EMBEDDING = 32\n",
        "DROPOUT = 0.7\n",
        "LEARNING_RATE = 0.001\n",
        "\n",
        "hfln_lfln = HistoricCurrent(EMBEDDING_DIM, HIDDEN_DIM, SUBREDDIT_EMBEDDING, DROPOUT)\n",
        "hfln_lfln.to(device)\n",
        "hfln_lfln.load_state_dict(torch.load('saved_model/best_model_TLSTM_hfln_lfln.pt'))"
      ],
      "execution_count": 42,
      "outputs": [
        {
          "output_type": "execute_result",
          "data": {
            "text/plain": [
              "<All keys matched successfully>"
            ]
          },
          "metadata": {
            "tags": []
          },
          "execution_count": 42
        }
      ]
    },
    {
      "cell_type": "markdown",
      "metadata": {
        "id": "RcIrS6W_UTaO"
      },
      "source": [
        "## Model 3: LFLN + LFHN"
      ]
    },
    {
      "cell_type": "code",
      "metadata": {
        "colab": {
          "base_uri": "https://localhost:8080/"
        },
        "id": "jIlEYNBWUTcL",
        "outputId": "07da344c-a19e-43fd-d5e5-e22c83f10ef1"
      },
      "source": [
        "EPOCHS = 15\n",
        "HIDDEN_DIM = [8]\n",
        "EMBEDDING_DIM = 768\n",
        "SUBREDDIT_EMBEDDING = 8\n",
        "DROPOUT = 0.7\n",
        "LEARNING_RATE = 0.001\n",
        "\n",
        "lfln_lfhn = HistoricCurrent(EMBEDDING_DIM, HIDDEN_DIM, SUBREDDIT_EMBEDDING, DROPOUT)\n",
        "lfln_lfhn.to(device)\n",
        "lfln_lfhn.load_state_dict(torch.load('saved_model/best_model_TLSTM_lfhn_lfln.pt'))"
      ],
      "execution_count": 43,
      "outputs": [
        {
          "output_type": "execute_result",
          "data": {
            "text/plain": [
              "<All keys matched successfully>"
            ]
          },
          "metadata": {
            "tags": []
          },
          "execution_count": 43
        }
      ]
    },
    {
      "cell_type": "markdown",
      "metadata": {
        "id": "GkAcwutwUTfV"
      },
      "source": [
        "## Model 4: LFHN + HFHN"
      ]
    },
    {
      "cell_type": "code",
      "metadata": {
        "colab": {
          "base_uri": "https://localhost:8080/"
        },
        "id": "qj6aAQx9UTh9",
        "outputId": "dade0cc6-5bf4-4056-8a33-b8878f295814"
      },
      "source": [
        "EPOCHS = 15\n",
        "HIDDEN_DIM = [32,16]\n",
        "EMBEDDING_DIM = 768\n",
        "SUBREDDIT_EMBEDDING = 32\n",
        "DROPOUT = 0.7\n",
        "LEARNING_RATE = 0.001\n",
        "\n",
        "lfhn_hfhn = HistoricCurrent(EMBEDDING_DIM, HIDDEN_DIM, SUBREDDIT_EMBEDDING, DROPOUT)\n",
        "lfhn_hfhn.to(device)\n",
        "lfhn_hfhn.load_state_dict(torch.load('saved_model/best_model_TLSTM_lfhn_hfhn.pt'))"
      ],
      "execution_count": 50,
      "outputs": [
        {
          "output_type": "execute_result",
          "data": {
            "text/plain": [
              "<All keys matched successfully>"
            ]
          },
          "metadata": {
            "tags": []
          },
          "execution_count": 50
        }
      ]
    },
    {
      "cell_type": "markdown",
      "metadata": {
        "id": "BUoYgWv3_jVs"
      },
      "source": [
        "---"
      ]
    },
    {
      "cell_type": "markdown",
      "metadata": {
        "id": "On7FUH1G_kjV"
      },
      "source": [
        "## Model Evaluations"
      ]
    },
    {
      "cell_type": "code",
      "metadata": {
        "colab": {
          "base_uri": "https://localhost:8080/",
          "height": 67,
          "referenced_widgets": [
            "184fb9032d2145af9d226a8e7b4e7a14",
            "83848eb6919d47b093f0d0f21ca8a044",
            "cfb8a8e0530a4e05af1454fcd75c1fb0",
            "c98254f382de41fc9d97cbcd80122218",
            "fc28dbce2507402b881cc472182e048e",
            "30c69f29e53a4fd0a71745851c8007c9",
            "9704fd48b8f04f989c2a1337b5907433",
            "f0f96d21f4d945d3ad41aa01b421771d",
            "4da4ed657d934af082cc4bebd62d47c6",
            "aec69310ceee44a891d64e49b45b06d2",
            "455979015fbf40e78b62f94034489627",
            "fbf56f98fc7a4946b3f01a7dbe4ff6ae",
            "09b50377beba4ce2a3cd86fd162a09b2",
            "5ceeac97f69647bca0a64ae28ce9123d",
            "24e9d6c8d6544c5a8ef5682b0cb62a37",
            "1d24835d4866483887e2a536154a0e7e",
            "2a426cb754664adda017a1e94a01ddbd",
            "86e3e4d56dd842c0bdad6733b3d7526e",
            "891c3df113de45c59dc1c731d917aeae",
            "7589255a3b6a442595bb06029400d58b",
            "fa0f585e2a484aee8a0c488a4c14a973",
            "49ab0b4a2c994c6aa61b34e5b061d7f9",
            "05250528e17a4ff4b8b485315f12a39c",
            "3a95271a496f4a7f8df217f281938acc",
            "167f8d7438884b3bb44d07c17e7609e5",
            "bc4fa7999aed4d50863e4ded44f1671d",
            "41482b06a3604a70bf0eee9896282376",
            "3585c38dff7044b78bed14b553efee21",
            "887f76f2d2a04919a638772852faade2",
            "c43a457215004227b3df536342410e80",
            "a2f6f00ae33641458217fcb560daafd1",
            "fe32faf6a308480da6d089049aa82f11"
          ]
        },
        "id": "kAJBujbuRMRX",
        "outputId": "887c6d88-2427-4b5f-9e88-9714a4a75745"
      },
      "source": [
        "_, _, y_pred1, y_true1, y_out1 = eval_loop(hfhn_hfln, test_dataloader, device, len(test_dataset))\n",
        "_, _, y_pred2, y_true2, y_out2 = eval_loop(hfln_lfln, test_dataloader, device, len(test_dataset))\n",
        "_, _, y_pred3, y_true3, y_out3 = eval_loop(lfln_lfhn, test_dataloader, device, len(test_dataset))\n",
        "_, _, y_pred4, y_true4, y_out4 = eval_loop(lfhn_hfhn, test_dataloader, device, len(test_dataset))"
      ],
      "execution_count": 52,
      "outputs": [
        {
          "output_type": "stream",
          "text": [
            "/usr/local/lib/python3.7/dist-packages/ipykernel_launcher.py:11: TqdmDeprecationWarning: This function will be removed in tqdm==5.0.0\n",
            "Please use `tqdm.notebook.tqdm` instead of `tqdm.tqdm_notebook`\n",
            "  # This is added back by InteractiveShellApp.init_path()\n"
          ],
          "name": "stderr"
        },
        {
          "output_type": "display_data",
          "data": {
            "application/vnd.jupyter.widget-view+json": {
              "model_id": "184fb9032d2145af9d226a8e7b4e7a14",
              "version_minor": 0,
              "version_major": 2
            },
            "text/plain": [
              "HBox(children=(FloatProgress(value=0.0, max=68.0), HTML(value='')))"
            ]
          },
          "metadata": {
            "tags": []
          }
        },
        {
          "output_type": "stream",
          "text": [
            "\r"
          ],
          "name": "stdout"
        },
        {
          "output_type": "display_data",
          "data": {
            "application/vnd.jupyter.widget-view+json": {
              "model_id": "4da4ed657d934af082cc4bebd62d47c6",
              "version_minor": 0,
              "version_major": 2
            },
            "text/plain": [
              "HBox(children=(FloatProgress(value=0.0, max=68.0), HTML(value='')))"
            ]
          },
          "metadata": {
            "tags": []
          }
        },
        {
          "output_type": "stream",
          "text": [
            "\r"
          ],
          "name": "stdout"
        },
        {
          "output_type": "display_data",
          "data": {
            "application/vnd.jupyter.widget-view+json": {
              "model_id": "2a426cb754664adda017a1e94a01ddbd",
              "version_minor": 0,
              "version_major": 2
            },
            "text/plain": [
              "HBox(children=(FloatProgress(value=0.0, max=68.0), HTML(value='')))"
            ]
          },
          "metadata": {
            "tags": []
          }
        },
        {
          "output_type": "stream",
          "text": [
            "\r"
          ],
          "name": "stdout"
        },
        {
          "output_type": "display_data",
          "data": {
            "application/vnd.jupyter.widget-view+json": {
              "model_id": "167f8d7438884b3bb44d07c17e7609e5",
              "version_minor": 0,
              "version_major": 2
            },
            "text/plain": [
              "HBox(children=(FloatProgress(value=0.0, max=68.0), HTML(value='')))"
            ]
          },
          "metadata": {
            "tags": []
          }
        },
        {
          "output_type": "stream",
          "text": [
            "\r"
          ],
          "name": "stdout"
        }
      ]
    },
    {
      "cell_type": "code",
      "metadata": {
        "id": "tUz_2E_4YdQ4"
      },
      "source": [
        "total_preds = {'hfhn_hfln':y_pred1, 'hfln_lfln':y_pred2, 'lfln_lfhn':y_pred3, 'lfhn_hfhn':y_pred4}\n",
        "total_preds_df =  pd.DataFrame(total_preds)\n",
        "total_preds_df['mean_score'] = pd.DataFrame(total_preds).mean(axis=1)\n",
        "total_preds_df['true'] = y_true1\n",
        "\n",
        "total_preds_df['username'] = test_df.username.tolist()\n",
        "total_preds_df['target'] = test_df.label.tolist()\n",
        "total_preds_df['type'] = test_df.type.tolist()\n",
        "\n",
        "total_preds_df['dist'] = np.abs(total_preds_df['true'] - total_preds_df['mean_score'])\n",
        "total_preds_df['decision_pred'] = 1*(total_preds_df['mean_score']>0.5) # simple decision boundary of >0.5"
      ],
      "execution_count": 59,
      "outputs": []
    },
    {
      "cell_type": "code",
      "metadata": {
        "id": "c1moSN9nlvbR"
      },
      "source": [
        "def get_evaluation_metric(y_true, y_pred, model_name):\n",
        "  f1 = f1_score(y_true, y_pred)\n",
        "  prec = precision_score(y_true, y_pred)\n",
        "  recall = recall_score(y_true, y_pred)\n",
        "  accuracy = accuracy_score(y_true, y_pred)\n",
        "\n",
        "  print(f'For {model_name} -- F1_score :{np.round(f1,3)}, precision :{np.round(prec,3)},  recall : {np.round(recall,3)}, accuracy : {np.round(accuracy,3)}')"
      ],
      "execution_count": 64,
      "outputs": []
    },
    {
      "cell_type": "code",
      "metadata": {
        "colab": {
          "base_uri": "https://localhost:8080/"
        },
        "id": "tM9twU9fCOhA",
        "outputId": "014cab09-b4b1-42d8-f6af-000fb658abd9"
      },
      "source": [
        "get_evaluation_metric(total_preds_df['hfhn_hfln'], y_true1, 'HFHN + HFLN')\n",
        "get_evaluation_metric(total_preds_df['hfln_lfln'], y_true1, 'HFLN + LFLN')\n",
        "get_evaluation_metric(total_preds_df['lfln_lfhn'], y_true1, 'LFLN + LFHN')\n",
        "get_evaluation_metric(total_preds_df['lfhn_hfhn'], y_true1, 'LFHN + HFHN')\n",
        "get_evaluation_metric(total_preds_df['decision_pred'],y_true1, 'Combined')"
      ],
      "execution_count": 67,
      "outputs": [
        {
          "output_type": "stream",
          "text": [
            "For HFHN + HFLN -- F1_score :0.721, precision :0.881,  recall : 0.611, accuracy : 0.644\n",
            "For HFLN + LFLN -- F1_score :0.713, precision :0.754,  recall : 0.677, accuracy : 0.683\n",
            "For LFLN + LFHN -- F1_score :0.687, precision :0.677,  recall : 0.697, accuracy : 0.678\n",
            "For LFHN + HFHN -- F1_score :0.728, precision :0.894,  recall : 0.614, accuracy : 0.651\n",
            "For Combined -- F1_score :0.716, precision :0.734,  recall : 0.699, accuracy : 0.696\n"
          ],
          "name": "stdout"
        }
      ]
    },
    {
      "cell_type": "markdown",
      "metadata": {
        "id": "wxxUarsvKjix"
      },
      "source": [
        "Best model is the combined one based on the accuracy."
      ]
    },
    {
      "cell_type": "code",
      "metadata": {
        "colab": {
          "base_uri": "https://localhost:8080/",
          "height": 460
        },
        "id": "Le78TmL8K3ni",
        "outputId": "363cb2cd-63cd-4045-d9a1-ef0cae0acd51"
      },
      "source": [
        "cnf_matrix = confusion_matrix(total_preds_df['decision_pred'], y_true1)\n",
        "plt.figure(figsize=(8,6))\n",
        "plot_confusion_matrix(cnf_matrix, classes=['Not Suicidal','Suicidal'],normalize=True,\n",
        "                      title='Combined Model Confusion Matrix')"
      ],
      "execution_count": 84,
      "outputs": [
        {
          "output_type": "display_data",
          "data": {
            "image/png": "[encoded data removed]",
            "text/plain": [
              "<Figure size 576x432 with 2 Axes>"
            ]
          },
          "metadata": {
            "tags": [],
            "needs_background": "light"
          }
        }
      ]
    },
    {
      "cell_type": "code",
      "metadata": {
        "id": "GFVVcMpqD9uF"
      },
      "source": [
        "# evaluate performcance based on group\n",
        "types = total_preds_df.groupby('type')    \n",
        "types = [types.get_group(x) for x in types.groups]"
      ],
      "execution_count": 72,
      "outputs": []
    },
    {
      "cell_type": "code",
      "metadata": {
        "colab": {
          "base_uri": "https://localhost:8080/",
          "height": 35
        },
        "id": "D45RXcFMEi6w",
        "outputId": "987b989b-19cd-4742-fdbd-ea5fd5a36d1c"
      },
      "source": [
        "types[0].iloc[0].type"
      ],
      "execution_count": 74,
      "outputs": [
        {
          "output_type": "execute_result",
          "data": {
            "application/vnd.google.colaboratory.intrinsic+json": {
              "type": "string"
            },
            "text/plain": [
              "'hfhn'"
            ]
          },
          "metadata": {
            "tags": []
          },
          "execution_count": 74
        }
      ]
    },
    {
      "cell_type": "code",
      "metadata": {
        "id": "sPxWHecrEUkr"
      },
      "source": [
        "def get_model_performances(df):\n",
        "  group = df.iloc[0].type\n",
        "\n",
        "  print(f'Geting predictions for group {group}')\n",
        "  \n",
        "  get_evaluation_metric(df['hfhn_hfln'], df['true'], 'HFHN + HFLN')\n",
        "  get_evaluation_metric(df['hfln_lfln'], df['true'], 'HFLN + LFLN')\n",
        "  get_evaluation_metric(df['lfln_lfhn'], df['true'], 'LFLN + LFHN')\n",
        "  get_evaluation_metric(df['lfhn_hfhn'], df['true'], 'LFHN + HFHN')\n",
        "  get_evaluation_metric(df['decision_pred'],df['true'], 'Combined')\n",
        "\n",
        "  print(\"-----------------------------------\")"
      ],
      "execution_count": 77,
      "outputs": []
    },
    {
      "cell_type": "code",
      "metadata": {
        "colab": {
          "base_uri": "https://localhost:8080/"
        },
        "id": "q-g68nF-EUnY",
        "outputId": "6118003f-357d-4a36-cfc0-48cada568783"
      },
      "source": [
        "for i in types:\n",
        "  get_model_performances(i)"
      ],
      "execution_count": 78,
      "outputs": [
        {
          "output_type": "stream",
          "text": [
            "Geting predictions for group hfhn\n",
            "For HFHN + HFLN -- F1_score :0.652, precision :0.67,  recall : 0.634, accuracy : 0.697\n",
            "For HFLN + LFLN -- F1_score :0.648, precision :0.701,  recall : 0.602, accuracy : 0.678\n",
            "For LFLN + LFHN -- F1_score :0.602, precision :0.541,  recall : 0.677, accuracy : 0.697\n",
            "For LFHN + HFHN -- F1_score :0.667, precision :0.722,  recall : 0.619, accuracy : 0.695\n",
            "For Combined -- F1_score :0.644, precision :0.588,  recall : 0.712, accuracy : 0.725\n",
            "-----------------------------------\n",
            "Geting predictions for group hfln\n",
            "For HFHN + HFLN -- F1_score :0.907, precision :1.0,  recall : 0.829, accuracy : 0.833\n",
            "For HFLN + LFLN -- F1_score :0.881, precision :0.868,  recall : 0.894, accuracy : 0.81\n",
            "For LFLN + LFHN -- F1_score :0.848, precision :0.824,  recall : 0.875, accuracy : 0.762\n",
            "For LFHN + HFHN -- F1_score :0.892, precision :0.971,  recall : 0.825, accuracy : 0.81\n",
            "For Combined -- F1_score :0.882, precision :0.882,  recall : 0.882, accuracy : 0.81\n",
            "-----------------------------------\n",
            "Geting predictions for group lfhn\n",
            "For HFHN + HFLN -- F1_score :0.571, precision :0.97,  recall : 0.405, accuracy : 0.435\n",
            "For HFLN + LFLN -- F1_score :0.684, precision :0.818,  recall : 0.587, accuracy : 0.706\n",
            "For LFLN + LFHN -- F1_score :0.59, precision :0.697,  recall : 0.511, accuracy : 0.624\n",
            "For LFHN + HFHN -- F1_score :0.577, precision :0.97,  recall : 0.41, accuracy : 0.447\n",
            "For Combined -- F1_score :0.635, precision :0.818,  recall : 0.519, accuracy : 0.635\n",
            "-----------------------------------\n",
            "Geting predictions for group lfln\n",
            "For HFHN + HFLN -- F1_score :0.745, precision :0.993,  recall : 0.596, accuracy : 0.595\n",
            "For HFLN + LFLN -- F1_score :0.726, precision :0.755,  recall : 0.7, accuracy : 0.662\n",
            "For LFLN + LFHN -- F1_score :0.716, precision :0.736,  recall : 0.697, accuracy : 0.653\n",
            "For LFHN + HFHN -- F1_score :0.754, precision :0.989,  recall : 0.609, accuracy : 0.615\n",
            "For Combined -- F1_score :0.733, precision :0.792,  recall : 0.683, accuracy : 0.657\n",
            "-----------------------------------\n"
          ],
          "name": "stdout"
        }
      ]
    },
    {
      "cell_type": "code",
      "metadata": {
        "colab": {
          "base_uri": "https://localhost:8080/",
          "height": 195
        },
        "id": "ChB5QtiOEUpx",
        "outputId": "b90a6e42-f177-4102-8872-6f13226dd583"
      },
      "source": [
        "test_df.groupby('type').count()"
      ],
      "execution_count": 89,
      "outputs": [
        {
          "output_type": "execute_result",
          "data": {
            "text/html": [
              "<div>\n",
              "<style scoped>\n",
              "    .dataframe tbody tr th:only-of-type {\n",
              "        vertical-align: middle;\n",
              "    }\n",
              "\n",
              "    .dataframe tbody tr th {\n",
              "        vertical-align: top;\n",
              "    }\n",
              "\n",
              "    .dataframe thead th {\n",
              "        text-align: right;\n",
              "    }\n",
              "</style>\n",
              "<table border=\"1\" class=\"dataframe\">\n",
              "  <thead>\n",
              "    <tr style=\"text-align: right;\">\n",
              "      <th></th>\n",
              "      <th>username</th>\n",
              "      <th>hist_dates</th>\n",
              "      <th>combined_text</th>\n",
              "      <th>enc</th>\n",
              "      <th>label</th>\n",
              "      <th>split</th>\n",
              "      <th>tf_score</th>\n",
              "      <th>total_score</th>\n",
              "    </tr>\n",
              "    <tr>\n",
              "      <th>type</th>\n",
              "      <th></th>\n",
              "      <th></th>\n",
              "      <th></th>\n",
              "      <th></th>\n",
              "      <th></th>\n",
              "      <th></th>\n",
              "      <th></th>\n",
              "      <th></th>\n",
              "    </tr>\n",
              "  </thead>\n",
              "  <tbody>\n",
              "    <tr>\n",
              "      <th>hfhn</th>\n",
              "      <td>459</td>\n",
              "      <td>459</td>\n",
              "      <td>459</td>\n",
              "      <td>459</td>\n",
              "      <td>459</td>\n",
              "      <td>459</td>\n",
              "      <td>459</td>\n",
              "      <td>459</td>\n",
              "    </tr>\n",
              "    <tr>\n",
              "      <th>hfln</th>\n",
              "      <td>84</td>\n",
              "      <td>84</td>\n",
              "      <td>84</td>\n",
              "      <td>84</td>\n",
              "      <td>84</td>\n",
              "      <td>84</td>\n",
              "      <td>84</td>\n",
              "      <td>84</td>\n",
              "    </tr>\n",
              "    <tr>\n",
              "      <th>lfhn</th>\n",
              "      <td>85</td>\n",
              "      <td>85</td>\n",
              "      <td>85</td>\n",
              "      <td>85</td>\n",
              "      <td>85</td>\n",
              "      <td>85</td>\n",
              "      <td>85</td>\n",
              "      <td>85</td>\n",
              "    </tr>\n",
              "    <tr>\n",
              "      <th>lfln</th>\n",
              "      <td>452</td>\n",
              "      <td>452</td>\n",
              "      <td>452</td>\n",
              "      <td>452</td>\n",
              "      <td>452</td>\n",
              "      <td>452</td>\n",
              "      <td>452</td>\n",
              "      <td>452</td>\n",
              "    </tr>\n",
              "  </tbody>\n",
              "</table>\n",
              "</div>"
            ],
            "text/plain": [
              "      username  hist_dates  combined_text  ...  split  tf_score  total_score\n",
              "type                                       ...                              \n",
              "hfhn       459         459            459  ...    459       459          459\n",
              "hfln        84          84             84  ...     84        84           84\n",
              "lfhn        85          85             85  ...     85        85           85\n",
              "lfln       452         452            452  ...    452       452          452\n",
              "\n",
              "[4 rows x 8 columns]"
            ]
          },
          "metadata": {
            "tags": []
          },
          "execution_count": 89
        }
      ]
    }
  ]
}
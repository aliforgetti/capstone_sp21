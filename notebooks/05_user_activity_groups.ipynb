{
  "nbformat": 4,
  "nbformat_minor": 0,
  "metadata": {
    "colab": {
      "name": "05_user_activity_groups.ipynb",
      "provenance": []
    },
    "kernelspec": {
      "name": "python3",
      "display_name": "Python 3"
    },
    "language_info": {
      "name": "python"
    },
    "widgets": {
      "application/vnd.jupyter.widget-state+json": {
        "8a4816880c6c4875854e0d4db66f7fa4": {
          "model_module": "@jupyter-widgets/controls",
          "model_name": "HBoxModel",
          "state": {
            "_view_name": "HBoxView",
            "_dom_classes": [],
            "_model_name": "HBoxModel",
            "_view_module": "@jupyter-widgets/controls",
            "_model_module_version": "1.5.0",
            "_view_count": null,
            "_view_module_version": "1.5.0",
            "box_style": "",
            "layout": "IPY_MODEL_6193bc263d524f09ac693e62a59cdc07",
            "_model_module": "@jupyter-widgets/controls",
            "children": [
              "IPY_MODEL_8c92defcefd34efaa0ecf806262905e5",
              "IPY_MODEL_091305cf1dc6479dbeaf3a038872e8c9"
            ]
          }
        },
        "6193bc263d524f09ac693e62a59cdc07": {
          "model_module": "@jupyter-widgets/base",
          "model_name": "LayoutModel",
          "state": {
            "_view_name": "LayoutView",
            "grid_template_rows": null,
            "right": null,
            "justify_content": null,
            "_view_module": "@jupyter-widgets/base",
            "overflow": null,
            "_model_module_version": "1.2.0",
            "_view_count": null,
            "flex_flow": null,
            "width": null,
            "min_width": null,
            "border": null,
            "align_items": null,
            "bottom": null,
            "_model_module": "@jupyter-widgets/base",
            "top": null,
            "grid_column": null,
            "overflow_y": null,
            "overflow_x": null,
            "grid_auto_flow": null,
            "grid_area": null,
            "grid_template_columns": null,
            "flex": null,
            "_model_name": "LayoutModel",
            "justify_items": null,
            "grid_row": null,
            "max_height": null,
            "align_content": null,
            "visibility": null,
            "align_self": null,
            "height": null,
            "min_height": null,
            "padding": null,
            "grid_auto_rows": null,
            "grid_gap": null,
            "max_width": null,
            "order": null,
            "_view_module_version": "1.2.0",
            "grid_template_areas": null,
            "object_position": null,
            "object_fit": null,
            "grid_auto_columns": null,
            "margin": null,
            "display": null,
            "left": null
          }
        },
        "8c92defcefd34efaa0ecf806262905e5": {
          "model_module": "@jupyter-widgets/controls",
          "model_name": "FloatProgressModel",
          "state": {
            "_view_name": "ProgressView",
            "style": "IPY_MODEL_baed8120778f4807aa5397c48b1be5ee",
            "_dom_classes": [],
            "description": "",
            "_model_name": "FloatProgressModel",
            "bar_style": "info",
            "max": 1,
            "_view_module": "@jupyter-widgets/controls",
            "_model_module_version": "1.5.0",
            "value": 0,
            "_view_count": null,
            "_view_module_version": "1.5.0",
            "orientation": "horizontal",
            "min": 0,
            "description_tooltip": null,
            "_model_module": "@jupyter-widgets/controls",
            "layout": "IPY_MODEL_2a0b0c0a600b413d9be4d0907b5731ba"
          }
        },
        "091305cf1dc6479dbeaf3a038872e8c9": {
          "model_module": "@jupyter-widgets/controls",
          "model_name": "HTMLModel",
          "state": {
            "_view_name": "HTMLView",
            "style": "IPY_MODEL_6fa286d6825f46a598c25866d65ffbb5",
            "_dom_classes": [],
            "description": "",
            "_model_name": "HTMLModel",
            "placeholder": "​",
            "_view_module": "@jupyter-widgets/controls",
            "_model_module_version": "1.5.0",
            "value": " 0/? [00:00&lt;?, ?it/s]",
            "_view_count": null,
            "_view_module_version": "1.5.0",
            "description_tooltip": null,
            "_model_module": "@jupyter-widgets/controls",
            "layout": "IPY_MODEL_c6df123c4a9e49b89d97af2bbc70ccd6"
          }
        },
        "baed8120778f4807aa5397c48b1be5ee": {
          "model_module": "@jupyter-widgets/controls",
          "model_name": "ProgressStyleModel",
          "state": {
            "_view_name": "StyleView",
            "_model_name": "ProgressStyleModel",
            "description_width": "initial",
            "_view_module": "@jupyter-widgets/base",
            "_model_module_version": "1.5.0",
            "_view_count": null,
            "_view_module_version": "1.2.0",
            "bar_color": null,
            "_model_module": "@jupyter-widgets/controls"
          }
        },
        "2a0b0c0a600b413d9be4d0907b5731ba": {
          "model_module": "@jupyter-widgets/base",
          "model_name": "LayoutModel",
          "state": {
            "_view_name": "LayoutView",
            "grid_template_rows": null,
            "right": null,
            "justify_content": null,
            "_view_module": "@jupyter-widgets/base",
            "overflow": null,
            "_model_module_version": "1.2.0",
            "_view_count": null,
            "flex_flow": null,
            "width": null,
            "min_width": null,
            "border": null,
            "align_items": null,
            "bottom": null,
            "_model_module": "@jupyter-widgets/base",
            "top": null,
            "grid_column": null,
            "overflow_y": null,
            "overflow_x": null,
            "grid_auto_flow": null,
            "grid_area": null,
            "grid_template_columns": null,
            "flex": null,
            "_model_name": "LayoutModel",
            "justify_items": null,
            "grid_row": null,
            "max_height": null,
            "align_content": null,
            "visibility": null,
            "align_self": null,
            "height": null,
            "min_height": null,
            "padding": null,
            "grid_auto_rows": null,
            "grid_gap": null,
            "max_width": null,
            "order": null,
            "_view_module_version": "1.2.0",
            "grid_template_areas": null,
            "object_position": null,
            "object_fit": null,
            "grid_auto_columns": null,
            "margin": null,
            "display": null,
            "left": null
          }
        },
        "6fa286d6825f46a598c25866d65ffbb5": {
          "model_module": "@jupyter-widgets/controls",
          "model_name": "DescriptionStyleModel",
          "state": {
            "_view_name": "StyleView",
            "_model_name": "DescriptionStyleModel",
            "description_width": "",
            "_view_module": "@jupyter-widgets/base",
            "_model_module_version": "1.5.0",
            "_view_count": null,
            "_view_module_version": "1.2.0",
            "_model_module": "@jupyter-widgets/controls"
          }
        },
        "c6df123c4a9e49b89d97af2bbc70ccd6": {
          "model_module": "@jupyter-widgets/base",
          "model_name": "LayoutModel",
          "state": {
            "_view_name": "LayoutView",
            "grid_template_rows": null,
            "right": null,
            "justify_content": null,
            "_view_module": "@jupyter-widgets/base",
            "overflow": null,
            "_model_module_version": "1.2.0",
            "_view_count": null,
            "flex_flow": null,
            "width": null,
            "min_width": null,
            "border": null,
            "align_items": null,
            "bottom": null,
            "_model_module": "@jupyter-widgets/base",
            "top": null,
            "grid_column": null,
            "overflow_y": null,
            "overflow_x": null,
            "grid_auto_flow": null,
            "grid_area": null,
            "grid_template_columns": null,
            "flex": null,
            "_model_name": "LayoutModel",
            "justify_items": null,
            "grid_row": null,
            "max_height": null,
            "align_content": null,
            "visibility": null,
            "align_self": null,
            "height": null,
            "min_height": null,
            "padding": null,
            "grid_auto_rows": null,
            "grid_gap": null,
            "max_width": null,
            "order": null,
            "_view_module_version": "1.2.0",
            "grid_template_areas": null,
            "object_position": null,
            "object_fit": null,
            "grid_auto_columns": null,
            "margin": null,
            "display": null,
            "left": null
          }
        },
        "4d0ef028a8724c12ac9de751fe9e4b36": {
          "model_module": "@jupyter-widgets/controls",
          "model_name": "HBoxModel",
          "state": {
            "_view_name": "HBoxView",
            "_dom_classes": [],
            "_model_name": "HBoxModel",
            "_view_module": "@jupyter-widgets/controls",
            "_model_module_version": "1.5.0",
            "_view_count": null,
            "_view_module_version": "1.5.0",
            "box_style": "",
            "layout": "IPY_MODEL_212679c841ac4c9ab2461011783df294",
            "_model_module": "@jupyter-widgets/controls",
            "children": [
              "IPY_MODEL_1a13f1ffdc5349d9a76068e44c2ed5d8",
              "IPY_MODEL_fdda5f2fabf74ef3813db06a39c27a38"
            ]
          }
        },
        "212679c841ac4c9ab2461011783df294": {
          "model_module": "@jupyter-widgets/base",
          "model_name": "LayoutModel",
          "state": {
            "_view_name": "LayoutView",
            "grid_template_rows": null,
            "right": null,
            "justify_content": null,
            "_view_module": "@jupyter-widgets/base",
            "overflow": null,
            "_model_module_version": "1.2.0",
            "_view_count": null,
            "flex_flow": null,
            "width": null,
            "min_width": null,
            "border": null,
            "align_items": null,
            "bottom": null,
            "_model_module": "@jupyter-widgets/base",
            "top": null,
            "grid_column": null,
            "overflow_y": null,
            "overflow_x": null,
            "grid_auto_flow": null,
            "grid_area": null,
            "grid_template_columns": null,
            "flex": null,
            "_model_name": "LayoutModel",
            "justify_items": null,
            "grid_row": null,
            "max_height": null,
            "align_content": null,
            "visibility": null,
            "align_self": null,
            "height": null,
            "min_height": null,
            "padding": null,
            "grid_auto_rows": null,
            "grid_gap": null,
            "max_width": null,
            "order": null,
            "_view_module_version": "1.2.0",
            "grid_template_areas": null,
            "object_position": null,
            "object_fit": null,
            "grid_auto_columns": null,
            "margin": null,
            "display": null,
            "left": null
          }
        },
        "1a13f1ffdc5349d9a76068e44c2ed5d8": {
          "model_module": "@jupyter-widgets/controls",
          "model_name": "FloatProgressModel",
          "state": {
            "_view_name": "ProgressView",
            "style": "IPY_MODEL_0f16190cef26499ea08421006d94ac48",
            "_dom_classes": [],
            "description": "100%",
            "_model_name": "FloatProgressModel",
            "bar_style": "success",
            "max": 10056,
            "_view_module": "@jupyter-widgets/controls",
            "_model_module_version": "1.5.0",
            "value": 10056,
            "_view_count": null,
            "_view_module_version": "1.5.0",
            "orientation": "horizontal",
            "min": 0,
            "description_tooltip": null,
            "_model_module": "@jupyter-widgets/controls",
            "layout": "IPY_MODEL_2c0262e9fea24da2b1b11f227f28745c"
          }
        },
        "fdda5f2fabf74ef3813db06a39c27a38": {
          "model_module": "@jupyter-widgets/controls",
          "model_name": "HTMLModel",
          "state": {
            "_view_name": "HTMLView",
            "style": "IPY_MODEL_abb25e779792418ebe3fbbd6b2d1d2a4",
            "_dom_classes": [],
            "description": "",
            "_model_name": "HTMLModel",
            "placeholder": "​",
            "_view_module": "@jupyter-widgets/controls",
            "_model_module_version": "1.5.0",
            "value": " 10056/10056 [00:32&lt;00:00, 311.37it/s]",
            "_view_count": null,
            "_view_module_version": "1.5.0",
            "description_tooltip": null,
            "_model_module": "@jupyter-widgets/controls",
            "layout": "IPY_MODEL_c50ad8ca570949d8a0d6c313761ff43f"
          }
        },
        "0f16190cef26499ea08421006d94ac48": {
          "model_module": "@jupyter-widgets/controls",
          "model_name": "ProgressStyleModel",
          "state": {
            "_view_name": "StyleView",
            "_model_name": "ProgressStyleModel",
            "description_width": "initial",
            "_view_module": "@jupyter-widgets/base",
            "_model_module_version": "1.5.0",
            "_view_count": null,
            "_view_module_version": "1.2.0",
            "bar_color": null,
            "_model_module": "@jupyter-widgets/controls"
          }
        },
        "2c0262e9fea24da2b1b11f227f28745c": {
          "model_module": "@jupyter-widgets/base",
          "model_name": "LayoutModel",
          "state": {
            "_view_name": "LayoutView",
            "grid_template_rows": null,
            "right": null,
            "justify_content": null,
            "_view_module": "@jupyter-widgets/base",
            "overflow": null,
            "_model_module_version": "1.2.0",
            "_view_count": null,
            "flex_flow": null,
            "width": null,
            "min_width": null,
            "border": null,
            "align_items": null,
            "bottom": null,
            "_model_module": "@jupyter-widgets/base",
            "top": null,
            "grid_column": null,
            "overflow_y": null,
            "overflow_x": null,
            "grid_auto_flow": null,
            "grid_area": null,
            "grid_template_columns": null,
            "flex": null,
            "_model_name": "LayoutModel",
            "justify_items": null,
            "grid_row": null,
            "max_height": null,
            "align_content": null,
            "visibility": null,
            "align_self": null,
            "height": null,
            "min_height": null,
            "padding": null,
            "grid_auto_rows": null,
            "grid_gap": null,
            "max_width": null,
            "order": null,
            "_view_module_version": "1.2.0",
            "grid_template_areas": null,
            "object_position": null,
            "object_fit": null,
            "grid_auto_columns": null,
            "margin": null,
            "display": null,
            "left": null
          }
        },
        "abb25e779792418ebe3fbbd6b2d1d2a4": {
          "model_module": "@jupyter-widgets/controls",
          "model_name": "DescriptionStyleModel",
          "state": {
            "_view_name": "StyleView",
            "_model_name": "DescriptionStyleModel",
            "description_width": "",
            "_view_module": "@jupyter-widgets/base",
            "_model_module_version": "1.5.0",
            "_view_count": null,
            "_view_module_version": "1.2.0",
            "_model_module": "@jupyter-widgets/controls"
          }
        },
        "c50ad8ca570949d8a0d6c313761ff43f": {
          "model_module": "@jupyter-widgets/base",
          "model_name": "LayoutModel",
          "state": {
            "_view_name": "LayoutView",
            "grid_template_rows": null,
            "right": null,
            "justify_content": null,
            "_view_module": "@jupyter-widgets/base",
            "overflow": null,
            "_model_module_version": "1.2.0",
            "_view_count": null,
            "flex_flow": null,
            "width": null,
            "min_width": null,
            "border": null,
            "align_items": null,
            "bottom": null,
            "_model_module": "@jupyter-widgets/base",
            "top": null,
            "grid_column": null,
            "overflow_y": null,
            "overflow_x": null,
            "grid_auto_flow": null,
            "grid_area": null,
            "grid_template_columns": null,
            "flex": null,
            "_model_name": "LayoutModel",
            "justify_items": null,
            "grid_row": null,
            "max_height": null,
            "align_content": null,
            "visibility": null,
            "align_self": null,
            "height": null,
            "min_height": null,
            "padding": null,
            "grid_auto_rows": null,
            "grid_gap": null,
            "max_width": null,
            "order": null,
            "_view_module_version": "1.2.0",
            "grid_template_areas": null,
            "object_position": null,
            "object_fit": null,
            "grid_auto_columns": null,
            "margin": null,
            "display": null,
            "left": null
          }
        }
      }
    }
  },
  "cells": [
    {
      "cell_type": "code",
      "metadata": {
        "colab": {
          "base_uri": "https://localhost:8080/"
        },
        "id": "DugvaeNpm0fx",
        "outputId": "c1b6d4ef-b114-4ec9-a4f8-dbcff56bd63e"
      },
      "source": [
        "from google.colab import drive\n",
        "drive.mount('/content/gdrive')\n",
        "%cd gdrive/MyDrive/Capstone/"
      ],
      "execution_count": null,
      "outputs": [
        {
          "output_type": "stream",
          "text": [
            "Mounted at /content/gdrive\n",
            "/content/gdrive/MyDrive/Capstone\n"
          ],
          "name": "stdout"
        }
      ]
    },
    {
      "cell_type": "code",
      "metadata": {
        "id": "2SAx5-tmnZqr"
      },
      "source": [
        "import numpy as np\n",
        "import pandas as pd\n",
        "import matplotlib.pyplot as plt\n",
        "\n",
        "import random"
      ],
      "execution_count": null,
      "outputs": []
    },
    {
      "cell_type": "code",
      "metadata": {
        "colab": {
          "base_uri": "https://localhost:8080/",
          "height": 134,
          "referenced_widgets": [
            "8a4816880c6c4875854e0d4db66f7fa4",
            "6193bc263d524f09ac693e62a59cdc07",
            "8c92defcefd34efaa0ecf806262905e5",
            "091305cf1dc6479dbeaf3a038872e8c9",
            "baed8120778f4807aa5397c48b1be5ee",
            "2a0b0c0a600b413d9be4d0907b5731ba",
            "6fa286d6825f46a598c25866d65ffbb5",
            "c6df123c4a9e49b89d97af2bbc70ccd6"
          ]
        },
        "id": "RqvmL_oXroG5",
        "outputId": "a48a0888-4669-4baf-c8d6-c1276628529e"
      },
      "source": [
        "# other\n",
        "from tqdm import tqdm, tqdm_notebook, tqdm_pandas\n",
        "\n",
        "tqdm.pandas()\n",
        "tqdm_notebook().pandas()"
      ],
      "execution_count": null,
      "outputs": [
        {
          "output_type": "stream",
          "text": [
            "/usr/local/lib/python3.7/dist-packages/tqdm/std.py:658: FutureWarning: The Panel class is removed from pandas. Accessing it from the top-level namespace will also be removed in the next version\n",
            "  from pandas import Panel\n",
            "/usr/local/lib/python3.7/dist-packages/ipykernel_launcher.py:5: TqdmDeprecationWarning: This function will be removed in tqdm==5.0.0\n",
            "Please use `tqdm.notebook.tqdm` instead of `tqdm.tqdm_notebook`\n",
            "  \"\"\"\n"
          ],
          "name": "stderr"
        },
        {
          "output_type": "display_data",
          "data": {
            "application/vnd.jupyter.widget-view+json": {
              "model_id": "8a4816880c6c4875854e0d4db66f7fa4",
              "version_minor": 0,
              "version_major": 2
            },
            "text/plain": [
              "HBox(children=(FloatProgress(value=1.0, bar_style='info', max=1.0), HTML(value='')))"
            ]
          },
          "metadata": {
            "tags": []
          }
        }
      ]
    },
    {
      "cell_type": "code",
      "metadata": {
        "id": "el7SXSh1nBfl"
      },
      "source": [
        "total_df = pd.read_csv('data/total_df.csv', low_memory = False)"
      ],
      "execution_count": null,
      "outputs": []
    },
    {
      "cell_type": "markdown",
      "metadata": {
        "id": "bPEevUvjjuPr"
      },
      "source": [
        "## User Posting Sequence\n"
      ]
    },
    {
      "cell_type": "code",
      "metadata": {
        "id": "1NS1E8-Ij1dz"
      },
      "source": [
        "label1_users = total_df[total_df['target']==1].username.unique().tolist()\n",
        "label0_users = total_df[total_df['target']==0].username.unique().tolist()"
      ],
      "execution_count": null,
      "outputs": []
    },
    {
      "cell_type": "code",
      "metadata": {
        "id": "pXjCq9A5oUiG"
      },
      "source": [
        "label1_users = total_df[total_df['target']==1].username.unique().tolist()\n",
        "sample_user = random.sample(label1_users,1)[0]"
      ],
      "execution_count": null,
      "outputs": []
    },
    {
      "cell_type": "code",
      "metadata": {
        "colab": {
          "base_uri": "https://localhost:8080/",
          "height": 244
        },
        "id": "8-AzLgADoYEA",
        "outputId": "f9eda5d7-6d11-4b80-d210-990de87ba8e5"
      },
      "source": [
        "total_df[(total_df['username']==sample_user)&(total_df['type']==0)].head(3)"
      ],
      "execution_count": null,
      "outputs": [
        {
          "output_type": "execute_result",
          "data": {
            "text/html": [
              "<div>\n",
              "<style scoped>\n",
              "    .dataframe tbody tr th:only-of-type {\n",
              "        vertical-align: middle;\n",
              "    }\n",
              "\n",
              "    .dataframe tbody tr th {\n",
              "        vertical-align: top;\n",
              "    }\n",
              "\n",
              "    .dataframe thead th {\n",
              "        text-align: right;\n",
              "    }\n",
              "</style>\n",
              "<table border=\"1\" class=\"dataframe\">\n",
              "  <thead>\n",
              "    <tr style=\"text-align: right;\">\n",
              "      <th></th>\n",
              "      <th>username</th>\n",
              "      <th>type</th>\n",
              "      <th>subreddit</th>\n",
              "      <th>date</th>\n",
              "      <th>text</th>\n",
              "      <th>ups</th>\n",
              "      <th>downs</th>\n",
              "      <th>num_response</th>\n",
              "      <th>target</th>\n",
              "      <th>first_sw_post</th>\n",
              "      <th>word_count</th>\n",
              "      <th>sent_count</th>\n",
              "      <th>last_active_date</th>\n",
              "      <th>first_active_date</th>\n",
              "      <th>dtl</th>\n",
              "      <th>num_activity</th>\n",
              "    </tr>\n",
              "  </thead>\n",
              "  <tbody>\n",
              "    <tr>\n",
              "      <th>2005354</th>\n",
              "      <td>cvegee</td>\n",
              "      <td>0</td>\n",
              "      <td>relationship_advice</td>\n",
              "      <td>2020-08-15 04:24:10</td>\n",
              "      <td>Youre so right, Im attracted to unhealthy rela...</td>\n",
              "      <td>2</td>\n",
              "      <td>0</td>\n",
              "      <td>0</td>\n",
              "      <td>1</td>\n",
              "      <td>2020-08-31 05:03:22</td>\n",
              "      <td>19</td>\n",
              "      <td>1</td>\n",
              "      <td>2020-08-31 05:03:22</td>\n",
              "      <td>2018-11-01 12:47:08</td>\n",
              "      <td>16.0</td>\n",
              "      <td>40</td>\n",
              "    </tr>\n",
              "    <tr>\n",
              "      <th>2005355</th>\n",
              "      <td>cvegee</td>\n",
              "      <td>0</td>\n",
              "      <td>relationship_advice</td>\n",
              "      <td>2020-08-15 04:23:29</td>\n",
              "      <td>Im starting to see the light, all of the say n...</td>\n",
              "      <td>4</td>\n",
              "      <td>0</td>\n",
              "      <td>0</td>\n",
              "      <td>1</td>\n",
              "      <td>2020-08-31 05:03:22</td>\n",
              "      <td>13</td>\n",
              "      <td>1</td>\n",
              "      <td>2020-08-31 05:03:22</td>\n",
              "      <td>2018-11-01 12:47:08</td>\n",
              "      <td>16.0</td>\n",
              "      <td>40</td>\n",
              "    </tr>\n",
              "    <tr>\n",
              "      <th>2005356</th>\n",
              "      <td>cvegee</td>\n",
              "      <td>0</td>\n",
              "      <td>relationship_advice</td>\n",
              "      <td>2020-08-15 04:05:57</td>\n",
              "      <td>Fair, I like that response. I dont want to fal...</td>\n",
              "      <td>1</td>\n",
              "      <td>0</td>\n",
              "      <td>0</td>\n",
              "      <td>1</td>\n",
              "      <td>2020-08-31 05:03:22</td>\n",
              "      <td>16</td>\n",
              "      <td>3</td>\n",
              "      <td>2020-08-31 05:03:22</td>\n",
              "      <td>2018-11-01 12:47:08</td>\n",
              "      <td>16.0</td>\n",
              "      <td>40</td>\n",
              "    </tr>\n",
              "  </tbody>\n",
              "</table>\n",
              "</div>"
            ],
            "text/plain": [
              "        username  type  ...   dtl num_activity\n",
              "2005354   cvegee     0  ...  16.0           40\n",
              "2005355   cvegee     0  ...  16.0           40\n",
              "2005356   cvegee     0  ...  16.0           40\n",
              "\n",
              "[3 rows x 16 columns]"
            ]
          },
          "metadata": {
            "tags": []
          },
          "execution_count": 42
        }
      ]
    },
    {
      "cell_type": "markdown",
      "metadata": {
        "id": "4ydC6eWOlYyK"
      },
      "source": [
        "## Type of User Based on Posting Frequency and Number of Posts"
      ]
    },
    {
      "cell_type": "code",
      "metadata": {
        "id": "uZRwHQg8ohhI"
      },
      "source": [
        "total_df['date'] = pd.to_datetime(total_df['date'], infer_datetime_format=True)\n",
        "user_labels = total_df.groupby('username').target.first().reset_index()\n",
        "total_df = total_df.sort_values(['username','date'], ascending=False)\n",
        "user_num_activity = total_df.groupby('username')['type'].count().reset_index(name = 'num_activity')\n",
        "total_df = total_df.merge(user_num_activity, on = 'username')\n",
        "user_group_dates = total_df.groupby('username')['date'].apply(list).reset_index(name = 'dates')"
      ],
      "execution_count": null,
      "outputs": []
    },
    {
      "cell_type": "code",
      "metadata": {
        "id": "Y02kiBNsp4yg"
      },
      "source": [
        "def get_mean_days_diff(datelist):\n",
        "\n",
        "  diff_days = []\n",
        "\n",
        "  for i in range(len(datelist)-1):\n",
        "    date1 = datelist[i]\n",
        "    date2 = datelist[i+1]\n",
        "\n",
        "    diff_days.append((date1-date2).days)\n",
        "  \n",
        "  return np.mean(diff_days)"
      ],
      "execution_count": null,
      "outputs": []
    },
    {
      "cell_type": "code",
      "metadata": {
        "colab": {
          "base_uri": "https://localhost:8080/",
          "height": 66,
          "referenced_widgets": [
            "4d0ef028a8724c12ac9de751fe9e4b36",
            "212679c841ac4c9ab2461011783df294",
            "1a13f1ffdc5349d9a76068e44c2ed5d8",
            "fdda5f2fabf74ef3813db06a39c27a38",
            "0f16190cef26499ea08421006d94ac48",
            "2c0262e9fea24da2b1b11f227f28745c",
            "abb25e779792418ebe3fbbd6b2d1d2a4",
            "c50ad8ca570949d8a0d6c313761ff43f"
          ]
        },
        "id": "sRpIPUHDocuL",
        "outputId": "0fb7f95f-a593-49b0-babe-da4f5d6a08a2"
      },
      "source": [
        "user_group_dates['mean_days_diff'] = user_group_dates['dates'].progress_apply(get_mean_days_diff)"
      ],
      "execution_count": null,
      "outputs": [
        {
          "output_type": "display_data",
          "data": {
            "application/vnd.jupyter.widget-view+json": {
              "model_id": "4d0ef028a8724c12ac9de751fe9e4b36",
              "version_minor": 0,
              "version_major": 2
            },
            "text/plain": [
              "HBox(children=(FloatProgress(value=0.0, max=10056.0), HTML(value='')))"
            ]
          },
          "metadata": {
            "tags": []
          }
        },
        {
          "output_type": "stream",
          "text": [
            "\n"
          ],
          "name": "stdout"
        }
      ]
    },
    {
      "cell_type": "code",
      "metadata": {
        "id": "Jr0lxSIpr0G8"
      },
      "source": [
        "user_activity_stats = user_group_dates.merge(user_num_activity, on = 'username').merge(user_labels, on = 'username')"
      ],
      "execution_count": null,
      "outputs": []
    },
    {
      "cell_type": "code",
      "metadata": {
        "colab": {
          "base_uri": "https://localhost:8080/",
          "height": 282
        },
        "id": "JqAxjklzr6_w",
        "outputId": "e0eef6f9-e27b-427e-d38a-93073eab123d"
      },
      "source": [
        "user_activity_stats.mean_days_diff.hist(bins = 50, log = True)"
      ],
      "execution_count": null,
      "outputs": [
        {
          "output_type": "execute_result",
          "data": {
            "text/plain": [
              "<matplotlib.axes._subplots.AxesSubplot at 0x7f762983c590>"
            ]
          },
          "metadata": {
            "tags": []
          },
          "execution_count": 120
        },
        {
          "output_type": "display_data",
          "data": {
            "image/png": "[encoded data removed]",
            "text/plain": [
              "<Figure size 432x288 with 1 Axes>"
            ]
          },
          "metadata": {
            "tags": [],
            "needs_background": "light"
          }
        }
      ]
    },
    {
      "cell_type": "code",
      "metadata": {
        "colab": {
          "base_uri": "https://localhost:8080/",
          "height": 282
        },
        "id": "1zD5FX9nsNTC",
        "outputId": "d4eca40d-f5a6-48c7-84d2-7e9fac6b976f"
      },
      "source": [
        "user_activity_stats.num_activity.hist(bins = 50, log = True)"
      ],
      "execution_count": null,
      "outputs": [
        {
          "output_type": "execute_result",
          "data": {
            "text/plain": [
              "<matplotlib.axes._subplots.AxesSubplot at 0x7f759c1765d0>"
            ]
          },
          "metadata": {
            "tags": []
          },
          "execution_count": 121
        },
        {
          "output_type": "display_data",
          "data": {
            "image/png": "[encoded data removed]",
            "text/plain": [
              "<Figure size 432x288 with 1 Axes>"
            ]
          },
          "metadata": {
            "tags": [],
            "needs_background": "light"
          }
        }
      ]
    },
    {
      "cell_type": "code",
      "metadata": {
        "colab": {
          "base_uri": "https://localhost:8080/",
          "height": 359
        },
        "id": "Bd1YL9BTskll",
        "outputId": "2fe27b8d-760c-4bc3-f20a-949ef272450a"
      },
      "source": [
        "display(user_activity_stats.num_activity.describe(),'','', user_activity_stats.mean_days_diff.describe())"
      ],
      "execution_count": null,
      "outputs": [
        {
          "output_type": "display_data",
          "data": {
            "text/plain": [
              "count    10056.000000\n",
              "mean       296.917363\n",
              "std        307.085566\n",
              "min         11.000000\n",
              "25%         66.000000\n",
              "50%        174.000000\n",
              "75%        428.000000\n",
              "max       1829.000000\n",
              "Name: num_activity, dtype: float64"
            ]
          },
          "metadata": {
            "tags": []
          }
        },
        {
          "output_type": "display_data",
          "data": {
            "application/vnd.google.colaboratory.intrinsic+json": {
              "type": "string"
            },
            "text/plain": [
              "''"
            ]
          },
          "metadata": {
            "tags": []
          }
        },
        {
          "output_type": "display_data",
          "data": {
            "application/vnd.google.colaboratory.intrinsic+json": {
              "type": "string"
            },
            "text/plain": [
              "''"
            ]
          },
          "metadata": {
            "tags": []
          }
        },
        {
          "output_type": "display_data",
          "data": {
            "text/plain": [
              "count    10056.000000\n",
              "mean         6.595300\n",
              "std          9.232089\n",
              "min          0.000000\n",
              "25%          1.112901\n",
              "50%          2.943917\n",
              "75%          7.782153\n",
              "max         71.000000\n",
              "Name: mean_days_diff, dtype: float64"
            ]
          },
          "metadata": {
            "tags": []
          }
        }
      ]
    },
    {
      "cell_type": "code",
      "metadata": {
        "colab": {
          "base_uri": "https://localhost:8080/",
          "height": 282
        },
        "id": "iLr8fSEluNfM",
        "outputId": "2d631fca-9fbb-41fd-ccef-c5403c7803b4"
      },
      "source": [
        "plt.scatter(user_activity_stats['mean_days_diff'],user_activity_stats['num_activity'])"
      ],
      "execution_count": null,
      "outputs": [
        {
          "output_type": "execute_result",
          "data": {
            "text/plain": [
              "<matplotlib.collections.PathCollection at 0x7f761f3bc7d0>"
            ]
          },
          "metadata": {
            "tags": []
          },
          "execution_count": 123
        },
        {
          "output_type": "display_data",
          "data": {
            "image/png": "[encoded data removed]",
            "text/plain": [
              "<Figure size 432x288 with 1 Axes>"
            ]
          },
          "metadata": {
            "tags": [],
            "needs_background": "light"
          }
        }
      ]
    },
    {
      "cell_type": "code",
      "metadata": {
        "id": "E5GFvxmTs47b"
      },
      "source": [
        "# four different types of users\n",
        "# high frequency (days between posts is low) low number of posts\n",
        "hfln = user_activity_stats[(user_activity_stats['num_activity']<174) & (user_activity_stats['mean_days_diff']<2.943917)]\n",
        "# high frequency (days between posts is low) high number of posts\n",
        "hfhn = user_activity_stats[(user_activity_stats['num_activity']>174) & (user_activity_stats['mean_days_diff']<2.943917)]\n",
        "# low frequency (days between posts is high) high number of posts\n",
        "lfln = user_activity_stats[(user_activity_stats['num_activity']<174) & (user_activity_stats['mean_days_diff']>2.943917)]\n",
        "# low frequency (days between posts is high) high number of posts\n",
        "lfhn = user_activity_stats[(user_activity_stats['num_activity']>174) & (user_activity_stats['mean_days_diff']>2.943917)]"
      ],
      "execution_count": null,
      "outputs": []
    },
    {
      "cell_type": "code",
      "metadata": {
        "colab": {
          "base_uri": "https://localhost:8080/",
          "height": 85
        },
        "id": "PL9AHDLBocxg",
        "outputId": "23e035dc-4b9f-4b42-aa9f-afb473132905"
      },
      "source": [
        "display(hfln.shape, hfhn.shape, lfln.shape, lfhn.shape)"
      ],
      "execution_count": null,
      "outputs": [
        {
          "output_type": "display_data",
          "data": {
            "text/plain": [
              "(420, 5)"
            ]
          },
          "metadata": {
            "tags": []
          }
        },
        {
          "output_type": "display_data",
          "data": {
            "text/plain": [
              "(4604, 5)"
            ]
          },
          "metadata": {
            "tags": []
          }
        },
        {
          "output_type": "display_data",
          "data": {
            "text/plain": [
              "(4595, 5)"
            ]
          },
          "metadata": {
            "tags": []
          }
        },
        {
          "output_type": "display_data",
          "data": {
            "text/plain": [
              "(423, 5)"
            ]
          },
          "metadata": {
            "tags": []
          }
        }
      ]
    },
    {
      "cell_type": "code",
      "metadata": {
        "colab": {
          "base_uri": "https://localhost:8080/",
          "height": 221
        },
        "id": "G4o54OEwxoXZ",
        "outputId": "7c97d1be-a513-48fe-e183-6159f6583194"
      },
      "source": [
        "display(hfln.target.value_counts(), hfhn.target.value_counts(), lfln.target.value_counts(), lfhn.target.value_counts())"
      ],
      "execution_count": null,
      "outputs": [
        {
          "output_type": "display_data",
          "data": {
            "text/plain": [
              "1    317\n",
              "0    103\n",
              "Name: target, dtype: int64"
            ]
          },
          "metadata": {
            "tags": []
          }
        },
        {
          "output_type": "display_data",
          "data": {
            "text/plain": [
              "0    2557\n",
              "1    2047\n",
              "Name: target, dtype: int64"
            ]
          },
          "metadata": {
            "tags": []
          }
        },
        {
          "output_type": "display_data",
          "data": {
            "text/plain": [
              "1    2550\n",
              "0    2045\n",
              "Name: target, dtype: int64"
            ]
          },
          "metadata": {
            "tags": []
          }
        },
        {
          "output_type": "display_data",
          "data": {
            "text/plain": [
              "0    266\n",
              "1    157\n",
              "Name: target, dtype: int64"
            ]
          },
          "metadata": {
            "tags": []
          }
        }
      ]
    },
    {
      "cell_type": "code",
      "metadata": {
        "id": "vlDXKFYVoc2g"
      },
      "source": [
        "hfln.to_csv('hfln.csv', index=False)\n",
        "hfhn.to_csv('hfhn.csv', index=False)\n",
        "lfln.to_csv('lfln.csv', index=False)\n",
        "lfhn.to_csv('lfhn.csv', index=False)"
      ],
      "execution_count": null,
      "outputs": []
    },
    {
      "cell_type": "markdown",
      "metadata": {
        "id": "2iMfy9w1lkKY"
      },
      "source": [
        "## Type of User Based on Posting History on Mental Health Subreddits\n",
        "- Refining the subreddits to look into first. "
      ]
    },
    {
      "cell_type": "code",
      "metadata": {
        "id": "-HDav3DVlosW"
      },
      "source": [
        "metadata_count = total_df.groupby('subreddit').username.nunique().reset_index(name ='nunique')"
      ],
      "execution_count": null,
      "outputs": []
    },
    {
      "cell_type": "code",
      "metadata": {
        "colab": {
          "base_uri": "https://localhost:8080/",
          "height": 419
        },
        "id": "LugnanL5b4zq",
        "outputId": "86efc7fd-74f7-4b2c-ccfa-d8f42f852a4f"
      },
      "source": [
        "metadata_count"
      ],
      "execution_count": null,
      "outputs": [
        {
          "output_type": "execute_result",
          "data": {
            "text/html": [
              "<div>\n",
              "<style scoped>\n",
              "    .dataframe tbody tr th:only-of-type {\n",
              "        vertical-align: middle;\n",
              "    }\n",
              "\n",
              "    .dataframe tbody tr th {\n",
              "        vertical-align: top;\n",
              "    }\n",
              "\n",
              "    .dataframe thead th {\n",
              "        text-align: right;\n",
              "    }\n",
              "</style>\n",
              "<table border=\"1\" class=\"dataframe\">\n",
              "  <thead>\n",
              "    <tr style=\"text-align: right;\">\n",
              "      <th></th>\n",
              "      <th>subreddit</th>\n",
              "      <th>nunique</th>\n",
              "    </tr>\n",
              "  </thead>\n",
              "  <tbody>\n",
              "    <tr>\n",
              "      <th>0</th>\n",
              "      <td>00snostalgia</td>\n",
              "      <td>2</td>\n",
              "    </tr>\n",
              "    <tr>\n",
              "      <th>1</th>\n",
              "      <td>070Shake</td>\n",
              "      <td>1</td>\n",
              "    </tr>\n",
              "    <tr>\n",
              "      <th>2</th>\n",
              "      <td>0ad</td>\n",
              "      <td>1</td>\n",
              "    </tr>\n",
              "    <tr>\n",
              "      <th>3</th>\n",
              "      <td>0sanitymemes</td>\n",
              "      <td>2</td>\n",
              "    </tr>\n",
              "    <tr>\n",
              "      <th>4</th>\n",
              "      <td>0ug</td>\n",
              "      <td>1</td>\n",
              "    </tr>\n",
              "    <tr>\n",
              "      <th>...</th>\n",
              "      <td>...</td>\n",
              "      <td>...</td>\n",
              "    </tr>\n",
              "    <tr>\n",
              "      <th>39316</th>\n",
              "      <td>zurich</td>\n",
              "      <td>1</td>\n",
              "    </tr>\n",
              "    <tr>\n",
              "      <th>39317</th>\n",
              "      <td>zx6r</td>\n",
              "      <td>1</td>\n",
              "    </tr>\n",
              "    <tr>\n",
              "      <th>39318</th>\n",
              "      <td>zyn</td>\n",
              "      <td>1</td>\n",
              "    </tr>\n",
              "    <tr>\n",
              "      <th>39319</th>\n",
              "      <td>zyramains</td>\n",
              "      <td>4</td>\n",
              "    </tr>\n",
              "    <tr>\n",
              "      <th>39320</th>\n",
              "      <td>zyzz</td>\n",
              "      <td>2</td>\n",
              "    </tr>\n",
              "  </tbody>\n",
              "</table>\n",
              "<p>39321 rows × 2 columns</p>\n",
              "</div>"
            ],
            "text/plain": [
              "          subreddit  nunique\n",
              "0      00snostalgia        2\n",
              "1          070Shake        1\n",
              "2               0ad        1\n",
              "3      0sanitymemes        2\n",
              "4               0ug        1\n",
              "...             ...      ...\n",
              "39316        zurich        1\n",
              "39317          zx6r        1\n",
              "39318           zyn        1\n",
              "39319     zyramains        4\n",
              "39320          zyzz        2\n",
              "\n",
              "[39321 rows x 2 columns]"
            ]
          },
          "metadata": {
            "tags": []
          },
          "execution_count": 137
        }
      ]
    },
    {
      "cell_type": "code",
      "metadata": {
        "colab": {
          "base_uri": "https://localhost:8080/",
          "height": 979
        },
        "id": "FJBoIV9WaqSd",
        "outputId": "e16ce72d-af66-4cc4-d301-e2c21a867f98"
      },
      "source": [
        "metadata_count[metadata_count.subreddit\\\n",
        "                .apply(lambda x: x.lower()).str.contains('trans')]\\\n",
        "                .sort_values('nunique', ascending = False)[:30]"
      ],
      "execution_count": null,
      "outputs": [
        {
          "output_type": "execute_result",
          "data": {
            "text/html": [
              "<div>\n",
              "<style scoped>\n",
              "    .dataframe tbody tr th:only-of-type {\n",
              "        vertical-align: middle;\n",
              "    }\n",
              "\n",
              "    .dataframe tbody tr th {\n",
              "        vertical-align: top;\n",
              "    }\n",
              "\n",
              "    .dataframe thead th {\n",
              "        text-align: right;\n",
              "    }\n",
              "</style>\n",
              "<table border=\"1\" class=\"dataframe\">\n",
              "  <thead>\n",
              "    <tr style=\"text-align: right;\">\n",
              "      <th></th>\n",
              "      <th>subreddit</th>\n",
              "      <th>nunique</th>\n",
              "    </tr>\n",
              "  </thead>\n",
              "  <tbody>\n",
              "    <tr>\n",
              "      <th>22840</th>\n",
              "      <td>asktransgender</td>\n",
              "      <td>239</td>\n",
              "    </tr>\n",
              "    <tr>\n",
              "      <th>36172</th>\n",
              "      <td>trans</td>\n",
              "      <td>128</td>\n",
              "    </tr>\n",
              "    <tr>\n",
              "      <th>36200</th>\n",
              "      <td>translator</td>\n",
              "      <td>124</td>\n",
              "    </tr>\n",
              "    <tr>\n",
              "      <th>36205</th>\n",
              "      <td>transpassing</td>\n",
              "      <td>92</td>\n",
              "    </tr>\n",
              "    <tr>\n",
              "      <th>36210</th>\n",
              "      <td>transtimelines</td>\n",
              "      <td>85</td>\n",
              "    </tr>\n",
              "    <tr>\n",
              "      <th>36209</th>\n",
              "      <td>transpositive</td>\n",
              "      <td>82</td>\n",
              "    </tr>\n",
              "    <tr>\n",
              "      <th>36192</th>\n",
              "      <td>transgendercirclejerk</td>\n",
              "      <td>60</td>\n",
              "    </tr>\n",
              "    <tr>\n",
              "      <th>36188</th>\n",
              "      <td>transgender</td>\n",
              "      <td>43</td>\n",
              "    </tr>\n",
              "    <tr>\n",
              "      <th>22768</th>\n",
              "      <td>ask_transgender</td>\n",
              "      <td>39</td>\n",
              "    </tr>\n",
              "    <tr>\n",
              "      <th>36211</th>\n",
              "      <td>transvoice</td>\n",
              "      <td>37</td>\n",
              "    </tr>\n",
              "    <tr>\n",
              "      <th>20042</th>\n",
              "      <td>TransyTalk</td>\n",
              "      <td>37</td>\n",
              "    </tr>\n",
              "    <tr>\n",
              "      <th>20024</th>\n",
              "      <td>Transgender_Surgeries</td>\n",
              "      <td>30</td>\n",
              "    </tr>\n",
              "    <tr>\n",
              "      <th>36186</th>\n",
              "      <td>transformers</td>\n",
              "      <td>30</td>\n",
              "    </tr>\n",
              "    <tr>\n",
              "      <th>31124</th>\n",
              "      <td>mypartneristrans</td>\n",
              "      <td>28</td>\n",
              "    </tr>\n",
              "    <tr>\n",
              "      <th>36175</th>\n",
              "      <td>transadorable</td>\n",
              "      <td>27</td>\n",
              "    </tr>\n",
              "    <tr>\n",
              "      <th>36187</th>\n",
              "      <td>transgamers</td>\n",
              "      <td>27</td>\n",
              "    </tr>\n",
              "    <tr>\n",
              "      <th>25702</th>\n",
              "      <td>detrans</td>\n",
              "      <td>24</td>\n",
              "    </tr>\n",
              "    <tr>\n",
              "      <th>36198</th>\n",
              "      <td>transitiongoals</td>\n",
              "      <td>19</td>\n",
              "    </tr>\n",
              "    <tr>\n",
              "      <th>8587</th>\n",
              "      <td>GoneWildTrans</td>\n",
              "      <td>19</td>\n",
              "    </tr>\n",
              "    <tr>\n",
              "      <th>18566</th>\n",
              "      <td>SuddenlyTrans</td>\n",
              "      <td>15</td>\n",
              "    </tr>\n",
              "    <tr>\n",
              "      <th>36189</th>\n",
              "      <td>transgenderUK</td>\n",
              "      <td>15</td>\n",
              "    </tr>\n",
              "    <tr>\n",
              "      <th>19998</th>\n",
              "      <td>TransDIY</td>\n",
              "      <td>15</td>\n",
              "    </tr>\n",
              "    <tr>\n",
              "      <th>20034</th>\n",
              "      <td>Transmogrification</td>\n",
              "      <td>15</td>\n",
              "    </tr>\n",
              "    <tr>\n",
              "      <th>20011</th>\n",
              "      <td>TransTryouts</td>\n",
              "      <td>14</td>\n",
              "    </tr>\n",
              "    <tr>\n",
              "      <th>19992</th>\n",
              "      <td>TransAdoption</td>\n",
              "      <td>11</td>\n",
              "    </tr>\n",
              "    <tr>\n",
              "      <th>20008</th>\n",
              "      <td>TransSpace</td>\n",
              "      <td>9</td>\n",
              "    </tr>\n",
              "    <tr>\n",
              "      <th>28447</th>\n",
              "      <td>honesttransgender</td>\n",
              "      <td>9</td>\n",
              "    </tr>\n",
              "    <tr>\n",
              "      <th>1970</th>\n",
              "      <td>AutismTranslated</td>\n",
              "      <td>9</td>\n",
              "    </tr>\n",
              "    <tr>\n",
              "      <th>20002</th>\n",
              "      <td>TransLater</td>\n",
              "      <td>9</td>\n",
              "    </tr>\n",
              "    <tr>\n",
              "      <th>19997</th>\n",
              "      <td>TransClones</td>\n",
              "      <td>9</td>\n",
              "    </tr>\n",
              "  </tbody>\n",
              "</table>\n",
              "</div>"
            ],
            "text/plain": [
              "                   subreddit  nunique\n",
              "22840         asktransgender      239\n",
              "36172                  trans      128\n",
              "36200             translator      124\n",
              "36205           transpassing       92\n",
              "36210         transtimelines       85\n",
              "36209          transpositive       82\n",
              "36192  transgendercirclejerk       60\n",
              "36188            transgender       43\n",
              "22768        ask_transgender       39\n",
              "36211             transvoice       37\n",
              "20042             TransyTalk       37\n",
              "20024  Transgender_Surgeries       30\n",
              "36186           transformers       30\n",
              "31124       mypartneristrans       28\n",
              "36175          transadorable       27\n",
              "36187            transgamers       27\n",
              "25702                detrans       24\n",
              "36198        transitiongoals       19\n",
              "8587           GoneWildTrans       19\n",
              "18566          SuddenlyTrans       15\n",
              "36189          transgenderUK       15\n",
              "19998               TransDIY       15\n",
              "20034     Transmogrification       15\n",
              "20011           TransTryouts       14\n",
              "19992          TransAdoption       11\n",
              "20008             TransSpace        9\n",
              "28447      honesttransgender        9\n",
              "1970        AutismTranslated        9\n",
              "20002             TransLater        9\n",
              "19997            TransClones        9"
            ]
          },
          "metadata": {
            "tags": []
          },
          "execution_count": 165
        }
      ]
    },
    {
      "cell_type": "markdown",
      "metadata": {
        "id": "splMI6s_b0ns"
      },
      "source": [
        "## Word Distributions"
      ]
    },
    {
      "cell_type": "code",
      "metadata": {
        "id": "YcDNaAYAFzW5"
      },
      "source": [
        "user_type_df = pd.read_csv('data/total_user_type.csv')\n",
        "timeless_df = total_df.groupby(['username'], as_index=False).agg({'text': ' '.join, 'target': np.mean,\\\n",
        "                                                                            'subreddit': list, 'word_count': np.sum, 'sent_count':np.sum})\n",
        "\n",
        "timeless_df = timeless_df.merge(user_type_df, on = 'username')"
      ],
      "execution_count": null,
      "outputs": []
    },
    {
      "cell_type": "code",
      "metadata": {
        "colab": {
          "base_uri": "https://localhost:8080/",
          "height": 246
        },
        "id": "i4XmyK_LGVWX",
        "outputId": "bb701fd1-4052-4831-ea9b-ed65e60df35b"
      },
      "source": [
        "timeless_df.head()"
      ],
      "execution_count": null,
      "outputs": [
        {
          "output_type": "execute_result",
          "data": {
            "text/html": [
              "<div>\n",
              "<style scoped>\n",
              "    .dataframe tbody tr th:only-of-type {\n",
              "        vertical-align: middle;\n",
              "    }\n",
              "\n",
              "    .dataframe tbody tr th {\n",
              "        vertical-align: top;\n",
              "    }\n",
              "\n",
              "    .dataframe thead th {\n",
              "        text-align: right;\n",
              "    }\n",
              "</style>\n",
              "<table border=\"1\" class=\"dataframe\">\n",
              "  <thead>\n",
              "    <tr style=\"text-align: right;\">\n",
              "      <th></th>\n",
              "      <th>username</th>\n",
              "      <th>text</th>\n",
              "      <th>target</th>\n",
              "      <th>subreddit</th>\n",
              "      <th>word_count</th>\n",
              "      <th>sent_count</th>\n",
              "      <th>type</th>\n",
              "      <th>split</th>\n",
              "    </tr>\n",
              "  </thead>\n",
              "  <tbody>\n",
              "    <tr>\n",
              "      <th>0</th>\n",
              "      <td>---AmoEboid---</td>\n",
              "      <td>Thanks for the reply, it feels good at least n...</td>\n",
              "      <td>0</td>\n",
              "      <td>[bipolar, bipolar, bipolar, bipolar, bipolar, ...</td>\n",
              "      <td>4149</td>\n",
              "      <td>322</td>\n",
              "      <td>lfln</td>\n",
              "      <td>train</td>\n",
              "    </tr>\n",
              "    <tr>\n",
              "      <th>1</th>\n",
              "      <td>--Doc_Holliday</td>\n",
              "      <td>Lmfao I slept through it, I live a mile away. ...</td>\n",
              "      <td>0</td>\n",
              "      <td>[CatastrophicFailure, penis, PublicFreakout, i...</td>\n",
              "      <td>6130</td>\n",
              "      <td>455</td>\n",
              "      <td>lfhn</td>\n",
              "      <td>train</td>\n",
              "    </tr>\n",
              "    <tr>\n",
              "      <th>2</th>\n",
              "      <td>--NoIdeaWhatImDoing</td>\n",
              "      <td>Of course, my only issue is she is in kind of ...</td>\n",
              "      <td>0</td>\n",
              "      <td>[Stoicism, Stoicism, Stoicism, ddpyoga, keto, ...</td>\n",
              "      <td>1894</td>\n",
              "      <td>129</td>\n",
              "      <td>lfln</td>\n",
              "      <td>train</td>\n",
              "    </tr>\n",
              "    <tr>\n",
              "      <th>3</th>\n",
              "      <td>--Solus</td>\n",
              "      <td>Resources to help MotherInLaw who is in over h...</td>\n",
              "      <td>1</td>\n",
              "      <td>[RealEstate, homeowners, funny, Columbus, soci...</td>\n",
              "      <td>6603</td>\n",
              "      <td>599</td>\n",
              "      <td>hfhn</td>\n",
              "      <td>train</td>\n",
              "    </tr>\n",
              "    <tr>\n",
              "      <th>4</th>\n",
              "      <td>-AnxiousWallflower-</td>\n",
              "      <td>oh, i know i’m mentally ill, probably with mor...</td>\n",
              "      <td>1</td>\n",
              "      <td>[mentalhealth, AmItheAsshole, AmItheAsshole, s...</td>\n",
              "      <td>4372</td>\n",
              "      <td>356</td>\n",
              "      <td>lfln</td>\n",
              "      <td>train</td>\n",
              "    </tr>\n",
              "  </tbody>\n",
              "</table>\n",
              "</div>"
            ],
            "text/plain": [
              "              username  ...  split\n",
              "0       ---AmoEboid---  ...  train\n",
              "1       --Doc_Holliday  ...  train\n",
              "2  --NoIdeaWhatImDoing  ...  train\n",
              "3              --Solus  ...  train\n",
              "4  -AnxiousWallflower-  ...  train\n",
              "\n",
              "[5 rows x 8 columns]"
            ]
          },
          "metadata": {
            "tags": []
          },
          "execution_count": 13
        }
      ]
    },
    {
      "cell_type": "code",
      "metadata": {
        "colab": {
          "base_uri": "https://localhost:8080/",
          "height": 282
        },
        "id": "3MPqpJ-SGxWK",
        "outputId": "0c5b0eb0-fb6d-4f42-f186-6bc2196d96aa"
      },
      "source": [
        "timeless_df[timeless_df['type']=='lfln']['word_count'].hist(bins = 50)"
      ],
      "execution_count": null,
      "outputs": [
        {
          "output_type": "execute_result",
          "data": {
            "text/plain": [
              "<matplotlib.axes._subplots.AxesSubplot at 0x7f6a38e21f50>"
            ]
          },
          "metadata": {
            "tags": []
          },
          "execution_count": 15
        },
        {
          "output_type": "display_data",
          "data": {
            "image/png": "[encoded data removed]",
            "text/plain": [
              "<Figure size 432x288 with 1 Axes>"
            ]
          },
          "metadata": {
            "tags": [],
            "needs_background": "light"
          }
        }
      ]
    },
    {
      "cell_type": "code",
      "metadata": {
        "colab": {
          "base_uri": "https://localhost:8080/"
        },
        "id": "UcofiCU6G7PZ",
        "outputId": "f540bece-bf47-4334-a17c-ee5f1af9287b"
      },
      "source": [
        "timeless_df[timeless_df['type']=='lfln']['word_count'].describe()"
      ],
      "execution_count": null,
      "outputs": [
        {
          "output_type": "execute_result",
          "data": {
            "text/plain": [
              "count     4595.000000\n",
              "mean      3500.867900\n",
              "std       3329.638694\n",
              "min        137.000000\n",
              "25%       1374.000000\n",
              "50%       2514.000000\n",
              "75%       4586.000000\n",
              "max      42201.000000\n",
              "Name: word_count, dtype: float64"
            ]
          },
          "metadata": {
            "tags": []
          },
          "execution_count": 22
        }
      ]
    },
    {
      "cell_type": "code",
      "metadata": {
        "colab": {
          "base_uri": "https://localhost:8080/",
          "height": 285
        },
        "id": "R6PmDpzAHDhc",
        "outputId": "1f0bcc74-52a4-444b-c555-c8c6bde7176b"
      },
      "source": [
        "timeless_df[timeless_df['type']=='hfhn']['word_count'].hist(bins = 50) # TLSTM "
      ],
      "execution_count": null,
      "outputs": [
        {
          "output_type": "execute_result",
          "data": {
            "text/plain": [
              "<matplotlib.axes._subplots.AxesSubplot at 0x7f6a38789d50>"
            ]
          },
          "metadata": {
            "tags": []
          },
          "execution_count": 23
        },
        {
          "output_type": "display_data",
          "data": {
            "image/png": "[encoded data removed]",
            "text/plain": [
              "<Figure size 432x288 with 1 Axes>"
            ]
          },
          "metadata": {
            "tags": [],
            "needs_background": "light"
          }
        }
      ]
    },
    {
      "cell_type": "code",
      "metadata": {
        "colab": {
          "base_uri": "https://localhost:8080/",
          "height": 282
        },
        "id": "n9Usd0hpHKUn",
        "outputId": "35aaa36d-ba31-4471-e398-1f8517d67119"
      },
      "source": [
        "timeless_df[timeless_df['type']=='hfln']['word_count'].hist(bins = 50)"
      ],
      "execution_count": null,
      "outputs": [
        {
          "output_type": "execute_result",
          "data": {
            "text/plain": [
              "<matplotlib.axes._subplots.AxesSubplot at 0x7f6a38e26f50>"
            ]
          },
          "metadata": {
            "tags": []
          },
          "execution_count": 25
        },
        {
          "output_type": "display_data",
          "data": {
            "image/png": "[encoded data removed]",
            "text/plain": [
              "<Figure size 432x288 with 1 Axes>"
            ]
          },
          "metadata": {
            "tags": [],
            "needs_background": "light"
          }
        }
      ]
    },
    {
      "cell_type": "code",
      "metadata": {
        "colab": {
          "base_uri": "https://localhost:8080/",
          "height": 282
        },
        "id": "ysE1Dkt8HaWQ",
        "outputId": "543b6e1f-aed0-45b5-e4e4-c52853f7eb7a"
      },
      "source": [
        "timeless_df[timeless_df['type']=='lfhn']['word_count'].hist(bins = 50)"
      ],
      "execution_count": null,
      "outputs": [
        {
          "output_type": "execute_result",
          "data": {
            "text/plain": [
              "<matplotlib.axes._subplots.AxesSubplot at 0x7f6a3856b0d0>"
            ]
          },
          "metadata": {
            "tags": []
          },
          "execution_count": 26
        },
        {
          "output_type": "display_data",
          "data": {
            "image/png": "[encoded data removed]",
            "text/plain": [
              "<Figure size 432x288 with 1 Axes>"
            ]
          },
          "metadata": {
            "tags": [],
            "needs_background": "light"
          }
        }
      ]
    },
    {
      "cell_type": "code",
      "metadata": {
        "id": "NP2Be7CiHcuR"
      },
      "source": [
        ""
      ],
      "execution_count": null,
      "outputs": []
    }
  ]
}
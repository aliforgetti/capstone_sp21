{
 "cells": [
  {
   "cell_type": "markdown",
   "metadata": {},
   "source": [
    "## Control Scraping and Metadata Analysis\n",
    "Purpose of this notebook is to scrape the control users and perform some rudimentary analysis on the metadata extracted from these users."
   ]
  },
  {
   "cell_type": "code",
   "execution_count": 1,
   "metadata": {},
   "outputs": [],
   "source": [
    "import numpy as np\n",
    "import pandas as pd\n",
    "import matplotlib.pyplot as plt\n",
    "import seaborn as sns\n",
    "\n",
    "import pickle\n",
    "\n",
    "from tqdm import tqdm\n",
    "\n",
    "from datetime import datetime\n",
    "\n",
    "import praw\n",
    "from psaw import PushshiftAPI\n",
    "from collections import Counter, OrderedDict"
   ]
  },
  {
   "cell_type": "code",
   "execution_count": 2,
   "metadata": {},
   "outputs": [
    {
     "name": "stderr",
     "output_type": "stream",
     "text": [
      "Version 7.1.0 of praw is outdated. Version 7.2.0 was released Wednesday February 24, 2021.\n"
     ]
    }
   ],
   "source": [
    "api = PushshiftAPI()\n",
    "\n",
    "client_id = \"\"\n",
    "secret = \"\"\n",
    "user_agent = \"Mental Health Scraper 2\"\n",
    "\n",
    "reddit = praw.Reddit(client_id=client_id, client_secret=secret, user_agent=user_agent)"
   ]
  },
  {
   "cell_type": "code",
   "execution_count": 15,
   "metadata": {},
   "outputs": [],
   "source": [
    "# helpers\n",
    "\n",
    "def get_comment_meta(username):\n",
    "    comment_subs = []\n",
    "    comment_meta = []\n",
    "    try:\n",
    "        for comment in reddit.redditor(username).comments.new(limit = None):\n",
    "            comment_subs.append(str(comment.subreddit))\n",
    "            comment_meta.append([user, 0, str(comment.subreddit), ut_to_dt(comment.created_utc), comment.body, comment.ups, comment.downs, len(comment.replies)])\n",
    "            \n",
    "        comment_dict = Counter(comment_subs)\n",
    "\n",
    "        return comment_meta, comment_dict\n",
    "    \n",
    "    except:\n",
    "        return [],Counter([])\n",
    "    \n",
    "def get_post_meta(username):\n",
    "    post_subs = []\n",
    "    post_meta = []\n",
    "    try:\n",
    "        for submission in reddit.redditor(username).submissions.new(limit = None):\n",
    "            post_subs.append(str(submission.subreddit))\n",
    "            post_meta.append([user, 1, str(submission.subreddit), ut_to_dt(submission.created_utc), submission.title + ' ' + submission.selftext, submission.ups, submission.downs, submission.num_comments])\n",
    "            \n",
    "        post_dict = Counter(post_subs)\n",
    "        \n",
    "        return post_meta, post_dict\n",
    "    \n",
    "    except:\n",
    "        return [],Counter([])\n",
    "    \n",
    "\n",
    "def ut_to_dt(created):\n",
    "    '''\n",
    "    To convert unix time to datetime format\n",
    "    '''\n",
    "    ts = int(created)\n",
    "    return datetime.utcfromtimestamp(ts).strftime('%Y-%m-%d %H:%M:%S')"
   ]
  },
  {
   "cell_type": "code",
   "execution_count": 90,
   "metadata": {},
   "outputs": [],
   "source": [
    "depression_list = ['depression','depression_help','antidepressants','depressed', 'AnxietyDepression', 'AdultDepression']\n",
    "\n",
    "anxiety_list = ['Anxiety','AnxietyDepression','socialanxiety','Anxietyhelp','adhd_anxiety','PanicAttack']\n",
    "\n",
    "bipolar_list = ['bipolar','BipolarReddit']\n",
    "\n",
    "bpd_list = ['BPD']\n",
    "\n",
    "ptsd_list = ['CPTSD','ptsd']\n",
    "\n",
    "ocd_list = ['OCD']\n",
    "\n",
    "addiction_list = ['addiction','alcoholism','alcohol','cripplingalcoholism','alcoholicsanonymous',\\\n",
    "                  'opiates','heroin','cocaine','trees','Drugs','askdrugs','leaves'] # alcohol, opioids, general drug usage\n",
    "\n",
    "schizo_list = ['schizophrenia']\n",
    "\n",
    "eating_disorder_list = ['BingeEatingDisorder','EatingDisorders','fuckeatingdisorders','eating_disorders','bulimia']\n",
    "\n",
    "self_harm_list = ['selfharm','SelfHarmScars']\n",
    "\n",
    "lonely_list = ['lonely','ForeverAlone']\n",
    "\n",
    "# external causes\n",
    "\n",
    "sexual_list = ['rape','rapecounseling','sexualassault']\n",
    "\n",
    "relationship_list = ['relationship_advice','relationships','abusiverelationships','survivinginfidelity',\\\n",
    "                     'cheating_stories','NarcissisticAbuse','abusiveparents','survivorsofabuse',\\\n",
    "                     'raisedbynarcissists','insaneparents','lossofalovedone','LostALovedOne','BreakUps','heartbreak']"
   ]
  },
  {
   "cell_type": "code",
   "execution_count": 91,
   "metadata": {},
   "outputs": [],
   "source": [
    "MH_subs = depression_list + anxiety_list \\\n",
    "        + bpd_list + bipolar_list + ptsd_list \\\n",
    "        + ocd_list + addiction_list + schizo_list \\\n",
    "        + eating_disorder_list + self_harm_list \\\n",
    "        + lonely_list + sexual_list + relationship_list"
   ]
  },
  {
   "cell_type": "code",
   "execution_count": 9,
   "metadata": {},
   "outputs": [],
   "source": [
    "control_dist = pd.read_csv('control_dist.csv') # distribution of MH subreddits in the target dataset"
   ]
  },
  {
   "cell_type": "code",
   "execution_count": 12,
   "metadata": {},
   "outputs": [
    {
     "name": "stderr",
     "output_type": "stream",
     "text": [
      "0it [00:00, ?it/s]C:\\ProgramData\\Anaconda3\\envs\\myds\\lib\\site-packages\\psaw\\PushshiftAPI.py:192: UserWarning: Got non 200 code 429\n",
      "  warnings.warn(\"Got non 200 code %s\" % response.status_code)\n",
      "C:\\ProgramData\\Anaconda3\\envs\\myds\\lib\\site-packages\\psaw\\PushshiftAPI.py:180: UserWarning: Unable to connect to pushshift.io. Retrying after backoff.\n",
      "  warnings.warn(\"Unable to connect to pushshift.io. Retrying after backoff.\")\n",
      "C:\\ProgramData\\Anaconda3\\envs\\myds\\lib\\site-packages\\psaw\\PushshiftAPI.py:192: UserWarning: Got non 200 code 502\n",
      "  warnings.warn(\"Got non 200 code %s\" % response.status_code)\n",
      "56it [09:02,  9.69s/it]\n"
     ]
    }
   ],
   "source": [
    "start_epoch=int(datetime(2017, 1, 1).timestamp())\n",
    "\n",
    "res = []\n",
    "for index, row in tqdm(control_dist.iterrows()):\n",
    "    sub = row['subreddit']\n",
    "    count = row['username']*2\n",
    "    \n",
    "    res += list(api.search_submissions(after= start_epoch, \\\n",
    "                                      limit = count,\\\n",
    "                                      filter = [\"author\",\"subreddit\",\"title\",\"selftext\",\"created\",\"num_comments\",\"score\",\"upvote_ratio\"], \\\n",
    "                                      subreddit = sub))"
   ]
  },
  {
   "cell_type": "code",
   "execution_count": 14,
   "metadata": {},
   "outputs": [
    {
     "data": {
      "text/html": [
       "<div>\n",
       "<style scoped>\n",
       "    .dataframe tbody tr th:only-of-type {\n",
       "        vertical-align: middle;\n",
       "    }\n",
       "\n",
       "    .dataframe tbody tr th {\n",
       "        vertical-align: top;\n",
       "    }\n",
       "\n",
       "    .dataframe thead th {\n",
       "        text-align: right;\n",
       "    }\n",
       "</style>\n",
       "<table border=\"1\" class=\"dataframe\">\n",
       "  <thead>\n",
       "    <tr style=\"text-align: right;\">\n",
       "      <th></th>\n",
       "      <th>author</th>\n",
       "      <th>subreddit</th>\n",
       "      <th>title</th>\n",
       "      <th>text</th>\n",
       "      <th>created</th>\n",
       "      <th>num_comments</th>\n",
       "      <th>score</th>\n",
       "    </tr>\n",
       "  </thead>\n",
       "  <tbody>\n",
       "    <tr>\n",
       "      <th>0</th>\n",
       "      <td>X0-PPP</td>\n",
       "      <td>depression</td>\n",
       "      <td>Depression</td>\n",
       "      <td>I’m trade I am not smart. I’m not doing my job...</td>\n",
       "      <td>2021-04-02 14:30:40</td>\n",
       "      <td>0</td>\n",
       "      <td>1</td>\n",
       "    </tr>\n",
       "    <tr>\n",
       "      <th>1</th>\n",
       "      <td>1600rage</td>\n",
       "      <td>depression</td>\n",
       "      <td>Depressed and lonely</td>\n",
       "      <td>I've been alone for a couple months now. I see...</td>\n",
       "      <td>2021-04-02 14:28:33</td>\n",
       "      <td>0</td>\n",
       "      <td>1</td>\n",
       "    </tr>\n",
       "    <tr>\n",
       "      <th>2</th>\n",
       "      <td>Randomgirl2408</td>\n",
       "      <td>depression</td>\n",
       "      <td>A question for people who are diagnosed with d...</td>\n",
       "      <td>How is the diagnosis written in the report you...</td>\n",
       "      <td>2021-04-02 14:24:47</td>\n",
       "      <td>0</td>\n",
       "      <td>1</td>\n",
       "    </tr>\n",
       "  </tbody>\n",
       "</table>\n",
       "</div>"
      ],
      "text/plain": [
       "           author   subreddit  \\\n",
       "0          X0-PPP  depression   \n",
       "1        1600rage  depression   \n",
       "2  Randomgirl2408  depression   \n",
       "\n",
       "                                               title  \\\n",
       "0                                         Depression   \n",
       "1                               Depressed and lonely   \n",
       "2  A question for people who are diagnosed with d...   \n",
       "\n",
       "                                                text              created  \\\n",
       "0  I’m trade I am not smart. I’m not doing my job...  2021-04-02 14:30:40   \n",
       "1  I've been alone for a couple months now. I see...  2021-04-02 14:28:33   \n",
       "2  How is the diagnosis written in the report you...  2021-04-02 14:24:47   \n",
       "\n",
       "   num_comments  score  \n",
       "0             0      1  \n",
       "1             0      1  \n",
       "2             0      1  "
      ]
     },
     "execution_count": 14,
     "metadata": {},
     "output_type": "execute_result"
    }
   ],
   "source": [
    "posts = []\n",
    "for post in res:\n",
    "    try:\n",
    "        posts.append([post.author, post.subreddit, post.title, post.selftext, ut_to_dt(post.created_utc), post.num_comments, post.score])\n",
    "    except:\n",
    "        posts.append([post.author, post.subreddit, post.title, '', ut_to_dt(post.created_utc), post.num_comments, post.score])\n",
    "posts = pd.DataFrame(posts,columns=[\"author\",\"subreddit\",\"title\", \"text\", \"created\",\"num_comments\",\"score\"])\n",
    "\n",
    "posts.head(n=3)"
   ]
  },
  {
   "cell_type": "code",
   "execution_count": 15,
   "metadata": {},
   "outputs": [],
   "source": [
    "posts.to_csv('control_18v2.csv', index = False)"
   ]
  },
  {
   "cell_type": "code",
   "execution_count": 3,
   "metadata": {},
   "outputs": [],
   "source": [
    "posts = pd.read_csv('control_18v2.csv')"
   ]
  },
  {
   "cell_type": "code",
   "execution_count": 4,
   "metadata": {},
   "outputs": [
    {
     "data": {
      "text/plain": [
       "depression              10236\n",
       "relationship_advice      4868\n",
       "relationships            2846\n",
       "selfharm                 2374\n",
       "Anxiety                  2284\n",
       "raisedbynarcissists      1674\n",
       "trees                    1640\n",
       "Drugs                    1546\n",
       "lonely                   1492\n",
       "insaneparents            1224\n",
       "BPD                      1028\n",
       "BreakUps                  888\n",
       "depression_help           884\n",
       "ForeverAlone              820\n",
       "socialanxiety             818\n",
       "bipolar                   818\n",
       "OCD                       626\n",
       "SelfHarmScars             542\n",
       "depressed                 538\n",
       "CPTSD                     520\n",
       "ptsd                      452\n",
       "opiates                   348\n",
       "schizophrenia             342\n",
       "leaves                    318\n",
       "BipolarReddit             226\n",
       "heartbreak                220\n",
       "addiction                 220\n",
       "antidepressants           212\n",
       "Anxietyhelp               212\n",
       "rape                      212\n",
       "AnxietyDepression         210\n",
       "NarcissisticAbuse         194\n",
       "cocaine                   192\n",
       "alcoholism                180\n",
       "rapecounseling            174\n",
       "survivinginfidelity       172\n",
       "BingeEatingDisorder       168\n",
       "abusiverelationships      162\n",
       "alcohol                   130\n",
       "bulimia                   128\n",
       "survivorsofabuse          128\n",
       "askdrugs                  110\n",
       "alcoholicsanonymous       106\n",
       "cripplingalcoholism       102\n",
       "EatingDisorders            96\n",
       "abusiveparents             96\n",
       "eating_disorders           92\n",
       "fuckeatingdisorders        86\n",
       "PanicAttack                82\n",
       "heroin                     82\n",
       "cheating_stories           72\n",
       "lossofalovedone            44\n",
       "adhd_anxiety               44\n",
       "sexualassault              28\n",
       "LostALovedOne               8\n",
       "AdultDepression             2\n",
       "Name: subreddit, dtype: int64"
      ]
     },
     "execution_count": 4,
     "metadata": {},
     "output_type": "execute_result"
    }
   ],
   "source": [
    "posts.subreddit.value_counts()"
   ]
  },
  {
   "cell_type": "code",
   "execution_count": 7,
   "metadata": {},
   "outputs": [],
   "source": [
    "rm_list = []\n",
    "\n",
    "for sub in posts.subreddit.unique():\n",
    "    for moderator in reddit.subreddit(sub).moderator():\n",
    "        rm_list.append(str(moderator))\n",
    "    \n",
    "rm_list.append('[deleted]') # no use from deleted accounts"
   ]
  },
  {
   "cell_type": "code",
   "execution_count": 12,
   "metadata": {},
   "outputs": [
    {
     "name": "stdout",
     "output_type": "stream",
     "text": [
      "Number of moderators across all subreddits: \n",
      "438\n",
      "Number of unique users found: \n",
      "31682\n",
      "Number of unique users remaining: \n",
      "31660\n"
     ]
    }
   ],
   "source": [
    "print(\"Number of moderators across all subreddits: \")\n",
    "print(len(rm_list))\n",
    "\n",
    "all_users = posts.author.unique().tolist()\n",
    "\n",
    "print(\"Number of unique users found: \")\n",
    "print(len(all_users))\n",
    "#removing mods\n",
    "all_users = [x for x in all_users if x not in rm_list]\n",
    "\n",
    "print(\"Number of unique users remaining: \")\n",
    "print(len(all_users))"
   ]
  },
  {
   "cell_type": "code",
   "execution_count": 16,
   "metadata": {},
   "outputs": [
    {
     "name": "stderr",
     "output_type": "stream",
     "text": [
      "100%|█████████████████████████████████████████████████████████████████████████| 31660/31660 [15:56:02<00:00,  1.81s/it]\n"
     ]
    }
   ],
   "source": [
    "metadata_total_control = []\n",
    "missed = []\n",
    "\n",
    "i = 0\n",
    "\n",
    "for i in tqdm(range(len(all_users))):\n",
    "    user = all_users[i]\n",
    "    comment_meta, comment_dict = get_comment_meta(user)\n",
    "    post_meta, post_dict = get_post_meta(user)\n",
    "    \n",
    "    if ('SuicideWatch' not in post_dict.keys()):\n",
    "        combined_meta = comment_meta + post_meta\n",
    "        if len(combined_meta) != 0:\n",
    "            metadata_total_control += combined_meta\n",
    "            i+= 1\n",
    "            \n",
    "    if i % 2000 == 0:\n",
    "        with open('metadata18v2/metcontrol'+str(i)+'.pkl', 'wb') as f:\n",
    "            pickle.dump(metadata_total_control, f)"
   ]
  },
  {
   "cell_type": "code",
   "execution_count": 84,
   "metadata": {},
   "outputs": [],
   "source": [
    "with open('metadata18v2/metcontrolfinal.pkl', 'wb') as f:\n",
    "    pickle.dump(metadata_total_control, f)"
   ]
  },
  {
   "cell_type": "code",
   "execution_count": 24,
   "metadata": {},
   "outputs": [
    {
     "name": "stdout",
     "output_type": "stream",
     "text": [
      "28223 unique users found!\n"
     ]
    },
    {
     "data": {
      "text/html": [
       "<div>\n",
       "<style scoped>\n",
       "    .dataframe tbody tr th:only-of-type {\n",
       "        vertical-align: middle;\n",
       "    }\n",
       "\n",
       "    .dataframe tbody tr th {\n",
       "        vertical-align: top;\n",
       "    }\n",
       "\n",
       "    .dataframe thead th {\n",
       "        text-align: right;\n",
       "    }\n",
       "</style>\n",
       "<table border=\"1\" class=\"dataframe\">\n",
       "  <thead>\n",
       "    <tr style=\"text-align: right;\">\n",
       "      <th></th>\n",
       "      <th>username</th>\n",
       "      <th>type</th>\n",
       "      <th>subreddit</th>\n",
       "      <th>date</th>\n",
       "      <th>text</th>\n",
       "      <th>ups</th>\n",
       "      <th>downs</th>\n",
       "      <th>num_response</th>\n",
       "    </tr>\n",
       "  </thead>\n",
       "  <tbody>\n",
       "    <tr>\n",
       "      <th>0</th>\n",
       "      <td>X0-PPP</td>\n",
       "      <td>1</td>\n",
       "      <td>depression</td>\n",
       "      <td>2021-04-02 14:30:40</td>\n",
       "      <td>Depression I’m trade I am not smart. I’m not d...</td>\n",
       "      <td>3</td>\n",
       "      <td>0</td>\n",
       "      <td>1</td>\n",
       "    </tr>\n",
       "    <tr>\n",
       "      <th>1</th>\n",
       "      <td>X0-PPP</td>\n",
       "      <td>1</td>\n",
       "      <td>relationship_advice</td>\n",
       "      <td>2020-07-02 06:26:50</td>\n",
       "      <td>Boyfriend talks about his past relationships t...</td>\n",
       "      <td>2</td>\n",
       "      <td>0</td>\n",
       "      <td>4</td>\n",
       "    </tr>\n",
       "    <tr>\n",
       "      <th>2</th>\n",
       "      <td>1600rage</td>\n",
       "      <td>0</td>\n",
       "      <td>doomer</td>\n",
       "      <td>2021-02-04 09:30:00</td>\n",
       "      <td>I'm not a doctor but there are many reasons fo...</td>\n",
       "      <td>1</td>\n",
       "      <td>0</td>\n",
       "      <td>0</td>\n",
       "    </tr>\n",
       "    <tr>\n",
       "      <th>3</th>\n",
       "      <td>1600rage</td>\n",
       "      <td>0</td>\n",
       "      <td>playboicarti</td>\n",
       "      <td>2020-12-27 21:35:57</td>\n",
       "      <td>Probably was on so many drugs that he isn't re...</td>\n",
       "      <td>3</td>\n",
       "      <td>0</td>\n",
       "      <td>0</td>\n",
       "    </tr>\n",
       "    <tr>\n",
       "      <th>4</th>\n",
       "      <td>1600rage</td>\n",
       "      <td>0</td>\n",
       "      <td>magick</td>\n",
       "      <td>2020-12-22 07:58:06</td>\n",
       "      <td>Blessed be</td>\n",
       "      <td>3</td>\n",
       "      <td>0</td>\n",
       "      <td>0</td>\n",
       "    </tr>\n",
       "  </tbody>\n",
       "</table>\n",
       "</div>"
      ],
      "text/plain": [
       "   username  type            subreddit                date  \\\n",
       "0    X0-PPP     1           depression 2021-04-02 14:30:40   \n",
       "1    X0-PPP     1  relationship_advice 2020-07-02 06:26:50   \n",
       "2  1600rage     0               doomer 2021-02-04 09:30:00   \n",
       "3  1600rage     0         playboicarti 2020-12-27 21:35:57   \n",
       "4  1600rage     0               magick 2020-12-22 07:58:06   \n",
       "\n",
       "                                                text  ups  downs  num_response  \n",
       "0  Depression I’m trade I am not smart. I’m not d...    3      0             1  \n",
       "1  Boyfriend talks about his past relationships t...    2      0             4  \n",
       "2  I'm not a doctor but there are many reasons fo...    1      0             0  \n",
       "3  Probably was on so many drugs that he isn't re...    3      0             0  \n",
       "4                                         Blessed be    3      0             0  "
      ]
     },
     "metadata": {},
     "output_type": "display_data"
    },
    {
     "data": {
      "text/plain": [
       "(6572225, 8)"
      ]
     },
     "metadata": {},
     "output_type": "display_data"
    }
   ],
   "source": [
    "metadata = pd.DataFrame(metadata_total_control, columns = [\"username\",\"type\",\"subreddit\",\"date\",\"text\",\"ups\",\"downs\",\"num_response\"])\n",
    "metadata['date'] = pd.to_datetime(metadata['date'], infer_datetime_format=True)\n",
    "print(str(len(metadata.username.unique())) + \" unique users found!\")\n",
    "display(metadata.head(), metadata.shape)"
   ]
  },
  {
   "cell_type": "markdown",
   "metadata": {},
   "source": [
    "### Account Age\n",
    "\n",
    "Date of last post - Date of first post = Age of account"
   ]
  },
  {
   "cell_type": "code",
   "execution_count": 49,
   "metadata": {},
   "outputs": [],
   "source": [
    "account_dates = metadata.groupby('username').date.agg(first_act=np.min, last_act = np.max).reset_index()\n",
    "account_dates['account_age'] = \\\n",
    "        (account_dates['last_act']-account_dates['first_act']).astype('timedelta64[D]')"
   ]
  },
  {
   "cell_type": "markdown",
   "metadata": {},
   "source": [
    "### Num Posts"
   ]
  },
  {
   "cell_type": "code",
   "execution_count": 64,
   "metadata": {},
   "outputs": [],
   "source": [
    "post_counts = metadata[metadata.type == 1].groupby('username')\\\n",
    "                            .count()['subreddit']\\\n",
    "                            .reset_index()\\\n",
    "                            .rename({'subreddit':'num_posts'}, axis = 1)\n",
    "\n",
    "comment_counts = metadata[metadata.type == 0].groupby('username')\\\n",
    "                            .count()['subreddit']\\\n",
    "                            .reset_index()\\\n",
    "                            .rename({'subreddit':'num_comments'}, axis = 1)"
   ]
  },
  {
   "cell_type": "code",
   "execution_count": 65,
   "metadata": {},
   "outputs": [
    {
     "data": {
      "text/plain": [
       "<AxesSubplot:xlabel='num_posts', ylabel='Proportion'>"
      ]
     },
     "execution_count": 65,
     "metadata": {},
     "output_type": "execute_result"
    },
    {
     "data": {
      "image/png": "[encoded data removed]",
      "text/plain": [
       "<Figure size 432x288 with 1 Axes>"
      ]
     },
     "metadata": {
      "needs_background": "light"
     },
     "output_type": "display_data"
    }
   ],
   "source": [
    "sns.ecdfplot(data = post_counts, x = \"num_posts\")"
   ]
  },
  {
   "cell_type": "code",
   "execution_count": 67,
   "metadata": {},
   "outputs": [
    {
     "data": {
      "text/plain": [
       "<AxesSubplot:xlabel='num_comments', ylabel='Proportion'>"
      ]
     },
     "execution_count": 67,
     "metadata": {},
     "output_type": "execute_result"
    },
    {
     "data": {
      "image/png": "[encoded data removed]",
      "text/plain": [
       "<Figure size 432x288 with 1 Axes>"
      ]
     },
     "metadata": {
      "needs_background": "light"
     },
     "output_type": "display_data"
    }
   ],
   "source": [
    "sns.ecdfplot(data = comment_counts, x = \"num_comments\")"
   ]
  },
  {
   "cell_type": "markdown",
   "metadata": {},
   "source": [
    "### MH Subs"
   ]
  },
  {
   "cell_type": "code",
   "execution_count": 92,
   "metadata": {},
   "outputs": [
    {
     "data": {
      "text/plain": [
       "26729"
      ]
     },
     "execution_count": 92,
     "metadata": {},
     "output_type": "execute_result"
    }
   ],
   "source": [
    "mh_users = metadata[metadata.subreddit.isin(MH_subs)].username.unique().tolist()\n",
    "len(mh_users)"
   ]
  },
  {
   "cell_type": "code",
   "execution_count": 93,
   "metadata": {},
   "outputs": [
    {
     "data": {
      "text/html": [
       "<div>\n",
       "<style scoped>\n",
       "    .dataframe tbody tr th:only-of-type {\n",
       "        vertical-align: middle;\n",
       "    }\n",
       "\n",
       "    .dataframe tbody tr th {\n",
       "        vertical-align: top;\n",
       "    }\n",
       "\n",
       "    .dataframe thead th {\n",
       "        text-align: right;\n",
       "    }\n",
       "</style>\n",
       "<table border=\"1\" class=\"dataframe\">\n",
       "  <thead>\n",
       "    <tr style=\"text-align: right;\">\n",
       "      <th></th>\n",
       "      <th>username</th>\n",
       "      <th>first_mh_post</th>\n",
       "      <th>last_mh_post</th>\n",
       "    </tr>\n",
       "  </thead>\n",
       "  <tbody>\n",
       "    <tr>\n",
       "      <th>0</th>\n",
       "      <td>---AmoEboid---</td>\n",
       "      <td>2016-02-09 21:54:10</td>\n",
       "      <td>2021-04-01 14:08:29</td>\n",
       "    </tr>\n",
       "    <tr>\n",
       "      <th>1</th>\n",
       "      <td>---Py</td>\n",
       "      <td>2021-03-15 13:50:57</td>\n",
       "      <td>2021-03-15 13:50:57</td>\n",
       "    </tr>\n",
       "    <tr>\n",
       "      <th>2</th>\n",
       "      <td>---Thrownaway---</td>\n",
       "      <td>2021-03-28 14:53:28</td>\n",
       "      <td>2021-03-29 13:03:42</td>\n",
       "    </tr>\n",
       "    <tr>\n",
       "      <th>3</th>\n",
       "      <td>---no</td>\n",
       "      <td>2019-06-17 16:50:44</td>\n",
       "      <td>2021-03-30 13:24:51</td>\n",
       "    </tr>\n",
       "    <tr>\n",
       "      <th>4</th>\n",
       "      <td>--2K--</td>\n",
       "      <td>2021-03-30 17:05:20</td>\n",
       "      <td>2021-03-30 17:11:39</td>\n",
       "    </tr>\n",
       "  </tbody>\n",
       "</table>\n",
       "</div>"
      ],
      "text/plain": [
       "           username       first_mh_post        last_mh_post\n",
       "0    ---AmoEboid--- 2016-02-09 21:54:10 2021-04-01 14:08:29\n",
       "1             ---Py 2021-03-15 13:50:57 2021-03-15 13:50:57\n",
       "2  ---Thrownaway--- 2021-03-28 14:53:28 2021-03-29 13:03:42\n",
       "3             ---no 2019-06-17 16:50:44 2021-03-30 13:24:51\n",
       "4            --2K-- 2021-03-30 17:05:20 2021-03-30 17:11:39"
      ]
     },
     "execution_count": 93,
     "metadata": {},
     "output_type": "execute_result"
    }
   ],
   "source": [
    "first_mh_dates = metadata[(metadata.subreddit.isin(MH_subs))&(metadata.username.isin(mh_users))].\\\n",
    "                         groupby('username').\\\n",
    "                         date.\\\n",
    "                         agg(first_mh_post = np.min, last_mh_post = np.max).\\\n",
    "                         reset_index()\n",
    "first_mh_dates.head()"
   ]
  },
  {
   "cell_type": "markdown",
   "metadata": {},
   "source": [
    "### Combined Analysis"
   ]
  },
  {
   "cell_type": "code",
   "execution_count": 94,
   "metadata": {},
   "outputs": [],
   "source": [
    "account_info = pd.merge(post_counts, account_dates, on = 'username')\n",
    "account_info = pd.merge(comment_counts, account_info, on ='username')\n",
    "account_info = pd.merge(account_info, first_mh_dates, on ='username' )"
   ]
  },
  {
   "cell_type": "code",
   "execution_count": 97,
   "metadata": {},
   "outputs": [
    {
     "data": {
      "text/plain": [
       "Text(0, 0.5, 'Number of Users Left')"
      ]
     },
     "execution_count": 97,
     "metadata": {},
     "output_type": "execute_result"
    },
    {
     "data": {
      "image/png": "[encoded data removed]",
      "text/plain": [
       "<Figure size 432x288 with 1 Axes>"
      ]
     },
     "metadata": {
      "needs_background": "light"
     },
     "output_type": "display_data"
    }
   ],
   "source": [
    "num_users = []\n",
    "MAX_RANGE = 365*2\n",
    "\n",
    "for i in range(30,MAX_RANGE):\n",
    "    try:\n",
    "        num_users.append(account_info[account_info['account_age']>i].shape[0])\n",
    "    except:\n",
    "        break\n",
    "    \n",
    "fig = plt.figure()\n",
    "ax = plt.axes()\n",
    "\n",
    "ax.plot(list(range(30,MAX_RANGE)), num_users);\n",
    "plt.xlabel('Time Since First Post')\n",
    "plt.ylabel('Number of Users Left')"
   ]
  },
  {
   "cell_type": "code",
   "execution_count": 103,
   "metadata": {},
   "outputs": [],
   "source": [
    "users_to_keep = account_info[account_info['account_age'] > 730].username.unique().tolist() # account age is more than 2 years"
   ]
  },
  {
   "cell_type": "code",
   "execution_count": 106,
   "metadata": {
    "scrolled": true
   },
   "outputs": [
    {
     "data": {
      "text/plain": [
       "(2986968, 8)"
      ]
     },
     "execution_count": 106,
     "metadata": {},
     "output_type": "execute_result"
    }
   ],
   "source": [
    "control_meta = metadata[metadata.username.isin(users_to_keep)]\n",
    "control_meta.shape"
   ]
  },
  {
   "cell_type": "code",
   "execution_count": 107,
   "metadata": {},
   "outputs": [],
   "source": [
    "control_meta = control_meta.to_csv('target_0.csv', index = False)"
   ]
  }
 ],
 "metadata": {
  "kernelspec": {
   "display_name": "Python 3",
   "language": "python",
   "name": "python3"
  },
  "language_info": {
   "codemirror_mode": {
    "name": "ipython",
    "version": 3
   },
   "file_extension": ".py",
   "mimetype": "text/x-python",
   "name": "python",
   "nbconvert_exporter": "python",
   "pygments_lexer": "ipython3",
   "version": "3.8.5"
  }
 },
 "nbformat": 4,
 "nbformat_minor": 4
}

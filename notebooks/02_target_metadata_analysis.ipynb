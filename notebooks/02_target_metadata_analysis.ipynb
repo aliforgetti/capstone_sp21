{
 "cells": [
  {
   "cell_type": "markdown",
   "metadata": {},
   "source": [
    "## Metadata Analysis\n",
    "Purpose of this notebook is to perform analysis on the metadata of the cohort we have extracted."
   ]
  },
  {
   "cell_type": "code",
   "execution_count": 1,
   "metadata": {},
   "outputs": [],
   "source": [
    "import pickle\n",
    "import pandas as pd\n",
    "import numpy as np\n",
    "import matplotlib.pyplot as plt\n",
    "import seaborn as sns\n",
    "\n",
    "from tqdm import tqdm"
   ]
  },
  {
   "cell_type": "markdown",
   "metadata": {},
   "source": [
    "# Target = 1"
   ]
  },
  {
   "cell_type": "code",
   "execution_count": 2,
   "metadata": {},
   "outputs": [],
   "source": [
    "with open(\"metadata18v2/met150000.pkl\",\"rb\") as openfile: # this file is extremely large\n",
    "    metadata = pickle.load(openfile)   "
   ]
  },
  {
   "cell_type": "code",
   "execution_count": 3,
   "metadata": {},
   "outputs": [
    {
     "name": "stdout",
     "output_type": "stream",
     "text": [
      "76193 unique users found!\n"
     ]
    },
    {
     "data": {
      "text/html": [
       "<div>\n",
       "<style scoped>\n",
       "    .dataframe tbody tr th:only-of-type {\n",
       "        vertical-align: middle;\n",
       "    }\n",
       "\n",
       "    .dataframe tbody tr th {\n",
       "        vertical-align: top;\n",
       "    }\n",
       "\n",
       "    .dataframe thead th {\n",
       "        text-align: right;\n",
       "    }\n",
       "</style>\n",
       "<table border=\"1\" class=\"dataframe\">\n",
       "  <thead>\n",
       "    <tr style=\"text-align: right;\">\n",
       "      <th></th>\n",
       "      <th>username</th>\n",
       "      <th>type</th>\n",
       "      <th>subreddit</th>\n",
       "      <th>date</th>\n",
       "      <th>text</th>\n",
       "      <th>ups</th>\n",
       "      <th>downs</th>\n",
       "      <th>num_response</th>\n",
       "    </tr>\n",
       "  </thead>\n",
       "  <tbody>\n",
       "    <tr>\n",
       "      <th>0</th>\n",
       "      <td>FrankLamps</td>\n",
       "      <td>0</td>\n",
       "      <td>SuicideWatch</td>\n",
       "      <td>2018-08-11 10:08:28</td>\n",
       "      <td>I don't think she's pregant.. and my God what ...</td>\n",
       "      <td>1</td>\n",
       "      <td>0</td>\n",
       "      <td>0</td>\n",
       "    </tr>\n",
       "    <tr>\n",
       "      <th>1</th>\n",
       "      <td>FrankLamps</td>\n",
       "      <td>0</td>\n",
       "      <td>SuicideWatch</td>\n",
       "      <td>2018-08-11 10:03:22</td>\n",
       "      <td>how is it brighter.. to have a kid at 21, and ...</td>\n",
       "      <td>1</td>\n",
       "      <td>0</td>\n",
       "      <td>0</td>\n",
       "    </tr>\n",
       "    <tr>\n",
       "      <th>2</th>\n",
       "      <td>FrankLamps</td>\n",
       "      <td>0</td>\n",
       "      <td>cheating_stories</td>\n",
       "      <td>2018-08-07 07:02:37</td>\n",
       "      <td>Yeah, was the cherry on top.</td>\n",
       "      <td>5</td>\n",
       "      <td>0</td>\n",
       "      <td>0</td>\n",
       "    </tr>\n",
       "    <tr>\n",
       "      <th>3</th>\n",
       "      <td>FrankLamps</td>\n",
       "      <td>0</td>\n",
       "      <td>cheating_stories</td>\n",
       "      <td>2018-08-07 07:02:26</td>\n",
       "      <td>almost a year..</td>\n",
       "      <td>5</td>\n",
       "      <td>0</td>\n",
       "      <td>0</td>\n",
       "    </tr>\n",
       "    <tr>\n",
       "      <th>4</th>\n",
       "      <td>FrankLamps</td>\n",
       "      <td>0</td>\n",
       "      <td>cheating_stories</td>\n",
       "      <td>2018-08-06 11:42:43</td>\n",
       "      <td>Thanks, the last couple of hours i've been thi...</td>\n",
       "      <td>16</td>\n",
       "      <td>0</td>\n",
       "      <td>0</td>\n",
       "    </tr>\n",
       "  </tbody>\n",
       "</table>\n",
       "</div>"
      ],
      "text/plain": [
       "     username  type         subreddit                date  \\\n",
       "0  FrankLamps     0      SuicideWatch 2018-08-11 10:08:28   \n",
       "1  FrankLamps     0      SuicideWatch 2018-08-11 10:03:22   \n",
       "2  FrankLamps     0  cheating_stories 2018-08-07 07:02:37   \n",
       "3  FrankLamps     0  cheating_stories 2018-08-07 07:02:26   \n",
       "4  FrankLamps     0  cheating_stories 2018-08-06 11:42:43   \n",
       "\n",
       "                                                text  ups  downs  num_response  \n",
       "0  I don't think she's pregant.. and my God what ...    1      0             0  \n",
       "1  how is it brighter.. to have a kid at 21, and ...    1      0             0  \n",
       "2                       Yeah, was the cherry on top.    5      0             0  \n",
       "3                                    almost a year..    5      0             0  \n",
       "4  Thanks, the last couple of hours i've been thi...   16      0             0  "
      ]
     },
     "metadata": {},
     "output_type": "display_data"
    },
    {
     "data": {
      "text/plain": [
       "(15653345, 8)"
      ]
     },
     "metadata": {},
     "output_type": "display_data"
    }
   ],
   "source": [
    "metadata = pd.DataFrame(metadata, columns = [\"username\",\"type\",\"subreddit\",\"date\",\"text\",\"ups\",\"downs\",\"num_response\"])\n",
    "metadata['date'] = pd.to_datetime(metadata['date'], infer_datetime_format=True)\n",
    "print(str(len(metadata.username.unique())) + \" unique users found!\")\n",
    "display(metadata.head(), metadata.shape)"
   ]
  },
  {
   "cell_type": "code",
   "execution_count": 7,
   "metadata": {},
   "outputs": [
    {
     "data": {
      "text/html": [
       "<div>\n",
       "<style scoped>\n",
       "    .dataframe tbody tr th:only-of-type {\n",
       "        vertical-align: middle;\n",
       "    }\n",
       "\n",
       "    .dataframe tbody tr th {\n",
       "        vertical-align: top;\n",
       "    }\n",
       "\n",
       "    .dataframe thead th {\n",
       "        text-align: right;\n",
       "    }\n",
       "</style>\n",
       "<table border=\"1\" class=\"dataframe\">\n",
       "  <thead>\n",
       "    <tr style=\"text-align: right;\">\n",
       "      <th></th>\n",
       "      <th>subreddit</th>\n",
       "      <th>nunique</th>\n",
       "    </tr>\n",
       "  </thead>\n",
       "  <tbody>\n",
       "    <tr>\n",
       "      <th>0</th>\n",
       "      <td>007</td>\n",
       "      <td>2</td>\n",
       "    </tr>\n",
       "    <tr>\n",
       "      <th>1</th>\n",
       "      <td>00sAesthetics</td>\n",
       "      <td>1</td>\n",
       "    </tr>\n",
       "    <tr>\n",
       "      <th>2</th>\n",
       "      <td>00sBabies</td>\n",
       "      <td>1</td>\n",
       "    </tr>\n",
       "    <tr>\n",
       "      <th>3</th>\n",
       "      <td>00scartoons</td>\n",
       "      <td>1</td>\n",
       "    </tr>\n",
       "    <tr>\n",
       "      <th>4</th>\n",
       "      <td>00sdesign</td>\n",
       "      <td>1</td>\n",
       "    </tr>\n",
       "  </tbody>\n",
       "</table>\n",
       "</div>"
      ],
      "text/plain": [
       "       subreddit  nunique\n",
       "0            007        2\n",
       "1  00sAesthetics        1\n",
       "2      00sBabies        1\n",
       "3    00scartoons        1\n",
       "4      00sdesign        1"
      ]
     },
     "execution_count": 7,
     "metadata": {},
     "output_type": "execute_result"
    }
   ],
   "source": [
    "metadata_count = metadata.groupby('subreddit')\\\n",
    "            .nunique()['username']\\\n",
    "            .reset_index()\\\n",
    "            .rename({'username':'nunique'}, axis =1)\n",
    "\n",
    "metadata_count.head()"
   ]
  },
  {
   "cell_type": "markdown",
   "metadata": {},
   "source": [
    "List of subreddits related to potential causes for \"despair\". "
   ]
  },
  {
   "cell_type": "code",
   "execution_count": 372,
   "metadata": {},
   "outputs": [],
   "source": [
    "depression_list = ['depression','depression_help','antidepressants','depressed', 'AnxietyDepression', 'AdultDepression']\n",
    "\n",
    "anxiety_list = ['Anxiety','AnxietyDepression','socialanxiety','Anxietyhelp','adhd_anxiety','PanicAttack']\n",
    "\n",
    "bipolar_list = ['bipolar','BipolarReddit']\n",
    "\n",
    "bpd_list = ['BPD']\n",
    "\n",
    "ptsd_list = ['CPTSD','ptsd']\n",
    "\n",
    "ocd_list = ['OCD']\n",
    "\n",
    "addiction_list = ['addiction','alcoholism','alcohol','cripplingalcoholism','alcoholicsanonymous',\\\n",
    "                  'opiates','heroin','cocaine','trees','Drugs','askdrugs','leaves'] # alcohol, opioids, general drug usage\n",
    "\n",
    "schizo_list = ['schizophrenia']\n",
    "\n",
    "eating_disorder_list = ['BingeEatingDisorder','EatingDisorders','fuckeatingdisorders','eating_disorders','bulimia']\n",
    "\n",
    "self_harm_list = ['selfharm','SelfHarmScars']\n",
    "\n",
    "lonely_list = ['lonely','ForeverAlone']\n",
    "\n",
    "# external causes\n",
    "sexual_list = ['rape','rapecounseling','sexualassault']\n",
    "\n",
    "relationship_list = ['relationship_advice','relationships','abusiverelationships','survivinginfidelity',\\\n",
    "                     'cheating_stories','NarcissisticAbuse','abusiveparents','survivorsofabuse',\\\n",
    "                     'raisedbynarcissists','insaneparents','BreakUps','heartbreak']\n",
    "                     \n",
    "traumatic_events = ['lossofalovedone','LostALovedOne']"
   ]
  },
  {
   "cell_type": "markdown",
   "metadata": {},
   "source": [
    "## Cohort Filtering\n",
    "\n",
    "Developing experimental group. \n",
    "\n",
    "1. Filter by users that had some activity (comment or post) in r/SuicideWatch\n",
    "2. Filter by users that had some activity (comment or post) in MH subs \n",
    "3. Filter by users that had an r/SuicideWatch post\n",
    "4. Filter by users that had mental health activity \n",
    "5. Filter by users that had mental health activity before r/SuicideWatch\n",
    "6. Filter by users that had mental health activity on two different days (some sort of history of activity)\n",
    "7. Filter by users that had at least [two] months since they last posted \n",
    "8. Filter by users that posted in an MH sub within the last year"
   ]
  },
  {
   "cell_type": "code",
   "execution_count": 71,
   "metadata": {},
   "outputs": [
    {
     "data": {
      "text/html": [
       "<div>\n",
       "<style scoped>\n",
       "    .dataframe tbody tr th:only-of-type {\n",
       "        vertical-align: middle;\n",
       "    }\n",
       "\n",
       "    .dataframe tbody tr th {\n",
       "        vertical-align: top;\n",
       "    }\n",
       "\n",
       "    .dataframe thead th {\n",
       "        text-align: right;\n",
       "    }\n",
       "</style>\n",
       "<table border=\"1\" class=\"dataframe\">\n",
       "  <thead>\n",
       "    <tr style=\"text-align: right;\">\n",
       "      <th></th>\n",
       "      <th>subreddit</th>\n",
       "      <th>nunique</th>\n",
       "    </tr>\n",
       "  </thead>\n",
       "  <tbody>\n",
       "    <tr>\n",
       "      <th>52852</th>\n",
       "      <td>abuse</td>\n",
       "      <td>591</td>\n",
       "    </tr>\n",
       "    <tr>\n",
       "      <th>31743</th>\n",
       "      <td>NarcissisticAbuse</td>\n",
       "      <td>457</td>\n",
       "    </tr>\n",
       "    <tr>\n",
       "      <th>52859</th>\n",
       "      <td>abusiverelationships</td>\n",
       "      <td>402</td>\n",
       "    </tr>\n",
       "    <tr>\n",
       "      <th>82083</th>\n",
       "      <td>survivorsofabuse</td>\n",
       "      <td>283</td>\n",
       "    </tr>\n",
       "    <tr>\n",
       "      <th>52857</th>\n",
       "      <td>abusiveparents</td>\n",
       "      <td>248</td>\n",
       "    </tr>\n",
       "    <tr>\n",
       "      <th>62106</th>\n",
       "      <td>emotionalabuse</td>\n",
       "      <td>216</td>\n",
       "    </tr>\n",
       "    <tr>\n",
       "      <th>1448</th>\n",
       "      <td>AbuseInterrupted</td>\n",
       "      <td>86</td>\n",
       "    </tr>\n",
       "    <tr>\n",
       "      <th>56101</th>\n",
       "      <td>bitchimabus</td>\n",
       "      <td>78</td>\n",
       "    </tr>\n",
       "    <tr>\n",
       "      <th>52853</th>\n",
       "      <td>abusesurvivors</td>\n",
       "      <td>72</td>\n",
       "    </tr>\n",
       "    <tr>\n",
       "      <th>55004</th>\n",
       "      <td>babushkadogs</td>\n",
       "      <td>36</td>\n",
       "    </tr>\n",
       "    <tr>\n",
       "      <th>41175</th>\n",
       "      <td>SexualAbuseSurvivors</td>\n",
       "      <td>27</td>\n",
       "    </tr>\n",
       "    <tr>\n",
       "      <th>31742</th>\n",
       "      <td>NarcAbuseAndDivorce</td>\n",
       "      <td>17</td>\n",
       "    </tr>\n",
       "    <tr>\n",
       "      <th>9446</th>\n",
       "      <td>ChildAbuseDiscussion</td>\n",
       "      <td>14</td>\n",
       "    </tr>\n",
       "    <tr>\n",
       "      <th>75981</th>\n",
       "      <td>plantabuse</td>\n",
       "      <td>14</td>\n",
       "    </tr>\n",
       "    <tr>\n",
       "      <th>15395</th>\n",
       "      <td>EmotionalAbuseSupport</td>\n",
       "      <td>12</td>\n",
       "    </tr>\n",
       "    <tr>\n",
       "      <th>40690</th>\n",
       "      <td>SchofieldCabanaAbuse</td>\n",
       "      <td>9</td>\n",
       "    </tr>\n",
       "    <tr>\n",
       "      <th>53770</th>\n",
       "      <td>animalabusers</td>\n",
       "      <td>8</td>\n",
       "    </tr>\n",
       "    <tr>\n",
       "      <th>72214</th>\n",
       "      <td>modabuse</td>\n",
       "      <td>7</td>\n",
       "    </tr>\n",
       "    <tr>\n",
       "      <th>96625</th>\n",
       "      <td>verbalabuse</td>\n",
       "      <td>7</td>\n",
       "    </tr>\n",
       "    <tr>\n",
       "      <th>12222</th>\n",
       "      <td>DXMabusehelp</td>\n",
       "      <td>6</td>\n",
       "    </tr>\n",
       "  </tbody>\n",
       "</table>\n",
       "</div>"
      ],
      "text/plain": [
       "                   subreddit  nunique\n",
       "52852                  abuse      591\n",
       "31743      NarcissisticAbuse      457\n",
       "52859   abusiverelationships      402\n",
       "82083       survivorsofabuse      283\n",
       "52857         abusiveparents      248\n",
       "62106         emotionalabuse      216\n",
       "1448        AbuseInterrupted       86\n",
       "56101            bitchimabus       78\n",
       "52853         abusesurvivors       72\n",
       "55004           babushkadogs       36\n",
       "41175   SexualAbuseSurvivors       27\n",
       "31742    NarcAbuseAndDivorce       17\n",
       "9446    ChildAbuseDiscussion       14\n",
       "75981             plantabuse       14\n",
       "15395  EmotionalAbuseSupport       12\n",
       "40690   SchofieldCabanaAbuse        9\n",
       "53770          animalabusers        8\n",
       "72214               modabuse        7\n",
       "96625            verbalabuse        7\n",
       "12222           DXMabusehelp        6"
      ]
     },
     "execution_count": 71,
     "metadata": {},
     "output_type": "execute_result"
    }
   ],
   "source": [
    "metadata_count[metadata_count.subreddit\\\n",
    "                .apply(lambda x: x.lower()).str.contains('abus')]\\\n",
    "                .sort_values('nunique', ascending = False)[:20]"
   ]
  },
  {
   "cell_type": "code",
   "execution_count": 374,
   "metadata": {},
   "outputs": [
    {
     "name": "stdout",
     "output_type": "stream",
     "text": [
      "48234 users made posts in SuicideWatch subreddit.\n"
     ]
    }
   ],
   "source": [
    "SW_users = list(metadata[(metadata['subreddit']=='SuicideWatch') & (metadata['type']==1)].username.unique())\n",
    "print(str(len(SW_users)) + \" users made posts in SuicideWatch subreddit.\")"
   ]
  },
  {
   "cell_type": "code",
   "execution_count": 375,
   "metadata": {},
   "outputs": [
    {
     "data": {
      "text/html": [
       "<div>\n",
       "<style scoped>\n",
       "    .dataframe tbody tr th:only-of-type {\n",
       "        vertical-align: middle;\n",
       "    }\n",
       "\n",
       "    .dataframe tbody tr th {\n",
       "        vertical-align: top;\n",
       "    }\n",
       "\n",
       "    .dataframe thead th {\n",
       "        text-align: right;\n",
       "    }\n",
       "</style>\n",
       "<table border=\"1\" class=\"dataframe\">\n",
       "  <thead>\n",
       "    <tr style=\"text-align: right;\">\n",
       "      <th></th>\n",
       "      <th>username</th>\n",
       "      <th>type</th>\n",
       "      <th>subreddit</th>\n",
       "      <th>date</th>\n",
       "      <th>text</th>\n",
       "      <th>ups</th>\n",
       "      <th>downs</th>\n",
       "      <th>num_response</th>\n",
       "    </tr>\n",
       "  </thead>\n",
       "  <tbody>\n",
       "    <tr>\n",
       "      <th>9077098</th>\n",
       "      <td>-------RS--------</td>\n",
       "      <td>1</td>\n",
       "      <td>lonely</td>\n",
       "      <td>2019-09-03 06:29:44</td>\n",
       "      <td>Truly A Bruh Moment Feel like some outside for...</td>\n",
       "      <td>8</td>\n",
       "      <td>0</td>\n",
       "      <td>14</td>\n",
       "    </tr>\n",
       "    <tr>\n",
       "      <th>6236045</th>\n",
       "      <td>----Kerosene----</td>\n",
       "      <td>1</td>\n",
       "      <td>SuicideWatch</td>\n",
       "      <td>2019-07-22 11:50:15</td>\n",
       "      <td>I’m just like the rest of you This is my first...</td>\n",
       "      <td>1</td>\n",
       "      <td>0</td>\n",
       "      <td>3</td>\n",
       "    </tr>\n",
       "    <tr>\n",
       "      <th>1464108</th>\n",
       "      <td>---9--7--</td>\n",
       "      <td>1</td>\n",
       "      <td>SuicideWatch</td>\n",
       "      <td>2019-09-05 04:34:17</td>\n",
       "      <td>Think I might do it Think I might kill myself ...</td>\n",
       "      <td>1</td>\n",
       "      <td>0</td>\n",
       "      <td>1</td>\n",
       "    </tr>\n",
       "  </tbody>\n",
       "</table>\n",
       "</div>"
      ],
      "text/plain": [
       "                  username  type     subreddit                date  \\\n",
       "9077098  -------RS--------     1        lonely 2019-09-03 06:29:44   \n",
       "6236045   ----Kerosene----     1  SuicideWatch 2019-07-22 11:50:15   \n",
       "1464108          ---9--7--     1  SuicideWatch 2019-09-05 04:34:17   \n",
       "\n",
       "                                                      text  ups  downs  \\\n",
       "9077098  Truly A Bruh Moment Feel like some outside for...    8      0   \n",
       "6236045  I’m just like the rest of you This is my first...    1      0   \n",
       "1464108  Think I might do it Think I might kill myself ...    1      0   \n",
       "\n",
       "         num_response  \n",
       "9077098            14  \n",
       "6236045             3  \n",
       "1464108             1  "
      ]
     },
     "execution_count": 375,
     "metadata": {},
     "output_type": "execute_result"
    }
   ],
   "source": [
    "first_activity = metadata.loc[(metadata.groupby('username')['date'].idxmin())]\n",
    "first_activity.head(n=3)"
   ]
  },
  {
   "cell_type": "code",
   "execution_count": 376,
   "metadata": {},
   "outputs": [
    {
     "data": {
      "text/plain": [
       "(48234, 8)"
      ]
     },
     "execution_count": 376,
     "metadata": {},
     "output_type": "execute_result"
    }
   ],
   "source": [
    "first_activity.shape"
   ]
  },
  {
   "cell_type": "code",
   "execution_count": 377,
   "metadata": {},
   "outputs": [],
   "source": [
    "# list of users whose first activity was not SW\n",
    "first_activity_nsw = first_activity[first_activity['subreddit'] != 'SuicideWatch'].username.unique().tolist()"
   ]
  },
  {
   "cell_type": "code",
   "execution_count": 378,
   "metadata": {},
   "outputs": [
    {
     "name": "stdout",
     "output_type": "stream",
     "text": [
      "Dropped from 48234 to 30631 by filtering out users whose first post on reddit was the SW post. We want users that had a history of posting on reddit before eventually posting on SW. But this drop is significant as it shows us that a lot of the actual suicidal users don't necessarily have preexisting accounts.\n",
      "\n",
      "This is about a 36.5% decrease\n"
     ]
    }
   ],
   "source": [
    "nsw_first_users = list(set(SW_users).intersection(set(first_activity_nsw)))\n",
    "print(\"Dropped from \" + str(len(SW_users)) + \" to \" + str(len(nsw_first_users)) + \" by filtering out users whose first post on reddit was the SW post. We want users that had a history of posting on reddit before eventually posting on SW. But this drop is significant as it shows us that a lot of the actual suicidal users don't necessarily have preexisting accounts.\")\n",
    "print(\"\")\n",
    "print(\"This is about a \" + str(np.round((len(SW_users)-len(nsw_first_users))/len(SW_users) *100, 2)) + \"% decrease\") "
   ]
  },
  {
   "cell_type": "code",
   "execution_count": 379,
   "metadata": {},
   "outputs": [
    {
     "data": {
      "text/html": [
       "<div>\n",
       "<style scoped>\n",
       "    .dataframe tbody tr th:only-of-type {\n",
       "        vertical-align: middle;\n",
       "    }\n",
       "\n",
       "    .dataframe tbody tr th {\n",
       "        vertical-align: top;\n",
       "    }\n",
       "\n",
       "    .dataframe thead th {\n",
       "        text-align: right;\n",
       "    }\n",
       "</style>\n",
       "<table border=\"1\" class=\"dataframe\">\n",
       "  <thead>\n",
       "    <tr style=\"text-align: right;\">\n",
       "      <th></th>\n",
       "      <th>username</th>\n",
       "      <th>type</th>\n",
       "      <th>subreddit</th>\n",
       "      <th>date</th>\n",
       "      <th>text</th>\n",
       "      <th>ups</th>\n",
       "      <th>downs</th>\n",
       "      <th>num_response</th>\n",
       "    </tr>\n",
       "  </thead>\n",
       "  <tbody>\n",
       "    <tr>\n",
       "      <th>0</th>\n",
       "      <td>FrankLamps</td>\n",
       "      <td>0</td>\n",
       "      <td>SuicideWatch</td>\n",
       "      <td>2018-08-11 10:08:28</td>\n",
       "      <td>I don't think she's pregant.. and my God what ...</td>\n",
       "      <td>1</td>\n",
       "      <td>0</td>\n",
       "      <td>0</td>\n",
       "    </tr>\n",
       "    <tr>\n",
       "      <th>1</th>\n",
       "      <td>FrankLamps</td>\n",
       "      <td>0</td>\n",
       "      <td>SuicideWatch</td>\n",
       "      <td>2018-08-11 10:03:22</td>\n",
       "      <td>how is it brighter.. to have a kid at 21, and ...</td>\n",
       "      <td>1</td>\n",
       "      <td>0</td>\n",
       "      <td>0</td>\n",
       "    </tr>\n",
       "    <tr>\n",
       "      <th>2</th>\n",
       "      <td>FrankLamps</td>\n",
       "      <td>0</td>\n",
       "      <td>cheating_stories</td>\n",
       "      <td>2018-08-07 07:02:37</td>\n",
       "      <td>Yeah, was the cherry on top.</td>\n",
       "      <td>5</td>\n",
       "      <td>0</td>\n",
       "      <td>0</td>\n",
       "    </tr>\n",
       "    <tr>\n",
       "      <th>3</th>\n",
       "      <td>FrankLamps</td>\n",
       "      <td>0</td>\n",
       "      <td>cheating_stories</td>\n",
       "      <td>2018-08-07 07:02:26</td>\n",
       "      <td>almost a year..</td>\n",
       "      <td>5</td>\n",
       "      <td>0</td>\n",
       "      <td>0</td>\n",
       "    </tr>\n",
       "    <tr>\n",
       "      <th>4</th>\n",
       "      <td>FrankLamps</td>\n",
       "      <td>0</td>\n",
       "      <td>cheating_stories</td>\n",
       "      <td>2018-08-06 11:42:43</td>\n",
       "      <td>Thanks, the last couple of hours i've been thi...</td>\n",
       "      <td>16</td>\n",
       "      <td>0</td>\n",
       "      <td>0</td>\n",
       "    </tr>\n",
       "  </tbody>\n",
       "</table>\n",
       "</div>"
      ],
      "text/plain": [
       "     username  type         subreddit                date  \\\n",
       "0  FrankLamps     0      SuicideWatch 2018-08-11 10:08:28   \n",
       "1  FrankLamps     0      SuicideWatch 2018-08-11 10:03:22   \n",
       "2  FrankLamps     0  cheating_stories 2018-08-07 07:02:37   \n",
       "3  FrankLamps     0  cheating_stories 2018-08-07 07:02:26   \n",
       "4  FrankLamps     0  cheating_stories 2018-08-06 11:42:43   \n",
       "\n",
       "                                                text  ups  downs  num_response  \n",
       "0  I don't think she's pregant.. and my God what ...    1      0             0  \n",
       "1  how is it brighter.. to have a kid at 21, and ...    1      0             0  \n",
       "2                       Yeah, was the cherry on top.    5      0             0  \n",
       "3                                    almost a year..    5      0             0  \n",
       "4  Thanks, the last couple of hours i've been thi...   16      0             0  "
      ]
     },
     "execution_count": 379,
     "metadata": {},
     "output_type": "execute_result"
    }
   ],
   "source": [
    "metnsw = metadata[metadata.username.isin(nsw_first_users)]\n",
    "metnsw.head()"
   ]
  },
  {
   "cell_type": "markdown",
   "metadata": {},
   "source": [
    "### First Non SW Post\n",
    "\n",
    "Regardless of where it was posted."
   ]
  },
  {
   "cell_type": "code",
   "execution_count": 380,
   "metadata": {},
   "outputs": [],
   "source": [
    "first_activity_date = first_activity[['username','date']][first_activity.\\\n",
    "                                                          username.\\\n",
    "                                                          isin(nsw_first_users)].\\\n",
    "                                                         rename({'date':'first_act_date'},axis = 1)"
   ]
  },
  {
   "cell_type": "code",
   "execution_count": 381,
   "metadata": {},
   "outputs": [
    {
     "data": {
      "text/html": [
       "<div>\n",
       "<style scoped>\n",
       "    .dataframe tbody tr th:only-of-type {\n",
       "        vertical-align: middle;\n",
       "    }\n",
       "\n",
       "    .dataframe tbody tr th {\n",
       "        vertical-align: top;\n",
       "    }\n",
       "\n",
       "    .dataframe thead th {\n",
       "        text-align: right;\n",
       "    }\n",
       "</style>\n",
       "<table border=\"1\" class=\"dataframe\">\n",
       "  <thead>\n",
       "    <tr style=\"text-align: right;\">\n",
       "      <th></th>\n",
       "      <th>username</th>\n",
       "      <th>first_act_date</th>\n",
       "    </tr>\n",
       "  </thead>\n",
       "  <tbody>\n",
       "    <tr>\n",
       "      <th>9077098</th>\n",
       "      <td>-------RS--------</td>\n",
       "      <td>2019-09-03 06:29:44</td>\n",
       "    </tr>\n",
       "    <tr>\n",
       "      <th>4173058</th>\n",
       "      <td>---kali---</td>\n",
       "      <td>2020-01-28 00:09:51</td>\n",
       "    </tr>\n",
       "    <tr>\n",
       "      <th>1362387</th>\n",
       "      <td>--OriginalUsername--</td>\n",
       "      <td>2020-09-20 22:59:27</td>\n",
       "    </tr>\n",
       "    <tr>\n",
       "      <th>4127740</th>\n",
       "      <td>--Pascal--</td>\n",
       "      <td>2018-02-26 07:15:46</td>\n",
       "    </tr>\n",
       "    <tr>\n",
       "      <th>9628739</th>\n",
       "      <td>--Pot--</td>\n",
       "      <td>2019-11-02 21:42:09</td>\n",
       "    </tr>\n",
       "    <tr>\n",
       "      <th>...</th>\n",
       "      <td>...</td>\n",
       "      <td>...</td>\n",
       "    </tr>\n",
       "    <tr>\n",
       "      <th>4495143</th>\n",
       "      <td>zzcool</td>\n",
       "      <td>2012-03-16 08:44:22</td>\n",
       "    </tr>\n",
       "    <tr>\n",
       "      <th>1684872</th>\n",
       "      <td>zzmat</td>\n",
       "      <td>2016-08-31 19:44:55</td>\n",
       "    </tr>\n",
       "    <tr>\n",
       "      <th>8005581</th>\n",
       "      <td>zzubnik</td>\n",
       "      <td>2010-11-12 13:09:46</td>\n",
       "    </tr>\n",
       "    <tr>\n",
       "      <th>2929212</th>\n",
       "      <td>zzzinthev6446</td>\n",
       "      <td>2020-11-06 07:58:37</td>\n",
       "    </tr>\n",
       "    <tr>\n",
       "      <th>3463060</th>\n",
       "      <td>zzzmicah</td>\n",
       "      <td>2020-08-02 19:16:55</td>\n",
       "    </tr>\n",
       "  </tbody>\n",
       "</table>\n",
       "<p>30631 rows × 2 columns</p>\n",
       "</div>"
      ],
      "text/plain": [
       "                     username      first_act_date\n",
       "9077098     -------RS-------- 2019-09-03 06:29:44\n",
       "4173058            ---kali--- 2020-01-28 00:09:51\n",
       "1362387  --OriginalUsername-- 2020-09-20 22:59:27\n",
       "4127740            --Pascal-- 2018-02-26 07:15:46\n",
       "9628739               --Pot-- 2019-11-02 21:42:09\n",
       "...                       ...                 ...\n",
       "4495143                zzcool 2012-03-16 08:44:22\n",
       "1684872                 zzmat 2016-08-31 19:44:55\n",
       "8005581               zzubnik 2010-11-12 13:09:46\n",
       "2929212         zzzinthev6446 2020-11-06 07:58:37\n",
       "3463060              zzzmicah 2020-08-02 19:16:55\n",
       "\n",
       "[30631 rows x 2 columns]"
      ]
     },
     "execution_count": 381,
     "metadata": {},
     "output_type": "execute_result"
    }
   ],
   "source": [
    "first_activity_date"
   ]
  },
  {
   "cell_type": "markdown",
   "metadata": {},
   "source": [
    "### First SW Post Date "
   ]
  },
  {
   "cell_type": "code",
   "execution_count": 382,
   "metadata": {},
   "outputs": [],
   "source": [
    "first_sw_dates = metnsw[(metnsw['subreddit'] == 'SuicideWatch')&(metnsw['type']==1)].groupby('username').date.agg(first_sw_post = np.min).reset_index()"
   ]
  },
  {
   "cell_type": "code",
   "execution_count": 383,
   "metadata": {},
   "outputs": [
    {
     "data": {
      "text/html": [
       "<div>\n",
       "<style scoped>\n",
       "    .dataframe tbody tr th:only-of-type {\n",
       "        vertical-align: middle;\n",
       "    }\n",
       "\n",
       "    .dataframe tbody tr th {\n",
       "        vertical-align: top;\n",
       "    }\n",
       "\n",
       "    .dataframe thead th {\n",
       "        text-align: right;\n",
       "    }\n",
       "</style>\n",
       "<table border=\"1\" class=\"dataframe\">\n",
       "  <thead>\n",
       "    <tr style=\"text-align: right;\">\n",
       "      <th></th>\n",
       "      <th>username</th>\n",
       "      <th>first_sw_post</th>\n",
       "    </tr>\n",
       "  </thead>\n",
       "  <tbody>\n",
       "    <tr>\n",
       "      <th>0</th>\n",
       "      <td>-------RS--------</td>\n",
       "      <td>2019-09-10 01:12:53</td>\n",
       "    </tr>\n",
       "    <tr>\n",
       "      <th>1</th>\n",
       "      <td>---kali---</td>\n",
       "      <td>2020-05-07 07:53:43</td>\n",
       "    </tr>\n",
       "    <tr>\n",
       "      <th>2</th>\n",
       "      <td>--OriginalUsername--</td>\n",
       "      <td>2020-10-10 02:09:19</td>\n",
       "    </tr>\n",
       "    <tr>\n",
       "      <th>3</th>\n",
       "      <td>--Pascal--</td>\n",
       "      <td>2018-05-16 13:08:07</td>\n",
       "    </tr>\n",
       "    <tr>\n",
       "      <th>4</th>\n",
       "      <td>--Pot--</td>\n",
       "      <td>2020-08-23 15:23:40</td>\n",
       "    </tr>\n",
       "    <tr>\n",
       "      <th>...</th>\n",
       "      <td>...</td>\n",
       "      <td>...</td>\n",
       "    </tr>\n",
       "    <tr>\n",
       "      <th>30626</th>\n",
       "      <td>zzcool</td>\n",
       "      <td>2020-08-16 05:11:11</td>\n",
       "    </tr>\n",
       "    <tr>\n",
       "      <th>30627</th>\n",
       "      <td>zzmat</td>\n",
       "      <td>2019-06-14 03:59:17</td>\n",
       "    </tr>\n",
       "    <tr>\n",
       "      <th>30628</th>\n",
       "      <td>zzubnik</td>\n",
       "      <td>2018-12-31 23:02:51</td>\n",
       "    </tr>\n",
       "    <tr>\n",
       "      <th>30629</th>\n",
       "      <td>zzzinthev6446</td>\n",
       "      <td>2021-02-22 07:22:14</td>\n",
       "    </tr>\n",
       "    <tr>\n",
       "      <th>30630</th>\n",
       "      <td>zzzmicah</td>\n",
       "      <td>2020-08-29 08:29:06</td>\n",
       "    </tr>\n",
       "  </tbody>\n",
       "</table>\n",
       "<p>30631 rows × 2 columns</p>\n",
       "</div>"
      ],
      "text/plain": [
       "                   username       first_sw_post\n",
       "0         -------RS-------- 2019-09-10 01:12:53\n",
       "1                ---kali--- 2020-05-07 07:53:43\n",
       "2      --OriginalUsername-- 2020-10-10 02:09:19\n",
       "3                --Pascal-- 2018-05-16 13:08:07\n",
       "4                   --Pot-- 2020-08-23 15:23:40\n",
       "...                     ...                 ...\n",
       "30626                zzcool 2020-08-16 05:11:11\n",
       "30627                 zzmat 2019-06-14 03:59:17\n",
       "30628               zzubnik 2018-12-31 23:02:51\n",
       "30629         zzzinthev6446 2021-02-22 07:22:14\n",
       "30630              zzzmicah 2020-08-29 08:29:06\n",
       "\n",
       "[30631 rows x 2 columns]"
      ]
     },
     "execution_count": 383,
     "metadata": {},
     "output_type": "execute_result"
    }
   ],
   "source": [
    "first_sw_dates"
   ]
  },
  {
   "cell_type": "code",
   "execution_count": 384,
   "metadata": {},
   "outputs": [
    {
     "name": "stdout",
     "output_type": "stream",
     "text": [
      "(9380515, 8)\n",
      "(3914765, 9)\n"
     ]
    }
   ],
   "source": [
    "print(metnsw.shape)\n",
    "metnsw = pd.merge(metnsw, first_sw_dates, on = 'username')\n",
    "metnsw = metnsw[~(metnsw['date']>metnsw['first_sw_post'])]\n",
    "print(metnsw.shape)"
   ]
  },
  {
   "cell_type": "markdown",
   "metadata": {},
   "source": [
    "### First MH Post Date"
   ]
  },
  {
   "cell_type": "code",
   "execution_count": 385,
   "metadata": {},
   "outputs": [],
   "source": [
    "MH_subs = depression_list + anxiety_list \\\n",
    "        + bpd_list + bipolar_list + ptsd_list \\\n",
    "        + ocd_list + addiction_list + schizo_list \\\n",
    "        + eating_disorder_list + self_harm_list \\\n",
    "        + lonely_list + sexual_list + relationship_list"
   ]
  },
  {
   "cell_type": "code",
   "execution_count": 386,
   "metadata": {},
   "outputs": [
    {
     "data": {
      "text/plain": [
       "['depression',\n",
       " 'depression_help',\n",
       " 'antidepressants',\n",
       " 'depressed',\n",
       " 'AnxietyDepression',\n",
       " 'AdultDepression',\n",
       " 'Anxiety',\n",
       " 'AnxietyDepression',\n",
       " 'socialanxiety',\n",
       " 'Anxietyhelp',\n",
       " 'adhd_anxiety',\n",
       " 'PanicAttack',\n",
       " 'BPD',\n",
       " 'bipolar',\n",
       " 'BipolarReddit',\n",
       " 'CPTSD',\n",
       " 'ptsd',\n",
       " 'OCD',\n",
       " 'addiction',\n",
       " 'alcoholism',\n",
       " 'alcohol',\n",
       " 'cripplingalcoholism',\n",
       " 'alcoholicsanonymous',\n",
       " 'opiates',\n",
       " 'heroin',\n",
       " 'cocaine',\n",
       " 'trees',\n",
       " 'Drugs',\n",
       " 'askdrugs',\n",
       " 'leaves',\n",
       " 'schizophrenia',\n",
       " 'BingeEatingDisorder',\n",
       " 'EatingDisorders',\n",
       " 'fuckeatingdisorders',\n",
       " 'eating_disorders',\n",
       " 'bulimia',\n",
       " 'BreakUps',\n",
       " 'heartbreak',\n",
       " 'selfharm',\n",
       " 'SelfHarmScars',\n",
       " 'lonely',\n",
       " 'ForeverAlone',\n",
       " 'rape',\n",
       " 'rapecounseling',\n",
       " 'sexualassault',\n",
       " 'relationship_advice',\n",
       " 'relationships',\n",
       " 'abusiverelationships',\n",
       " 'survivinginfidelity',\n",
       " 'cheating_stories',\n",
       " 'NarcissisticAbuse',\n",
       " 'abusiveparents',\n",
       " 'survivorsofabuse',\n",
       " 'raisedbynarcissists',\n",
       " 'insaneparents',\n",
       " 'lossofalovedone',\n",
       " 'LostALovedOne']"
      ]
     },
     "metadata": {},
     "output_type": "display_data"
    },
    {
     "data": {
      "text/plain": [
       "'Number of subreddits in list : 57'"
      ]
     },
     "metadata": {},
     "output_type": "display_data"
    }
   ],
   "source": [
    "display(MH_subs, \"Number of subreddits in list : \" + str(len(MH_subs)))"
   ]
  },
  {
   "cell_type": "code",
   "execution_count": 387,
   "metadata": {},
   "outputs": [
    {
     "data": {
      "text/plain": [
       "14438"
      ]
     },
     "execution_count": 387,
     "metadata": {},
     "output_type": "execute_result"
    }
   ],
   "source": [
    "mh_users = metnsw[metnsw.subreddit.isin(MH_subs)].username.unique().tolist()\n",
    "len(mh_users)"
   ]
  },
  {
   "cell_type": "code",
   "execution_count": 388,
   "metadata": {},
   "outputs": [
    {
     "data": {
      "text/html": [
       "<div>\n",
       "<style scoped>\n",
       "    .dataframe tbody tr th:only-of-type {\n",
       "        vertical-align: middle;\n",
       "    }\n",
       "\n",
       "    .dataframe tbody tr th {\n",
       "        vertical-align: top;\n",
       "    }\n",
       "\n",
       "    .dataframe thead th {\n",
       "        text-align: right;\n",
       "    }\n",
       "</style>\n",
       "<table border=\"1\" class=\"dataframe\">\n",
       "  <thead>\n",
       "    <tr style=\"text-align: right;\">\n",
       "      <th></th>\n",
       "      <th>username</th>\n",
       "      <th>first_mh_post</th>\n",
       "      <th>last_mh_post</th>\n",
       "    </tr>\n",
       "  </thead>\n",
       "  <tbody>\n",
       "    <tr>\n",
       "      <th>0</th>\n",
       "      <td>-------RS--------</td>\n",
       "      <td>2019-09-03 06:29:44</td>\n",
       "      <td>2019-09-10 01:09:32</td>\n",
       "    </tr>\n",
       "    <tr>\n",
       "      <th>1</th>\n",
       "      <td>---kali---</td>\n",
       "      <td>2020-01-28 00:09:51</td>\n",
       "      <td>2020-05-04 13:06:11</td>\n",
       "    </tr>\n",
       "    <tr>\n",
       "      <th>2</th>\n",
       "      <td>--Pascal--</td>\n",
       "      <td>2018-02-28 04:13:43</td>\n",
       "      <td>2018-05-16 11:47:35</td>\n",
       "    </tr>\n",
       "    <tr>\n",
       "      <th>3</th>\n",
       "      <td>--Solus</td>\n",
       "      <td>2016-07-18 17:45:36</td>\n",
       "      <td>2017-04-18 10:34:33</td>\n",
       "    </tr>\n",
       "    <tr>\n",
       "      <th>4</th>\n",
       "      <td>--XCrissCrossX--</td>\n",
       "      <td>2020-02-26 09:53:50</td>\n",
       "      <td>2020-02-26 09:53:50</td>\n",
       "    </tr>\n",
       "  </tbody>\n",
       "</table>\n",
       "</div>"
      ],
      "text/plain": [
       "            username       first_mh_post        last_mh_post\n",
       "0  -------RS-------- 2019-09-03 06:29:44 2019-09-10 01:09:32\n",
       "1         ---kali--- 2020-01-28 00:09:51 2020-05-04 13:06:11\n",
       "2         --Pascal-- 2018-02-28 04:13:43 2018-05-16 11:47:35\n",
       "3            --Solus 2016-07-18 17:45:36 2017-04-18 10:34:33\n",
       "4   --XCrissCrossX-- 2020-02-26 09:53:50 2020-02-26 09:53:50"
      ]
     },
     "execution_count": 388,
     "metadata": {},
     "output_type": "execute_result"
    }
   ],
   "source": [
    "first_mh_dates = metnsw[(metnsw.subreddit.isin(MH_subs))&(metnsw.username.isin(mh_users))].\\\n",
    "                         groupby('username').\\\n",
    "                         date.\\\n",
    "                         agg(first_mh_post = np.min, last_mh_post = np.max).\\\n",
    "                         reset_index()\n",
    "first_mh_dates.head()"
   ]
  },
  {
   "cell_type": "markdown",
   "metadata": {},
   "source": [
    "## User Posting Date Stats"
   ]
  },
  {
   "cell_type": "code",
   "execution_count": 389,
   "metadata": {},
   "outputs": [
    {
     "data": {
      "text/html": [
       "<div>\n",
       "<style scoped>\n",
       "    .dataframe tbody tr th:only-of-type {\n",
       "        vertical-align: middle;\n",
       "    }\n",
       "\n",
       "    .dataframe tbody tr th {\n",
       "        vertical-align: top;\n",
       "    }\n",
       "\n",
       "    .dataframe thead th {\n",
       "        text-align: right;\n",
       "    }\n",
       "</style>\n",
       "<table border=\"1\" class=\"dataframe\">\n",
       "  <thead>\n",
       "    <tr style=\"text-align: right;\">\n",
       "      <th></th>\n",
       "      <th>username</th>\n",
       "      <th>first_act_date</th>\n",
       "      <th>first_sw_post</th>\n",
       "      <th>first_mh_post</th>\n",
       "      <th>last_mh_post</th>\n",
       "    </tr>\n",
       "  </thead>\n",
       "  <tbody>\n",
       "    <tr>\n",
       "      <th>0</th>\n",
       "      <td>-------RS--------</td>\n",
       "      <td>2019-09-03 06:29:44</td>\n",
       "      <td>2019-09-10 01:12:53</td>\n",
       "      <td>2019-09-03 06:29:44</td>\n",
       "      <td>2019-09-10 01:09:32</td>\n",
       "    </tr>\n",
       "    <tr>\n",
       "      <th>1</th>\n",
       "      <td>---kali---</td>\n",
       "      <td>2020-01-28 00:09:51</td>\n",
       "      <td>2020-05-07 07:53:43</td>\n",
       "      <td>2020-01-28 00:09:51</td>\n",
       "      <td>2020-05-04 13:06:11</td>\n",
       "    </tr>\n",
       "    <tr>\n",
       "      <th>2</th>\n",
       "      <td>--Pascal--</td>\n",
       "      <td>2018-02-26 07:15:46</td>\n",
       "      <td>2018-05-16 13:08:07</td>\n",
       "      <td>2018-02-28 04:13:43</td>\n",
       "      <td>2018-05-16 11:47:35</td>\n",
       "    </tr>\n",
       "    <tr>\n",
       "      <th>3</th>\n",
       "      <td>--Solus</td>\n",
       "      <td>2016-06-01 18:14:25</td>\n",
       "      <td>2017-06-19 13:16:56</td>\n",
       "      <td>2016-07-18 17:45:36</td>\n",
       "      <td>2017-04-18 10:34:33</td>\n",
       "    </tr>\n",
       "    <tr>\n",
       "      <th>4</th>\n",
       "      <td>--XCrissCrossX--</td>\n",
       "      <td>2020-02-26 09:53:50</td>\n",
       "      <td>2020-03-07 22:06:04</td>\n",
       "      <td>2020-02-26 09:53:50</td>\n",
       "      <td>2020-02-26 09:53:50</td>\n",
       "    </tr>\n",
       "  </tbody>\n",
       "</table>\n",
       "</div>"
      ],
      "text/plain": [
       "            username      first_act_date       first_sw_post  \\\n",
       "0  -------RS-------- 2019-09-03 06:29:44 2019-09-10 01:12:53   \n",
       "1         ---kali--- 2020-01-28 00:09:51 2020-05-07 07:53:43   \n",
       "2         --Pascal-- 2018-02-26 07:15:46 2018-05-16 13:08:07   \n",
       "3            --Solus 2016-06-01 18:14:25 2017-06-19 13:16:56   \n",
       "4   --XCrissCrossX-- 2020-02-26 09:53:50 2020-03-07 22:06:04   \n",
       "\n",
       "        first_mh_post        last_mh_post  \n",
       "0 2019-09-03 06:29:44 2019-09-10 01:09:32  \n",
       "1 2020-01-28 00:09:51 2020-05-04 13:06:11  \n",
       "2 2018-02-28 04:13:43 2018-05-16 11:47:35  \n",
       "3 2016-07-18 17:45:36 2017-04-18 10:34:33  \n",
       "4 2020-02-26 09:53:50 2020-02-26 09:53:50  "
      ]
     },
     "execution_count": 389,
     "metadata": {},
     "output_type": "execute_result"
    }
   ],
   "source": [
    "user_date_activity = pd.merge(first_activity_date, first_sw_dates)\n",
    "user_date_activity = pd.merge(user_date_activity, first_mh_dates)\n",
    "user_date_activity.head()"
   ]
  },
  {
   "cell_type": "code",
   "execution_count": 390,
   "metadata": {},
   "outputs": [],
   "source": [
    "user_date_activity['time_since_first'] = \\\n",
    "        (user_date_activity['first_sw_post'] - user_date_activity['first_act_date']).\\\n",
    "        astype('timedelta64[D]')\n",
    "\n",
    "user_date_activity['time_since_first_mh'] = \\\n",
    "        (user_date_activity['first_sw_post'] - user_date_activity['first_mh_post']).\\\n",
    "        astype('timedelta64[D]')\n",
    "\n",
    "user_date_activity['time_since_last_mh'] = \\\n",
    "        (user_date_activity['first_sw_post'] - user_date_activity['last_mh_post']).\\\n",
    "        astype('timedelta64[D]')"
   ]
  },
  {
   "cell_type": "code",
   "execution_count": 391,
   "metadata": {},
   "outputs": [
    {
     "data": {
      "text/html": [
       "<div>\n",
       "<style scoped>\n",
       "    .dataframe tbody tr th:only-of-type {\n",
       "        vertical-align: middle;\n",
       "    }\n",
       "\n",
       "    .dataframe tbody tr th {\n",
       "        vertical-align: top;\n",
       "    }\n",
       "\n",
       "    .dataframe thead th {\n",
       "        text-align: right;\n",
       "    }\n",
       "</style>\n",
       "<table border=\"1\" class=\"dataframe\">\n",
       "  <thead>\n",
       "    <tr style=\"text-align: right;\">\n",
       "      <th></th>\n",
       "      <th>username</th>\n",
       "      <th>first_act_date</th>\n",
       "      <th>first_sw_post</th>\n",
       "      <th>first_mh_post</th>\n",
       "      <th>last_mh_post</th>\n",
       "      <th>time_since_first</th>\n",
       "      <th>time_since_first_mh</th>\n",
       "      <th>time_since_last_mh</th>\n",
       "    </tr>\n",
       "  </thead>\n",
       "  <tbody>\n",
       "    <tr>\n",
       "      <th>0</th>\n",
       "      <td>-------RS--------</td>\n",
       "      <td>2019-09-03 06:29:44</td>\n",
       "      <td>2019-09-10 01:12:53</td>\n",
       "      <td>2019-09-03 06:29:44</td>\n",
       "      <td>2019-09-10 01:09:32</td>\n",
       "      <td>6.0</td>\n",
       "      <td>6.0</td>\n",
       "      <td>0.0</td>\n",
       "    </tr>\n",
       "    <tr>\n",
       "      <th>1</th>\n",
       "      <td>---kali---</td>\n",
       "      <td>2020-01-28 00:09:51</td>\n",
       "      <td>2020-05-07 07:53:43</td>\n",
       "      <td>2020-01-28 00:09:51</td>\n",
       "      <td>2020-05-04 13:06:11</td>\n",
       "      <td>100.0</td>\n",
       "      <td>100.0</td>\n",
       "      <td>2.0</td>\n",
       "    </tr>\n",
       "    <tr>\n",
       "      <th>2</th>\n",
       "      <td>--Pascal--</td>\n",
       "      <td>2018-02-26 07:15:46</td>\n",
       "      <td>2018-05-16 13:08:07</td>\n",
       "      <td>2018-02-28 04:13:43</td>\n",
       "      <td>2018-05-16 11:47:35</td>\n",
       "      <td>79.0</td>\n",
       "      <td>77.0</td>\n",
       "      <td>0.0</td>\n",
       "    </tr>\n",
       "    <tr>\n",
       "      <th>3</th>\n",
       "      <td>--Solus</td>\n",
       "      <td>2016-06-01 18:14:25</td>\n",
       "      <td>2017-06-19 13:16:56</td>\n",
       "      <td>2016-07-18 17:45:36</td>\n",
       "      <td>2017-04-18 10:34:33</td>\n",
       "      <td>382.0</td>\n",
       "      <td>335.0</td>\n",
       "      <td>62.0</td>\n",
       "    </tr>\n",
       "    <tr>\n",
       "      <th>4</th>\n",
       "      <td>--XCrissCrossX--</td>\n",
       "      <td>2020-02-26 09:53:50</td>\n",
       "      <td>2020-03-07 22:06:04</td>\n",
       "      <td>2020-02-26 09:53:50</td>\n",
       "      <td>2020-02-26 09:53:50</td>\n",
       "      <td>10.0</td>\n",
       "      <td>10.0</td>\n",
       "      <td>10.0</td>\n",
       "    </tr>\n",
       "  </tbody>\n",
       "</table>\n",
       "</div>"
      ],
      "text/plain": [
       "            username      first_act_date       first_sw_post  \\\n",
       "0  -------RS-------- 2019-09-03 06:29:44 2019-09-10 01:12:53   \n",
       "1         ---kali--- 2020-01-28 00:09:51 2020-05-07 07:53:43   \n",
       "2         --Pascal-- 2018-02-26 07:15:46 2018-05-16 13:08:07   \n",
       "3            --Solus 2016-06-01 18:14:25 2017-06-19 13:16:56   \n",
       "4   --XCrissCrossX-- 2020-02-26 09:53:50 2020-03-07 22:06:04   \n",
       "\n",
       "        first_mh_post        last_mh_post  time_since_first  \\\n",
       "0 2019-09-03 06:29:44 2019-09-10 01:09:32               6.0   \n",
       "1 2020-01-28 00:09:51 2020-05-04 13:06:11             100.0   \n",
       "2 2018-02-28 04:13:43 2018-05-16 11:47:35              79.0   \n",
       "3 2016-07-18 17:45:36 2017-04-18 10:34:33             382.0   \n",
       "4 2020-02-26 09:53:50 2020-02-26 09:53:50              10.0   \n",
       "\n",
       "   time_since_first_mh  time_since_last_mh  \n",
       "0                  6.0                 0.0  \n",
       "1                100.0                 2.0  \n",
       "2                 77.0                 0.0  \n",
       "3                335.0                62.0  \n",
       "4                 10.0                10.0  "
      ]
     },
     "execution_count": 391,
     "metadata": {},
     "output_type": "execute_result"
    }
   ],
   "source": [
    "user_date_activity.head()"
   ]
  },
  {
   "cell_type": "code",
   "execution_count": 447,
   "metadata": {},
   "outputs": [
    {
     "data": {
      "text/html": [
       "<div>\n",
       "<style scoped>\n",
       "    .dataframe tbody tr th:only-of-type {\n",
       "        vertical-align: middle;\n",
       "    }\n",
       "\n",
       "    .dataframe tbody tr th {\n",
       "        vertical-align: top;\n",
       "    }\n",
       "\n",
       "    .dataframe thead th {\n",
       "        text-align: right;\n",
       "    }\n",
       "</style>\n",
       "<table border=\"1\" class=\"dataframe\">\n",
       "  <thead>\n",
       "    <tr style=\"text-align: right;\">\n",
       "      <th></th>\n",
       "      <th>username</th>\n",
       "      <th>first_act_date</th>\n",
       "      <th>first_sw_post</th>\n",
       "      <th>first_mh_post</th>\n",
       "      <th>last_mh_post</th>\n",
       "      <th>time_since_first</th>\n",
       "      <th>time_since_first_mh</th>\n",
       "      <th>time_since_last_mh</th>\n",
       "    </tr>\n",
       "  </thead>\n",
       "  <tbody>\n",
       "    <tr>\n",
       "      <th>0</th>\n",
       "      <td>-------RS--------</td>\n",
       "      <td>2019-09-03 06:29:44</td>\n",
       "      <td>2019-09-10 01:12:53</td>\n",
       "      <td>2019-09-03 06:29:44</td>\n",
       "      <td>2019-09-10 01:09:32</td>\n",
       "      <td>6.0</td>\n",
       "      <td>6.0</td>\n",
       "      <td>0.0</td>\n",
       "    </tr>\n",
       "    <tr>\n",
       "      <th>1</th>\n",
       "      <td>---kali---</td>\n",
       "      <td>2020-01-28 00:09:51</td>\n",
       "      <td>2020-05-07 07:53:43</td>\n",
       "      <td>2020-01-28 00:09:51</td>\n",
       "      <td>2020-05-04 13:06:11</td>\n",
       "      <td>100.0</td>\n",
       "      <td>100.0</td>\n",
       "      <td>2.0</td>\n",
       "    </tr>\n",
       "    <tr>\n",
       "      <th>2</th>\n",
       "      <td>--Pascal--</td>\n",
       "      <td>2018-02-26 07:15:46</td>\n",
       "      <td>2018-05-16 13:08:07</td>\n",
       "      <td>2018-02-28 04:13:43</td>\n",
       "      <td>2018-05-16 11:47:35</td>\n",
       "      <td>79.0</td>\n",
       "      <td>77.0</td>\n",
       "      <td>0.0</td>\n",
       "    </tr>\n",
       "    <tr>\n",
       "      <th>3</th>\n",
       "      <td>--Solus</td>\n",
       "      <td>2016-06-01 18:14:25</td>\n",
       "      <td>2017-06-19 13:16:56</td>\n",
       "      <td>2016-07-18 17:45:36</td>\n",
       "      <td>2017-04-18 10:34:33</td>\n",
       "      <td>382.0</td>\n",
       "      <td>335.0</td>\n",
       "      <td>62.0</td>\n",
       "    </tr>\n",
       "    <tr>\n",
       "      <th>4</th>\n",
       "      <td>--XCrissCrossX--</td>\n",
       "      <td>2020-02-26 09:53:50</td>\n",
       "      <td>2020-03-07 22:06:04</td>\n",
       "      <td>2020-02-26 09:53:50</td>\n",
       "      <td>2020-02-26 09:53:50</td>\n",
       "      <td>10.0</td>\n",
       "      <td>10.0</td>\n",
       "      <td>10.0</td>\n",
       "    </tr>\n",
       "  </tbody>\n",
       "</table>\n",
       "</div>"
      ],
      "text/plain": [
       "            username      first_act_date       first_sw_post  \\\n",
       "0  -------RS-------- 2019-09-03 06:29:44 2019-09-10 01:12:53   \n",
       "1         ---kali--- 2020-01-28 00:09:51 2020-05-07 07:53:43   \n",
       "2         --Pascal-- 2018-02-26 07:15:46 2018-05-16 13:08:07   \n",
       "3            --Solus 2016-06-01 18:14:25 2017-06-19 13:16:56   \n",
       "4   --XCrissCrossX-- 2020-02-26 09:53:50 2020-03-07 22:06:04   \n",
       "\n",
       "        first_mh_post        last_mh_post  time_since_first  \\\n",
       "0 2019-09-03 06:29:44 2019-09-10 01:09:32               6.0   \n",
       "1 2020-01-28 00:09:51 2020-05-04 13:06:11             100.0   \n",
       "2 2018-02-28 04:13:43 2018-05-16 11:47:35              79.0   \n",
       "3 2016-07-18 17:45:36 2017-04-18 10:34:33             382.0   \n",
       "4 2020-02-26 09:53:50 2020-02-26 09:53:50              10.0   \n",
       "\n",
       "   time_since_first_mh  time_since_last_mh  \n",
       "0                  6.0                 0.0  \n",
       "1                100.0                 2.0  \n",
       "2                 77.0                 0.0  \n",
       "3                335.0                62.0  \n",
       "4                 10.0                10.0  "
      ]
     },
     "execution_count": 447,
     "metadata": {},
     "output_type": "execute_result"
    }
   ],
   "source": [
    "mh_users = user_date_activity[user_date_activity['first_mh_post'] < user_date_activity['first_sw_post']]\n",
    "mh_users.head()"
   ]
  },
  {
   "cell_type": "code",
   "execution_count": 448,
   "metadata": {},
   "outputs": [
    {
     "data": {
      "text/html": [
       "<div>\n",
       "<style scoped>\n",
       "    .dataframe tbody tr th:only-of-type {\n",
       "        vertical-align: middle;\n",
       "    }\n",
       "\n",
       "    .dataframe tbody tr th {\n",
       "        vertical-align: top;\n",
       "    }\n",
       "\n",
       "    .dataframe thead th {\n",
       "        text-align: right;\n",
       "    }\n",
       "</style>\n",
       "<table border=\"1\" class=\"dataframe\">\n",
       "  <thead>\n",
       "    <tr style=\"text-align: right;\">\n",
       "      <th></th>\n",
       "      <th>time_since_first</th>\n",
       "      <th>time_since_first_mh</th>\n",
       "      <th>time_since_last_mh</th>\n",
       "    </tr>\n",
       "  </thead>\n",
       "  <tbody>\n",
       "    <tr>\n",
       "      <th>count</th>\n",
       "      <td>14438.000000</td>\n",
       "      <td>14438.000000</td>\n",
       "      <td>14438.000000</td>\n",
       "    </tr>\n",
       "    <tr>\n",
       "      <th>mean</th>\n",
       "      <td>460.576396</td>\n",
       "      <td>260.386965</td>\n",
       "      <td>103.003325</td>\n",
       "    </tr>\n",
       "    <tr>\n",
       "      <th>std</th>\n",
       "      <td>597.597605</td>\n",
       "      <td>418.963793</td>\n",
       "      <td>247.817184</td>\n",
       "    </tr>\n",
       "    <tr>\n",
       "      <th>min</th>\n",
       "      <td>0.000000</td>\n",
       "      <td>0.000000</td>\n",
       "      <td>0.000000</td>\n",
       "    </tr>\n",
       "    <tr>\n",
       "      <th>25%</th>\n",
       "      <td>52.000000</td>\n",
       "      <td>16.000000</td>\n",
       "      <td>1.000000</td>\n",
       "    </tr>\n",
       "    <tr>\n",
       "      <th>50%</th>\n",
       "      <td>231.000000</td>\n",
       "      <td>98.000000</td>\n",
       "      <td>14.000000</td>\n",
       "    </tr>\n",
       "    <tr>\n",
       "      <th>75%</th>\n",
       "      <td>628.000000</td>\n",
       "      <td>313.000000</td>\n",
       "      <td>90.000000</td>\n",
       "    </tr>\n",
       "    <tr>\n",
       "      <th>max</th>\n",
       "      <td>4408.000000</td>\n",
       "      <td>3578.000000</td>\n",
       "      <td>3578.000000</td>\n",
       "    </tr>\n",
       "  </tbody>\n",
       "</table>\n",
       "</div>"
      ],
      "text/plain": [
       "       time_since_first  time_since_first_mh  time_since_last_mh\n",
       "count      14438.000000         14438.000000        14438.000000\n",
       "mean         460.576396           260.386965          103.003325\n",
       "std          597.597605           418.963793          247.817184\n",
       "min            0.000000             0.000000            0.000000\n",
       "25%           52.000000            16.000000            1.000000\n",
       "50%          231.000000            98.000000           14.000000\n",
       "75%          628.000000           313.000000           90.000000\n",
       "max         4408.000000          3578.000000         3578.000000"
      ]
     },
     "execution_count": 448,
     "metadata": {},
     "output_type": "execute_result"
    }
   ],
   "source": [
    "mh_users.describe()"
   ]
  },
  {
   "cell_type": "code",
   "execution_count": 449,
   "metadata": {},
   "outputs": [
    {
     "data": {
      "text/plain": [
       "14438"
      ]
     },
     "execution_count": 449,
     "metadata": {},
     "output_type": "execute_result"
    }
   ],
   "source": [
    "mh_users.shape[0]"
   ]
  },
  {
   "cell_type": "code",
   "execution_count": 450,
   "metadata": {},
   "outputs": [],
   "source": [
    "sub_counts = metnsw.groupby(['username','subreddit']).count().reset_index()"
   ]
  },
  {
   "cell_type": "code",
   "execution_count": 451,
   "metadata": {},
   "outputs": [
    {
     "data": {
      "text/html": [
       "<div>\n",
       "<style scoped>\n",
       "    .dataframe tbody tr th:only-of-type {\n",
       "        vertical-align: middle;\n",
       "    }\n",
       "\n",
       "    .dataframe tbody tr th {\n",
       "        vertical-align: top;\n",
       "    }\n",
       "\n",
       "    .dataframe thead th {\n",
       "        text-align: right;\n",
       "    }\n",
       "</style>\n",
       "<table border=\"1\" class=\"dataframe\">\n",
       "  <thead>\n",
       "    <tr style=\"text-align: right;\">\n",
       "      <th></th>\n",
       "      <th>username</th>\n",
       "      <th>subreddit</th>\n",
       "      <th>type</th>\n",
       "      <th>date</th>\n",
       "      <th>text</th>\n",
       "      <th>ups</th>\n",
       "      <th>downs</th>\n",
       "      <th>num_response</th>\n",
       "      <th>first_sw_post</th>\n",
       "    </tr>\n",
       "  </thead>\n",
       "  <tbody>\n",
       "    <tr>\n",
       "      <th>0</th>\n",
       "      <td>-------RS--------</td>\n",
       "      <td>SuicideWatch</td>\n",
       "      <td>1</td>\n",
       "      <td>1</td>\n",
       "      <td>1</td>\n",
       "      <td>1</td>\n",
       "      <td>1</td>\n",
       "      <td>1</td>\n",
       "      <td>1</td>\n",
       "    </tr>\n",
       "    <tr>\n",
       "      <th>1</th>\n",
       "      <td>-------RS--------</td>\n",
       "      <td>TrueOffMyChest</td>\n",
       "      <td>4</td>\n",
       "      <td>4</td>\n",
       "      <td>4</td>\n",
       "      <td>4</td>\n",
       "      <td>4</td>\n",
       "      <td>4</td>\n",
       "      <td>4</td>\n",
       "    </tr>\n",
       "    <tr>\n",
       "      <th>2</th>\n",
       "      <td>-------RS--------</td>\n",
       "      <td>depression</td>\n",
       "      <td>3</td>\n",
       "      <td>3</td>\n",
       "      <td>3</td>\n",
       "      <td>3</td>\n",
       "      <td>3</td>\n",
       "      <td>3</td>\n",
       "      <td>3</td>\n",
       "    </tr>\n",
       "    <tr>\n",
       "      <th>3</th>\n",
       "      <td>-------RS--------</td>\n",
       "      <td>lonely</td>\n",
       "      <td>19</td>\n",
       "      <td>19</td>\n",
       "      <td>19</td>\n",
       "      <td>19</td>\n",
       "      <td>19</td>\n",
       "      <td>19</td>\n",
       "      <td>19</td>\n",
       "    </tr>\n",
       "    <tr>\n",
       "      <th>4</th>\n",
       "      <td>---kali---</td>\n",
       "      <td>Art</td>\n",
       "      <td>2</td>\n",
       "      <td>2</td>\n",
       "      <td>2</td>\n",
       "      <td>2</td>\n",
       "      <td>2</td>\n",
       "      <td>2</td>\n",
       "      <td>2</td>\n",
       "    </tr>\n",
       "  </tbody>\n",
       "</table>\n",
       "</div>"
      ],
      "text/plain": [
       "            username       subreddit  type  date  text  ups  downs  \\\n",
       "0  -------RS--------    SuicideWatch     1     1     1    1      1   \n",
       "1  -------RS--------  TrueOffMyChest     4     4     4    4      4   \n",
       "2  -------RS--------      depression     3     3     3    3      3   \n",
       "3  -------RS--------          lonely    19    19    19   19     19   \n",
       "4         ---kali---             Art     2     2     2    2      2   \n",
       "\n",
       "   num_response  first_sw_post  \n",
       "0             1              1  \n",
       "1             4              4  \n",
       "2             3              3  \n",
       "3            19             19  \n",
       "4             2              2  "
      ]
     },
     "execution_count": 451,
     "metadata": {},
     "output_type": "execute_result"
    }
   ],
   "source": [
    "sub_counts.head()"
   ]
  },
  {
   "cell_type": "code",
   "execution_count": 452,
   "metadata": {},
   "outputs": [],
   "source": [
    "unique_subs = sub_counts[sub_counts.subreddit\\\n",
    "                            .isin(MH_subs)]\\\n",
    "                            .groupby('username')\\\n",
    "                            .subreddit.nunique()\\\n",
    "                            .reset_index()\\\n",
    "                            .rename({'subreddit': 'nunique_mh'}, axis = 1)"
   ]
  },
  {
   "cell_type": "code",
   "execution_count": 455,
   "metadata": {},
   "outputs": [],
   "source": [
    "act_counts = sub_counts[sub_counts.subreddit\\\n",
    "                            .isin(MH_subs)]\\\n",
    "                            .groupby('username')\\\n",
    "                            .type.sum()\\\n",
    "                            .reset_index()\\\n",
    "                            .rename({'type': 'act_sum'}, axis = 1)"
   ]
  },
  {
   "cell_type": "code",
   "execution_count": 456,
   "metadata": {},
   "outputs": [],
   "source": [
    "mh_user_info = pd.merge(unique_subs, act_counts, on = 'username')"
   ]
  },
  {
   "cell_type": "code",
   "execution_count": 457,
   "metadata": {},
   "outputs": [
    {
     "data": {
      "text/html": [
       "<div>\n",
       "<style scoped>\n",
       "    .dataframe tbody tr th:only-of-type {\n",
       "        vertical-align: middle;\n",
       "    }\n",
       "\n",
       "    .dataframe tbody tr th {\n",
       "        vertical-align: top;\n",
       "    }\n",
       "\n",
       "    .dataframe thead th {\n",
       "        text-align: right;\n",
       "    }\n",
       "</style>\n",
       "<table border=\"1\" class=\"dataframe\">\n",
       "  <thead>\n",
       "    <tr style=\"text-align: right;\">\n",
       "      <th></th>\n",
       "      <th>username</th>\n",
       "      <th>nunique_mh</th>\n",
       "      <th>act_sum</th>\n",
       "      <th>first_act_date</th>\n",
       "      <th>first_sw_post</th>\n",
       "      <th>first_mh_post</th>\n",
       "      <th>last_mh_post</th>\n",
       "      <th>time_since_first</th>\n",
       "      <th>time_since_first_mh</th>\n",
       "      <th>time_since_last_mh</th>\n",
       "    </tr>\n",
       "  </thead>\n",
       "  <tbody>\n",
       "    <tr>\n",
       "      <th>0</th>\n",
       "      <td>-------RS--------</td>\n",
       "      <td>2</td>\n",
       "      <td>22</td>\n",
       "      <td>2019-09-03 06:29:44</td>\n",
       "      <td>2019-09-10 01:12:53</td>\n",
       "      <td>2019-09-03 06:29:44</td>\n",
       "      <td>2019-09-10 01:09:32</td>\n",
       "      <td>6.0</td>\n",
       "      <td>6.0</td>\n",
       "      <td>0.0</td>\n",
       "    </tr>\n",
       "    <tr>\n",
       "      <th>1</th>\n",
       "      <td>---kali---</td>\n",
       "      <td>5</td>\n",
       "      <td>32</td>\n",
       "      <td>2020-01-28 00:09:51</td>\n",
       "      <td>2020-05-07 07:53:43</td>\n",
       "      <td>2020-01-28 00:09:51</td>\n",
       "      <td>2020-05-04 13:06:11</td>\n",
       "      <td>100.0</td>\n",
       "      <td>100.0</td>\n",
       "      <td>2.0</td>\n",
       "    </tr>\n",
       "    <tr>\n",
       "      <th>2</th>\n",
       "      <td>--Pascal--</td>\n",
       "      <td>6</td>\n",
       "      <td>41</td>\n",
       "      <td>2018-02-26 07:15:46</td>\n",
       "      <td>2018-05-16 13:08:07</td>\n",
       "      <td>2018-02-28 04:13:43</td>\n",
       "      <td>2018-05-16 11:47:35</td>\n",
       "      <td>79.0</td>\n",
       "      <td>77.0</td>\n",
       "      <td>0.0</td>\n",
       "    </tr>\n",
       "    <tr>\n",
       "      <th>3</th>\n",
       "      <td>--Solus</td>\n",
       "      <td>4</td>\n",
       "      <td>8</td>\n",
       "      <td>2016-06-01 18:14:25</td>\n",
       "      <td>2017-06-19 13:16:56</td>\n",
       "      <td>2016-07-18 17:45:36</td>\n",
       "      <td>2017-04-18 10:34:33</td>\n",
       "      <td>382.0</td>\n",
       "      <td>335.0</td>\n",
       "      <td>62.0</td>\n",
       "    </tr>\n",
       "    <tr>\n",
       "      <th>4</th>\n",
       "      <td>--XCrissCrossX--</td>\n",
       "      <td>1</td>\n",
       "      <td>1</td>\n",
       "      <td>2020-02-26 09:53:50</td>\n",
       "      <td>2020-03-07 22:06:04</td>\n",
       "      <td>2020-02-26 09:53:50</td>\n",
       "      <td>2020-02-26 09:53:50</td>\n",
       "      <td>10.0</td>\n",
       "      <td>10.0</td>\n",
       "      <td>10.0</td>\n",
       "    </tr>\n",
       "  </tbody>\n",
       "</table>\n",
       "</div>"
      ],
      "text/plain": [
       "            username  nunique_mh  act_sum      first_act_date  \\\n",
       "0  -------RS--------           2       22 2019-09-03 06:29:44   \n",
       "1         ---kali---           5       32 2020-01-28 00:09:51   \n",
       "2         --Pascal--           6       41 2018-02-26 07:15:46   \n",
       "3            --Solus           4        8 2016-06-01 18:14:25   \n",
       "4   --XCrissCrossX--           1        1 2020-02-26 09:53:50   \n",
       "\n",
       "        first_sw_post       first_mh_post        last_mh_post  \\\n",
       "0 2019-09-10 01:12:53 2019-09-03 06:29:44 2019-09-10 01:09:32   \n",
       "1 2020-05-07 07:53:43 2020-01-28 00:09:51 2020-05-04 13:06:11   \n",
       "2 2018-05-16 13:08:07 2018-02-28 04:13:43 2018-05-16 11:47:35   \n",
       "3 2017-06-19 13:16:56 2016-07-18 17:45:36 2017-04-18 10:34:33   \n",
       "4 2020-03-07 22:06:04 2020-02-26 09:53:50 2020-02-26 09:53:50   \n",
       "\n",
       "   time_since_first  time_since_first_mh  time_since_last_mh  \n",
       "0               6.0                  6.0                 0.0  \n",
       "1             100.0                100.0                 2.0  \n",
       "2              79.0                 77.0                 0.0  \n",
       "3             382.0                335.0                62.0  \n",
       "4              10.0                 10.0                10.0  "
      ]
     },
     "execution_count": 457,
     "metadata": {},
     "output_type": "execute_result"
    }
   ],
   "source": [
    "mh_users = pd.merge(mh_user_info, mh_users, on = 'username')\n",
    "mh_users.head()"
   ]
  },
  {
   "cell_type": "code",
   "execution_count": 496,
   "metadata": {},
   "outputs": [],
   "source": [
    "#user criteria\n",
    "users_to_keep = mh_users[(mh_users['time_since_first']>250)&\\\n",
    "                (mh_users['first_mh_post']!=mh_users['last_mh_post'])&\\\n",
    "                (mh_users['time_since_last_mh']<365*2)].username.tolist()"
   ]
  },
  {
   "cell_type": "code",
   "execution_count": 497,
   "metadata": {},
   "outputs": [
    {
     "data": {
      "text/plain": [
       "5350"
      ]
     },
     "execution_count": 497,
     "metadata": {},
     "output_type": "execute_result"
    }
   ],
   "source": [
    "len(users_to_keep)"
   ]
  },
  {
   "cell_type": "code",
   "execution_count": 500,
   "metadata": {},
   "outputs": [
    {
     "data": {
      "text/plain": [
       "(1663929, 9)"
      ]
     },
     "execution_count": 500,
     "metadata": {},
     "output_type": "execute_result"
    }
   ],
   "source": [
    "target_meta = metnsw[metnsw.username.isin(users_to_keep)]\n",
    "target_meta.shape"
   ]
  },
  {
   "cell_type": "code",
   "execution_count": 501,
   "metadata": {},
   "outputs": [],
   "source": [
    "target_meta = target_meta.to_csv('target_1.csv', index = False)"
   ]
  },
  {
   "cell_type": "code",
   "execution_count": 306,
   "metadata": {},
   "outputs": [
    {
     "data": {
      "text/plain": [
       "0    385900\n",
       "1    107510\n",
       "Name: type, dtype: int64"
      ]
     },
     "execution_count": 306,
     "metadata": {},
     "output_type": "execute_result"
    }
   ],
   "source": [
    "metnsw[metnsw.username.isin(users_to_keep)].type.value_counts()"
   ]
  },
  {
   "cell_type": "code",
   "execution_count": 195,
   "metadata": {},
   "outputs": [],
   "source": [
    "user_dist = metnsw[metnsw.subreddit.isin(MH_subs)].groupby('subreddit').nunique()['username'].reset_index().sort_values('username', ascending = False)"
   ]
  },
  {
   "cell_type": "code",
   "execution_count": 278,
   "metadata": {},
   "outputs": [],
   "source": [
    "user_dist.to_csv('control_dist.csv', index = False)"
   ]
  },
  {
   "cell_type": "code",
   "execution_count": 198,
   "metadata": {
    "scrolled": true
   },
   "outputs": [
    {
     "data": {
      "text/plain": [
       "<AxesSubplot:xlabel='username', ylabel='subreddit'>"
      ]
     },
     "execution_count": 198,
     "metadata": {},
     "output_type": "execute_result"
    },
    {
     "data": {
      "image/png": "[encoded data removed]",
      "text/plain": [
       "<Figure size 1440x1440 with 1 Axes>"
      ]
     },
     "metadata": {
      "needs_background": "light"
     },
     "output_type": "display_data"
    }
   ],
   "source": [
    "plt.figure(figsize=(20,20))\n",
    "sns.barplot(x = 'username', y ='subreddit', data = user_dist)"
   ]
  },
  {
   "cell_type": "code",
   "execution_count": 102,
   "metadata": {},
   "outputs": [
    {
     "data": {
      "text/plain": [
       "Text(0, 0.5, 'Number of Users Left')"
      ]
     },
     "execution_count": 102,
     "metadata": {},
     "output_type": "execute_result"
    },
    {
     "data": {
      "image/png": "[encoded data removed]",
      "text/plain": [
       "<Figure size 432x288 with 1 Axes>"
      ]
     },
     "metadata": {
      "needs_background": "light"
     },
     "output_type": "display_data"
    }
   ],
   "source": [
    "num_users = []\n",
    "for i in range(30,500):\n",
    "    num_users.append(mh_users[mh_users['time_since_first']>i].shape[0])\n",
    "    \n",
    "fig = plt.figure()\n",
    "ax = plt.axes()\n",
    "\n",
    "ax.plot(list(range(30,500)), num_users);\n",
    "plt.xlabel('Time Since First Post')\n",
    "plt.ylabel('Number of Users Left')"
   ]
  },
  {
   "cell_type": "code",
   "execution_count": 103,
   "metadata": {},
   "outputs": [
    {
     "data": {
      "text/plain": [
       "Text(0, 0.5, 'Number of Users Left')"
      ]
     },
     "execution_count": 103,
     "metadata": {},
     "output_type": "execute_result"
    },
    {
     "data": {
      "image/png": "[encoded data removed]",
      "text/plain": [
       "<Figure size 432x288 with 1 Axes>"
      ]
     },
     "metadata": {
      "needs_background": "light"
     },
     "output_type": "display_data"
    }
   ],
   "source": [
    "num_users = []\n",
    "for i in range(30,500):\n",
    "    num_users.append(mh_users[mh_users['time_since_first_mh']>i].shape[0])\n",
    "    \n",
    "fig = plt.figure()\n",
    "ax = plt.axes()\n",
    "\n",
    "ax.plot(list(range(30,500)), num_users);\n",
    "plt.xlabel('Time Since First MH Post')\n",
    "plt.ylabel('Number of Users Left')"
   ]
  },
  {
   "cell_type": "code",
   "execution_count": 104,
   "metadata": {},
   "outputs": [
    {
     "data": {
      "text/plain": [
       "Text(0, 0.5, 'Number of Users Left')"
      ]
     },
     "execution_count": 104,
     "metadata": {},
     "output_type": "execute_result"
    },
    {
     "data": {
      "image/png": "[encoded data removed]",
      "text/plain": [
       "<Figure size 432x288 with 1 Axes>"
      ]
     },
     "metadata": {
      "needs_background": "light"
     },
     "output_type": "display_data"
    }
   ],
   "source": [
    "num_users = []\n",
    "for i in range(30,500):\n",
    "    num_users.append(mh_users[mh_users['time_since_last_mh']>i].shape[0])\n",
    "    \n",
    "fig = plt.figure()\n",
    "ax = plt.axes()\n",
    "\n",
    "ax.plot(list(range(30,500)), num_users);\n",
    "plt.xlabel('Time Since Last MH Post')\n",
    "plt.ylabel('Number of Users Left')"
   ]
  },
  {
   "cell_type": "code",
   "execution_count": 91,
   "metadata": {},
   "outputs": [
    {
     "data": {
      "text/plain": [
       "<AxesSubplot:>"
      ]
     },
     "execution_count": 91,
     "metadata": {},
     "output_type": "execute_result"
    },
    {
     "data": {
      "image/png": "[encoded data removed]",
      "text/plain": [
       "<Figure size 432x288 with 1 Axes>"
      ]
     },
     "metadata": {
      "needs_background": "light"
     },
     "output_type": "display_data"
    }
   ],
   "source": [
    "mh_users.time_since_first.hist(bins = 50, log = True)"
   ]
  },
  {
   "cell_type": "code",
   "execution_count": 92,
   "metadata": {},
   "outputs": [
    {
     "data": {
      "text/plain": [
       "<AxesSubplot:>"
      ]
     },
     "execution_count": 92,
     "metadata": {},
     "output_type": "execute_result"
    },
    {
     "data": {
      "image/png": "[encoded data removed]",
      "text/plain": [
       "<Figure size 432x288 with 1 Axes>"
      ]
     },
     "metadata": {
      "needs_background": "light"
     },
     "output_type": "display_data"
    }
   ],
   "source": [
    "mh_users.time_since_first_mh.hist(bins = 50, log = True)"
   ]
  },
  {
   "cell_type": "code",
   "execution_count": 93,
   "metadata": {},
   "outputs": [
    {
     "data": {
      "text/plain": [
       "<AxesSubplot:>"
      ]
     },
     "execution_count": 93,
     "metadata": {},
     "output_type": "execute_result"
    },
    {
     "data": {
      "image/png": "[encoded data removed]",
      "text/plain": [
       "<Figure size 432x288 with 1 Axes>"
      ]
     },
     "metadata": {
      "needs_background": "light"
     },
     "output_type": "display_data"
    }
   ],
   "source": [
    "mh_users.time_since_last_mh.hist(bins = 50, log = True)"
   ]
  },
  {
   "cell_type": "markdown",
   "metadata": {},
   "source": [
    "### Time Difference\n",
    "Visualizing the difference between the first SuicideWatch post and a MH post."
   ]
  },
  {
   "cell_type": "markdown",
   "metadata": {},
   "source": [
    "Here we need to get users that have made a post and have made comments. It is clear that there are some users that make comments on SW before they eventually make a post there. We will take into account their first SW activity and their first SW post. "
   ]
  },
  {
   "cell_type": "code",
   "execution_count": 10,
   "metadata": {},
   "outputs": [],
   "source": [
    "# data with only the SW posts and comments.\n",
    "only_sw_act = metadata[(metadata.username.isin(SW_users))&(metadata['subreddit']=='SuicideWatch')]\n",
    "only_sw_post = metadata[(metadata.username.isin(SW_users))&(metadata['subreddit']=='SuicideWatch')&(metadata['type']==1)]\n",
    "\n",
    "# data with only MH posts and comments\n",
    "only_mh = metadata[metadata['subreddit']!= 'SuicideWatch']"
   ]
  },
  {
   "cell_type": "code",
   "execution_count": 11,
   "metadata": {},
   "outputs": [
    {
     "data": {
      "text/plain": [
       "(1687005, 8)"
      ]
     },
     "metadata": {},
     "output_type": "display_data"
    },
    {
     "data": {
      "text/plain": [
       "(35283, 8)"
      ]
     },
     "metadata": {},
     "output_type": "display_data"
    },
    {
     "data": {
      "text/plain": [
       "(7961, 8)"
      ]
     },
     "metadata": {},
     "output_type": "display_data"
    }
   ],
   "source": [
    "display(only_mh.shape, only_sw_act.shape, only_sw_post.shape)"
   ]
  },
  {
   "cell_type": "code",
   "execution_count": 18,
   "metadata": {},
   "outputs": [
    {
     "data": {
      "text/plain": [
       "(2154, 8)"
      ]
     },
     "metadata": {},
     "output_type": "display_data"
    },
    {
     "data": {
      "text/plain": [
       "(2154, 8)"
      ]
     },
     "metadata": {},
     "output_type": "display_data"
    }
   ],
   "source": [
    "first_sw_post = only_sw_post.loc[(only_sw_post.groupby('username')['date'].idxmin())]\n",
    "first_sw_act = only_sw_act.loc[(only_sw_act.groupby('username')['date'].idxmin())]\n",
    "display(first_sw_post.shape, first_sw_act.shape)"
   ]
  },
  {
   "cell_type": "markdown",
   "metadata": {},
   "source": [
    "This makes sense as there should be the same number of users as we have filtered on users that have actually eventually made a post on SW."
   ]
  },
  {
   "cell_type": "code",
   "execution_count": 19,
   "metadata": {},
   "outputs": [],
   "source": [
    "sw_date = pd.merge(first_sw_act[['username','date']], first_sw_post[['username','date']], on = 'username')\n",
    "sw_date.columns = ['username','sw_act_date','sw_post_date']\n",
    "sw_date['post_act_diff'] = (sw_date['sw_post_date']-sw_date['sw_act_date']).astype('timedelta64[D]')"
   ]
  },
  {
   "cell_type": "code",
   "execution_count": 20,
   "metadata": {},
   "outputs": [
    {
     "data": {
      "text/plain": [
       "<AxesSubplot:>"
      ]
     },
     "metadata": {},
     "output_type": "display_data"
    },
    {
     "data": {
      "text/plain": [
       "count    2154.000000\n",
       "mean       35.246518\n",
       "std       149.486034\n",
       "min         0.000000\n",
       "25%         0.000000\n",
       "50%         0.000000\n",
       "75%         0.000000\n",
       "max      2337.000000\n",
       "Name: post_act_diff, dtype: float64"
      ]
     },
     "metadata": {},
     "output_type": "display_data"
    },
    {
     "data": {
      "image/png": "[encoded data removed]",
      "text/plain": [
       "<Figure size 432x288 with 1 Axes>"
      ]
     },
     "metadata": {
      "needs_background": "light"
     },
     "output_type": "display_data"
    }
   ],
   "source": [
    "display(sw_date['post_act_diff'].hist(bins = 50, log = True), sw_date['post_act_diff'].describe())"
   ]
  },
  {
   "cell_type": "markdown",
   "metadata": {},
   "source": [
    "Distribution of users that are posting comments on SW much before they eventually make a post there. I will make a decision here that the post is the best indicator of suicidal ideation of someone seeking out help or reaching out to people. But it is to note here that this is a linear progression of risk and we must think of it as such. "
   ]
  },
  {
   "cell_type": "markdown",
   "metadata": {},
   "source": [
    "This dataset will be used to filter out:\n",
    "1. Any posts after the first post\n",
    "2. Users that had their first activity as MH instead of SW\n",
    "3. Any posts before an estabilised threshold after which it is useless to make any prediction."
   ]
  },
  {
   "cell_type": "code",
   "execution_count": 21,
   "metadata": {},
   "outputs": [],
   "source": [
    "filter_df = pd.merge(only_mh, sw_date, how = 'inner', on = 'username')\n",
    "filter_df['post_date_diff'] = (filter_df['sw_post_date']-filter_df['date']).astype('timedelta64[D]')\n",
    "filter_df['act_date_diff'] = (filter_df['sw_act_date']-filter_df['date']).astype('timedelta64[D]')"
   ]
  },
  {
   "cell_type": "code",
   "execution_count": 22,
   "metadata": {},
   "outputs": [
    {
     "data": {
      "text/html": [
       "<div>\n",
       "<style scoped>\n",
       "    .dataframe tbody tr th:only-of-type {\n",
       "        vertical-align: middle;\n",
       "    }\n",
       "\n",
       "    .dataframe tbody tr th {\n",
       "        vertical-align: top;\n",
       "    }\n",
       "\n",
       "    .dataframe thead th {\n",
       "        text-align: right;\n",
       "    }\n",
       "</style>\n",
       "<table border=\"1\" class=\"dataframe\">\n",
       "  <thead>\n",
       "    <tr style=\"text-align: right;\">\n",
       "      <th></th>\n",
       "      <th>username</th>\n",
       "      <th>type</th>\n",
       "      <th>subreddit</th>\n",
       "      <th>date</th>\n",
       "      <th>text</th>\n",
       "      <th>ups</th>\n",
       "      <th>downs</th>\n",
       "      <th>num_response</th>\n",
       "      <th>sw_act_date</th>\n",
       "      <th>sw_post_date</th>\n",
       "      <th>post_act_diff</th>\n",
       "      <th>post_date_diff</th>\n",
       "      <th>act_date_diff</th>\n",
       "    </tr>\n",
       "  </thead>\n",
       "  <tbody>\n",
       "    <tr>\n",
       "      <th>0</th>\n",
       "      <td>-ANIME-GIRL-LOVER-</td>\n",
       "      <td>0</td>\n",
       "      <td>depression</td>\n",
       "      <td>2021-01-07 01:39:09</td>\n",
       "      <td>Will do then thank you, luckily i think it was...</td>\n",
       "      <td>1</td>\n",
       "      <td>0</td>\n",
       "      <td>0</td>\n",
       "      <td>2020-09-18 05:10:45</td>\n",
       "      <td>2020-09-18 05:10:45</td>\n",
       "      <td>0.0</td>\n",
       "      <td>-111.0</td>\n",
       "      <td>-111.0</td>\n",
       "    </tr>\n",
       "    <tr>\n",
       "      <th>1</th>\n",
       "      <td>-ANIME-GIRL-LOVER-</td>\n",
       "      <td>0</td>\n",
       "      <td>Anxiety</td>\n",
       "      <td>2020-09-17 23:59:48</td>\n",
       "      <td>Yupe</td>\n",
       "      <td>4</td>\n",
       "      <td>0</td>\n",
       "      <td>0</td>\n",
       "      <td>2020-09-18 05:10:45</td>\n",
       "      <td>2020-09-18 05:10:45</td>\n",
       "      <td>0.0</td>\n",
       "      <td>0.0</td>\n",
       "      <td>0.0</td>\n",
       "    </tr>\n",
       "    <tr>\n",
       "      <th>2</th>\n",
       "      <td>-ANIME-GIRL-LOVER-</td>\n",
       "      <td>0</td>\n",
       "      <td>Anxiety</td>\n",
       "      <td>2020-09-17 23:47:32</td>\n",
       "      <td>Yeah for sure it feels like I don’t deserve it.</td>\n",
       "      <td>2</td>\n",
       "      <td>0</td>\n",
       "      <td>0</td>\n",
       "      <td>2020-09-18 05:10:45</td>\n",
       "      <td>2020-09-18 05:10:45</td>\n",
       "      <td>0.0</td>\n",
       "      <td>0.0</td>\n",
       "      <td>0.0</td>\n",
       "    </tr>\n",
       "  </tbody>\n",
       "</table>\n",
       "</div>"
      ],
      "text/plain": [
       "             username  type   subreddit                date  \\\n",
       "0  -ANIME-GIRL-LOVER-     0  depression 2021-01-07 01:39:09   \n",
       "1  -ANIME-GIRL-LOVER-     0     Anxiety 2020-09-17 23:59:48   \n",
       "2  -ANIME-GIRL-LOVER-     0     Anxiety 2020-09-17 23:47:32   \n",
       "\n",
       "                                                text  ups  downs  \\\n",
       "0  Will do then thank you, luckily i think it was...    1      0   \n",
       "1                                               Yupe    4      0   \n",
       "2    Yeah for sure it feels like I don’t deserve it.    2      0   \n",
       "\n",
       "   num_response         sw_act_date        sw_post_date  post_act_diff  \\\n",
       "0             0 2020-09-18 05:10:45 2020-09-18 05:10:45            0.0   \n",
       "1             0 2020-09-18 05:10:45 2020-09-18 05:10:45            0.0   \n",
       "2             0 2020-09-18 05:10:45 2020-09-18 05:10:45            0.0   \n",
       "\n",
       "   post_date_diff  act_date_diff  \n",
       "0          -111.0         -111.0  \n",
       "1             0.0            0.0  \n",
       "2             0.0            0.0  "
      ]
     },
     "execution_count": 22,
     "metadata": {},
     "output_type": "execute_result"
    }
   ],
   "source": [
    "filter_df.head(n=3)"
   ]
  },
  {
   "cell_type": "markdown",
   "metadata": {},
   "source": [
    "Let's first filter out any activity that happened after the first post."
   ]
  },
  {
   "cell_type": "code",
   "execution_count": 23,
   "metadata": {},
   "outputs": [
    {
     "data": {
      "text/plain": [
       "1096"
      ]
     },
     "execution_count": 23,
     "metadata": {},
     "output_type": "execute_result"
    }
   ],
   "source": [
    "mh_before_sw_users = filter_df[(filter_df['act_date_diff']>0)&(filter_df.username.isin(SW_users))].username.unique().tolist()\n",
    "len(mh_before_sw_users)"
   ]
  },
  {
   "cell_type": "markdown",
   "metadata": {},
   "source": [
    "We need to be able to look into at least 48 hours into the past to be able to make accurate predictions and for this to be useful."
   ]
  },
  {
   "cell_type": "code",
   "execution_count": 24,
   "metadata": {},
   "outputs": [],
   "source": [
    "filter_df = filter_df[filter_df['post_date_diff']>2]"
   ]
  },
  {
   "cell_type": "code",
   "execution_count": 25,
   "metadata": {},
   "outputs": [
    {
     "data": {
      "text/plain": [
       "<AxesSubplot:>"
      ]
     },
     "metadata": {},
     "output_type": "display_data"
    },
    {
     "data": {
      "text/plain": [
       "count    12743.000000\n",
       "mean       230.752492\n",
       "std        335.665539\n",
       "min          3.000000\n",
       "25%         28.000000\n",
       "50%         92.000000\n",
       "75%        284.000000\n",
       "max       3554.000000\n",
       "Name: post_date_diff, dtype: float64"
      ]
     },
     "metadata": {},
     "output_type": "display_data"
    },
    {
     "data": {
      "text/plain": [
       "0.10     10.0\n",
       "0.95    928.0\n",
       "Name: post_date_diff, dtype: float64"
      ]
     },
     "metadata": {},
     "output_type": "display_data"
    },
    {
     "data": {
      "image/png": "[encoded data removed]",
      "text/plain": [
       "<Figure size 432x288 with 1 Axes>"
      ]
     },
     "metadata": {
      "needs_background": "light"
     },
     "output_type": "display_data"
    }
   ],
   "source": [
    "display(filter_df['post_date_diff'].hist(bins = 50, log = True),\\\n",
    "        filter_df['post_date_diff'].describe(),\\\n",
    "        filter_df['post_date_diff'].quantile([0.1,0.95]))"
   ]
  },
  {
   "cell_type": "code",
   "execution_count": 26,
   "metadata": {},
   "outputs": [
    {
     "data": {
      "text/plain": [
       "<AxesSubplot:>"
      ]
     },
     "metadata": {},
     "output_type": "display_data"
    },
    {
     "data": {
      "text/plain": [
       "count    12743.000000\n",
       "mean       153.882210\n",
       "std        333.677718\n",
       "min      -1309.000000\n",
       "25%          5.000000\n",
       "50%         43.000000\n",
       "75%        173.000000\n",
       "max       3554.000000\n",
       "Name: act_date_diff, dtype: float64"
      ]
     },
     "metadata": {},
     "output_type": "display_data"
    },
    {
     "data": {
      "text/plain": [
       "0.95    859.9\n",
       "Name: act_date_diff, dtype: float64"
      ]
     },
     "metadata": {},
     "output_type": "display_data"
    },
    {
     "data": {
      "image/png": "[encoded data removed]",
      "text/plain": [
       "<Figure size 432x288 with 1 Axes>"
      ]
     },
     "metadata": {
      "needs_background": "light"
     },
     "output_type": "display_data"
    }
   ],
   "source": [
    "display(filter_df['act_date_diff'].hist(bins = 50, log = True),\\\n",
    "        filter_df['act_date_diff'].describe(),\\\n",
    "        filter_df['act_date_diff'].quantile([0.95]))"
   ]
  },
  {
   "cell_type": "code",
   "execution_count": 27,
   "metadata": {},
   "outputs": [
    {
     "data": {
      "text/plain": [
       "depression         6192\n",
       "selfharm           2625\n",
       "Anxiety            1463\n",
       "lonely             1052\n",
       "Needafriend         504\n",
       "socialanxiety       347\n",
       "depression_help     299\n",
       "depressed           192\n",
       "Anxietyhelp          69\n",
       "Name: subreddit, dtype: int64"
      ]
     },
     "execution_count": 27,
     "metadata": {},
     "output_type": "execute_result"
    }
   ],
   "source": [
    "filter_df.subreddit.value_counts()"
   ]
  },
  {
   "cell_type": "code",
   "execution_count": 28,
   "metadata": {},
   "outputs": [
    {
     "data": {
      "text/html": [
       "<div>\n",
       "<style scoped>\n",
       "    .dataframe tbody tr th:only-of-type {\n",
       "        vertical-align: middle;\n",
       "    }\n",
       "\n",
       "    .dataframe tbody tr th {\n",
       "        vertical-align: top;\n",
       "    }\n",
       "\n",
       "    .dataframe thead th {\n",
       "        text-align: right;\n",
       "    }\n",
       "</style>\n",
       "<table border=\"1\" class=\"dataframe\">\n",
       "  <thead>\n",
       "    <tr style=\"text-align: right;\">\n",
       "      <th></th>\n",
       "      <th>username</th>\n",
       "      <th>type</th>\n",
       "      <th>subreddit</th>\n",
       "      <th>date</th>\n",
       "      <th>text</th>\n",
       "      <th>ups</th>\n",
       "      <th>downs</th>\n",
       "      <th>num_response</th>\n",
       "    </tr>\n",
       "  </thead>\n",
       "  <tbody>\n",
       "    <tr>\n",
       "      <th>2</th>\n",
       "      <td>--XCrissCrossX--</td>\n",
       "      <td>0</td>\n",
       "      <td>SuicideWatch</td>\n",
       "      <td>2020-09-19 22:36:25</td>\n",
       "      <td>It's okay. What she did to me tore me to bits ...</td>\n",
       "      <td>1</td>\n",
       "      <td>0</td>\n",
       "      <td>0</td>\n",
       "    </tr>\n",
       "    <tr>\n",
       "      <th>3</th>\n",
       "      <td>--XCrissCrossX--</td>\n",
       "      <td>0</td>\n",
       "      <td>SuicideWatch</td>\n",
       "      <td>2020-09-19 22:03:34</td>\n",
       "      <td>This is why I'm on this sub tonight. 10 years,...</td>\n",
       "      <td>2</td>\n",
       "      <td>0</td>\n",
       "      <td>0</td>\n",
       "    </tr>\n",
       "    <tr>\n",
       "      <th>4</th>\n",
       "      <td>--XCrissCrossX--</td>\n",
       "      <td>0</td>\n",
       "      <td>SuicideWatch</td>\n",
       "      <td>2020-03-27 15:53:43</td>\n",
       "      <td>I doubt I'll find things to pursue of live for...</td>\n",
       "      <td>3</td>\n",
       "      <td>0</td>\n",
       "      <td>0</td>\n",
       "    </tr>\n",
       "    <tr>\n",
       "      <th>5</th>\n",
       "      <td>--XCrissCrossX--</td>\n",
       "      <td>0</td>\n",
       "      <td>SuicideWatch</td>\n",
       "      <td>2020-03-27 15:21:52</td>\n",
       "      <td>Yep, it's the only reason I'm still here. Figu...</td>\n",
       "      <td>4</td>\n",
       "      <td>0</td>\n",
       "      <td>0</td>\n",
       "    </tr>\n",
       "    <tr>\n",
       "      <th>13</th>\n",
       "      <td>-BabaGanoosh-</td>\n",
       "      <td>0</td>\n",
       "      <td>SuicideWatch</td>\n",
       "      <td>2020-12-23 09:47:55</td>\n",
       "      <td>:|</td>\n",
       "      <td>2</td>\n",
       "      <td>0</td>\n",
       "      <td>0</td>\n",
       "    </tr>\n",
       "  </tbody>\n",
       "</table>\n",
       "</div>"
      ],
      "text/plain": [
       "            username  type     subreddit                date  \\\n",
       "2   --XCrissCrossX--     0  SuicideWatch 2020-09-19 22:36:25   \n",
       "3   --XCrissCrossX--     0  SuicideWatch 2020-09-19 22:03:34   \n",
       "4   --XCrissCrossX--     0  SuicideWatch 2020-03-27 15:53:43   \n",
       "5   --XCrissCrossX--     0  SuicideWatch 2020-03-27 15:21:52   \n",
       "13     -BabaGanoosh-     0  SuicideWatch 2020-12-23 09:47:55   \n",
       "\n",
       "                                                 text  ups  downs  \\\n",
       "2   It's okay. What she did to me tore me to bits ...    1      0   \n",
       "3   This is why I'm on this sub tonight. 10 years,...    2      0   \n",
       "4   I doubt I'll find things to pursue of live for...    3      0   \n",
       "5   Yep, it's the only reason I'm still here. Figu...    4      0   \n",
       "13                                                 :|    2      0   \n",
       "\n",
       "    num_response  \n",
       "2              0  \n",
       "3              0  \n",
       "4              0  \n",
       "5              0  \n",
       "13             0  "
      ]
     },
     "execution_count": 28,
     "metadata": {},
     "output_type": "execute_result"
    }
   ],
   "source": [
    "target_cohort_df = metadata[metadata.username.isin(mh_before_sw_users)]\n",
    "target_cohort_df.head()"
   ]
  },
  {
   "cell_type": "code",
   "execution_count": 29,
   "metadata": {},
   "outputs": [
    {
     "data": {
      "text/plain": [
       "depression         570\n",
       "selfharm           163\n",
       "Anxiety            112\n",
       "lonely              77\n",
       "Needafriend         56\n",
       "socialanxiety       45\n",
       "depression_help     35\n",
       "depressed           27\n",
       "Anxietyhelp         11\n",
       "Name: subreddit, dtype: int64"
      ]
     },
     "execution_count": 29,
     "metadata": {},
     "output_type": "execute_result"
    }
   ],
   "source": [
    "target_cohort_df.loc[(target_cohort_df.groupby('username')['date'].idxmin())].subreddit.value_counts()"
   ]
  },
  {
   "cell_type": "code",
   "execution_count": 30,
   "metadata": {},
   "outputs": [
    {
     "data": {
      "text/plain": [
       "(34091, 8)"
      ]
     },
     "execution_count": 30,
     "metadata": {},
     "output_type": "execute_result"
    }
   ],
   "source": [
    "target_cohort_df.shape"
   ]
  },
  {
   "cell_type": "markdown",
   "metadata": {},
   "source": [
    "This confirms that our target cohort has made posts in MH subreddits before they eventually started posting on SW."
   ]
  },
  {
   "cell_type": "markdown",
   "metadata": {},
   "source": [
    "Now we need to filter the data based on a timespan. Based on the above distributions and some common sense on how we might want to use this. I wish to keep the data within 9 months of a timespan. So for example, given a person made a SW post in December, this would look back by March.\n",
    "\n",
    "So I think a good enough threshold would be around 270 days."
   ]
  },
  {
   "cell_type": "code",
   "execution_count": 31,
   "metadata": {},
   "outputs": [],
   "source": [
    "target_cohort_df = pd.merge(target_cohort_df, sw_date, on ='username', how ='left')\n",
    "target_cohort_df['act_date_diff'] = (target_cohort_df['sw_act_date']-target_cohort_df['date']).astype('timedelta64[D]')"
   ]
  },
  {
   "cell_type": "code",
   "execution_count": 32,
   "metadata": {},
   "outputs": [],
   "source": [
    "final_target_df = target_cohort_df[target_cohort_df['act_date_diff']<=270]"
   ]
  },
  {
   "cell_type": "code",
   "execution_count": 33,
   "metadata": {},
   "outputs": [
    {
     "data": {
      "text/html": [
       "<div>\n",
       "<style scoped>\n",
       "    .dataframe tbody tr th:only-of-type {\n",
       "        vertical-align: middle;\n",
       "    }\n",
       "\n",
       "    .dataframe tbody tr th {\n",
       "        vertical-align: top;\n",
       "    }\n",
       "\n",
       "    .dataframe thead th {\n",
       "        text-align: right;\n",
       "    }\n",
       "</style>\n",
       "<table border=\"1\" class=\"dataframe\">\n",
       "  <thead>\n",
       "    <tr style=\"text-align: right;\">\n",
       "      <th></th>\n",
       "      <th>username</th>\n",
       "      <th>type</th>\n",
       "      <th>subreddit</th>\n",
       "      <th>date</th>\n",
       "      <th>text</th>\n",
       "      <th>ups</th>\n",
       "      <th>downs</th>\n",
       "      <th>num_response</th>\n",
       "      <th>sw_act_date</th>\n",
       "      <th>sw_post_date</th>\n",
       "      <th>post_act_diff</th>\n",
       "      <th>act_date_diff</th>\n",
       "    </tr>\n",
       "  </thead>\n",
       "  <tbody>\n",
       "    <tr>\n",
       "      <th>0</th>\n",
       "      <td>--XCrissCrossX--</td>\n",
       "      <td>0</td>\n",
       "      <td>SuicideWatch</td>\n",
       "      <td>2020-09-19 22:36:25</td>\n",
       "      <td>It's okay. What she did to me tore me to bits ...</td>\n",
       "      <td>1</td>\n",
       "      <td>0</td>\n",
       "      <td>0</td>\n",
       "      <td>2020-03-07 22:06:04</td>\n",
       "      <td>2020-03-07 22:06:04</td>\n",
       "      <td>0.0</td>\n",
       "      <td>-197.0</td>\n",
       "    </tr>\n",
       "    <tr>\n",
       "      <th>1</th>\n",
       "      <td>--XCrissCrossX--</td>\n",
       "      <td>0</td>\n",
       "      <td>SuicideWatch</td>\n",
       "      <td>2020-09-19 22:03:34</td>\n",
       "      <td>This is why I'm on this sub tonight. 10 years,...</td>\n",
       "      <td>2</td>\n",
       "      <td>0</td>\n",
       "      <td>0</td>\n",
       "      <td>2020-03-07 22:06:04</td>\n",
       "      <td>2020-03-07 22:06:04</td>\n",
       "      <td>0.0</td>\n",
       "      <td>-196.0</td>\n",
       "    </tr>\n",
       "    <tr>\n",
       "      <th>2</th>\n",
       "      <td>--XCrissCrossX--</td>\n",
       "      <td>0</td>\n",
       "      <td>SuicideWatch</td>\n",
       "      <td>2020-03-27 15:53:43</td>\n",
       "      <td>I doubt I'll find things to pursue of live for...</td>\n",
       "      <td>3</td>\n",
       "      <td>0</td>\n",
       "      <td>0</td>\n",
       "      <td>2020-03-07 22:06:04</td>\n",
       "      <td>2020-03-07 22:06:04</td>\n",
       "      <td>0.0</td>\n",
       "      <td>-20.0</td>\n",
       "    </tr>\n",
       "  </tbody>\n",
       "</table>\n",
       "</div>"
      ],
      "text/plain": [
       "           username  type     subreddit                date  \\\n",
       "0  --XCrissCrossX--     0  SuicideWatch 2020-09-19 22:36:25   \n",
       "1  --XCrissCrossX--     0  SuicideWatch 2020-09-19 22:03:34   \n",
       "2  --XCrissCrossX--     0  SuicideWatch 2020-03-27 15:53:43   \n",
       "\n",
       "                                                text  ups  downs  \\\n",
       "0  It's okay. What she did to me tore me to bits ...    1      0   \n",
       "1  This is why I'm on this sub tonight. 10 years,...    2      0   \n",
       "2  I doubt I'll find things to pursue of live for...    3      0   \n",
       "\n",
       "   num_response         sw_act_date        sw_post_date  post_act_diff  \\\n",
       "0             0 2020-03-07 22:06:04 2020-03-07 22:06:04            0.0   \n",
       "1             0 2020-03-07 22:06:04 2020-03-07 22:06:04            0.0   \n",
       "2             0 2020-03-07 22:06:04 2020-03-07 22:06:04            0.0   \n",
       "\n",
       "   act_date_diff  \n",
       "0         -197.0  \n",
       "1         -196.0  \n",
       "2          -20.0  "
      ]
     },
     "metadata": {},
     "output_type": "display_data"
    },
    {
     "data": {
      "text/plain": [
       "(31772, 12)"
      ]
     },
     "metadata": {},
     "output_type": "display_data"
    }
   ],
   "source": [
    "display(final_target_df.head(3), final_target_df.shape)"
   ]
  },
  {
   "cell_type": "code",
   "execution_count": 34,
   "metadata": {},
   "outputs": [],
   "source": [
    "final_target_df.to_csv('final_target_df.csv', index = False)"
   ]
  },
  {
   "cell_type": "code",
   "execution_count": 35,
   "metadata": {},
   "outputs": [
    {
     "data": {
      "text/html": [
       "<div>\n",
       "<style scoped>\n",
       "    .dataframe tbody tr th:only-of-type {\n",
       "        vertical-align: middle;\n",
       "    }\n",
       "\n",
       "    .dataframe tbody tr th {\n",
       "        vertical-align: top;\n",
       "    }\n",
       "\n",
       "    .dataframe thead th {\n",
       "        text-align: right;\n",
       "    }\n",
       "</style>\n",
       "<table border=\"1\" class=\"dataframe\">\n",
       "  <thead>\n",
       "    <tr style=\"text-align: right;\">\n",
       "      <th></th>\n",
       "      <th>username</th>\n",
       "      <th>type</th>\n",
       "      <th>date</th>\n",
       "      <th>text</th>\n",
       "      <th>ups</th>\n",
       "      <th>downs</th>\n",
       "      <th>num_response</th>\n",
       "      <th>sw_act_date</th>\n",
       "      <th>sw_post_date</th>\n",
       "      <th>post_act_diff</th>\n",
       "      <th>act_date_diff</th>\n",
       "    </tr>\n",
       "    <tr>\n",
       "      <th>subreddit</th>\n",
       "      <th></th>\n",
       "      <th></th>\n",
       "      <th></th>\n",
       "      <th></th>\n",
       "      <th></th>\n",
       "      <th></th>\n",
       "      <th></th>\n",
       "      <th></th>\n",
       "      <th></th>\n",
       "      <th></th>\n",
       "      <th></th>\n",
       "    </tr>\n",
       "  </thead>\n",
       "  <tbody>\n",
       "    <tr>\n",
       "      <th>Anxiety</th>\n",
       "      <td>1772</td>\n",
       "      <td>1772</td>\n",
       "      <td>1772</td>\n",
       "      <td>1772</td>\n",
       "      <td>1772</td>\n",
       "      <td>1772</td>\n",
       "      <td>1772</td>\n",
       "      <td>1772</td>\n",
       "      <td>1772</td>\n",
       "      <td>1772</td>\n",
       "      <td>1772</td>\n",
       "    </tr>\n",
       "    <tr>\n",
       "      <th>Anxietyhelp</th>\n",
       "      <td>90</td>\n",
       "      <td>90</td>\n",
       "      <td>90</td>\n",
       "      <td>90</td>\n",
       "      <td>90</td>\n",
       "      <td>90</td>\n",
       "      <td>90</td>\n",
       "      <td>90</td>\n",
       "      <td>90</td>\n",
       "      <td>90</td>\n",
       "      <td>90</td>\n",
       "    </tr>\n",
       "    <tr>\n",
       "      <th>Needafriend</th>\n",
       "      <td>575</td>\n",
       "      <td>575</td>\n",
       "      <td>575</td>\n",
       "      <td>575</td>\n",
       "      <td>575</td>\n",
       "      <td>575</td>\n",
       "      <td>575</td>\n",
       "      <td>575</td>\n",
       "      <td>575</td>\n",
       "      <td>575</td>\n",
       "      <td>575</td>\n",
       "    </tr>\n",
       "    <tr>\n",
       "      <th>SuicideWatch</th>\n",
       "      <td>10784</td>\n",
       "      <td>10784</td>\n",
       "      <td>10784</td>\n",
       "      <td>10784</td>\n",
       "      <td>10784</td>\n",
       "      <td>10784</td>\n",
       "      <td>10784</td>\n",
       "      <td>10784</td>\n",
       "      <td>10784</td>\n",
       "      <td>10784</td>\n",
       "      <td>10784</td>\n",
       "    </tr>\n",
       "    <tr>\n",
       "      <th>depressed</th>\n",
       "      <td>397</td>\n",
       "      <td>397</td>\n",
       "      <td>397</td>\n",
       "      <td>397</td>\n",
       "      <td>397</td>\n",
       "      <td>397</td>\n",
       "      <td>397</td>\n",
       "      <td>397</td>\n",
       "      <td>397</td>\n",
       "      <td>397</td>\n",
       "      <td>397</td>\n",
       "    </tr>\n",
       "    <tr>\n",
       "      <th>depression</th>\n",
       "      <td>10381</td>\n",
       "      <td>10381</td>\n",
       "      <td>10381</td>\n",
       "      <td>10381</td>\n",
       "      <td>10381</td>\n",
       "      <td>10381</td>\n",
       "      <td>10381</td>\n",
       "      <td>10381</td>\n",
       "      <td>10381</td>\n",
       "      <td>10381</td>\n",
       "      <td>10381</td>\n",
       "    </tr>\n",
       "    <tr>\n",
       "      <th>depression_help</th>\n",
       "      <td>572</td>\n",
       "      <td>572</td>\n",
       "      <td>572</td>\n",
       "      <td>572</td>\n",
       "      <td>572</td>\n",
       "      <td>572</td>\n",
       "      <td>572</td>\n",
       "      <td>572</td>\n",
       "      <td>572</td>\n",
       "      <td>572</td>\n",
       "      <td>572</td>\n",
       "    </tr>\n",
       "    <tr>\n",
       "      <th>lonely</th>\n",
       "      <td>1736</td>\n",
       "      <td>1736</td>\n",
       "      <td>1736</td>\n",
       "      <td>1736</td>\n",
       "      <td>1736</td>\n",
       "      <td>1736</td>\n",
       "      <td>1736</td>\n",
       "      <td>1736</td>\n",
       "      <td>1736</td>\n",
       "      <td>1736</td>\n",
       "      <td>1736</td>\n",
       "    </tr>\n",
       "    <tr>\n",
       "      <th>selfharm</th>\n",
       "      <td>4897</td>\n",
       "      <td>4897</td>\n",
       "      <td>4897</td>\n",
       "      <td>4897</td>\n",
       "      <td>4897</td>\n",
       "      <td>4897</td>\n",
       "      <td>4897</td>\n",
       "      <td>4897</td>\n",
       "      <td>4897</td>\n",
       "      <td>4897</td>\n",
       "      <td>4897</td>\n",
       "    </tr>\n",
       "    <tr>\n",
       "      <th>socialanxiety</th>\n",
       "      <td>568</td>\n",
       "      <td>568</td>\n",
       "      <td>568</td>\n",
       "      <td>568</td>\n",
       "      <td>568</td>\n",
       "      <td>568</td>\n",
       "      <td>568</td>\n",
       "      <td>568</td>\n",
       "      <td>568</td>\n",
       "      <td>568</td>\n",
       "      <td>568</td>\n",
       "    </tr>\n",
       "  </tbody>\n",
       "</table>\n",
       "</div>"
      ],
      "text/plain": [
       "                 username   type   date   text    ups  downs  num_response  \\\n",
       "subreddit                                                                    \n",
       "Anxiety              1772   1772   1772   1772   1772   1772          1772   \n",
       "Anxietyhelp            90     90     90     90     90     90            90   \n",
       "Needafriend           575    575    575    575    575    575           575   \n",
       "SuicideWatch        10784  10784  10784  10784  10784  10784         10784   \n",
       "depressed             397    397    397    397    397    397           397   \n",
       "depression          10381  10381  10381  10381  10381  10381         10381   \n",
       "depression_help       572    572    572    572    572    572           572   \n",
       "lonely               1736   1736   1736   1736   1736   1736          1736   \n",
       "selfharm             4897   4897   4897   4897   4897   4897          4897   \n",
       "socialanxiety         568    568    568    568    568    568           568   \n",
       "\n",
       "                 sw_act_date  sw_post_date  post_act_diff  act_date_diff  \n",
       "subreddit                                                                 \n",
       "Anxiety                 1772          1772           1772           1772  \n",
       "Anxietyhelp               90            90             90             90  \n",
       "Needafriend              575           575            575            575  \n",
       "SuicideWatch           10784         10784          10784          10784  \n",
       "depressed                397           397            397            397  \n",
       "depression             10381         10381          10381          10381  \n",
       "depression_help          572           572            572            572  \n",
       "lonely                  1736          1736           1736           1736  \n",
       "selfharm                4897          4897           4897           4897  \n",
       "socialanxiety            568           568            568            568  "
      ]
     },
     "execution_count": 35,
     "metadata": {},
     "output_type": "execute_result"
    }
   ],
   "source": [
    "final_target_df.groupby('subreddit').count()"
   ]
  },
  {
   "cell_type": "code",
   "execution_count": 36,
   "metadata": {},
   "outputs": [
    {
     "data": {
      "text/html": [
       "<div>\n",
       "<style scoped>\n",
       "    .dataframe tbody tr th:only-of-type {\n",
       "        vertical-align: middle;\n",
       "    }\n",
       "\n",
       "    .dataframe tbody tr th {\n",
       "        vertical-align: top;\n",
       "    }\n",
       "\n",
       "    .dataframe thead th {\n",
       "        text-align: right;\n",
       "    }\n",
       "</style>\n",
       "<table border=\"1\" class=\"dataframe\">\n",
       "  <thead>\n",
       "    <tr style=\"text-align: right;\">\n",
       "      <th></th>\n",
       "      <th>username</th>\n",
       "      <th>type</th>\n",
       "      <th>date</th>\n",
       "      <th>text</th>\n",
       "      <th>ups</th>\n",
       "      <th>downs</th>\n",
       "      <th>num_response</th>\n",
       "      <th>sw_act_date</th>\n",
       "      <th>sw_post_date</th>\n",
       "      <th>post_act_diff</th>\n",
       "      <th>act_date_diff</th>\n",
       "    </tr>\n",
       "    <tr>\n",
       "      <th>subreddit</th>\n",
       "      <th></th>\n",
       "      <th></th>\n",
       "      <th></th>\n",
       "      <th></th>\n",
       "      <th></th>\n",
       "      <th></th>\n",
       "      <th></th>\n",
       "      <th></th>\n",
       "      <th></th>\n",
       "      <th></th>\n",
       "      <th></th>\n",
       "    </tr>\n",
       "  </thead>\n",
       "  <tbody>\n",
       "    <tr>\n",
       "      <th>Anxiety</th>\n",
       "      <td>228</td>\n",
       "      <td>2</td>\n",
       "      <td>1771</td>\n",
       "      <td>1737</td>\n",
       "      <td>61</td>\n",
       "      <td>1</td>\n",
       "      <td>36</td>\n",
       "      <td>228</td>\n",
       "      <td>228</td>\n",
       "      <td>42</td>\n",
       "      <td>509</td>\n",
       "    </tr>\n",
       "    <tr>\n",
       "      <th>Anxietyhelp</th>\n",
       "      <td>27</td>\n",
       "      <td>2</td>\n",
       "      <td>90</td>\n",
       "      <td>89</td>\n",
       "      <td>12</td>\n",
       "      <td>1</td>\n",
       "      <td>6</td>\n",
       "      <td>27</td>\n",
       "      <td>27</td>\n",
       "      <td>6</td>\n",
       "      <td>55</td>\n",
       "    </tr>\n",
       "    <tr>\n",
       "      <th>Needafriend</th>\n",
       "      <td>124</td>\n",
       "      <td>2</td>\n",
       "      <td>574</td>\n",
       "      <td>553</td>\n",
       "      <td>28</td>\n",
       "      <td>1</td>\n",
       "      <td>15</td>\n",
       "      <td>124</td>\n",
       "      <td>124</td>\n",
       "      <td>28</td>\n",
       "      <td>268</td>\n",
       "    </tr>\n",
       "    <tr>\n",
       "      <th>SuicideWatch</th>\n",
       "      <td>1096</td>\n",
       "      <td>2</td>\n",
       "      <td>10783</td>\n",
       "      <td>10295</td>\n",
       "      <td>152</td>\n",
       "      <td>1</td>\n",
       "      <td>55</td>\n",
       "      <td>1096</td>\n",
       "      <td>1096</td>\n",
       "      <td>132</td>\n",
       "      <td>859</td>\n",
       "    </tr>\n",
       "    <tr>\n",
       "      <th>depressed</th>\n",
       "      <td>90</td>\n",
       "      <td>2</td>\n",
       "      <td>397</td>\n",
       "      <td>382</td>\n",
       "      <td>34</td>\n",
       "      <td>1</td>\n",
       "      <td>23</td>\n",
       "      <td>90</td>\n",
       "      <td>90</td>\n",
       "      <td>18</td>\n",
       "      <td>159</td>\n",
       "    </tr>\n",
       "    <tr>\n",
       "      <th>depression</th>\n",
       "      <td>689</td>\n",
       "      <td>2</td>\n",
       "      <td>10378</td>\n",
       "      <td>9908</td>\n",
       "      <td>157</td>\n",
       "      <td>1</td>\n",
       "      <td>67</td>\n",
       "      <td>689</td>\n",
       "      <td>689</td>\n",
       "      <td>100</td>\n",
       "      <td>1079</td>\n",
       "    </tr>\n",
       "    <tr>\n",
       "      <th>depression_help</th>\n",
       "      <td>91</td>\n",
       "      <td>2</td>\n",
       "      <td>572</td>\n",
       "      <td>551</td>\n",
       "      <td>33</td>\n",
       "      <td>1</td>\n",
       "      <td>21</td>\n",
       "      <td>91</td>\n",
       "      <td>91</td>\n",
       "      <td>18</td>\n",
       "      <td>235</td>\n",
       "    </tr>\n",
       "    <tr>\n",
       "      <th>lonely</th>\n",
       "      <td>196</td>\n",
       "      <td>2</td>\n",
       "      <td>1736</td>\n",
       "      <td>1694</td>\n",
       "      <td>71</td>\n",
       "      <td>1</td>\n",
       "      <td>33</td>\n",
       "      <td>196</td>\n",
       "      <td>196</td>\n",
       "      <td>42</td>\n",
       "      <td>486</td>\n",
       "    </tr>\n",
       "    <tr>\n",
       "      <th>selfharm</th>\n",
       "      <td>242</td>\n",
       "      <td>2</td>\n",
       "      <td>4896</td>\n",
       "      <td>4740</td>\n",
       "      <td>143</td>\n",
       "      <td>1</td>\n",
       "      <td>42</td>\n",
       "      <td>242</td>\n",
       "      <td>242</td>\n",
       "      <td>47</td>\n",
       "      <td>676</td>\n",
       "    </tr>\n",
       "    <tr>\n",
       "      <th>socialanxiety</th>\n",
       "      <td>93</td>\n",
       "      <td>2</td>\n",
       "      <td>568</td>\n",
       "      <td>545</td>\n",
       "      <td>56</td>\n",
       "      <td>1</td>\n",
       "      <td>21</td>\n",
       "      <td>93</td>\n",
       "      <td>93</td>\n",
       "      <td>16</td>\n",
       "      <td>258</td>\n",
       "    </tr>\n",
       "  </tbody>\n",
       "</table>\n",
       "</div>"
      ],
      "text/plain": [
       "                 username  type   date   text  ups  downs  num_response  \\\n",
       "subreddit                                                                 \n",
       "Anxiety               228     2   1771   1737   61      1            36   \n",
       "Anxietyhelp            27     2     90     89   12      1             6   \n",
       "Needafriend           124     2    574    553   28      1            15   \n",
       "SuicideWatch         1096     2  10783  10295  152      1            55   \n",
       "depressed              90     2    397    382   34      1            23   \n",
       "depression            689     2  10378   9908  157      1            67   \n",
       "depression_help        91     2    572    551   33      1            21   \n",
       "lonely                196     2   1736   1694   71      1            33   \n",
       "selfharm              242     2   4896   4740  143      1            42   \n",
       "socialanxiety          93     2    568    545   56      1            21   \n",
       "\n",
       "                 sw_act_date  sw_post_date  post_act_diff  act_date_diff  \n",
       "subreddit                                                                 \n",
       "Anxiety                  228           228             42            509  \n",
       "Anxietyhelp               27            27              6             55  \n",
       "Needafriend              124           124             28            268  \n",
       "SuicideWatch            1096          1096            132            859  \n",
       "depressed                 90            90             18            159  \n",
       "depression               689           689            100           1079  \n",
       "depression_help           91            91             18            235  \n",
       "lonely                   196           196             42            486  \n",
       "selfharm                 242           242             47            676  \n",
       "socialanxiety             93            93             16            258  "
      ]
     },
     "execution_count": 36,
     "metadata": {},
     "output_type": "execute_result"
    }
   ],
   "source": [
    "final_target_df.groupby('subreddit').nunique()"
   ]
  },
  {
   "cell_type": "code",
   "execution_count": 37,
   "metadata": {},
   "outputs": [
    {
     "data": {
      "text/plain": [
       "<AxesSubplot:>"
      ]
     },
     "execution_count": 37,
     "metadata": {},
     "output_type": "execute_result"
    },
    {
     "data": {
      "image/png": "[encoded data removed]",
      "text/plain": [
       "<Figure size 432x288 with 1 Axes>"
      ]
     },
     "metadata": {
      "needs_background": "light"
     },
     "output_type": "display_data"
    }
   ],
   "source": [
    "final_target_df.groupby(['username','subreddit']).count()['type'].hist(bins = 50, log = True)"
   ]
  },
  {
   "cell_type": "markdown",
   "metadata": {},
   "source": [
    "This represents number of posts per subreddit per user. But I think this needs to be further filtered by looking at posts other than SW."
   ]
  },
  {
   "cell_type": "code",
   "execution_count": 38,
   "metadata": {},
   "outputs": [
    {
     "data": {
      "text/plain": [
       "count    1462.000000\n",
       "mean       10.598495\n",
       "std        22.945868\n",
       "min         1.000000\n",
       "25%         1.000000\n",
       "50%         3.000000\n",
       "75%         9.000000\n",
       "max       399.000000\n",
       "Name: type, dtype: float64"
      ]
     },
     "execution_count": 38,
     "metadata": {},
     "output_type": "execute_result"
    }
   ],
   "source": [
    "final_target_df[(final_target_df['subreddit']!='SuicideWatch')&(final_target_df['type']!=1)].groupby(['username','subreddit']).count()['type'].describe()#.hist(bins = 50, log = True)"
   ]
  }
 ],
 "metadata": {
  "kernelspec": {
   "display_name": "Python 3",
   "language": "python",
   "name": "python3"
  },
  "language_info": {
   "codemirror_mode": {
    "name": "ipython",
    "version": 3
   },
   "file_extension": ".py",
   "mimetype": "text/x-python",
   "name": "python",
   "nbconvert_exporter": "python",
   "pygments_lexer": "ipython3",
   "version": "3.8.5"
  }
 },
 "nbformat": 4,
 "nbformat_minor": 4
}

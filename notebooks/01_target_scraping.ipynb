{
 "cells": [
  {
   "cell_type": "markdown",
   "metadata": {},
   "source": [
    "## Target Scraping\n",
    "\n",
    "The purpose of this notebook is to scrape users that have posted in r/SuicideWatch from 2018 till now and then collect all of their metadata (posts and comments)."
   ]
  },
  {
   "cell_type": "code",
   "execution_count": 2,
   "metadata": {},
   "outputs": [],
   "source": [
    "import numpy as np\n",
    "import pandas as pd\n",
    "import matplotlib.pyplot as plt\n",
    "import seaborn as sns\n",
    "from collections import Counter\n",
    "import random\n",
    "\n",
    "import pickle\n",
    "\n",
    "from tqdm import tqdm\n",
    "\n",
    "from datetime import datetime\n",
    "\n",
    "import praw\n",
    "from psaw import PushshiftAPI\n",
    "from collections import Counter, OrderedDict"
   ]
  },
  {
   "cell_type": "code",
   "execution_count": 3,
   "metadata": {},
   "outputs": [
    {
     "name": "stderr",
     "output_type": "stream",
     "text": [
      "Version 7.1.0 of praw is outdated. Version 7.2.0 was released Wednesday February 24, 2021.\n"
     ]
    }
   ],
   "source": [
    "api = PushshiftAPI()\n",
    "\n",
    "# set up praw\n",
    "client_id = \"\"\n",
    "secret = \"\"\n",
    "user_agent = \"Mental Health Scraper\"\n",
    "\n",
    "reddit = praw.Reddit(client_id=client_id, client_secret=secret, user_agent=user_agent)"
   ]
  },
  {
   "cell_type": "code",
   "execution_count": 4,
   "metadata": {},
   "outputs": [],
   "source": [
    "# helpers\n",
    "def ut_to_dt(created):\n",
    "    '''\n",
    "    To convert unix time to datetime format\n",
    "    '''\n",
    "    ts = int(created)\n",
    "    return datetime.utcfromtimestamp(ts).strftime('%Y-%m-%d %H:%M:%S')"
   ]
  },
  {
   "cell_type": "code",
   "execution_count": null,
   "metadata": {},
   "outputs": [],
   "source": [
    "# initialize a starting date. We will scrape all posts starting from 2018.\n",
    "start_epoch=int(datetime(2018, 1, 1).timestamp())"
   ]
  },
  {
   "cell_type": "code",
   "execution_count": null,
   "metadata": {},
   "outputs": [],
   "source": [
    "#DO NOT RUN THIS IF FILE IS ALREADY SAVED\n",
    "res = list(api.search_submissions(after=start_epoch,\n",
    "                                  filter = [\"author\",\"title\",\"selftext\",\"created\",\"num_comments\",\"score\",\"upvote_ratio\"],\n",
    "                                  subreddit = 'SuicideWatch'))\n"
   ]
  },
  {
   "cell_type": "code",
   "execution_count": null,
   "metadata": {},
   "outputs": [],
   "source": [
    "posts = []\n",
    "for post in tqdm(res):\n",
    "    try:\n",
    "        posts.append([post.author, post.title, post.selftext, ut_to_dt(post.created_utc), post.num_comments, post.score])\n",
    "    except:\n",
    "        posts.append([post.author, post.title, '', ut_to_dt(post.created_utc), post.num_comments, post.score])\n",
    "posts = pd.DataFrame(posts,columns=[\"author\",\"title\", \"text\", \"created\",\"num_comments\",\"score\"])\n",
    "posts['created'] = pd.to_datetime(posts['created'])\n",
    "\n",
    "posts.to_csv(\"data/raw_sw_2018.csv\", index = False) # this is a big file and will be available upon request\n",
    "display(posts.head(), posts.shape)"
   ]
  },
  {
   "cell_type": "code",
   "execution_count": null,
   "metadata": {},
   "outputs": [],
   "source": [
    "count_df = posts.groupby('author').count()['title'].reset_index().rename({'title':'num_posts'}, axis = 1)\n",
    "perc = count_df.num_posts.value_counts().values[0]/len(count_df)*100\n",
    "str(np.round(perc, 2)) + \"% of users collected made only 1 post.\"\n",
    "\n",
    "## 77% percent of users collected made only one post"
   ]
  },
  {
   "cell_type": "code",
   "execution_count": null,
   "metadata": {},
   "outputs": [],
   "source": [
    "# Get the first posts of the users on SuicideWatch\n",
    "first_posts = posts.loc[posts.groupby('author')['created'].idxmin()]\n",
    "first_posts = pd.merge(first_posts, count_df, on = 'author')"
   ]
  },
  {
   "cell_type": "code",
   "execution_count": null,
   "metadata": {},
   "outputs": [],
   "source": [
    "# Collect list of usernames of moderators of SuicideWatch\n",
    "rm_list = []\n",
    "for moderator in reddit.subreddit(\"SuicideWatch\").moderator():\n",
    "    rm_list.append(str(moderator))\n",
    "rm_list.append('[deleted]') # no use from deleted accounts"
   ]
  },
  {
   "cell_type": "code",
   "execution_count": null,
   "metadata": {},
   "outputs": [],
   "source": [
    "# remove mods from first posts\n",
    "first_posts_fin = first_posts[~first_posts['author'].isin(rm_list)]\n",
    "print(str(first_posts.shape[0]-first_posts_fin.shape[0]) + \" users removed, total \" + str(first_posts_fin.shape[0]) + \" users remaining.\")"
   ]
  },
  {
   "cell_type": "markdown",
   "metadata": {},
   "source": [
    "## Users That Posted on MH Subs Before SW"
   ]
  },
  {
   "cell_type": "code",
   "execution_count": 5,
   "metadata": {},
   "outputs": [],
   "source": [
    "posts = pd.read_csv(\"data/raw_sw_2018.csv\")\n",
    "posts['created'] = pd.to_datetime(posts['created'])\n",
    "# remove removed posts\n",
    "posts = posts[posts['title'] != '[removed]']"
   ]
  },
  {
   "cell_type": "code",
   "execution_count": 6,
   "metadata": {},
   "outputs": [
    {
     "data": {
      "text/html": [
       "<div>\n",
       "<style scoped>\n",
       "    .dataframe tbody tr th:only-of-type {\n",
       "        vertical-align: middle;\n",
       "    }\n",
       "\n",
       "    .dataframe tbody tr th {\n",
       "        vertical-align: top;\n",
       "    }\n",
       "\n",
       "    .dataframe thead th {\n",
       "        text-align: right;\n",
       "    }\n",
       "</style>\n",
       "<table border=\"1\" class=\"dataframe\">\n",
       "  <thead>\n",
       "    <tr style=\"text-align: right;\">\n",
       "      <th></th>\n",
       "      <th>author</th>\n",
       "      <th>title</th>\n",
       "      <th>text</th>\n",
       "      <th>created</th>\n",
       "      <th>num_comments</th>\n",
       "      <th>score</th>\n",
       "    </tr>\n",
       "  </thead>\n",
       "  <tbody>\n",
       "    <tr>\n",
       "      <th>0</th>\n",
       "      <td>Buckeye-o</td>\n",
       "      <td>I don't want to live anymore</td>\n",
       "      <td>I've struggled with depression since middle sc...</td>\n",
       "      <td>2021-03-17 15:49:37</td>\n",
       "      <td>0</td>\n",
       "      <td>1</td>\n",
       "    </tr>\n",
       "    <tr>\n",
       "      <th>1</th>\n",
       "      <td>ScientificialBot</td>\n",
       "      <td>Either I'll kill myself or kill you all</td>\n",
       "      <td>I am very furious and happy right now. I don't...</td>\n",
       "      <td>2021-03-17 15:48:02</td>\n",
       "      <td>0</td>\n",
       "      <td>1</td>\n",
       "    </tr>\n",
       "    <tr>\n",
       "      <th>2</th>\n",
       "      <td>anarchy517</td>\n",
       "      <td>I think about killing myself constantly.</td>\n",
       "      <td>Everytime I see my cuts, I want it to end. Eve...</td>\n",
       "      <td>2021-03-17 15:45:12</td>\n",
       "      <td>5</td>\n",
       "      <td>1</td>\n",
       "    </tr>\n",
       "    <tr>\n",
       "      <th>3</th>\n",
       "      <td>LoneSoul66</td>\n",
       "      <td>Tired of playing the game of life.</td>\n",
       "      <td>I never plan on taking my own life, but the th...</td>\n",
       "      <td>2021-03-17 15:45:01</td>\n",
       "      <td>0</td>\n",
       "      <td>1</td>\n",
       "    </tr>\n",
       "    <tr>\n",
       "      <th>4</th>\n",
       "      <td>Purrrista</td>\n",
       "      <td>I just want to be okay.</td>\n",
       "      <td>I dont want to think of killing myself on a da...</td>\n",
       "      <td>2021-03-17 15:41:47</td>\n",
       "      <td>1</td>\n",
       "      <td>1</td>\n",
       "    </tr>\n",
       "  </tbody>\n",
       "</table>\n",
       "</div>"
      ],
      "text/plain": [
       "             author                                     title  \\\n",
       "0         Buckeye-o              I don't want to live anymore   \n",
       "1  ScientificialBot   Either I'll kill myself or kill you all   \n",
       "2        anarchy517  I think about killing myself constantly.   \n",
       "3        LoneSoul66        Tired of playing the game of life.   \n",
       "4         Purrrista                   I just want to be okay.   \n",
       "\n",
       "                                                text             created  \\\n",
       "0  I've struggled with depression since middle sc... 2021-03-17 15:49:37   \n",
       "1  I am very furious and happy right now. I don't... 2021-03-17 15:48:02   \n",
       "2  Everytime I see my cuts, I want it to end. Eve... 2021-03-17 15:45:12   \n",
       "3  I never plan on taking my own life, but the th... 2021-03-17 15:45:01   \n",
       "4  I dont want to think of killing myself on a da... 2021-03-17 15:41:47   \n",
       "\n",
       "   num_comments  score  \n",
       "0             0      1  \n",
       "1             0      1  \n",
       "2             5      1  \n",
       "3             0      1  \n",
       "4             1      1  "
      ]
     },
     "metadata": {},
     "output_type": "display_data"
    },
    {
     "data": {
      "text/plain": [
       "(375010, 6)"
      ]
     },
     "metadata": {},
     "output_type": "display_data"
    },
    {
     "data": {
      "text/plain": [
       "author                  object\n",
       "title                   object\n",
       "text                    object\n",
       "created         datetime64[ns]\n",
       "num_comments             int64\n",
       "score                    int64\n",
       "dtype: object"
      ]
     },
     "metadata": {},
     "output_type": "display_data"
    }
   ],
   "source": [
    "display(posts.head(), posts.shape, posts.dtypes)"
   ]
  },
  {
   "cell_type": "code",
   "execution_count": 16,
   "metadata": {},
   "outputs": [
    {
     "data": {
      "text/plain": [
       "(192726, 2)"
      ]
     },
     "execution_count": 16,
     "metadata": {},
     "output_type": "execute_result"
    }
   ],
   "source": [
    "first_posts = posts.groupby('author').created.agg(first_post = np.min).reset_index()\n",
    "first_posts.shape"
   ]
  },
  {
   "cell_type": "code",
   "execution_count": 17,
   "metadata": {},
   "outputs": [],
   "source": [
    " MH_subs = ['depression',\n",
    " 'depression_help',\n",
    " 'antidepressants',\n",
    " 'depressed',\n",
    " 'AnxietyDepression',\n",
    " 'AdultDepression',\n",
    " 'Anxiety',\n",
    " 'AnxietyDepressionsocialanxiety',\n",
    " 'Anxietyhelp',\n",
    " 'adhd_anxiety',\n",
    " 'PanicAttack',\n",
    " 'BPD',\n",
    " 'bipolar',\n",
    " 'BipolarReddit',\n",
    " 'CPTSD',\n",
    " 'ptsd',\n",
    " 'addiction',\n",
    " 'alcoholism',\n",
    " 'alcohol',\n",
    " 'cripplingalcoholism',\n",
    " 'alcoholicsanonymous',\n",
    " 'opiates',\n",
    " 'heroin',\n",
    " 'cocaine',\n",
    " 'trees',\n",
    " 'Drugs',\n",
    " 'askdrugs',\n",
    " 'leaves',\n",
    " 'schizophrenia',\n",
    " 'BingeEatingDisorder',\n",
    " 'EatingDisorders',\n",
    " 'fuckeatingdisorders',\n",
    " 'eating_disorders',\n",
    " 'bulimia',\n",
    " 'BreakUps',\n",
    " 'heartbreak',\n",
    " 'selfharm',\n",
    " 'SelfHarmScars',\n",
    " 'lonely',\n",
    " 'ForeverAlone',\n",
    " 'rape',\n",
    " 'rapecounseling',\n",
    " 'sexualassault',\n",
    " 'relationship_advice',\n",
    " 'relationships',\n",
    " 'abusiverelationships',\n",
    " 'survivinginfidelity',\n",
    " 'cheating_stories',\n",
    " 'NarcissisticAbuse',\n",
    " 'abusiveparents',\n",
    " 'survivorsofabuse',\n",
    " 'raisedbynarcissists',\n",
    " 'insaneparents',\n",
    " 'lossofalovedone',\n",
    " 'LostALovedOne']"
   ]
  },
  {
   "cell_type": "code",
   "execution_count": 34,
   "metadata": {},
   "outputs": [],
   "source": [
    "all_users = first_posts.author.unique().tolist() # list of all users in our cohort"
   ]
  },
  {
   "cell_type": "code",
   "execution_count": 82,
   "metadata": {},
   "outputs": [],
   "source": [
    "def get_comment_meta(username):\n",
    "    '''\n",
    "    Given a username, get all comments of the user\n",
    "    Returns a tuple of:\n",
    "    1. list of comments and the metadata associated with them\n",
    "    2. dictionary of all subreddits where the comments were made\n",
    "    '''\n",
    "    comment_subs = []\n",
    "    comment_meta = []\n",
    "    try:\n",
    "        for comment in reddit.redditor(username).comments.new(limit = None):\n",
    "            comment_subs.append(str(comment.subreddit))\n",
    "            comment_meta.append([user, 0, str(comment.subreddit), ut_to_dt(comment.created_utc), comment.body, comment.ups, comment.downs, len(comment.replies)])\n",
    "        comment_dict = Counter(comment_subs)\n",
    "        return comment_meta, comment_dict\n",
    "    except:\n",
    "        return [],Counter([])\n",
    "    \n",
    "def get_post_meta(username):\n",
    "    '''\n",
    "    Given a username, get all posts of the user\n",
    "    Returns a tuple of:\n",
    "    1. list of posts and the metadata associated with them\n",
    "    2. dictionary of all subreddits where the posts were made\n",
    "    '''\n",
    "    post_subs = []\n",
    "    post_meta = []\n",
    "    try:\n",
    "        for submission in reddit.redditor(username).submissions.new(limit = None):\n",
    "            post_subs.append(str(submission.subreddit))\n",
    "            post_meta.append([user, 1, str(submission.subreddit), ut_to_dt(submission.created_utc), submission.title + ' ' + submission.selftext, submission.ups, submission.downs, submission.num_comments])\n",
    "            \n",
    "        post_dict = Counter(post_subs)\n",
    "        \n",
    "        return post_meta, post_dict\n",
    "    \n",
    "    except:\n",
    "        return [],Counter([])\n",
    "    "
   ]
  },
  {
   "cell_type": "code",
   "execution_count": 90,
   "metadata": {},
   "outputs": [],
   "source": [
    "# shuffle all users collected for randomness\n",
    "\n",
    "random.seed = 42\n",
    "all_users = first_posts.author.unique().tolist()\n",
    "random.shuffle(all_users)"
   ]
  },
  {
   "cell_type": "code",
   "execution_count": 99,
   "metadata": {},
   "outputs": [
    {
     "data": {
      "text/plain": [
       "192726"
      ]
     },
     "execution_count": 99,
     "metadata": {},
     "output_type": "execute_result"
    }
   ],
   "source": [
    "len(all_users) # number of all users"
   ]
  },
  {
   "cell_type": "code",
   "execution_count": null,
   "metadata": {},
   "outputs": [
    {
     "name": "stderr",
     "output_type": "stream",
     "text": [
      " 76%|███████████████████████████████████████████████████▍                | 145826/192726 [62:38:06<18:02:01,  1.38s/it]"
     ]
    }
   ],
   "source": [
    "# This cell takes very long 145,826 users took 62 hours to scrape.\n",
    "\n",
    "metadata_total = []\n",
    "i = 0\n",
    "\n",
    "for i in tqdm(range(len(all_users))):\n",
    "    \n",
    "    user = all_users[i]\n",
    "    \n",
    "    comment_meta, comment_dict = get_comment_meta(user)\n",
    "    post_meta, post_dict = get_post_meta(user)\n",
    "    \n",
    "    if ('SuicideWatch' in post_dict.keys()):\n",
    "        combined_meta = comment_meta + post_meta\n",
    "        metadata_total += combined_meta\n",
    "        \n",
    "    if i % 5000 == 0:\n",
    "        with open('metadata18v2/met'+str(i)+'.pkl', 'wb') as f:\n",
    "            pickle.dump(metadata_total, f)\n",
    "            \n",
    "    i+= 1"
   ]
  }
 ],
 "metadata": {
  "kernelspec": {
   "display_name": "Python 3",
   "language": "python",
   "name": "python3"
  },
  "language_info": {
   "codemirror_mode": {
    "name": "ipython",
    "version": 3
   },
   "file_extension": ".py",
   "mimetype": "text/x-python",
   "name": "python",
   "nbconvert_exporter": "python",
   "pygments_lexer": "ipython3",
   "version": "3.8.5"
  }
 },
 "nbformat": 4,
 "nbformat_minor": 4
}

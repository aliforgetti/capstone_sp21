{
  "nbformat": 4,
  "nbformat_minor": 0,
  "metadata": {
    "colab": {
      "name": "10_dataset_development.ipynb",
      "provenance": [],
      "collapsed_sections": [],
      "machine_shape": "hm"
    },
    "kernelspec": {
      "name": "python3",
      "display_name": "Python 3"
    },
    "language_info": {
      "name": "python"
    },
    "widgets": {
      "application/vnd.jupyter.widget-state+json": {
        "f19828708dd6404baec471ae443fab19": {
          "model_module": "@jupyter-widgets/controls",
          "model_name": "HBoxModel",
          "state": {
            "_view_name": "HBoxView",
            "_dom_classes": [],
            "_model_name": "HBoxModel",
            "_view_module": "@jupyter-widgets/controls",
            "_model_module_version": "1.5.0",
            "_view_count": null,
            "_view_module_version": "1.5.0",
            "box_style": "",
            "layout": "IPY_MODEL_c4d1749c3086473c85985b7c6f41603c",
            "_model_module": "@jupyter-widgets/controls",
            "children": [
              "IPY_MODEL_f4039d797de045828cd3a22aeca89e9a",
              "IPY_MODEL_ebbb1e7c60a44a3491b20f398bd03d29"
            ]
          }
        },
        "c4d1749c3086473c85985b7c6f41603c": {
          "model_module": "@jupyter-widgets/base",
          "model_name": "LayoutModel",
          "state": {
            "_view_name": "LayoutView",
            "grid_template_rows": null,
            "right": null,
            "justify_content": null,
            "_view_module": "@jupyter-widgets/base",
            "overflow": null,
            "_model_module_version": "1.2.0",
            "_view_count": null,
            "flex_flow": null,
            "width": null,
            "min_width": null,
            "border": null,
            "align_items": null,
            "bottom": null,
            "_model_module": "@jupyter-widgets/base",
            "top": null,
            "grid_column": null,
            "overflow_y": null,
            "overflow_x": null,
            "grid_auto_flow": null,
            "grid_area": null,
            "grid_template_columns": null,
            "flex": null,
            "_model_name": "LayoutModel",
            "justify_items": null,
            "grid_row": null,
            "max_height": null,
            "align_content": null,
            "visibility": null,
            "align_self": null,
            "height": null,
            "min_height": null,
            "padding": null,
            "grid_auto_rows": null,
            "grid_gap": null,
            "max_width": null,
            "order": null,
            "_view_module_version": "1.2.0",
            "grid_template_areas": null,
            "object_position": null,
            "object_fit": null,
            "grid_auto_columns": null,
            "margin": null,
            "display": null,
            "left": null
          }
        },
        "f4039d797de045828cd3a22aeca89e9a": {
          "model_module": "@jupyter-widgets/controls",
          "model_name": "FloatProgressModel",
          "state": {
            "_view_name": "ProgressView",
            "style": "IPY_MODEL_32a960992a814c7ca903762eb8f5f8ba",
            "_dom_classes": [],
            "description": "",
            "_model_name": "FloatProgressModel",
            "bar_style": "info",
            "max": 1,
            "_view_module": "@jupyter-widgets/controls",
            "_model_module_version": "1.5.0",
            "value": 0,
            "_view_count": null,
            "_view_module_version": "1.5.0",
            "orientation": "horizontal",
            "min": 0,
            "description_tooltip": null,
            "_model_module": "@jupyter-widgets/controls",
            "layout": "IPY_MODEL_ded095f7bc104cada3ba7ffc63069cf7"
          }
        },
        "ebbb1e7c60a44a3491b20f398bd03d29": {
          "model_module": "@jupyter-widgets/controls",
          "model_name": "HTMLModel",
          "state": {
            "_view_name": "HTMLView",
            "style": "IPY_MODEL_eb73cabeb0e547768df6c18520273f51",
            "_dom_classes": [],
            "description": "",
            "_model_name": "HTMLModel",
            "placeholder": "​",
            "_view_module": "@jupyter-widgets/controls",
            "_model_module_version": "1.5.0",
            "value": " 0/? [00:00&lt;?, ?it/s]",
            "_view_count": null,
            "_view_module_version": "1.5.0",
            "description_tooltip": null,
            "_model_module": "@jupyter-widgets/controls",
            "layout": "IPY_MODEL_4b704635a1df4159bb425a03e9e2643b"
          }
        },
        "32a960992a814c7ca903762eb8f5f8ba": {
          "model_module": "@jupyter-widgets/controls",
          "model_name": "ProgressStyleModel",
          "state": {
            "_view_name": "StyleView",
            "_model_name": "ProgressStyleModel",
            "description_width": "initial",
            "_view_module": "@jupyter-widgets/base",
            "_model_module_version": "1.5.0",
            "_view_count": null,
            "_view_module_version": "1.2.0",
            "bar_color": null,
            "_model_module": "@jupyter-widgets/controls"
          }
        },
        "ded095f7bc104cada3ba7ffc63069cf7": {
          "model_module": "@jupyter-widgets/base",
          "model_name": "LayoutModel",
          "state": {
            "_view_name": "LayoutView",
            "grid_template_rows": null,
            "right": null,
            "justify_content": null,
            "_view_module": "@jupyter-widgets/base",
            "overflow": null,
            "_model_module_version": "1.2.0",
            "_view_count": null,
            "flex_flow": null,
            "width": null,
            "min_width": null,
            "border": null,
            "align_items": null,
            "bottom": null,
            "_model_module": "@jupyter-widgets/base",
            "top": null,
            "grid_column": null,
            "overflow_y": null,
            "overflow_x": null,
            "grid_auto_flow": null,
            "grid_area": null,
            "grid_template_columns": null,
            "flex": null,
            "_model_name": "LayoutModel",
            "justify_items": null,
            "grid_row": null,
            "max_height": null,
            "align_content": null,
            "visibility": null,
            "align_self": null,
            "height": null,
            "min_height": null,
            "padding": null,
            "grid_auto_rows": null,
            "grid_gap": null,
            "max_width": null,
            "order": null,
            "_view_module_version": "1.2.0",
            "grid_template_areas": null,
            "object_position": null,
            "object_fit": null,
            "grid_auto_columns": null,
            "margin": null,
            "display": null,
            "left": null
          }
        },
        "eb73cabeb0e547768df6c18520273f51": {
          "model_module": "@jupyter-widgets/controls",
          "model_name": "DescriptionStyleModel",
          "state": {
            "_view_name": "StyleView",
            "_model_name": "DescriptionStyleModel",
            "description_width": "",
            "_view_module": "@jupyter-widgets/base",
            "_model_module_version": "1.5.0",
            "_view_count": null,
            "_view_module_version": "1.2.0",
            "_model_module": "@jupyter-widgets/controls"
          }
        },
        "4b704635a1df4159bb425a03e9e2643b": {
          "model_module": "@jupyter-widgets/base",
          "model_name": "LayoutModel",
          "state": {
            "_view_name": "LayoutView",
            "grid_template_rows": null,
            "right": null,
            "justify_content": null,
            "_view_module": "@jupyter-widgets/base",
            "overflow": null,
            "_model_module_version": "1.2.0",
            "_view_count": null,
            "flex_flow": null,
            "width": null,
            "min_width": null,
            "border": null,
            "align_items": null,
            "bottom": null,
            "_model_module": "@jupyter-widgets/base",
            "top": null,
            "grid_column": null,
            "overflow_y": null,
            "overflow_x": null,
            "grid_auto_flow": null,
            "grid_area": null,
            "grid_template_columns": null,
            "flex": null,
            "_model_name": "LayoutModel",
            "justify_items": null,
            "grid_row": null,
            "max_height": null,
            "align_content": null,
            "visibility": null,
            "align_self": null,
            "height": null,
            "min_height": null,
            "padding": null,
            "grid_auto_rows": null,
            "grid_gap": null,
            "max_width": null,
            "order": null,
            "_view_module_version": "1.2.0",
            "grid_template_areas": null,
            "object_position": null,
            "object_fit": null,
            "grid_auto_columns": null,
            "margin": null,
            "display": null,
            "left": null
          }
        },
        "d3d01df4047c44d588652b60a66fde9a": {
          "model_module": "@jupyter-widgets/controls",
          "model_name": "HBoxModel",
          "state": {
            "_view_name": "HBoxView",
            "_dom_classes": [],
            "_model_name": "HBoxModel",
            "_view_module": "@jupyter-widgets/controls",
            "_model_module_version": "1.5.0",
            "_view_count": null,
            "_view_module_version": "1.5.0",
            "box_style": "",
            "layout": "IPY_MODEL_f7e003a0c33441b7a5d4608f0fe2bf56",
            "_model_module": "@jupyter-widgets/controls",
            "children": [
              "IPY_MODEL_0ada71b0d7e740859db30786fa114339",
              "IPY_MODEL_d65af561d2e34d9c8cb11ee063b15c16"
            ]
          }
        },
        "f7e003a0c33441b7a5d4608f0fe2bf56": {
          "model_module": "@jupyter-widgets/base",
          "model_name": "LayoutModel",
          "state": {
            "_view_name": "LayoutView",
            "grid_template_rows": null,
            "right": null,
            "justify_content": null,
            "_view_module": "@jupyter-widgets/base",
            "overflow": null,
            "_model_module_version": "1.2.0",
            "_view_count": null,
            "flex_flow": null,
            "width": null,
            "min_width": null,
            "border": null,
            "align_items": null,
            "bottom": null,
            "_model_module": "@jupyter-widgets/base",
            "top": null,
            "grid_column": null,
            "overflow_y": null,
            "overflow_x": null,
            "grid_auto_flow": null,
            "grid_area": null,
            "grid_template_columns": null,
            "flex": null,
            "_model_name": "LayoutModel",
            "justify_items": null,
            "grid_row": null,
            "max_height": null,
            "align_content": null,
            "visibility": null,
            "align_self": null,
            "height": null,
            "min_height": null,
            "padding": null,
            "grid_auto_rows": null,
            "grid_gap": null,
            "max_width": null,
            "order": null,
            "_view_module_version": "1.2.0",
            "grid_template_areas": null,
            "object_position": null,
            "object_fit": null,
            "grid_auto_columns": null,
            "margin": null,
            "display": null,
            "left": null
          }
        },
        "0ada71b0d7e740859db30786fa114339": {
          "model_module": "@jupyter-widgets/controls",
          "model_name": "FloatProgressModel",
          "state": {
            "_view_name": "ProgressView",
            "style": "IPY_MODEL_83da31e75f054424bbef2fb32febcd96",
            "_dom_classes": [],
            "description": "100%",
            "_model_name": "FloatProgressModel",
            "bar_style": "success",
            "max": 4650569,
            "_view_module": "@jupyter-widgets/controls",
            "_model_module_version": "1.5.0",
            "value": 4650569,
            "_view_count": null,
            "_view_module_version": "1.5.0",
            "orientation": "horizontal",
            "min": 0,
            "description_tooltip": null,
            "_model_module": "@jupyter-widgets/controls",
            "layout": "IPY_MODEL_7d503cbe5cc0487e8d1753f014d52ae8"
          }
        },
        "d65af561d2e34d9c8cb11ee063b15c16": {
          "model_module": "@jupyter-widgets/controls",
          "model_name": "HTMLModel",
          "state": {
            "_view_name": "HTMLView",
            "style": "IPY_MODEL_9beec98ade064752977910abc3fa01f1",
            "_dom_classes": [],
            "description": "",
            "_model_name": "HTMLModel",
            "placeholder": "​",
            "_view_module": "@jupyter-widgets/controls",
            "_model_module_version": "1.5.0",
            "value": " 4650569/4650569 [01:07&lt;00:00, 68412.77it/s]",
            "_view_count": null,
            "_view_module_version": "1.5.0",
            "description_tooltip": null,
            "_model_module": "@jupyter-widgets/controls",
            "layout": "IPY_MODEL_ae5b282c97e64a47bb77812b50704056"
          }
        },
        "83da31e75f054424bbef2fb32febcd96": {
          "model_module": "@jupyter-widgets/controls",
          "model_name": "ProgressStyleModel",
          "state": {
            "_view_name": "StyleView",
            "_model_name": "ProgressStyleModel",
            "description_width": "initial",
            "_view_module": "@jupyter-widgets/base",
            "_model_module_version": "1.5.0",
            "_view_count": null,
            "_view_module_version": "1.2.0",
            "bar_color": null,
            "_model_module": "@jupyter-widgets/controls"
          }
        },
        "7d503cbe5cc0487e8d1753f014d52ae8": {
          "model_module": "@jupyter-widgets/base",
          "model_name": "LayoutModel",
          "state": {
            "_view_name": "LayoutView",
            "grid_template_rows": null,
            "right": null,
            "justify_content": null,
            "_view_module": "@jupyter-widgets/base",
            "overflow": null,
            "_model_module_version": "1.2.0",
            "_view_count": null,
            "flex_flow": null,
            "width": null,
            "min_width": null,
            "border": null,
            "align_items": null,
            "bottom": null,
            "_model_module": "@jupyter-widgets/base",
            "top": null,
            "grid_column": null,
            "overflow_y": null,
            "overflow_x": null,
            "grid_auto_flow": null,
            "grid_area": null,
            "grid_template_columns": null,
            "flex": null,
            "_model_name": "LayoutModel",
            "justify_items": null,
            "grid_row": null,
            "max_height": null,
            "align_content": null,
            "visibility": null,
            "align_self": null,
            "height": null,
            "min_height": null,
            "padding": null,
            "grid_auto_rows": null,
            "grid_gap": null,
            "max_width": null,
            "order": null,
            "_view_module_version": "1.2.0",
            "grid_template_areas": null,
            "object_position": null,
            "object_fit": null,
            "grid_auto_columns": null,
            "margin": null,
            "display": null,
            "left": null
          }
        },
        "9beec98ade064752977910abc3fa01f1": {
          "model_module": "@jupyter-widgets/controls",
          "model_name": "DescriptionStyleModel",
          "state": {
            "_view_name": "StyleView",
            "_model_name": "DescriptionStyleModel",
            "description_width": "",
            "_view_module": "@jupyter-widgets/base",
            "_model_module_version": "1.5.0",
            "_view_count": null,
            "_view_module_version": "1.2.0",
            "_model_module": "@jupyter-widgets/controls"
          }
        },
        "ae5b282c97e64a47bb77812b50704056": {
          "model_module": "@jupyter-widgets/base",
          "model_name": "LayoutModel",
          "state": {
            "_view_name": "LayoutView",
            "grid_template_rows": null,
            "right": null,
            "justify_content": null,
            "_view_module": "@jupyter-widgets/base",
            "overflow": null,
            "_model_module_version": "1.2.0",
            "_view_count": null,
            "flex_flow": null,
            "width": null,
            "min_width": null,
            "border": null,
            "align_items": null,
            "bottom": null,
            "_model_module": "@jupyter-widgets/base",
            "top": null,
            "grid_column": null,
            "overflow_y": null,
            "overflow_x": null,
            "grid_auto_flow": null,
            "grid_area": null,
            "grid_template_columns": null,
            "flex": null,
            "_model_name": "LayoutModel",
            "justify_items": null,
            "grid_row": null,
            "max_height": null,
            "align_content": null,
            "visibility": null,
            "align_self": null,
            "height": null,
            "min_height": null,
            "padding": null,
            "grid_auto_rows": null,
            "grid_gap": null,
            "max_width": null,
            "order": null,
            "_view_module_version": "1.2.0",
            "grid_template_areas": null,
            "object_position": null,
            "object_fit": null,
            "grid_auto_columns": null,
            "margin": null,
            "display": null,
            "left": null
          }
        },
        "b407f2af2662427b9501bc547148e7fc": {
          "model_module": "@jupyter-widgets/controls",
          "model_name": "HBoxModel",
          "state": {
            "_view_name": "HBoxView",
            "_dom_classes": [],
            "_model_name": "HBoxModel",
            "_view_module": "@jupyter-widgets/controls",
            "_model_module_version": "1.5.0",
            "_view_count": null,
            "_view_module_version": "1.5.0",
            "box_style": "",
            "layout": "IPY_MODEL_e0168c18f08945639adee9639550914b",
            "_model_module": "@jupyter-widgets/controls",
            "children": [
              "IPY_MODEL_26233813f2ca473eb0f64be9c8682b5d",
              "IPY_MODEL_5d87573d7c4743b6aaf9580a6682c87e"
            ]
          }
        },
        "e0168c18f08945639adee9639550914b": {
          "model_module": "@jupyter-widgets/base",
          "model_name": "LayoutModel",
          "state": {
            "_view_name": "LayoutView",
            "grid_template_rows": null,
            "right": null,
            "justify_content": null,
            "_view_module": "@jupyter-widgets/base",
            "overflow": null,
            "_model_module_version": "1.2.0",
            "_view_count": null,
            "flex_flow": null,
            "width": null,
            "min_width": null,
            "border": null,
            "align_items": null,
            "bottom": null,
            "_model_module": "@jupyter-widgets/base",
            "top": null,
            "grid_column": null,
            "overflow_y": null,
            "overflow_x": null,
            "grid_auto_flow": null,
            "grid_area": null,
            "grid_template_columns": null,
            "flex": null,
            "_model_name": "LayoutModel",
            "justify_items": null,
            "grid_row": null,
            "max_height": null,
            "align_content": null,
            "visibility": null,
            "align_self": null,
            "height": null,
            "min_height": null,
            "padding": null,
            "grid_auto_rows": null,
            "grid_gap": null,
            "max_width": null,
            "order": null,
            "_view_module_version": "1.2.0",
            "grid_template_areas": null,
            "object_position": null,
            "object_fit": null,
            "grid_auto_columns": null,
            "margin": null,
            "display": null,
            "left": null
          }
        },
        "26233813f2ca473eb0f64be9c8682b5d": {
          "model_module": "@jupyter-widgets/controls",
          "model_name": "FloatProgressModel",
          "state": {
            "_view_name": "ProgressView",
            "style": "IPY_MODEL_a0698c798f9d4d9eab0522439eb5f392",
            "_dom_classes": [],
            "description": "100%",
            "_model_name": "FloatProgressModel",
            "bar_style": "success",
            "max": 4650569,
            "_view_module": "@jupyter-widgets/controls",
            "_model_module_version": "1.5.0",
            "value": 4650569,
            "_view_count": null,
            "_view_module_version": "1.5.0",
            "orientation": "horizontal",
            "min": 0,
            "description_tooltip": null,
            "_model_module": "@jupyter-widgets/controls",
            "layout": "IPY_MODEL_b2bd8143517d4ea195fb4cca4914a491"
          }
        },
        "5d87573d7c4743b6aaf9580a6682c87e": {
          "model_module": "@jupyter-widgets/controls",
          "model_name": "HTMLModel",
          "state": {
            "_view_name": "HTMLView",
            "style": "IPY_MODEL_0d43cc5b10fa4a1b81a04b2eabe3aa99",
            "_dom_classes": [],
            "description": "",
            "_model_name": "HTMLModel",
            "placeholder": "​",
            "_view_module": "@jupyter-widgets/controls",
            "_model_module_version": "1.5.0",
            "value": " 4650569/4650569 [03:13&lt;00:00, 24071.37it/s]",
            "_view_count": null,
            "_view_module_version": "1.5.0",
            "description_tooltip": null,
            "_model_module": "@jupyter-widgets/controls",
            "layout": "IPY_MODEL_8ebee226798f47e99a149ac3a58f3522"
          }
        },
        "a0698c798f9d4d9eab0522439eb5f392": {
          "model_module": "@jupyter-widgets/controls",
          "model_name": "ProgressStyleModel",
          "state": {
            "_view_name": "StyleView",
            "_model_name": "ProgressStyleModel",
            "description_width": "initial",
            "_view_module": "@jupyter-widgets/base",
            "_model_module_version": "1.5.0",
            "_view_count": null,
            "_view_module_version": "1.2.0",
            "bar_color": null,
            "_model_module": "@jupyter-widgets/controls"
          }
        },
        "b2bd8143517d4ea195fb4cca4914a491": {
          "model_module": "@jupyter-widgets/base",
          "model_name": "LayoutModel",
          "state": {
            "_view_name": "LayoutView",
            "grid_template_rows": null,
            "right": null,
            "justify_content": null,
            "_view_module": "@jupyter-widgets/base",
            "overflow": null,
            "_model_module_version": "1.2.0",
            "_view_count": null,
            "flex_flow": null,
            "width": null,
            "min_width": null,
            "border": null,
            "align_items": null,
            "bottom": null,
            "_model_module": "@jupyter-widgets/base",
            "top": null,
            "grid_column": null,
            "overflow_y": null,
            "overflow_x": null,
            "grid_auto_flow": null,
            "grid_area": null,
            "grid_template_columns": null,
            "flex": null,
            "_model_name": "LayoutModel",
            "justify_items": null,
            "grid_row": null,
            "max_height": null,
            "align_content": null,
            "visibility": null,
            "align_self": null,
            "height": null,
            "min_height": null,
            "padding": null,
            "grid_auto_rows": null,
            "grid_gap": null,
            "max_width": null,
            "order": null,
            "_view_module_version": "1.2.0",
            "grid_template_areas": null,
            "object_position": null,
            "object_fit": null,
            "grid_auto_columns": null,
            "margin": null,
            "display": null,
            "left": null
          }
        },
        "0d43cc5b10fa4a1b81a04b2eabe3aa99": {
          "model_module": "@jupyter-widgets/controls",
          "model_name": "DescriptionStyleModel",
          "state": {
            "_view_name": "StyleView",
            "_model_name": "DescriptionStyleModel",
            "description_width": "",
            "_view_module": "@jupyter-widgets/base",
            "_model_module_version": "1.5.0",
            "_view_count": null,
            "_view_module_version": "1.2.0",
            "_model_module": "@jupyter-widgets/controls"
          }
        },
        "8ebee226798f47e99a149ac3a58f3522": {
          "model_module": "@jupyter-widgets/base",
          "model_name": "LayoutModel",
          "state": {
            "_view_name": "LayoutView",
            "grid_template_rows": null,
            "right": null,
            "justify_content": null,
            "_view_module": "@jupyter-widgets/base",
            "overflow": null,
            "_model_module_version": "1.2.0",
            "_view_count": null,
            "flex_flow": null,
            "width": null,
            "min_width": null,
            "border": null,
            "align_items": null,
            "bottom": null,
            "_model_module": "@jupyter-widgets/base",
            "top": null,
            "grid_column": null,
            "overflow_y": null,
            "overflow_x": null,
            "grid_auto_flow": null,
            "grid_area": null,
            "grid_template_columns": null,
            "flex": null,
            "_model_name": "LayoutModel",
            "justify_items": null,
            "grid_row": null,
            "max_height": null,
            "align_content": null,
            "visibility": null,
            "align_self": null,
            "height": null,
            "min_height": null,
            "padding": null,
            "grid_auto_rows": null,
            "grid_gap": null,
            "max_width": null,
            "order": null,
            "_view_module_version": "1.2.0",
            "grid_template_areas": null,
            "object_position": null,
            "object_fit": null,
            "grid_auto_columns": null,
            "margin": null,
            "display": null,
            "left": null
          }
        },
        "ac8eea04ba484083a5c03a5348defcdc": {
          "model_module": "@jupyter-widgets/controls",
          "model_name": "HBoxModel",
          "state": {
            "_view_name": "HBoxView",
            "_dom_classes": [],
            "_model_name": "HBoxModel",
            "_view_module": "@jupyter-widgets/controls",
            "_model_module_version": "1.5.0",
            "_view_count": null,
            "_view_module_version": "1.5.0",
            "box_style": "",
            "layout": "IPY_MODEL_460cae999872485c9a7f693c3bd37c7a",
            "_model_module": "@jupyter-widgets/controls",
            "children": [
              "IPY_MODEL_0b8e51881ad342f4bdeaa9d856ed12e8",
              "IPY_MODEL_e9213d77f51840f181dde0cd772efe19"
            ]
          }
        },
        "460cae999872485c9a7f693c3bd37c7a": {
          "model_module": "@jupyter-widgets/base",
          "model_name": "LayoutModel",
          "state": {
            "_view_name": "LayoutView",
            "grid_template_rows": null,
            "right": null,
            "justify_content": null,
            "_view_module": "@jupyter-widgets/base",
            "overflow": null,
            "_model_module_version": "1.2.0",
            "_view_count": null,
            "flex_flow": null,
            "width": null,
            "min_width": null,
            "border": null,
            "align_items": null,
            "bottom": null,
            "_model_module": "@jupyter-widgets/base",
            "top": null,
            "grid_column": null,
            "overflow_y": null,
            "overflow_x": null,
            "grid_auto_flow": null,
            "grid_area": null,
            "grid_template_columns": null,
            "flex": null,
            "_model_name": "LayoutModel",
            "justify_items": null,
            "grid_row": null,
            "max_height": null,
            "align_content": null,
            "visibility": null,
            "align_self": null,
            "height": null,
            "min_height": null,
            "padding": null,
            "grid_auto_rows": null,
            "grid_gap": null,
            "max_width": null,
            "order": null,
            "_view_module_version": "1.2.0",
            "grid_template_areas": null,
            "object_position": null,
            "object_fit": null,
            "grid_auto_columns": null,
            "margin": null,
            "display": null,
            "left": null
          }
        },
        "0b8e51881ad342f4bdeaa9d856ed12e8": {
          "model_module": "@jupyter-widgets/controls",
          "model_name": "FloatProgressModel",
          "state": {
            "_view_name": "ProgressView",
            "style": "IPY_MODEL_f1750da23d0243839f103915393ab7ba",
            "_dom_classes": [],
            "description": "100%",
            "_model_name": "FloatProgressModel",
            "bar_style": "success",
            "max": 4650569,
            "_view_module": "@jupyter-widgets/controls",
            "_model_module_version": "1.5.0",
            "value": 4650569,
            "_view_count": null,
            "_view_module_version": "1.5.0",
            "orientation": "horizontal",
            "min": 0,
            "description_tooltip": null,
            "_model_module": "@jupyter-widgets/controls",
            "layout": "IPY_MODEL_d29be3b8298e458e8307c9cd1604bea7"
          }
        },
        "e9213d77f51840f181dde0cd772efe19": {
          "model_module": "@jupyter-widgets/controls",
          "model_name": "HTMLModel",
          "state": {
            "_view_name": "HTMLView",
            "style": "IPY_MODEL_d05e0dc16318403090565abc1154725c",
            "_dom_classes": [],
            "description": "",
            "_model_name": "HTMLModel",
            "placeholder": "​",
            "_view_module": "@jupyter-widgets/controls",
            "_model_module_version": "1.5.0",
            "value": " 4650569/4650569 [02:27&lt;00:00, 31425.08it/s]",
            "_view_count": null,
            "_view_module_version": "1.5.0",
            "description_tooltip": null,
            "_model_module": "@jupyter-widgets/controls",
            "layout": "IPY_MODEL_a19ef070b7564cf5bde1031494e4463c"
          }
        },
        "f1750da23d0243839f103915393ab7ba": {
          "model_module": "@jupyter-widgets/controls",
          "model_name": "ProgressStyleModel",
          "state": {
            "_view_name": "StyleView",
            "_model_name": "ProgressStyleModel",
            "description_width": "initial",
            "_view_module": "@jupyter-widgets/base",
            "_model_module_version": "1.5.0",
            "_view_count": null,
            "_view_module_version": "1.2.0",
            "bar_color": null,
            "_model_module": "@jupyter-widgets/controls"
          }
        },
        "d29be3b8298e458e8307c9cd1604bea7": {
          "model_module": "@jupyter-widgets/base",
          "model_name": "LayoutModel",
          "state": {
            "_view_name": "LayoutView",
            "grid_template_rows": null,
            "right": null,
            "justify_content": null,
            "_view_module": "@jupyter-widgets/base",
            "overflow": null,
            "_model_module_version": "1.2.0",
            "_view_count": null,
            "flex_flow": null,
            "width": null,
            "min_width": null,
            "border": null,
            "align_items": null,
            "bottom": null,
            "_model_module": "@jupyter-widgets/base",
            "top": null,
            "grid_column": null,
            "overflow_y": null,
            "overflow_x": null,
            "grid_auto_flow": null,
            "grid_area": null,
            "grid_template_columns": null,
            "flex": null,
            "_model_name": "LayoutModel",
            "justify_items": null,
            "grid_row": null,
            "max_height": null,
            "align_content": null,
            "visibility": null,
            "align_self": null,
            "height": null,
            "min_height": null,
            "padding": null,
            "grid_auto_rows": null,
            "grid_gap": null,
            "max_width": null,
            "order": null,
            "_view_module_version": "1.2.0",
            "grid_template_areas": null,
            "object_position": null,
            "object_fit": null,
            "grid_auto_columns": null,
            "margin": null,
            "display": null,
            "left": null
          }
        },
        "d05e0dc16318403090565abc1154725c": {
          "model_module": "@jupyter-widgets/controls",
          "model_name": "DescriptionStyleModel",
          "state": {
            "_view_name": "StyleView",
            "_model_name": "DescriptionStyleModel",
            "description_width": "",
            "_view_module": "@jupyter-widgets/base",
            "_model_module_version": "1.5.0",
            "_view_count": null,
            "_view_module_version": "1.2.0",
            "_model_module": "@jupyter-widgets/controls"
          }
        },
        "a19ef070b7564cf5bde1031494e4463c": {
          "model_module": "@jupyter-widgets/base",
          "model_name": "LayoutModel",
          "state": {
            "_view_name": "LayoutView",
            "grid_template_rows": null,
            "right": null,
            "justify_content": null,
            "_view_module": "@jupyter-widgets/base",
            "overflow": null,
            "_model_module_version": "1.2.0",
            "_view_count": null,
            "flex_flow": null,
            "width": null,
            "min_width": null,
            "border": null,
            "align_items": null,
            "bottom": null,
            "_model_module": "@jupyter-widgets/base",
            "top": null,
            "grid_column": null,
            "overflow_y": null,
            "overflow_x": null,
            "grid_auto_flow": null,
            "grid_area": null,
            "grid_template_columns": null,
            "flex": null,
            "_model_name": "LayoutModel",
            "justify_items": null,
            "grid_row": null,
            "max_height": null,
            "align_content": null,
            "visibility": null,
            "align_self": null,
            "height": null,
            "min_height": null,
            "padding": null,
            "grid_auto_rows": null,
            "grid_gap": null,
            "max_width": null,
            "order": null,
            "_view_module_version": "1.2.0",
            "grid_template_areas": null,
            "object_position": null,
            "object_fit": null,
            "grid_auto_columns": null,
            "margin": null,
            "display": null,
            "left": null
          }
        }
      }
    }
  },
  "cells": [
    {
      "cell_type": "code",
      "metadata": {
        "colab": {
          "base_uri": "https://localhost:8080/"
        },
        "id": "lc3WypTcWMEm",
        "outputId": "01dc3994-0fb3-4735-c5f2-d2bef6a34cd1"
      },
      "source": [
        "from google.colab import drive\n",
        "drive.mount('/content/gdrive')\n",
        "%cd gdrive/MyDrive/Capstone/"
      ],
      "execution_count": null,
      "outputs": [
        {
          "output_type": "stream",
          "text": [
            "Mounted at /content/gdrive\n"
          ],
          "name": "stdout"
        }
      ]
    },
    {
      "cell_type": "markdown",
      "metadata": {
        "id": "_zLgUnek_O4S"
      },
      "source": [
        "# Dataset Development\n",
        "**Purpose:** To take curated dataset and bring into a form which will make training different types of modeling easier. Text preprocessing on the dataset will happen in the modeling notebooks themselves since this will be specific to the type of model we are using. "
      ]
    },
    {
      "cell_type": "code",
      "metadata": {
        "id": "Ex6wVqZnEIeR"
      },
      "source": [
        "# uncomment when running in colab and restart runtime afterwards\n",
        "# !pip install texthero"
      ],
      "execution_count": null,
      "outputs": []
    },
    {
      "cell_type": "code",
      "metadata": {
        "id": "ZWyDC9YtVoT0",
        "colab": {
          "base_uri": "https://localhost:8080/",
          "height": 136,
          "referenced_widgets": [
            "f19828708dd6404baec471ae443fab19",
            "c4d1749c3086473c85985b7c6f41603c",
            "f4039d797de045828cd3a22aeca89e9a",
            "ebbb1e7c60a44a3491b20f398bd03d29",
            "32a960992a814c7ca903762eb8f5f8ba",
            "ded095f7bc104cada3ba7ffc63069cf7",
            "eb73cabeb0e547768df6c18520273f51",
            "4b704635a1df4159bb425a03e9e2643b"
          ]
        },
        "outputId": "96944263-f816-4ef7-e5a5-bb675dcf9213"
      },
      "source": [
        "# data analysis libraries\n",
        "import numpy as np\n",
        "import pandas as pd\n",
        "import matplotlib.pyplot as plt\n",
        "import seaborn as sns\n",
        "\n",
        "# data preprocessing libraries\n",
        "import re\n",
        "from datetime import datetime\n",
        "import spacy\n",
        "import nltk\n",
        "from nltk import word_tokenize, sent_tokenize\n",
        "# import texthero as hero\n",
        "# from texthero import preprocessing\n",
        "from sklearn.model_selection import train_test_split\n",
        "\n",
        "# other\n",
        "from tqdm import tqdm, tqdm_notebook, tqdm_pandas\n",
        "\n",
        "tqdm.pandas()\n",
        "tqdm_notebook().pandas()"
      ],
      "execution_count": null,
      "outputs": [
        {
          "output_type": "stream",
          "text": [
            "/usr/local/lib/python3.7/dist-packages/tqdm/std.py:658: FutureWarning: The Panel class is removed from pandas. Accessing it from the top-level namespace will also be removed in the next version\n",
            "  from pandas import Panel\n",
            "/usr/local/lib/python3.7/dist-packages/ipykernel_launcher.py:22: TqdmDeprecationWarning: This function will be removed in tqdm==5.0.0\n",
            "Please use `tqdm.notebook.tqdm` instead of `tqdm.tqdm_notebook`\n"
          ],
          "name": "stderr"
        },
        {
          "output_type": "display_data",
          "data": {
            "application/vnd.jupyter.widget-view+json": {
              "model_id": "f19828708dd6404baec471ae443fab19",
              "version_minor": 0,
              "version_major": 2
            },
            "text/plain": [
              "HBox(children=(FloatProgress(value=1.0, bar_style='info', max=1.0), HTML(value='')))"
            ]
          },
          "metadata": {
            "tags": []
          }
        }
      ]
    },
    {
      "cell_type": "code",
      "metadata": {
        "colab": {
          "base_uri": "https://localhost:8080/"
        },
        "id": "DWbUx5UKvzCL",
        "outputId": "9d1700a4-ba55-4567-9b70-bb2d062fa026"
      },
      "source": [
        "nltk.download('punkt')"
      ],
      "execution_count": null,
      "outputs": [
        {
          "output_type": "stream",
          "text": [
            "[nltk_data] Downloading package punkt to /root/nltk_data...\n",
            "[nltk_data]   Unzipping tokenizers/punkt.zip.\n"
          ],
          "name": "stdout"
        },
        {
          "output_type": "execute_result",
          "data": {
            "text/plain": [
              "True"
            ]
          },
          "metadata": {
            "tags": []
          },
          "execution_count": 4
        }
      ]
    },
    {
      "cell_type": "code",
      "metadata": {
        "id": "yiXUhlBPBZAS"
      },
      "source": [
        "def get_stats(column, quantiles = [0.025, 0.5, 0.975], log = True):\n",
        "  '''\n",
        "  Displays quantile outliers, histogram and a description of the data.  \n",
        "  column: pd.Series object of column\n",
        "  '''\n",
        "  display(column.quantile(quantiles),\n",
        "          column.hist(bins = 50, log = log),\n",
        "          column.describe())"
      ],
      "execution_count": null,
      "outputs": []
    },
    {
      "cell_type": "code",
      "metadata": {
        "id": "3kaep9bjozSB"
      },
      "source": [
        "# Load the control and experimental group\n",
        "target_0 = pd.read_csv('data/target_0.csv')\n",
        "target_1 = pd.read_csv('data/target_1.csv')\n",
        "\n",
        "# adding target labels \n",
        "target_0['target'] = 0\n",
        "target_1['target'] = 1"
      ],
      "execution_count": null,
      "outputs": []
    },
    {
      "cell_type": "code",
      "metadata": {
        "id": "-5NjDONBop7q"
      },
      "source": [
        "total_df = target_0.append(target_1)"
      ],
      "execution_count": null,
      "outputs": []
    },
    {
      "cell_type": "code",
      "metadata": {
        "id": "TB0-KYWMvnul"
      },
      "source": [
        "# convert date to datetime format\n",
        "total_df['date'] = pd.to_datetime(total_df['date'], infer_datetime_format=True)"
      ],
      "execution_count": null,
      "outputs": []
    },
    {
      "cell_type": "code",
      "metadata": {
        "colab": {
          "base_uri": "https://localhost:8080/",
          "height": 136
        },
        "id": "kvCG71IVq0qq",
        "outputId": "51b234a4-377e-4ef0-a85c-f0357cd9f1d2"
      },
      "source": [
        "total_df.head(3)"
      ],
      "execution_count": null,
      "outputs": [
        {
          "output_type": "execute_result",
          "data": {
            "text/html": [
              "<div>\n",
              "<style scoped>\n",
              "    .dataframe tbody tr th:only-of-type {\n",
              "        vertical-align: middle;\n",
              "    }\n",
              "\n",
              "    .dataframe tbody tr th {\n",
              "        vertical-align: top;\n",
              "    }\n",
              "\n",
              "    .dataframe thead th {\n",
              "        text-align: right;\n",
              "    }\n",
              "</style>\n",
              "<table border=\"1\" class=\"dataframe\">\n",
              "  <thead>\n",
              "    <tr style=\"text-align: right;\">\n",
              "      <th></th>\n",
              "      <th>username</th>\n",
              "      <th>type</th>\n",
              "      <th>subreddit</th>\n",
              "      <th>date</th>\n",
              "      <th>text</th>\n",
              "      <th>ups</th>\n",
              "      <th>downs</th>\n",
              "      <th>num_response</th>\n",
              "      <th>target</th>\n",
              "      <th>first_sw_post</th>\n",
              "    </tr>\n",
              "  </thead>\n",
              "  <tbody>\n",
              "    <tr>\n",
              "      <th>0</th>\n",
              "      <td>BIGBOIBICH</td>\n",
              "      <td>0</td>\n",
              "      <td>depression</td>\n",
              "      <td>2021-04-01 09:16:14</td>\n",
              "      <td>Honestly people don’t know about the fact that...</td>\n",
              "      <td>16</td>\n",
              "      <td>0</td>\n",
              "      <td>0</td>\n",
              "      <td>0</td>\n",
              "      <td>NaN</td>\n",
              "    </tr>\n",
              "    <tr>\n",
              "      <th>1</th>\n",
              "      <td>BIGBOIBICH</td>\n",
              "      <td>0</td>\n",
              "      <td>depression</td>\n",
              "      <td>2021-03-31 21:46:48</td>\n",
              "      <td>Ye I’ll try to today thank you for the tip</td>\n",
              "      <td>1</td>\n",
              "      <td>0</td>\n",
              "      <td>0</td>\n",
              "      <td>0</td>\n",
              "      <td>NaN</td>\n",
              "    </tr>\n",
              "    <tr>\n",
              "      <th>2</th>\n",
              "      <td>BIGBOIBICH</td>\n",
              "      <td>0</td>\n",
              "      <td>depression</td>\n",
              "      <td>2021-03-31 20:43:14</td>\n",
              "      <td>I’m sorry to hear that I really am but I hope ...</td>\n",
              "      <td>1</td>\n",
              "      <td>0</td>\n",
              "      <td>0</td>\n",
              "      <td>0</td>\n",
              "      <td>NaN</td>\n",
              "    </tr>\n",
              "  </tbody>\n",
              "</table>\n",
              "</div>"
            ],
            "text/plain": [
              "     username  type   subreddit  ... num_response target  first_sw_post\n",
              "0  BIGBOIBICH     0  depression  ...            0      0            NaN\n",
              "1  BIGBOIBICH     0  depression  ...            0      0            NaN\n",
              "2  BIGBOIBICH     0  depression  ...            0      0            NaN\n",
              "\n",
              "[3 rows x 10 columns]"
            ]
          },
          "metadata": {
            "tags": []
          },
          "execution_count": 105
        }
      ]
    },
    {
      "cell_type": "code",
      "metadata": {
        "colab": {
          "base_uri": "https://localhost:8080/"
        },
        "id": "zvejPle2y3Sx",
        "outputId": "78a1e099-7b89-4f87-a5a7-2b88439d719a"
      },
      "source": [
        "#dropping potential duplicates\n",
        "before = total_df.shape[0]\n",
        "print(before)\n",
        "\n",
        "total_df.drop_duplicates(inplace=True)\n",
        "\n",
        "after = total_df.shape[0]\n",
        "print(\"Percentages of rows dropped: \")\n",
        "print(((before-after)/(before))*100)"
      ],
      "execution_count": null,
      "outputs": [
        {
          "output_type": "stream",
          "text": [
            "4650897\n",
            "Percentages of rows dropped: \n",
            "0.005138793656363493\n"
          ],
          "name": "stdout"
        }
      ]
    },
    {
      "cell_type": "code",
      "metadata": {
        "colab": {
          "base_uri": "https://localhost:8080/"
        },
        "id": "-0FXBMFXzFLA",
        "outputId": "fec29d78-fa23-491b-dd85-e1e0aaf6fad4"
      },
      "source": [
        "#dropping null values\n",
        "before = total_df.shape[0]\n",
        "print(before)\n",
        "\n",
        "total_df = total_df[~total_df.text.isnull()]\n",
        "total_df = total_df[~total_df.date.isnull()]\n",
        "\n",
        "after = total_df.shape[0]\n",
        "print(\"Percentage of rows dropped: \")\n",
        "print(((before-after)/(before))*100)"
      ],
      "execution_count": null,
      "outputs": [
        {
          "output_type": "stream",
          "text": [
            "4650658\n",
            "Percentage of rows dropped: \n",
            "0.0006020653421515837\n"
          ],
          "name": "stdout"
        }
      ]
    },
    {
      "cell_type": "code",
      "metadata": {
        "colab": {
          "base_uri": "https://localhost:8080/"
        },
        "id": "GqQ576osa_66",
        "outputId": "5266a1ff-77e1-4324-a01f-d89abe1206ec"
      },
      "source": [
        "#dropping posts that have [removed] in them\n",
        "before = total_df.shape[0]\n",
        "print(before)\n",
        "\n",
        "total_df = total_df[~(total_df['text']=='[removed]')]\n",
        "\n",
        "after = total_df.shape[0]\n",
        "print(\"Percentage of rows dropped: \")\n",
        "print(((before-after)/(before))*100)"
      ],
      "execution_count": null,
      "outputs": [
        {
          "output_type": "stream",
          "text": [
            "4650630\n",
            "Percentage of rows dropped: \n",
            "0.0013116502495360844\n"
          ],
          "name": "stdout"
        }
      ]
    },
    {
      "cell_type": "markdown",
      "metadata": {
        "id": "BrU5E7fcITa0"
      },
      "source": [
        "4. text preprocessing:\n",
        "    \n",
        "    - [x] removing `\\n` and `\\t` \n",
        "    - [x] removing digits\n",
        "    - [x] removing urls\n",
        "    - [x] removing HTML tags\n",
        "    - [x] removing username mentions and subreddit mentions\n",
        "    - [x] removing emojis\n",
        "    - [x] removing SOME special characters - Retaining special characters that Transformer models could use.\n",
        "\n",
        "5. remove comments and posts with too few words.\n"
      ]
    },
    {
      "cell_type": "code",
      "metadata": {
        "id": "JCdn6Z8zQntp"
      },
      "source": [
        "def remove_newline_tab(text):\n",
        "  new_text = re.sub('\\n|\\t', '', text)\n",
        "  return new_text\n",
        "\n",
        "def remove_mentions(text):\n",
        "  new_text = re.sub('((\\/*r\\/)\\w+)|((\\/*u\\/)\\w+)','', text)\n",
        "  return new_text\n",
        "\n",
        "def remove_emojis(text):\n",
        "  emoji_pattern = re.compile(\"[\"\n",
        "        u\"\\U0001F600-\\U0001F64F\"  # emoticons\n",
        "        u\"\\U0001F300-\\U0001F5FF\"  # symbols & pictographs\n",
        "        u\"\\U0001F680-\\U0001F6FF\"  # transport & map symbols\n",
        "        u\"\\U0001F1E0-\\U0001F1FF\"  # flags (iOS)\n",
        "                           \"]+\", flags=re.UNICODE)\n",
        "  new_text = emoji_pattern.sub(r'', text)\n",
        "  return new_text\n",
        "\n",
        "def remove_some_special(text):\n",
        "  specials_to_sub = \"(\\#|\\$|\\%|\\^|\\&|\\*|\\(|\\)|\\[|\\]|\\{|\\}|\\:|\\/|\\<|\\>|\\\\|\\||\\`|\\~|\\-|\\=|\\_|\\+|\\\"|\\'|\\||\\\\\\\\)\"\n",
        "  new_text = re.sub(specials_to_sub,'', text)\n",
        "  return new_text\n",
        "\n",
        "custom_pipeline = [preprocessing.remove_digits,\n",
        "                   preprocessing.remove_urls,\n",
        "                   preprocessing.remove_html_tags,\n",
        "                   preprocessing.remove_whitespace]"
      ],
      "execution_count": null,
      "outputs": []
    },
    {
      "cell_type": "code",
      "metadata": {
        "colab": {
          "base_uri": "https://localhost:8080/",
          "height": 163,
          "referenced_widgets": [
            "d3d01df4047c44d588652b60a66fde9a",
            "f7e003a0c33441b7a5d4608f0fe2bf56",
            "0ada71b0d7e740859db30786fa114339",
            "d65af561d2e34d9c8cb11ee063b15c16",
            "83da31e75f054424bbef2fb32febcd96",
            "7d503cbe5cc0487e8d1753f014d52ae8",
            "9beec98ade064752977910abc3fa01f1",
            "ae5b282c97e64a47bb77812b50704056",
            "b407f2af2662427b9501bc547148e7fc",
            "e0168c18f08945639adee9639550914b",
            "26233813f2ca473eb0f64be9c8682b5d",
            "5d87573d7c4743b6aaf9580a6682c87e",
            "a0698c798f9d4d9eab0522439eb5f392",
            "b2bd8143517d4ea195fb4cca4914a491",
            "0d43cc5b10fa4a1b81a04b2eabe3aa99",
            "8ebee226798f47e99a149ac3a58f3522",
            "ac8eea04ba484083a5c03a5348defcdc",
            "460cae999872485c9a7f693c3bd37c7a",
            "0b8e51881ad342f4bdeaa9d856ed12e8",
            "e9213d77f51840f181dde0cd772efe19",
            "f1750da23d0243839f103915393ab7ba",
            "d29be3b8298e458e8307c9cd1604bea7",
            "d05e0dc16318403090565abc1154725c",
            "a19ef070b7564cf5bde1031494e4463c"
          ]
        },
        "id": "2xuNpfjtYzPz",
        "outputId": "78b34a24-f1bc-40ab-95db-2e3b5db468ff"
      },
      "source": [
        "total_df['text'] = total_df['text'].progress_apply(remove_newline_tab).progress_apply(remove_emojis).progress_apply(remove_mentions)\n",
        "\n",
        "total_df['text'] = hero.clean(total_df['text'], custom_pipeline)\n",
        "\n",
        "total_df['text'] = total_df['text'].apply(remove_some_special)\n",
        "\n",
        "total_df['text'] = hero.remove_whitespace(total_df['text'])"
      ],
      "execution_count": null,
      "outputs": [
        {
          "output_type": "display_data",
          "data": {
            "application/vnd.jupyter.widget-view+json": {
              "model_id": "d3d01df4047c44d588652b60a66fde9a",
              "version_minor": 0,
              "version_major": 2
            },
            "text/plain": [
              "HBox(children=(FloatProgress(value=0.0, max=4650569.0), HTML(value='')))"
            ]
          },
          "metadata": {
            "tags": []
          }
        },
        {
          "output_type": "stream",
          "text": [
            "\n"
          ],
          "name": "stdout"
        },
        {
          "output_type": "display_data",
          "data": {
            "application/vnd.jupyter.widget-view+json": {
              "model_id": "b407f2af2662427b9501bc547148e7fc",
              "version_minor": 0,
              "version_major": 2
            },
            "text/plain": [
              "HBox(children=(FloatProgress(value=0.0, max=4650569.0), HTML(value='')))"
            ]
          },
          "metadata": {
            "tags": []
          }
        },
        {
          "output_type": "stream",
          "text": [
            "\n"
          ],
          "name": "stdout"
        },
        {
          "output_type": "display_data",
          "data": {
            "application/vnd.jupyter.widget-view+json": {
              "model_id": "ac8eea04ba484083a5c03a5348defcdc",
              "version_minor": 0,
              "version_major": 2
            },
            "text/plain": [
              "HBox(children=(FloatProgress(value=0.0, max=4650569.0), HTML(value='')))"
            ]
          },
          "metadata": {
            "tags": []
          }
        },
        {
          "output_type": "stream",
          "text": [
            "\n"
          ],
          "name": "stdout"
        }
      ]
    },
    {
      "cell_type": "code",
      "metadata": {
        "id": "CpeOTGW0IP-n"
      },
      "source": [
        "# get word count of text in dataframe\n",
        "total_df['word_count'] = total_df['text'].str.split().map(len)"
      ],
      "execution_count": null,
      "outputs": []
    },
    {
      "cell_type": "code",
      "metadata": {
        "id": "3PmJ84kVgU4l"
      },
      "source": [
        "# get sentence count of text in dataframe\n",
        "total_df['sent_count'] = total_df['text'].map(lambda x: len(sent_tokenize(x)))"
      ],
      "execution_count": null,
      "outputs": []
    },
    {
      "cell_type": "code",
      "metadata": {
        "colab": {
          "base_uri": "https://localhost:8080/",
          "height": 500
        },
        "id": "Gch3W5NhmNgd",
        "outputId": "90606a12-5414-47a1-cb69-a723a1c502df"
      },
      "source": [
        "get_stats(total_df.word_count)"
      ],
      "execution_count": null,
      "outputs": [
        {
          "output_type": "display_data",
          "data": {
            "text/plain": [
              "0.025      1.0\n",
              "0.500     15.0\n",
              "0.975    206.0\n",
              "Name: word_count, dtype: float64"
            ]
          },
          "metadata": {
            "tags": []
          }
        },
        {
          "output_type": "display_data",
          "data": {
            "text/plain": [
              "<matplotlib.axes._subplots.AxesSubplot at 0x7f3683486b50>"
            ]
          },
          "metadata": {
            "tags": []
          }
        },
        {
          "output_type": "display_data",
          "data": {
            "text/plain": [
              "count    4.650569e+06\n",
              "mean     3.654456e+01\n",
              "std      8.023457e+01\n",
              "min      0.000000e+00\n",
              "25%      6.000000e+00\n",
              "50%      1.500000e+01\n",
              "75%      3.700000e+01\n",
              "max      7.264000e+03\n",
              "Name: word_count, dtype: float64"
            ]
          },
          "metadata": {
            "tags": []
          }
        },
        {
          "output_type": "display_data",
          "data": {
            "image/png": "[encoded data removed]",
            "text/plain": [
              "<Figure size 432x288 with 1 Axes>"
            ]
          },
          "metadata": {
            "tags": [],
            "needs_background": "light"
          }
        }
      ]
    },
    {
      "cell_type": "code",
      "metadata": {
        "colab": {
          "base_uri": "https://localhost:8080/"
        },
        "id": "oG3oM5yXobuW",
        "outputId": "7d71f94d-5d7c-493e-f1bb-613adf7b1eda"
      },
      "source": [
        "#dropping posts that have [removed] in them\n",
        "before = total_df.shape[0]\n",
        "print(before)\n",
        "\n",
        "total_df = total_df[total_df['word_count']>=5]\n",
        "\n",
        "after = total_df.shape[0]\n",
        "print(\"Percentage of rows dropped: \")\n",
        "print(((before-after)/(before))*100)"
      ],
      "execution_count": null,
      "outputs": [
        {
          "output_type": "stream",
          "text": [
            "4650569\n",
            "Percentage of rows dropped: \n",
            "17.38376529839682\n"
          ],
          "name": "stdout"
        }
      ]
    },
    {
      "cell_type": "markdown",
      "metadata": {
        "id": "9skG9mUGtHVj"
      },
      "source": [
        "6. Activity based filtering"
      ]
    },
    {
      "cell_type": "code",
      "metadata": {
        "colab": {
          "base_uri": "https://localhost:8080/",
          "height": 195
        },
        "id": "whkKo8h6v5x6",
        "outputId": "f141a026-aca7-4e5b-cf12-c5b70d9ba939"
      },
      "source": [
        "last_activity = total_df.sort_values('date').groupby('username').tail(1)\n",
        "last_activity = last_activity[['username','date']]\n",
        "last_activity.columns = ['username','last_active_date']\n",
        "\n",
        "first_activity = total_df.sort_values('date').groupby('username').head(1)\n",
        "first_activity = first_activity[['username','date']]\n",
        "first_activity.columns = ['username','first_active_date']\n",
        "\n",
        "activity_dates = pd.merge(last_activity, first_activity, on = 'username')\n",
        "activity_dates.head()"
      ],
      "execution_count": null,
      "outputs": [
        {
          "output_type": "execute_result",
          "data": {
            "text/html": [
              "<div>\n",
              "<style scoped>\n",
              "    .dataframe tbody tr th:only-of-type {\n",
              "        vertical-align: middle;\n",
              "    }\n",
              "\n",
              "    .dataframe tbody tr th {\n",
              "        vertical-align: top;\n",
              "    }\n",
              "\n",
              "    .dataframe thead th {\n",
              "        text-align: right;\n",
              "    }\n",
              "</style>\n",
              "<table border=\"1\" class=\"dataframe\">\n",
              "  <thead>\n",
              "    <tr style=\"text-align: right;\">\n",
              "      <th></th>\n",
              "      <th>username</th>\n",
              "      <th>last_active_date</th>\n",
              "      <th>first_active_date</th>\n",
              "    </tr>\n",
              "  </thead>\n",
              "  <tbody>\n",
              "    <tr>\n",
              "      <th>0</th>\n",
              "      <td>fuzzybeard</td>\n",
              "      <td>2012-03-19 22:22:54</td>\n",
              "      <td>2010-10-01 18:41:47</td>\n",
              "    </tr>\n",
              "    <tr>\n",
              "      <th>1</th>\n",
              "      <td>ilessthanthreemath</td>\n",
              "      <td>2012-10-24 23:41:23</td>\n",
              "      <td>2010-02-22 02:34:17</td>\n",
              "    </tr>\n",
              "    <tr>\n",
              "      <th>2</th>\n",
              "      <td>Igiveoutupvotes</td>\n",
              "      <td>2013-01-27 00:44:32</td>\n",
              "      <td>2011-12-29 21:47:43</td>\n",
              "    </tr>\n",
              "    <tr>\n",
              "      <th>3</th>\n",
              "      <td>1bravo69</td>\n",
              "      <td>2013-03-01 07:20:25</td>\n",
              "      <td>2012-02-28 02:39:48</td>\n",
              "    </tr>\n",
              "    <tr>\n",
              "      <th>4</th>\n",
              "      <td>veemonster</td>\n",
              "      <td>2013-05-04 11:11:13</td>\n",
              "      <td>2011-02-22 21:38:52</td>\n",
              "    </tr>\n",
              "  </tbody>\n",
              "</table>\n",
              "</div>"
            ],
            "text/plain": [
              "             username    last_active_date   first_active_date\n",
              "0          fuzzybeard 2012-03-19 22:22:54 2010-10-01 18:41:47\n",
              "1  ilessthanthreemath 2012-10-24 23:41:23 2010-02-22 02:34:17\n",
              "2     Igiveoutupvotes 2013-01-27 00:44:32 2011-12-29 21:47:43\n",
              "3            1bravo69 2013-03-01 07:20:25 2012-02-28 02:39:48\n",
              "4          veemonster 2013-05-04 11:11:13 2011-02-22 21:38:52"
            ]
          },
          "metadata": {
            "tags": []
          },
          "execution_count": 118
        }
      ]
    },
    {
      "cell_type": "code",
      "metadata": {
        "id": "KAG5bJZi0DRX"
      },
      "source": [
        "total_df = total_df.merge(activity_dates, on = 'username')"
      ],
      "execution_count": null,
      "outputs": []
    },
    {
      "cell_type": "code",
      "metadata": {
        "id": "PIT940tjz8MN"
      },
      "source": [
        "# days till last post\n",
        "total_df['dtl'] = (total_df['last_active_date']-total_df['date']).astype('timedelta64[D]')"
      ],
      "execution_count": null,
      "outputs": []
    },
    {
      "cell_type": "code",
      "metadata": {
        "colab": {
          "base_uri": "https://localhost:8080/",
          "height": 500
        },
        "id": "NMwMOb0yBz6B",
        "outputId": "52e2c6ff-b092-4bd2-f4cb-474cbeea34ce"
      },
      "source": [
        "get_stats(total_df.dtl, log = False)"
      ],
      "execution_count": null,
      "outputs": [
        {
          "output_type": "display_data",
          "data": {
            "text/plain": [
              "0.025       5.0\n",
              "0.500     306.0\n",
              "0.975    2102.0\n",
              "Name: dtl, dtype: float64"
            ]
          },
          "metadata": {
            "tags": []
          }
        },
        {
          "output_type": "display_data",
          "data": {
            "text/plain": [
              "<matplotlib.axes._subplots.AxesSubplot at 0x7f336f5cf390>"
            ]
          },
          "metadata": {
            "tags": []
          }
        },
        {
          "output_type": "display_data",
          "data": {
            "text/plain": [
              "count    3.842125e+06\n",
              "mean     4.869540e+02\n",
              "std      5.442702e+02\n",
              "min      0.000000e+00\n",
              "25%      1.120000e+02\n",
              "50%      3.060000e+02\n",
              "75%      6.710000e+02\n",
              "max      4.787000e+03\n",
              "Name: dtl, dtype: float64"
            ]
          },
          "metadata": {
            "tags": []
          }
        },
        {
          "output_type": "display_data",
          "data": {
            "image/png": "[encoded data removed]",
            "text/plain": [
              "<Figure size 432x288 with 1 Axes>"
            ]
          },
          "metadata": {
            "tags": [],
            "needs_background": "light"
          }
        }
      ]
    },
    {
      "cell_type": "markdown",
      "metadata": {
        "id": "H2-3Nj7k2QuT"
      },
      "source": [
        "From here is seems that 75% of the data is under 668 days which is about 2 years of posts. \n",
        "\n",
        "I think I should also delete posts that are too short so that data has actual material to look at.\n",
        "\n",
        "I will be filtering out posts that:\n",
        "1. Are more than two years from last post\n",
        "2. Are too short? (this needs to be defined - will look into the description of how many words per comment/post. Obviously small comments that don't mean anything are useless. \n",
        "\n",
        "I think it also may be worth considering removing comments completely from the dataset and limiting it to only posts. "
      ]
    },
    {
      "cell_type": "code",
      "metadata": {
        "colab": {
          "base_uri": "https://localhost:8080/"
        },
        "id": "6Jh_aznWbvm8",
        "outputId": "f6ebfd4e-35f5-478d-9318-7792956db320"
      },
      "source": [
        "# removing posts that were more than two years old\n",
        "before = total_df.shape[0]\n",
        "print(before)\n",
        "\n",
        "total_df = total_df[total_df['dtl']<=365*2]\n",
        "\n",
        "after = total_df.shape[0]\n",
        "print(after)\n",
        "print(\"Percentage of posts dropped: \")\n",
        "print(((before-after)/before)*100)"
      ],
      "execution_count": null,
      "outputs": [
        {
          "output_type": "stream",
          "text": [
            "3842125\n",
            "2994770\n",
            "Percentage of posts dropped: \n",
            "22.05433191267853\n"
          ],
          "name": "stdout"
        }
      ]
    },
    {
      "cell_type": "markdown",
      "metadata": {
        "id": "25HAC8tUDdee"
      },
      "source": [
        "7. Removing users with too little activity"
      ]
    },
    {
      "cell_type": "code",
      "metadata": {
        "id": "42_3z-qTeJ1S"
      },
      "source": [
        "user_activity_counts = total_df.groupby('username').count().subreddit.reset_index().rename({'subreddit':'num_activity'}, axis = 1)\n",
        "user_post_counts = total_df[total_df['type']==1].groupby('username').count().subreddit.reset_index().rename({'subreddit':'num_posts'}, axis = 1)\n",
        "user_comm_counts = total_df[total_df['type']==0].groupby('username').count().subreddit.reset_index().rename({'subreddit':'num_comm'}, axis = 1)"
      ],
      "execution_count": null,
      "outputs": []
    },
    {
      "cell_type": "code",
      "metadata": {
        "colab": {
          "base_uri": "https://localhost:8080/",
          "height": 500
        },
        "id": "4fC_cWI5_YIA",
        "outputId": "3a024e55-59b3-47ec-d7d8-877bcece9c78"
      },
      "source": [
        "get_stats(user_post_counts.num_posts)"
      ],
      "execution_count": null,
      "outputs": [
        {
          "output_type": "display_data",
          "data": {
            "text/plain": [
              "0.025      1.0\n",
              "0.500     20.0\n",
              "0.975    281.0\n",
              "Name: num_posts, dtype: float64"
            ]
          },
          "metadata": {
            "tags": []
          }
        },
        {
          "output_type": "display_data",
          "data": {
            "text/plain": [
              "<matplotlib.axes._subplots.AxesSubplot at 0x7f336d014c90>"
            ]
          },
          "metadata": {
            "tags": []
          }
        },
        {
          "output_type": "display_data",
          "data": {
            "text/plain": [
              "count    10626.000000\n",
              "mean        47.241013\n",
              "std         82.153868\n",
              "min          1.000000\n",
              "25%          8.000000\n",
              "50%         20.000000\n",
              "75%         49.000000\n",
              "max        971.000000\n",
              "Name: num_posts, dtype: float64"
            ]
          },
          "metadata": {
            "tags": []
          }
        },
        {
          "output_type": "display_data",
          "data": {
            "image/png": "[encoded data removed]",
            "text/plain": [
              "<Figure size 432x288 with 1 Axes>"
            ]
          },
          "metadata": {
            "tags": [],
            "needs_background": "light"
          }
        }
      ]
    },
    {
      "cell_type": "code",
      "metadata": {
        "colab": {
          "base_uri": "https://localhost:8080/",
          "height": 500
        },
        "id": "8EWNk7UB_iqd",
        "outputId": "f9630fc1-0083-4a04-e1f8-6ccdf2ce78b6"
      },
      "source": [
        "get_stats(user_comm_counts.num_comm)"
      ],
      "execution_count": null,
      "outputs": [
        {
          "output_type": "display_data",
          "data": {
            "text/plain": [
              "0.025      4.0\n",
              "0.500    136.0\n",
              "0.975    898.0\n",
              "Name: num_comm, dtype: float64"
            ]
          },
          "metadata": {
            "tags": []
          }
        },
        {
          "output_type": "display_data",
          "data": {
            "text/plain": [
              "<matplotlib.axes._subplots.AxesSubplot at 0x7f336b980b10>"
            ]
          },
          "metadata": {
            "tags": []
          }
        },
        {
          "output_type": "display_data",
          "data": {
            "text/plain": [
              "count    10203.000000\n",
              "mean       244.319024\n",
              "std        263.419058\n",
              "min          1.000000\n",
              "25%         41.000000\n",
              "50%        136.000000\n",
              "75%        361.500000\n",
              "max        997.000000\n",
              "Name: num_comm, dtype: float64"
            ]
          },
          "metadata": {
            "tags": []
          }
        },
        {
          "output_type": "display_data",
          "data": {
            "image/png": "[encoded data removed]",
            "text/plain": [
              "<Figure size 432x288 with 1 Axes>"
            ]
          },
          "metadata": {
            "tags": [],
            "needs_background": "light"
          }
        }
      ]
    },
    {
      "cell_type": "code",
      "metadata": {
        "colab": {
          "base_uri": "https://localhost:8080/",
          "height": 534
        },
        "id": "vDmVSswnhPnE",
        "outputId": "95bf9de7-4cb9-4870-9232-a7354c2364a8"
      },
      "source": [
        "get_stats(user_activity_counts.num_activity, quantiles=[0.025, 0.05, 0.5, 0.95, 0.975])"
      ],
      "execution_count": null,
      "outputs": [
        {
          "output_type": "display_data",
          "data": {
            "text/plain": [
              "0.025       6.00\n",
              "0.050      11.00\n",
              "0.500     157.00\n",
              "0.950     950.50\n",
              "0.975    1038.75\n",
              "Name: num_activity, dtype: float64"
            ]
          },
          "metadata": {
            "tags": []
          }
        },
        {
          "output_type": "display_data",
          "data": {
            "text/plain": [
              "<matplotlib.axes._subplots.AxesSubplot at 0x7f336a9b9090>"
            ]
          },
          "metadata": {
            "tags": []
          }
        },
        {
          "output_type": "display_data",
          "data": {
            "text/plain": [
              "count    10651.000000\n",
              "mean       281.172660\n",
              "std        305.647712\n",
              "min          1.000000\n",
              "25%         52.000000\n",
              "50%        157.000000\n",
              "75%        404.500000\n",
              "max       1829.000000\n",
              "Name: num_activity, dtype: float64"
            ]
          },
          "metadata": {
            "tags": []
          }
        },
        {
          "output_type": "display_data",
          "data": {
            "image/png": "[encoded data removed]",
            "text/plain": [
              "<Figure size 432x288 with 1 Axes>"
            ]
          },
          "metadata": {
            "tags": [],
            "needs_background": "light"
          }
        }
      ]
    },
    {
      "cell_type": "code",
      "metadata": {
        "id": "tkERjhdcCh3Z"
      },
      "source": [
        "# removing users with less than 11 activity items\n",
        "total_df = total_df.merge(user_activity_counts, on = 'username')"
      ],
      "execution_count": null,
      "outputs": []
    },
    {
      "cell_type": "code",
      "metadata": {
        "colab": {
          "base_uri": "https://localhost:8080/"
        },
        "id": "PavsJE_nChve",
        "outputId": "b2008042-5370-4cb6-cf86-3f64439af5d3"
      },
      "source": [
        "# should be dropping 5% of users\n",
        "before = total_df.shape[0]\n",
        "print(before)\n",
        "\n",
        "total_df = total_df[total_df['num_activity']>11]\n",
        "\n",
        "after = total_df.shape[0]\n",
        "print(after)\n",
        "print(\"Percentage of posts dropped: \")\n",
        "print(((before-after)/before)*100)"
      ],
      "execution_count": null,
      "outputs": [
        {
          "output_type": "stream",
          "text": [
            "2994770\n",
            "2990817\n",
            "Percentage of posts dropped: \n",
            "0.1319967810549725\n"
          ],
          "name": "stdout"
        }
      ]
    },
    {
      "cell_type": "code",
      "metadata": {
        "colab": {
          "base_uri": "https://localhost:8080/",
          "height": 548
        },
        "id": "7Pq3-jhHChoX",
        "outputId": "8c60bf6b-e7ed-4ebe-b7d3-5312d22f8d0a"
      },
      "source": [
        "total_df.head()"
      ],
      "execution_count": null,
      "outputs": [
        {
          "output_type": "execute_result",
          "data": {
            "text/html": [
              "<div>\n",
              "<style scoped>\n",
              "    .dataframe tbody tr th:only-of-type {\n",
              "        vertical-align: middle;\n",
              "    }\n",
              "\n",
              "    .dataframe tbody tr th {\n",
              "        vertical-align: top;\n",
              "    }\n",
              "\n",
              "    .dataframe thead th {\n",
              "        text-align: right;\n",
              "    }\n",
              "</style>\n",
              "<table border=\"1\" class=\"dataframe\">\n",
              "  <thead>\n",
              "    <tr style=\"text-align: right;\">\n",
              "      <th></th>\n",
              "      <th>username</th>\n",
              "      <th>type</th>\n",
              "      <th>subreddit</th>\n",
              "      <th>date</th>\n",
              "      <th>text</th>\n",
              "      <th>ups</th>\n",
              "      <th>downs</th>\n",
              "      <th>num_response</th>\n",
              "      <th>target</th>\n",
              "      <th>first_sw_post</th>\n",
              "      <th>word_count</th>\n",
              "      <th>sent_count</th>\n",
              "      <th>last_active_date</th>\n",
              "      <th>first_active_date</th>\n",
              "      <th>dtl</th>\n",
              "      <th>num_activity</th>\n",
              "    </tr>\n",
              "  </thead>\n",
              "  <tbody>\n",
              "    <tr>\n",
              "      <th>0</th>\n",
              "      <td>BIGBOIBICH</td>\n",
              "      <td>0</td>\n",
              "      <td>depression</td>\n",
              "      <td>2021-04-01 09:16:14</td>\n",
              "      <td>Honestly people don’t know about the fact that...</td>\n",
              "      <td>16</td>\n",
              "      <td>0</td>\n",
              "      <td>0</td>\n",
              "      <td>0</td>\n",
              "      <td>NaN</td>\n",
              "      <td>62</td>\n",
              "      <td>2</td>\n",
              "      <td>2021-04-02 14:23:52</td>\n",
              "      <td>2019-01-24 08:01:01</td>\n",
              "      <td>1.0</td>\n",
              "      <td>138</td>\n",
              "    </tr>\n",
              "    <tr>\n",
              "      <th>1</th>\n",
              "      <td>BIGBOIBICH</td>\n",
              "      <td>0</td>\n",
              "      <td>depression</td>\n",
              "      <td>2021-03-31 21:46:48</td>\n",
              "      <td>Ye I’ll try to today thank you for the tip</td>\n",
              "      <td>1</td>\n",
              "      <td>0</td>\n",
              "      <td>0</td>\n",
              "      <td>0</td>\n",
              "      <td>NaN</td>\n",
              "      <td>10</td>\n",
              "      <td>1</td>\n",
              "      <td>2021-04-02 14:23:52</td>\n",
              "      <td>2019-01-24 08:01:01</td>\n",
              "      <td>1.0</td>\n",
              "      <td>138</td>\n",
              "    </tr>\n",
              "    <tr>\n",
              "      <th>2</th>\n",
              "      <td>BIGBOIBICH</td>\n",
              "      <td>0</td>\n",
              "      <td>depression</td>\n",
              "      <td>2021-03-31 20:43:14</td>\n",
              "      <td>I’m sorry to hear that I really am but I hope ...</td>\n",
              "      <td>1</td>\n",
              "      <td>0</td>\n",
              "      <td>0</td>\n",
              "      <td>0</td>\n",
              "      <td>NaN</td>\n",
              "      <td>14</td>\n",
              "      <td>1</td>\n",
              "      <td>2021-04-02 14:23:52</td>\n",
              "      <td>2019-01-24 08:01:01</td>\n",
              "      <td>1.0</td>\n",
              "      <td>138</td>\n",
              "    </tr>\n",
              "    <tr>\n",
              "      <th>3</th>\n",
              "      <td>BIGBOIBICH</td>\n",
              "      <td>0</td>\n",
              "      <td>depression</td>\n",
              "      <td>2021-03-31 16:18:40</td>\n",
              "      <td>It really does feel like that</td>\n",
              "      <td>1</td>\n",
              "      <td>0</td>\n",
              "      <td>0</td>\n",
              "      <td>0</td>\n",
              "      <td>NaN</td>\n",
              "      <td>6</td>\n",
              "      <td>1</td>\n",
              "      <td>2021-04-02 14:23:52</td>\n",
              "      <td>2019-01-24 08:01:01</td>\n",
              "      <td>1.0</td>\n",
              "      <td>138</td>\n",
              "    </tr>\n",
              "    <tr>\n",
              "      <th>4</th>\n",
              "      <td>BIGBOIBICH</td>\n",
              "      <td>0</td>\n",
              "      <td>depression</td>\n",
              "      <td>2021-03-31 16:18:17</td>\n",
              "      <td>Thank you I really mean that and hope you have...</td>\n",
              "      <td>2</td>\n",
              "      <td>0</td>\n",
              "      <td>0</td>\n",
              "      <td>0</td>\n",
              "      <td>NaN</td>\n",
              "      <td>13</td>\n",
              "      <td>1</td>\n",
              "      <td>2021-04-02 14:23:52</td>\n",
              "      <td>2019-01-24 08:01:01</td>\n",
              "      <td>1.0</td>\n",
              "      <td>138</td>\n",
              "    </tr>\n",
              "  </tbody>\n",
              "</table>\n",
              "</div>"
            ],
            "text/plain": [
              "     username  type   subreddit  ...   first_active_date  dtl  num_activity\n",
              "0  BIGBOIBICH     0  depression  ... 2019-01-24 08:01:01  1.0           138\n",
              "1  BIGBOIBICH     0  depression  ... 2019-01-24 08:01:01  1.0           138\n",
              "2  BIGBOIBICH     0  depression  ... 2019-01-24 08:01:01  1.0           138\n",
              "3  BIGBOIBICH     0  depression  ... 2019-01-24 08:01:01  1.0           138\n",
              "4  BIGBOIBICH     0  depression  ... 2019-01-24 08:01:01  1.0           138\n",
              "\n",
              "[5 rows x 16 columns]"
            ]
          },
          "metadata": {
            "tags": []
          },
          "execution_count": 143
        }
      ]
    },
    {
      "cell_type": "code",
      "metadata": {
        "colab": {
          "base_uri": "https://localhost:8080/"
        },
        "id": "lL77XrdH0arO",
        "outputId": "ee13db83-8846-40f0-b321-a25c5701a505"
      },
      "source": [
        "before = total_df.shape[0]\n",
        "print(before)\n",
        "\n",
        "total_df = total_df[~((total_df['subreddit']=='SuicideWatch')&(total_df['type']==1))]\n",
        "\n",
        "after = total_df.shape[0]\n",
        "print(after)\n",
        "print(\"Percentage of posts dropped: \")\n",
        "print(((before-after)/before)*100)"
      ],
      "execution_count": null,
      "outputs": [
        {
          "output_type": "stream",
          "text": [
            "2990817\n",
            "2985801\n",
            "Percentage of posts dropped: \n",
            "0.16771337062749075\n"
          ],
          "name": "stdout"
        }
      ]
    },
    {
      "cell_type": "code",
      "metadata": {
        "id": "P6cDZnUTsxr2"
      },
      "source": [
        "total_df.to_csv('data/total_df.csv', index = False)"
      ],
      "execution_count": null,
      "outputs": []
    },
    {
      "cell_type": "code",
      "metadata": {
        "id": "wIuKsTDWXG4X"
      },
      "source": [
        "#total_df = pd.read_csv('data/total_df.csv', low_memory=False)"
      ],
      "execution_count": null,
      "outputs": []
    },
    {
      "cell_type": "code",
      "metadata": {
        "id": "BqsIX5UGb3BU"
      },
      "source": [
        "user_df = total_df.groupby('username').agg(['mean','count'])['target'].reset_index().rename({'mean':'target'}, axis = 1)\n",
        "user_df = user_df[~user_df['target'].isna()]\n",
        "user_df['target'] = user_df['target'].astype('int')"
      ],
      "execution_count": null,
      "outputs": []
    },
    {
      "cell_type": "code",
      "metadata": {
        "colab": {
          "base_uri": "https://localhost:8080/",
          "height": 195
        },
        "id": "OMj3bVBC2jf4",
        "outputId": "3b32cd92-264b-49b0-e5f6-6a7f9ec94d54"
      },
      "source": [
        "user_df.head()"
      ],
      "execution_count": null,
      "outputs": [
        {
          "output_type": "execute_result",
          "data": {
            "text/html": [
              "<div>\n",
              "<style scoped>\n",
              "    .dataframe tbody tr th:only-of-type {\n",
              "        vertical-align: middle;\n",
              "    }\n",
              "\n",
              "    .dataframe tbody tr th {\n",
              "        vertical-align: top;\n",
              "    }\n",
              "\n",
              "    .dataframe thead th {\n",
              "        text-align: right;\n",
              "    }\n",
              "</style>\n",
              "<table border=\"1\" class=\"dataframe\">\n",
              "  <thead>\n",
              "    <tr style=\"text-align: right;\">\n",
              "      <th></th>\n",
              "      <th>username</th>\n",
              "      <th>target</th>\n",
              "      <th>count</th>\n",
              "    </tr>\n",
              "  </thead>\n",
              "  <tbody>\n",
              "    <tr>\n",
              "      <th>0</th>\n",
              "      <td>---AmoEboid---</td>\n",
              "      <td>0</td>\n",
              "      <td>83</td>\n",
              "    </tr>\n",
              "    <tr>\n",
              "      <th>1</th>\n",
              "      <td>--Doc_Holliday</td>\n",
              "      <td>0</td>\n",
              "      <td>209</td>\n",
              "    </tr>\n",
              "    <tr>\n",
              "      <th>2</th>\n",
              "      <td>--NoIdeaWhatImDoing</td>\n",
              "      <td>0</td>\n",
              "      <td>16</td>\n",
              "    </tr>\n",
              "    <tr>\n",
              "      <th>3</th>\n",
              "      <td>--Solus</td>\n",
              "      <td>1</td>\n",
              "      <td>263</td>\n",
              "    </tr>\n",
              "    <tr>\n",
              "      <th>4</th>\n",
              "      <td>-AnxiousWallflower-</td>\n",
              "      <td>1</td>\n",
              "      <td>106</td>\n",
              "    </tr>\n",
              "  </tbody>\n",
              "</table>\n",
              "</div>"
            ],
            "text/plain": [
              "              username  target  count\n",
              "0       ---AmoEboid---       0     83\n",
              "1       --Doc_Holliday       0    209\n",
              "2  --NoIdeaWhatImDoing       0     16\n",
              "3              --Solus       1    263\n",
              "4  -AnxiousWallflower-       1    106"
            ]
          },
          "metadata": {
            "tags": []
          },
          "execution_count": 149
        }
      ]
    },
    {
      "cell_type": "code",
      "metadata": {
        "colab": {
          "base_uri": "https://localhost:8080/",
          "height": 168
        },
        "id": "imD8bJm9dFub",
        "outputId": "74415ad5-e974-4ead-a894-ea2d08bf9e2d"
      },
      "source": [
        "display(user_df.shape, user_df.dtypes, user_df.groupby('target').username.nunique())"
      ],
      "execution_count": null,
      "outputs": [
        {
          "output_type": "display_data",
          "data": {
            "text/plain": [
              "(10056, 3)"
            ]
          },
          "metadata": {
            "tags": []
          }
        },
        {
          "output_type": "display_data",
          "data": {
            "text/plain": [
              "username    object\n",
              "target       int64\n",
              "count        int64\n",
              "dtype: object"
            ]
          },
          "metadata": {
            "tags": []
          }
        },
        {
          "output_type": "display_data",
          "data": {
            "text/plain": [
              "target\n",
              "0    4981\n",
              "1    5075\n",
              "Name: username, dtype: int64"
            ]
          },
          "metadata": {
            "tags": []
          }
        }
      ]
    },
    {
      "cell_type": "code",
      "metadata": {
        "id": "pCQA_gdh4GMy"
      },
      "source": [
        "user_df.to_csv('data/user_df.csv', index=False)\n",
        "X, y = user_df.drop('target', axis = 1), user_df.target"
      ],
      "execution_count": null,
      "outputs": []
    },
    {
      "cell_type": "code",
      "metadata": {
        "colab": {
          "base_uri": "https://localhost:8080/",
          "height": 282
        },
        "id": "dAVwJgIcgbN5",
        "outputId": "ddf1ec09-c2b2-4155-c8b1-824930a1a245"
      },
      "source": [
        "user_df['count'].hist(bins = 50)"
      ],
      "execution_count": null,
      "outputs": [
        {
          "output_type": "execute_result",
          "data": {
            "text/plain": [
              "<matplotlib.axes._subplots.AxesSubplot at 0x7f3368961410>"
            ]
          },
          "metadata": {
            "tags": []
          },
          "execution_count": 153
        },
        {
          "output_type": "display_data",
          "data": {
            "image/png": "[encoded data removed]",
            "text/plain": [
              "<Figure size 432x288 with 1 Axes>"
            ]
          },
          "metadata": {
            "tags": [],
            "needs_background": "light"
          }
        }
      ]
    },
    {
      "cell_type": "code",
      "metadata": {
        "colab": {
          "base_uri": "https://localhost:8080/"
        },
        "id": "dItmXP5pgKEp",
        "outputId": "a35be052-94e0-47ab-b7b9-305278685690"
      },
      "source": [
        "y.value_counts()"
      ],
      "execution_count": null,
      "outputs": [
        {
          "output_type": "execute_result",
          "data": {
            "text/plain": [
              "1    5075\n",
              "0    4981\n",
              "Name: target, dtype: int64"
            ]
          },
          "metadata": {
            "tags": []
          },
          "execution_count": 154
        }
      ]
    },
    {
      "cell_type": "code",
      "metadata": {
        "id": "cUPNMMq2dmGf"
      },
      "source": [
        "X_train, X_test, y_train, y_test = train_test_split(X, y, test_size=0.3, random_state=42)\n",
        "X_train, X_val, y_train, y_val = train_test_split(X_train, y_train, test_size = 0.2, random_state=10)"
      ],
      "execution_count": null,
      "outputs": []
    },
    {
      "cell_type": "code",
      "metadata": {
        "colab": {
          "base_uri": "https://localhost:8080/",
          "height": 67
        },
        "id": "OK0wIkO3lAX2",
        "outputId": "894483bb-bc40-4c08-d5f7-1e7db29fd875"
      },
      "source": [
        "display(X_train.shape, X_test.shape, X_val.shape)"
      ],
      "execution_count": null,
      "outputs": [
        {
          "output_type": "display_data",
          "data": {
            "text/plain": [
              "(5631, 2)"
            ]
          },
          "metadata": {
            "tags": []
          }
        },
        {
          "output_type": "display_data",
          "data": {
            "text/plain": [
              "(3017, 2)"
            ]
          },
          "metadata": {
            "tags": []
          }
        },
        {
          "output_type": "display_data",
          "data": {
            "text/plain": [
              "(1408, 2)"
            ]
          },
          "metadata": {
            "tags": []
          }
        }
      ]
    },
    {
      "cell_type": "code",
      "metadata": {
        "colab": {
          "base_uri": "https://localhost:8080/",
          "height": 168
        },
        "id": "uAVXmls8lNmC",
        "outputId": "5763ad67-0860-4951-d2ac-7902ebbacf54"
      },
      "source": [
        "display(y_train.value_counts(), y_test.value_counts(), y_val.value_counts())"
      ],
      "execution_count": null,
      "outputs": [
        {
          "output_type": "display_data",
          "data": {
            "text/plain": [
              "1    2847\n",
              "0    2784\n",
              "Name: target, dtype: int64"
            ]
          },
          "metadata": {
            "tags": []
          }
        },
        {
          "output_type": "display_data",
          "data": {
            "text/plain": [
              "1    1515\n",
              "0    1502\n",
              "Name: target, dtype: int64"
            ]
          },
          "metadata": {
            "tags": []
          }
        },
        {
          "output_type": "display_data",
          "data": {
            "text/plain": [
              "1    713\n",
              "0    695\n",
              "Name: target, dtype: int64"
            ]
          },
          "metadata": {
            "tags": []
          }
        }
      ]
    },
    {
      "cell_type": "code",
      "metadata": {
        "colab": {
          "base_uri": "https://localhost:8080/",
          "height": 282
        },
        "id": "dvbPP5Idgj_z",
        "outputId": "c440c73a-06dd-400c-dc53-94455607fdd0"
      },
      "source": [
        "X_train['count'].hist(bins = 50)"
      ],
      "execution_count": null,
      "outputs": [
        {
          "output_type": "execute_result",
          "data": {
            "text/plain": [
              "<matplotlib.axes._subplots.AxesSubplot at 0x7f336866f8d0>"
            ]
          },
          "metadata": {
            "tags": []
          },
          "execution_count": 159
        },
        {
          "output_type": "display_data",
          "data": {
            "image/png": "[encoded data removed]",
            "text/plain": [
              "<Figure size 432x288 with 1 Axes>"
            ]
          },
          "metadata": {
            "tags": [],
            "needs_background": "light"
          }
        }
      ]
    },
    {
      "cell_type": "code",
      "metadata": {
        "colab": {
          "base_uri": "https://localhost:8080/",
          "height": 282
        },
        "id": "uM4WVtpLgpWJ",
        "outputId": "d98825be-7cab-41c8-b412-49fa9adf9ef0"
      },
      "source": [
        "X_test['count'].hist(bins = 50)"
      ],
      "execution_count": null,
      "outputs": [
        {
          "output_type": "execute_result",
          "data": {
            "text/plain": [
              "<matplotlib.axes._subplots.AxesSubplot at 0x7f3366bb9390>"
            ]
          },
          "metadata": {
            "tags": []
          },
          "execution_count": 160
        },
        {
          "output_type": "display_data",
          "data": {
            "image/png": "[encoded data removed]",
            "text/plain": [
              "<Figure size 432x288 with 1 Axes>"
            ]
          },
          "metadata": {
            "tags": [],
            "needs_background": "light"
          }
        }
      ]
    },
    {
      "cell_type": "code",
      "metadata": {
        "colab": {
          "base_uri": "https://localhost:8080/",
          "height": 282
        },
        "id": "gskQTk0Dkb07",
        "outputId": "8d4cb317-1363-4070-f5ea-115bb3adba6c"
      },
      "source": [
        "X_val['count'].hist(bins = 50)"
      ],
      "execution_count": null,
      "outputs": [
        {
          "output_type": "execute_result",
          "data": {
            "text/plain": [
              "<matplotlib.axes._subplots.AxesSubplot at 0x7f3365e57310>"
            ]
          },
          "metadata": {
            "tags": []
          },
          "execution_count": 161
        },
        {
          "output_type": "display_data",
          "data": {
            "image/png": "[encoded data removed]",
            "text/plain": [
              "<Figure size 432x288 with 1 Axes>"
            ]
          },
          "metadata": {
            "tags": [],
            "needs_background": "light"
          }
        }
      ]
    },
    {
      "cell_type": "code",
      "metadata": {
        "id": "SvDvfrU6nBLQ"
      },
      "source": [
        "X_train.to_csv('data/train_users.csv', index = False)\n",
        "X_test.to_csv('data/test_users.csv', index = False)\n",
        "X_val.to_csv('data/val_users.csv', index = False)"
      ],
      "execution_count": null,
      "outputs": []
    },
    {
      "cell_type": "markdown",
      "metadata": {
        "id": "Za8vwiLa3gAQ"
      },
      "source": [
        "---\n",
        "Aggregated on month-year combination"
      ]
    },
    {
      "cell_type": "code",
      "metadata": {
        "id": "lHNJfeSlAQeH"
      },
      "source": [
        "total_df = pd.read_csv('data/total_df.csv', low_memory=False)\n",
        "total_df['date'] = pd.to_datetime(total_df['date'], infer_datetime_format=True)\n",
        "total_df['month_year'] = pd.to_datetime(total_df['date']).dt.to_period('M')\n",
        "total_my = total_df.groupby(['username','month_year'], as_index=False).agg({'text': ' '.join, 'target': np.mean,\\\n",
        "                                                                            'subreddit': list, 'word_count': np.sum, 'sent_count':np.sum})"
      ],
      "execution_count": null,
      "outputs": []
    },
    {
      "cell_type": "code",
      "metadata": {
        "colab": {
          "base_uri": "https://localhost:8080/",
          "height": 517
        },
        "id": "zBnRI__8FemH",
        "outputId": "f33926b5-d4b0-4640-83fe-d2c5e8415ad0"
      },
      "source": [
        "get_stats(total_my.word_count, quantiles=[0.025, 0.5, 0.8, 0.9])"
      ],
      "execution_count": null,
      "outputs": [
        {
          "output_type": "display_data",
          "data": {
            "text/plain": [
              "0.025       8.0\n",
              "0.500     276.0\n",
              "0.800    1059.0\n",
              "0.900    2005.0\n",
              "Name: word_count, dtype: float64"
            ]
          },
          "metadata": {
            "tags": []
          }
        },
        {
          "output_type": "display_data",
          "data": {
            "text/plain": [
              "<matplotlib.axes._subplots.AxesSubplot at 0x7fab3d2f6e90>"
            ]
          },
          "metadata": {
            "tags": []
          }
        },
        {
          "output_type": "display_data",
          "data": {
            "text/plain": [
              "count    157677.000000\n",
              "mean        814.829461\n",
              "std        1925.083391\n",
              "min           5.000000\n",
              "25%          80.000000\n",
              "50%         276.000000\n",
              "75%         819.000000\n",
              "max      261135.000000\n",
              "Name: word_count, dtype: float64"
            ]
          },
          "metadata": {
            "tags": []
          }
        },
        {
          "output_type": "display_data",
          "data": {
            "image/png": "[encoded data removed]",
            "text/plain": [
              "<Figure size 432x288 with 1 Axes>"
            ]
          },
          "metadata": {
            "tags": [],
            "needs_background": "light"
          }
        }
      ]
    },
    {
      "cell_type": "code",
      "metadata": {
        "id": "_dnI00cs5Cx2"
      },
      "source": [
        "total_my['target'] = total_my['target'].astype('int')\n",
        "total_my.to_csv('data/total_my.csv', index = False)\n",
        "total_my.to_pickle('data/total_my.pkl')"
      ],
      "execution_count": null,
      "outputs": []
    },
    {
      "cell_type": "code",
      "metadata": {
        "colab": {
          "base_uri": "https://localhost:8080/",
          "height": 282
        },
        "id": "026rfpuC6cic",
        "outputId": "f9231b14-0d50-47af-f6dd-d2915965675a"
      },
      "source": [
        "my_sequence_counts = total_my.groupby(['target','username'], as_index= False ).text.count().rename({'text':'count'}, axis = 1)\n",
        "my_sequence_counts['count'].hist(bins = 50)"
      ],
      "execution_count": null,
      "outputs": [
        {
          "output_type": "execute_result",
          "data": {
            "text/plain": [
              "<matplotlib.axes._subplots.AxesSubplot at 0x7f3364cffb10>"
            ]
          },
          "metadata": {
            "tags": []
          },
          "execution_count": 178
        },
        {
          "output_type": "display_data",
          "data": {
            "image/png": "[encoded data removed]",
            "text/plain": [
              "<Figure size 432x288 with 1 Axes>"
            ]
          },
          "metadata": {
            "tags": [],
            "needs_background": "light"
          }
        }
      ]
    },
    {
      "cell_type": "markdown",
      "metadata": {
        "id": "dbodFHZI3ozh"
      },
      "source": [
        "Aggregated without considering time at all."
      ]
    },
    {
      "cell_type": "code",
      "metadata": {
        "id": "kgR6uUdYsmtd"
      },
      "source": [
        "timeless_df = total_df.groupby(['username'], as_index = False).agg({'text': ' '.join, 'target': np.mean})\n",
        "timeless_df['target'] = timeless_df['target'].astype('int')\n",
        "timeless_df.to_csv('data/timeless_total_df.csv', index = False)"
      ],
      "execution_count": null,
      "outputs": []
    },
    {
      "cell_type": "code",
      "metadata": {
        "colab": {
          "base_uri": "https://localhost:8080/"
        },
        "id": "OSsdiEw5YA6b",
        "outputId": "a43ad453-1487-46ca-ba67-cfe6e5c7360c"
      },
      "source": [
        "timeless_df.target.value_counts()"
      ],
      "execution_count": null,
      "outputs": [
        {
          "output_type": "execute_result",
          "data": {
            "text/plain": [
              "1    5075\n",
              "0    4981\n",
              "Name: target, dtype: int64"
            ]
          },
          "metadata": {
            "tags": []
          },
          "execution_count": 165
        }
      ]
    },
    {
      "cell_type": "code",
      "metadata": {
        "id": "rH-kQH-VXcwu"
      },
      "source": [
        "user_targets = total_df.groupby('username').target.mean().reset_index()\n",
        "user_targets = user_targets[~user_targets['target'].isnull()]\n",
        "user_targets['target'] = user_targets['target'].astype('int')\n",
        "user_targets.to_csv('data/user_targets.csv', index = False)"
      ],
      "execution_count": null,
      "outputs": []
    },
    {
      "cell_type": "code",
      "metadata": {
        "id": "Sq7fh3I-XtxL"
      },
      "source": [
        ""
      ],
      "execution_count": null,
      "outputs": []
    }
  ]
}